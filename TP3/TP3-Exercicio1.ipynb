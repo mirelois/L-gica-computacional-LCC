{
 "cells": [
  {
   "cell_type": "markdown",
   "id": "f5fee879-61b9-47f6-97b1-f673a9df1399",
   "metadata": {},
   "source": [
    "# TP3\n",
    "## Grupo 15\n",
    "\n",
    "Carlos Eduardo Da Silva Machado A96936\n",
    "\n",
    "Gonçalo Manuel Maia de Sousa A97485"
   ]
  },
  {
   "cell_type": "markdown",
   "id": "da9d6821-200d-4076-8fb9-7b6992ab8f4e",
   "metadata": {},
   "source": [
    "## Problema 1"
   ]
  },
  {
   "cell_type": "markdown",
   "id": "b19e3d8c-0420-47e8-bfa6-023d71790691",
   "metadata": {},
   "source": [
    "### Descrição do Problema"
   ]
  },
  {
   "cell_type": "markdown",
   "id": "587c3fb2-0652-4398-ab4b-544ac91e1af7",
   "metadata": {},
   "source": [
    "\n",
    "1. Pretende-se construir uma implementação simplificada do algoritmo “model checking” orientado aos interpolantes. Para tal seguimos a estrutura apresentada nos apontamentos onde, no passo $(n,m)\\,$ na impossibilidade de encontrar um interpolante invariante se dá ao utilizador a possibilidade de incrementar um dos índices $n$ e $m$ à sua escolha.\n",
    "    Pretende-se aplicar este algoritmo ao problema da da multiplicação de inteiros positivos em `BitVec`  (apresentado no TP2)."
   ]
  },
  {
   "cell_type": "markdown",
   "id": "e134250e-4b44-40e1-953a-d057fc2edf01",
   "metadata": {},
   "source": [
    "### Abordagem do Problema"
   ]
  },
  {
   "cell_type": "markdown",
   "id": "12bfca2f",
   "metadata": {},
   "source": [
    "Numa abordagem inicial decidimos aplicar o algoritmo com a solução apresentado no TP2 sem qualquer alteração. No entanto, rapidamente descobrimos que, sendo a variavel $pc$ do tipo de dados `Int` o $solver$ não é capaz de encontrar um interpolante.\n",
    "Como modo de resolver este problema decidimos alterar ligeiramente a solução original de forma a que $pc$ seja agora de tipo `BitVec` mantendo a mesma lógica da solução original. Além disso removemos todas as transições para estados de erro, pois estas não são necessárias."
   ]
  },
  {
   "cell_type": "markdown",
   "id": "db9ed133-e3d2-4a8a-b417-0051c77d609f",
   "metadata": {},
   "source": [
    "## Código Python"
   ]
  },
  {
   "cell_type": "markdown",
   "id": "eeb158e3",
   "metadata": {},
   "source": [
    "Esta secção de codigo serve para importar as bibliotecas nesseçárias para a realização do trabalho. "
   ]
  },
  {
   "cell_type": "code",
   "execution_count": 1,
   "id": "02f52aad-32e8-4088-bb97-64cda13c578e",
   "metadata": {},
   "outputs": [],
   "source": [
    "from pysmt.shortcuts import *\n",
    "import itertools\n",
    "from pysmt.typing import INT\n",
    "import random as rn"
   ]
  },
  {
   "cell_type": "markdown",
   "id": "eca10078",
   "metadata": {},
   "source": [
    "Aqui estão apresentadas as funções `genState` e `init`, em tudo análogas às funções `declare` e `init` do TP2."
   ]
  },
  {
   "cell_type": "code",
   "execution_count": 2,
   "id": "06c97ba0-f9b7-4b3e-86c1-66a8fbf2eeab",
   "metadata": {},
   "outputs": [],
   "source": [
    "def genState(vars,s,i,n):\n",
    "    state = {}\n",
    "    for v in vars:\n",
    "        state[v] = Symbol(v+'!'+s+str(i),types.BVType(n+1))\n",
    "    return state\n",
    "\n",
    "def init_fixed(state,a,b,n):\n",
    "    if b > a:\n",
    "        a,b = b,a\n",
    "        \n",
    "    tPc = Equals(state['pc'],BVZero(n+1)) # Program counter a zero\n",
    "    tZ  = Equals(state['z'],BVZero(n+1)) # Z a zero\n",
    "    tX  = Equals(state['x'], BV(a,n+1)) # x inicilizado com valor de a\n",
    "    tY  = Equals(state['y'], BV(b,n+1)) # y inicilizado com valor de b\n",
    "    return And(tPc,tX,tY,tZ)\n",
    "    \n",
    "def init_unbounded(state,a,b,n):\n",
    "    tPc = Equals(state['pc'],BVZero(n+1)) # Program counter a zero\n",
    "    tZ  = Equals(state['z'],BVZero(n+1)) # Z a zero\n",
    "    return And(tPc,tZ)\n",
    "\n",
    "def init_bounded(state,upper_a,upper_b,n):\n",
    "    \n",
    "    tPc = Equals(state['pc'],BVZero(n+1)) # Program counter a zero\n",
    "    tZ  = Equals(state['z'],BVZero(n+1)) # Z a zero\n",
    "    tX  = BVULE(state['x'], BV(upper_a,n+1)) # x inicilizado com valor de a\n",
    "    tY  = BVULE(state['y'], BV(upper_b,n+1)) # y inicilizado com valor de b\n",
    "    return And(tPc,tZ,tX,tY)"
   ]
  },
  {
   "cell_type": "markdown",
   "id": "3191842f",
   "metadata": {},
   "source": [
    "Aqui é apresentada a função de transição(`trans`), análoga à apresentada no TP2 a menos da remoção de todas as transições para estados de erro."
   ]
  },
  {
   "cell_type": "code",
   "execution_count": 3,
   "id": "793e97b6",
   "metadata": {},
   "outputs": [],
   "source": [
    "def BVFirst(n):\n",
    "    return BV(2**(n-1),n)\n",
    "\n",
    "def tEven(curr,prox,n):\n",
    "    tPcZero = Equals(curr['pc'],BVZero(n+1))\n",
    "    tYLast  = Equals(BVAnd(curr['y'],BVOne(n+1)),BVZero(n+1))#ultimo bit = 0\n",
    "    tYGt    = BVUGT(curr['y'],BVZero(n+1))#y > 0\n",
    "    tX      = Equals(prox['x'], BVLShl(curr['x'],BVOne(n+1)))#2*x\n",
    "    tY      = Equals(prox['y'], BVLShr(curr['y'],BVOne(n+1)))#y/2\n",
    "    tZ      = Equals(prox['z'],curr['z'])#z\n",
    "    tPc     = Equals(prox['pc'],BVZero(n+1))\n",
    "    return And(tPcZero,tYLast,tYGt,tX,tY,tZ,tPc)\n",
    "\n",
    "def tOdd(curr,prox,n):\n",
    "    tPcZero = Equals(curr['pc'],BVZero(n+1))\n",
    "    tYLast  = Equals(BVAnd(curr['y'],BVOne(n+1)),BVOne(n+1))\n",
    "    tX      = Equals(prox['x'], curr['x'])\n",
    "    tY      = Equals(prox['y'],BVSub(curr['y'],BVOne(n+1)))\n",
    "    tZ      = Equals(prox['z'],BVAdd(curr['x'],curr['z'])) \n",
    "    tPc     = Equals(prox['pc'],BVZero(n+1))   \n",
    "    return And(tPcZero,tYLast,tX,tY,tZ,tPc)\n",
    "\n",
    "def tStop(curr,prox,n):\n",
    "    tPcZero = Equals(curr['pc'],BVZero(n+1))\n",
    "    tYZero  = Equals(curr['y'],BVZero(n+1))#y=0\n",
    "    tX      = Equals(prox['x'],curr['x'])\n",
    "    tY      = Equals(prox['y'],curr['y'])\n",
    "    tZ      = Equals(prox['z'],curr['z'])\n",
    "    tPc     = Equals(prox['pc'],BVOne(n+1))\n",
    "    return And(tYZero,tPcZero,tX,tY,tZ,tPc)\n",
    "\n",
    "def tEnd(curr,prox,n):\n",
    "    tPcOne = Equals(curr['pc'],BVOne(n+1))\n",
    "    tX     = Equals(prox['x'],curr['x'])\n",
    "    tY     = Equals(prox['y'],curr['y'])\n",
    "    tZ     = Equals(prox['z'],curr['z'])\n",
    "    tPc    = Equals(prox['pc'],BVOne(n+1))\n",
    "    return And(tPcOne,tX,tY,tZ,tPc)\n",
    "\n",
    "\n",
    "def trans(curr,prox,n):\n",
    "    tToStop = tStop(curr,prox,n)\n",
    "    tToEven = tEven(curr,prox,n)\n",
    "    tToOdd  = tOdd(curr,prox,n)\n",
    "    tToEnd  = tEnd(curr,prox,n)\n",
    "    return Or(tToStop,tToEven,tToOdd,tToEnd)\n"
   ]
  },
  {
   "cell_type": "code",
   "execution_count": 4,
   "id": "cdd5c4b4",
   "metadata": {},
   "outputs": [],
   "source": [
    "def initToEnven(curr,prox,n):\n",
    "    tPcZero = Equals(curr['pc'],BVZero(n+1))\n",
    "    tYLast = Equals(BVAnd(curr['y'],BVOne(n+1)),BVZero(n+1))#ultimo bit = 0\n",
    "    tYGt = BVUGT(curr['y'],BVZero(n+1))#y > 0\n",
    "    tX = Equals(prox['x'], curr['x'])\n",
    "    tY = Equals(prox['y'], curr['y'])#y/2\n",
    "    tZ = Equals(prox['z'],curr['z'])#z\n",
    "    tPc = Equals(prox['pc'],BV(2,n+1))\n",
    "    return And(tPcZero,tYLast,tYGt,tX,tY,tZ,tPc) \n",
    "    \n",
    "\n",
    "def initToOdd(curr,prox,n):\n",
    "    tPcZero = Equals(curr['pc'],BVZero(n+1))\n",
    "    tYLast = Equals(BVAnd(curr['y'],BVOne(n+1)),BVOne(n+1))#ultimo bit = 1\n",
    "    tX = Equals(prox['x'], curr['x'])\n",
    "    tY = Equals(prox['y'],curr['y'])\n",
    "    tZ = Equals(prox['z'],curr['z']) \n",
    "    tPc = Equals(prox['pc'],BVOne(n+1))   \n",
    "    return And(tPcZero,tYLast,tX,tY,tZ,tPc)\n",
    "    \n",
    "def OddToInit(curr,prox,n):\n",
    "    cpc = Equals(curr['pc'], BVOne(n+1))\n",
    "    cxp = Equals(curr['x'],prox['x'])\n",
    "    cyp = Equals(prox['y'],BVSub(curr['y'],BVOne(n+1)))    \n",
    "    czp = Equals(prox['z'],BVAdd(curr['x'],curr['z']))    \n",
    "    ppc = Equals(prox['pc'], BVZero(n+1))\n",
    "    return And(cpc,cxp,cyp,czp,ppc)\n",
    "    \n",
    "def EvenToInit(curr,prox,n):\n",
    "    cpc = Equals(curr['pc'], BV(2,n+1))\n",
    "    cxp = Equals(prox['x'],BVLShl(curr['x'],BVOne(n+1)))\n",
    "    cyp = Equals(prox['y'],BVLShr(curr['y'],BVOne(n+1)))    \n",
    "    czp = Equals(curr['z'],prox['z'])    \n",
    "    ppc = Equals(prox['pc'], BVZero(n+1))\n",
    "    return And(cpc,cxp,cyp,czp,ppc)\n",
    "    \n",
    "def initToStop(curr,prox,n):\n",
    "    tPcZero = Equals(curr['pc'],BVZero(n+1))\n",
    "    tYZero = Equals(curr['y'],BVZero(n+1))#y=0\n",
    "    tZFirst = Equals(BVAnd(curr['z'],BVFirst(n+1)),BVZero(n+1))#primriro bit de z = 0\n",
    "    tX = Equals(prox['x'],curr['x'])\n",
    "    tY = Equals(prox['y'],curr['y'])\n",
    "    tZ = Equals(prox['z'],curr['z'])\n",
    "    tPc = Equals(prox['pc'],BV(3,n+1))\n",
    "    return And(tYZero,tZFirst,tPcZero,tX,tY,tZ,tPc)\n",
    "\n",
    "def stopToStop(curr,prox,n):\n",
    "    tPcOne = Equals(curr['pc'],BV(3,n+1))\n",
    "    tX = Equals(prox['x'],curr['x'])\n",
    "    tY = Equals(prox['y'],curr['y'])\n",
    "    tZ = Equals(prox['z'],curr['z'])\n",
    "    tPc = Equals(prox['pc'],BV(3,n+1))\n",
    "    return And(tPcOne,tX,tY,tZ,tPc)\n",
    "\n",
    "def trans_more_states(curr,prox,n):\n",
    "    ite = initToEnven(curr,prox,n)\n",
    "    ito = initToOdd(curr,prox,n)\n",
    "    oti = OddToInit(curr,prox,n)\n",
    "    eti = EvenToInit(curr,prox,n)\n",
    "    its = initToStop(curr,prox,n)\n",
    "    sts = stopToStop(curr,prox,n)\n",
    "    return Or(ite,ito,oti,eti,its,sts)\n"
   ]
  },
  {
   "cell_type": "markdown",
   "id": "764b71c6",
   "metadata": {},
   "source": [
    "Aqui apresentamos a condição de erro na forma de uma função `error()` que, dado um estado e o tamanho máximo de $bits$ para uma variável, devolve uma condição de erro para esse estado.\n",
    "Para tal apenas é necessário verificar se o bit mais á esquerda do `BitVec` declarado é $1$. "
   ]
  },
  {
   "cell_type": "code",
   "execution_count": 5,
   "id": "dffe4d5b-5ee6-461e-bf7b-7c4ba2505a97",
   "metadata": {},
   "outputs": [],
   "source": [
    "def error(state,n):\n",
    "    tYFirst = Equals(BVAnd(state['y'],BVFirst(n+1)),BVFirst(n+1))\n",
    "    tXFirst = Equals(BVAnd(state['x'],BVFirst(n+1)),BVFirst(n+1))\n",
    "    tZFirst = Equals(BVAnd(state['z'],BVFirst(n+1)),BVFirst(n+1))\n",
    "    return Or(tYFirst,tXFirst,tZFirst)"
   ]
  },
  {
   "cell_type": "code",
   "execution_count": 6,
   "id": "4d289b78-688b-472b-8446-380b18397959",
   "metadata": {},
   "outputs": [],
   "source": [
    "def genTrace_fixed(vars,init,trans,error,n,tam,a,b):\n",
    "    with Solver(name=\"z3\") as s:\n",
    "        \n",
    "        X = [genState(vars,'X',i,tam) for i in range(n+1)]   # cria n+1 estados (com etiqueta X)\n",
    "        I = init(X[0],a,b,tam)\n",
    "        Tks = [ trans(X[i],X[i+1],tam) for i in range(n) ]\n",
    "        \n",
    "        if s.solve([I,And(Tks)]):      # testa se I /\\ T^n  é satisfazível\n",
    "            for i in range(n):\n",
    "                print(\"Estado:\",i)\n",
    "                for v in X[i]:\n",
    "                    print(\"          \",v,'=',s.get_value(X[i][v]).constant_value())"
   ]
  },
  {
   "cell_type": "markdown",
   "id": "7890a47c",
   "metadata": {},
   "source": [
    "Aqui apresentamos algumas funções auxiliares utilizadas na função de \"model checking\"."
   ]
  },
  {
   "cell_type": "code",
   "execution_count": 7,
   "id": "5766bc82-ed73-4d10-b347-3d46fb88a6dc",
   "metadata": {},
   "outputs": [],
   "source": [
    "def baseName(s):\n",
    "    return ''.join(list(itertools.takewhile(lambda x: x!='!', s)))\n",
    "\n",
    "def rename(form,state):\n",
    "    vs = get_free_variables(form)\n",
    "    pairs = [ (x,state[baseName(x.symbol_name())]) for x in vs ] # Descobrir os pares # symbol_name dá o nome aka string da var\n",
    "    return form.substitute(dict(pairs)) # recebe um dicionário e substitui as chaves do dicionário pelo o que está no value\n",
    "\n",
    "def same(state1,state2): # ver se as duas vars têm o mesmo valor\n",
    "    return And([Equals(state1[x],state2[x]) for x in state1])\n",
    "\n",
    "def invert(trans,n):\n",
    "    return (lambda u, v: trans(v,u,n))"
   ]
  },
  {
   "cell_type": "markdown",
   "id": "6baca75a",
   "metadata": {},
   "source": [
    "### Função \"Model checking\".\n",
    "\n",
    "Nesta secção do relatório apresentamos duas implementações semelhantes de \"model checking\".\n",
    "\n",
    "Uma delas percorre todos os pares $(n,m)$ possíveis à procura de um interpolante invariante. Não necessita, por isso input do utilizador.\n",
    "Outra testa inicialmente o par $(1,1)$ e, caso não seja capaz de encontrar um interpolante invariante pede ao utilizador para incrementar uma das variáveis $n$ ou $m$ e um valor pelo qual incrementar."
   ]
  },
  {
   "cell_type": "markdown",
   "id": "b14337e6",
   "metadata": {},
   "source": [
    "Versão sem input."
   ]
  },
  {
   "cell_type": "code",
   "execution_count": 8,
   "id": "be555c92",
   "metadata": {},
   "outputs": [],
   "source": [
    "def model_checking(vars,init,trans,error,N,M,a,b,tamanho):\n",
    "    with Solver(name=\"msat\") as s:\n",
    "        \n",
    "        # Criar todos os estados que poderão vir a ser necessários.\n",
    "        X = [genState(vars,'X',i,tamanho) for i in range(N+1)] # Com a função genState, criar todos os estados que possam ser necessário, TODOS. # X SFOTS original\n",
    "        Y = [genState(vars,'Y',i,tamanho) for i in range(M+1)] # Y SFOTS invertido\n",
    "\n",
    "        # Estabelecer a ordem pela qual os pares (n,m) vão surgir. Por exemplo:\n",
    "        order = sorted([(a,b) for a in range(1,N+1) for b in range(1,M+1)],key=lambda tup:tup[0]+tup[1]) # Estabelecer ordem que criamos o n e o m # ideia da stora: usar o sorted,\n",
    "                                                                                                         # gerar todos os pares possíveis \n",
    "                                                                                                         # e ter como critério de ordenação as soma dos elementos dos pares\n",
    "        \n",
    "        for (n,m) in order: # Seguir o algoritmo\n",
    "            # completar\n",
    "            I = init(X[0],a,b,tamanho) # o X é uma lista de estados\n",
    "            Tn = And([trans(X[i],X[i+1],tamanho) for i in range(n)])\n",
    "            Rn = And(I,Tn) # estados acessíveis em n transições\n",
    "            #print(X[0])\n",
    "            E = error(Y[0],tamanho)\n",
    "            Bm = And([invert(trans,tamanho)(Y[i],Y[i+1]) for i in range(m)])\n",
    "            Um = And(E,Bm) # estados inseguros em m transições\n",
    "            \n",
    "            Vnm = And(Rn,same(X[n],Y[m]),Um) # temos de testar se dois estados estão iguais e, portanto, usamos a função same dada acima\n",
    "            \n",
    "            #pprint(Vnm.serialize())\n",
    "            \n",
    "            if s.solve([Vnm]):\n",
    "                print(\"unsafe\")\n",
    "                return \n",
    "           \n",
    "            # Se for insatisfazível, temos de criar o interpolante para n fórmulas\n",
    "            C = binary_interpolant(And(Rn,same(X[n],Y[m])), Um)\n",
    "            if C is None:\n",
    "                print(\"Interpolante None\")\n",
    "                continue\n",
    "            \n",
    "            C0 = rename(C,X[0]) # Rename do C com o estado envolvido, neste caso o X[0] \n",
    "            C1 = rename(C,X[1])\n",
    "            # Trabalhamos com X[0] e X[1] porque T pode ser escrito como T = (X0,X1)\n",
    "            \n",
    "            T = trans(X[0],X[1],tamanho)\n",
    "            \n",
    "            if not s.solve([C0,T,Not(C1)]):\n",
    "                print(n,m)\n",
    "                print(\"Safe\")\n",
    "                return\n",
    "            else:\n",
    "                    #### gerar o S (Parte que descreve o Majorante S)\n",
    "                \n",
    "                #Passo 1:\n",
    "                S = rename(C,X[n])\n",
    "                while True:\n",
    "                    #Passo 2:\n",
    "                    A = And(S,trans(X[n],Y[m],tamanho))\n",
    "                    if s.solve([A,Um]):\n",
    "                        #N = int(input(\"new N\"))\n",
    "                        #M = int(input(\"new M\"))\n",
    "                        print(\"Não foi possível encontrar o majorante.\")\n",
    "                        break\n",
    "                    else:\n",
    "                        CNew = binary_interpolant(A,Um) # as duas formulas têm de ser inconsistentes para que faça sentido para usar binary_interpolant\n",
    "                        Cn = rename(CNew,X[n])\n",
    "                        \n",
    "                        if s.solve([Cn,Not(S)]):\n",
    "                            S = Or(S,Cn)\n",
    "                        else:\n",
    "                            print(n,m)\n",
    "                            print(\"Safe\")\n",
    "                            return\n",
    "            #new_n = int(input(\"new n POGCHAMP\"))\n",
    "            #new_m = int(input(\"new m POGCHAMP\"))\n",
    "            #order.append((new_n,new_m))\n",
    "                \n",
    "        print(\"unknown\")"
   ]
  },
  {
   "cell_type": "markdown",
   "id": "99fe8ebf",
   "metadata": {},
   "source": [
    "Versão com input."
   ]
  },
  {
   "cell_type": "code",
   "execution_count": 9,
   "id": "6c095a0b",
   "metadata": {},
   "outputs": [],
   "source": [
    "def model_checking_input(vars,init,trans,error,N,M,a,b,tamanho):\n",
    "    with Solver(name=\"msat\") as s:\n",
    "        \n",
    "        # Criar todos os estados que poderão vir a ser necessários.\n",
    "        X = [genState(vars,'X',i,tamanho) for i in range(N+1)] # Com a função genState, criar todos os estados que possam ser necessário, TODOS. # X SFOTS original\n",
    "        Y = [genState(vars,'Y',i,tamanho) for i in range(M+1)] # Y SFOTS invertido\n",
    "\n",
    "        # Estabelecer a ordem pela qual os pares (n,m) vão surgir. Por exemplo:\n",
    "        #order = sorted([(a,b) for a in range(1,N+1) for b in range(1,M+1)],key=lambda tup:tup[0]+tup[1]) # Estabelecer ordem que criamos o n e o m # ideia da stora: usar o sorted,\n",
    "                                                                                                         # gerar todos os pares possíveis \n",
    "                                                                                                         # e ter como critério de ordenação as soma dos elementos dos pares\n",
    "        (n,m) = 1,1\n",
    "        \n",
    "        while(n <= N and m <= M):\n",
    "            # completar\n",
    "            I = init(X[0],a,b,tamanho) # o X é uma lista de estados\n",
    "            Tn = And([trans(X[i],X[i+1],tamanho) for i in range(n)])\n",
    "            Rn = And(I,Tn) # estados acessíveis em n transições\n",
    "            #print(X[0])\n",
    "            E = error(Y[0],tamanho)\n",
    "            Bm = And([invert(trans,tamanho)(Y[i],Y[i+1]) for i in range(m)])\n",
    "            Um = And(E,Bm) # estados inseguros em m transições\n",
    "            \n",
    "            Vnm = And(Rn,same(X[n],Y[m]),Um) # temos de testar se dois estados estão iguais e, portanto, usamos a função same dada acima\n",
    "            \n",
    "            #pprint(Vnm.serialize())\n",
    "            \n",
    "            if s.solve([Vnm]):\n",
    "                print(\"unsafe\")\n",
    "                return \n",
    "           \n",
    "            # Se for insatisfazível, temos de criar o interpolante para n fórmulas\n",
    "            C = binary_interpolant(And(Rn,same(X[n],Y[m])), Um)\n",
    "            if C is None:\n",
    "                print(\"Interpolante None\")\n",
    "                continue\n",
    "            \n",
    "            C0 = rename(C,X[0]) # Rename do C com o estado envolvido, neste caso o X[0] \n",
    "            C1 = rename(C,X[1])\n",
    "            # Trabalhamos com X[0] e X[1] porque T pode ser escrito como T = (X0,X1)\n",
    "            \n",
    "            T = trans(X[0],X[1],tamanho)\n",
    "            \n",
    "            if not s.solve([C0,T,Not(C1)]):\n",
    "                print(\"Safe\")\n",
    "                return\n",
    "            else:\n",
    "                    #### gerar o S (Parte que descreve o Majorante S)\n",
    "                \n",
    "                #Passo 1:\n",
    "                S = rename(C,X[n])\n",
    "                while True:\n",
    "                    #Passo 2:\n",
    "                    A = And(S,trans(X[n],Y[m],tamanho))\n",
    "                    if s.solve([A,Um]):\n",
    "                        #N = int(input(\"new N\"))\n",
    "                        #M = int(input(\"new M\"))\n",
    "                        print(\"Não foi possível encontrar o majorante.\")\n",
    "\n",
    "                        #n = int(input(\"new n\"))\n",
    "                        #m = int(input(\"new m\"))\n",
    "                        \n",
    "                        break\n",
    "                    else:\n",
    "                        CNew = binary_interpolant(A,Um) # as duas formulas têm de ser inconsistentes para que faça sentido para usar binary_interpolant\n",
    "                        Cn = rename(CNew,X[n])\n",
    "                        \n",
    "                        if s.solve([Cn,Not(S)]):\n",
    "                            S = Or(S,Cn)\n",
    "                        else:\n",
    "                            print(\"Safe\")\n",
    "                            return\n",
    "\n",
    "            var = input(\"Qual é a variável que pretende incrementar.\").lower()\n",
    "            new_val = int(input(\"Quantidade\"))\n",
    "            (n,m) = (n+new_val if var == 'n' else n, m+new_val if var == 'm' else m)\n",
    "            #new_m = int(input(\"new m POGCHAMP\"))\n",
    "            #order.append((new_n,new_m))\n",
    "                \n",
    "        print(\"unknown\")"
   ]
  },
  {
   "attachments": {},
   "cell_type": "markdown",
   "id": "7f9c32c9",
   "metadata": {},
   "source": [
    "# Exemplos\n",
    "Nesta secção apresentamos alguns exemplos.\n"
   ]
  },
  {
   "attachments": {},
   "cell_type": "markdown",
   "id": "2ae14b80",
   "metadata": {},
   "source": [
    "### Exemplo 1\n",
    "Nestes exemplos mostramos varias execuções da função com $x$ e $y$ fixos à partida. "
   ]
  },
  {
   "cell_type": "code",
   "execution_count": null,
   "id": "f1c80aec",
   "metadata": {},
   "outputs": [],
   "source": [
    "N = 100\n",
    "M = 100\n",
    "a = 10\n",
    "b = 10\n",
    "tamanho = 16"
   ]
  },
  {
   "cell_type": "code",
   "execution_count": null,
   "id": "833af278",
   "metadata": {},
   "outputs": [
    {
     "name": "stdout",
     "output_type": "stream",
     "text": [
      "Não foi possível encontrar o majorante.\n",
      "1 2\n",
      "Safe\n"
     ]
    }
   ],
   "source": [
    "\n",
    "model_checking(['pc','x','y','z'], init_fixed, trans, error, N, M, a, b, tamanho)    "
   ]
  },
  {
   "cell_type": "code",
   "execution_count": null,
   "id": "7f76f879",
   "metadata": {},
   "outputs": [
    {
     "ename": "KeyboardInterrupt",
     "evalue": "",
     "output_type": "error",
     "traceback": [
      "\u001b[0;31m---------------------------------------------------------------------------\u001b[0m",
      "\u001b[0;31mKeyboardInterrupt\u001b[0m                         Traceback (most recent call last)",
      "Cell \u001b[0;32mIn [12], line 1\u001b[0m\n\u001b[0;32m----> 1\u001b[0m model_checking_input([\u001b[39m'\u001b[39;49m\u001b[39mpc\u001b[39;49m\u001b[39m'\u001b[39;49m,\u001b[39m'\u001b[39;49m\u001b[39mx\u001b[39;49m\u001b[39m'\u001b[39;49m,\u001b[39m'\u001b[39;49m\u001b[39my\u001b[39;49m\u001b[39m'\u001b[39;49m,\u001b[39m'\u001b[39;49m\u001b[39mz\u001b[39;49m\u001b[39m'\u001b[39;49m], init_fixed, trans, error, N, M, a, b, tamanho)    \n",
      "Cell \u001b[0;32mIn [9], line 65\u001b[0m, in \u001b[0;36mmodel_checking_input\u001b[0;34m(vars, init, trans, error, N, M, a, b, tamanho)\u001b[0m\n\u001b[1;32m     63\u001b[0m     \u001b[39mbreak\u001b[39;00m\n\u001b[1;32m     64\u001b[0m \u001b[39melse\u001b[39;00m:\n\u001b[0;32m---> 65\u001b[0m     CNew \u001b[39m=\u001b[39m binary_interpolant(A,Um) \u001b[39m# as duas formulas têm de ser inconsistentes para que faça sentido para usar binary_interpolant\u001b[39;00m\n\u001b[1;32m     66\u001b[0m     Cn \u001b[39m=\u001b[39m rename(CNew,X[n])\n\u001b[1;32m     68\u001b[0m     \u001b[39mif\u001b[39;00m s\u001b[39m.\u001b[39msolve([Cn,Not(S)]):\n",
      "File \u001b[0;32m~/anaconda3/envs/logica/lib/python3.10/site-packages/pysmt/shortcuts.py:1153\u001b[0m, in \u001b[0;36mbinary_interpolant\u001b[0;34m(formula_a, formula_b, solver_name, logic)\u001b[0m\n\u001b[1;32m   1149\u001b[0m         warnings\u001b[39m.\u001b[39mwarn(\u001b[39m\"\u001b[39m\u001b[39mWarning: Contextualizing formula during \u001b[39m\u001b[39m\"\u001b[39m\n\u001b[1;32m   1150\u001b[0m                       \u001b[39m\"\u001b[39m\u001b[39mbinary_interpolant\u001b[39m\u001b[39m\"\u001b[39m)\n\u001b[1;32m   1151\u001b[0m         formulas[i] \u001b[39m=\u001b[39m env\u001b[39m.\u001b[39mformula_manager\u001b[39m.\u001b[39mnormalize(f)\n\u001b[0;32m-> 1153\u001b[0m \u001b[39mreturn\u001b[39;00m env\u001b[39m.\u001b[39;49mfactory\u001b[39m.\u001b[39;49mbinary_interpolant(formulas[\u001b[39m0\u001b[39;49m], formulas[\u001b[39m1\u001b[39;49m],\n\u001b[1;32m   1154\u001b[0m                                       solver_name\u001b[39m=\u001b[39;49msolver_name,\n\u001b[1;32m   1155\u001b[0m                                       logic\u001b[39m=\u001b[39;49mlogic)\n",
      "File \u001b[0;32m~/anaconda3/envs/logica/lib/python3.10/site-packages/pysmt/factory.py:563\u001b[0m, in \u001b[0;36mFactory.binary_interpolant\u001b[0;34m(self, formula_a, formula_b, solver_name, logic)\u001b[0m\n\u001b[1;32m    560\u001b[0m     logic \u001b[39m=\u001b[39m get_logic(_And(formula_a, formula_b))\n\u001b[1;32m    562\u001b[0m \u001b[39mwith\u001b[39;00m \u001b[39mself\u001b[39m\u001b[39m.\u001b[39mInterpolator(name\u001b[39m=\u001b[39msolver_name, logic\u001b[39m=\u001b[39mlogic) \u001b[39mas\u001b[39;00m itp:\n\u001b[0;32m--> 563\u001b[0m     \u001b[39mreturn\u001b[39;00m itp\u001b[39m.\u001b[39;49mbinary_interpolant(formula_a, formula_b)\n",
      "File \u001b[0;32m~/anaconda3/envs/logica/lib/python3.10/site-packages/pysmt/solvers/msat.py:1219\u001b[0m, in \u001b[0;36mMSatInterpolator.binary_interpolant\u001b[0;34m(self, a, b)\u001b[0m\n\u001b[1;32m   1218\u001b[0m \u001b[39mdef\u001b[39;00m \u001b[39mbinary_interpolant\u001b[39m(\u001b[39mself\u001b[39m, a, b):\n\u001b[0;32m-> 1219\u001b[0m     res \u001b[39m=\u001b[39m \u001b[39mself\u001b[39;49m\u001b[39m.\u001b[39;49msequence_interpolant([a, b])\n\u001b[1;32m   1220\u001b[0m     \u001b[39mif\u001b[39;00m res \u001b[39mis\u001b[39;00m \u001b[39mnot\u001b[39;00m \u001b[39mNone\u001b[39;00m:\n\u001b[1;32m   1221\u001b[0m         res \u001b[39m=\u001b[39m res[\u001b[39m0\u001b[39m]\n",
      "File \u001b[0;32m~/anaconda3/envs/logica/lib/python3.10/site-packages/pysmt/solvers/msat.py:1247\u001b[0m, in \u001b[0;36mMSatInterpolator.sequence_interpolant\u001b[0;34m(self, formulas)\u001b[0m\n\u001b[1;32m   1244\u001b[0m     groups\u001b[39m.\u001b[39mappend(g)\n\u001b[1;32m   1245\u001b[0m     mathsat\u001b[39m.\u001b[39mmsat_assert_formula(env, f)\n\u001b[0;32m-> 1247\u001b[0m res \u001b[39m=\u001b[39m mathsat\u001b[39m.\u001b[39;49mmsat_solve(env)\n\u001b[1;32m   1248\u001b[0m \u001b[39mif\u001b[39;00m res \u001b[39m==\u001b[39m mathsat\u001b[39m.\u001b[39mMSAT_UNKNOWN:\n\u001b[1;32m   1249\u001b[0m     \u001b[39mraise\u001b[39;00m InternalSolverError(\u001b[39m\"\u001b[39m\u001b[39mError in mathsat interpolation: \u001b[39m\u001b[39m%s\u001b[39;00m\u001b[39m\"\u001b[39m \u001b[39m%\u001b[39m\n\u001b[1;32m   1250\u001b[0m                               mathsat\u001b[39m.\u001b[39mmsat_last_error_message(env))\n",
      "\u001b[0;31mKeyboardInterrupt\u001b[0m: "
     ]
    }
   ],
   "source": [
    "model_checking_input(['pc','x','y','z'], init_fixed, trans, error, N, M, a, b, tamanho)    "
   ]
  },
  {
   "cell_type": "code",
   "execution_count": null,
   "id": "82257e1b",
   "metadata": {},
   "outputs": [
    {
     "name": "stdout",
     "output_type": "stream",
     "text": [
      "Não foi possível encontrar o majorante.\n",
      "Não foi possível encontrar o majorante.\n",
      "Não foi possível encontrar o majorante.\n",
      "Não foi possível encontrar o majorante.\n",
      "Não foi possível encontrar o majorante.\n",
      "Não foi possível encontrar o majorante.\n",
      "Não foi possível encontrar o majorante.\n",
      "Não foi possível encontrar o majorante.\n",
      "Não foi possível encontrar o majorante.\n",
      "Não foi possível encontrar o majorante.\n",
      "1 5\n",
      "Safe\n"
     ]
    }
   ],
   "source": [
    "model_checking(['pc','x','y','z'], init_fixed, trans_more_states, error, N, M, a, b, tamanho)    "
   ]
  },
  {
   "cell_type": "code",
   "execution_count": null,
   "id": "9c80569b",
   "metadata": {},
   "outputs": [
    {
     "name": "stdout",
     "output_type": "stream",
     "text": [
      "Não foi possível encontrar o majorante.\n",
      "Não foi possível encontrar o majorante.\n",
      "Safe\n"
     ]
    }
   ],
   "source": [
    "model_checking_input(['pc','x','y','z'], init_fixed, trans_more_states, error, N, M, a, b, tamanho)    "
   ]
  },
  {
   "attachments": {},
   "cell_type": "markdown",
   "id": "54472ceb",
   "metadata": {},
   "source": [
    "### Exemplo 2\n",
    "Nestes exemplos mostramos várias execuções da função com $x$ e $y$ arbitrários.\n",
    "Nota: Nestas condições o resultado será sempre \"unsafe\" pois para qualquer tamanho é sempre possível encontrar \"x\" e \"y\" de modo a que a sua multiplicação resulte em $overflow$."
   ]
  },
  {
   "cell_type": "code",
   "execution_count": null,
   "id": "28608aa6",
   "metadata": {},
   "outputs": [
    {
     "name": "stdout",
     "output_type": "stream",
     "text": [
      "unsafe\n"
     ]
    }
   ],
   "source": [
    "model_checking(['pc','x','y','z'], init_unbounded, trans, error, N, M, a, b, tamanho)    "
   ]
  },
  {
   "cell_type": "code",
   "execution_count": null,
   "id": "baa94b75",
   "metadata": {},
   "outputs": [
    {
     "name": "stdout",
     "output_type": "stream",
     "text": [
      "unsafe\n"
     ]
    }
   ],
   "source": [
    "model_checking_input(['pc','x','y','z'], init_unbounded, trans, error, N, M, a, b, tamanho)    "
   ]
  },
  {
   "cell_type": "code",
   "execution_count": null,
   "id": "94c1353a",
   "metadata": {},
   "outputs": [
    {
     "name": "stdout",
     "output_type": "stream",
     "text": [
      "unsafe\n"
     ]
    }
   ],
   "source": [
    "model_checking(['pc','x','y','z'], init_unbounded, trans_more_states, error, N, M, a, b, tamanho)    "
   ]
  },
  {
   "cell_type": "code",
   "execution_count": null,
   "id": "36b5679b",
   "metadata": {},
   "outputs": [
    {
     "name": "stdout",
     "output_type": "stream",
     "text": [
      "unsafe\n"
     ]
    }
   ],
   "source": [
    "model_checking_input(['pc','x','y','z'], init_unbounded, trans_more_states, error, N, M, a, b, tamanho)    "
   ]
  },
  {
   "attachments": {},
   "cell_type": "markdown",
   "id": "d0f6dd68",
   "metadata": {},
   "source": [
    "### Exemplo 3\n",
    "Nestes exemplos mostramos várias execuções da função com $x$ e $y$ iniciais limitados superiormente.\n",
    "Nota: Este modo de execução é o que, na nossa experiência, requer mais tempo de execução."
   ]
  },
  {
   "cell_type": "code",
   "execution_count": null,
   "id": "b7793e85",
   "metadata": {},
   "outputs": [
    {
     "name": "stdout",
     "output_type": "stream",
     "text": [
      "Não foi possível encontrar o majorante.\n",
      "Não foi possível encontrar o majorante.\n",
      "Não foi possível encontrar o majorante.\n",
      "Não foi possível encontrar o majorante.\n",
      "Não foi possível encontrar o majorante.\n",
      "Não foi possível encontrar o majorante.\n",
      "Não foi possível encontrar o majorante.\n",
      "Não foi possível encontrar o majorante.\n",
      "Não foi possível encontrar o majorante.\n",
      "Não foi possível encontrar o majorante.\n",
      "Não foi possível encontrar o majorante.\n",
      "Não foi possível encontrar o majorante.\n",
      "3 3\n",
      "Safe\n"
     ]
    }
   ],
   "source": [
    "model_checking(['pc','x','y','z'], init_bounded, trans, error, N, M, a, b, tamanho)    "
   ]
  },
  {
   "cell_type": "code",
   "execution_count": null,
   "id": "230747a7",
   "metadata": {},
   "outputs": [
    {
     "name": "stdout",
     "output_type": "stream",
     "text": [
      "Não foi possível encontrar o majorante.\n",
      "Não foi possível encontrar o majorante.\n",
      "Safe\n"
     ]
    }
   ],
   "source": [
    "model_checking_input(['pc','x','y','z'], init_bounded, trans, error, N, M, a, b, tamanho)    "
   ]
  },
  {
   "cell_type": "code",
   "execution_count": null,
   "id": "c764fbd7",
   "metadata": {},
   "outputs": [
    {
     "name": "stdout",
     "output_type": "stream",
     "text": [
      "Não foi possível encontrar o majorante.\n",
      "Não foi possível encontrar o majorante.\n",
      "Não foi possível encontrar o majorante.\n",
      "Não foi possível encontrar o majorante.\n",
      "Não foi possível encontrar o majorante.\n",
      "Não foi possível encontrar o majorante.\n",
      "Não foi possível encontrar o majorante.\n",
      "Não foi possível encontrar o majorante.\n",
      "Não foi possível encontrar o majorante.\n",
      "Não foi possível encontrar o majorante.\n",
      "Não foi possível encontrar o majorante.\n",
      "Não foi possível encontrar o majorante.\n",
      "Não foi possível encontrar o majorante.\n",
      "Não foi possível encontrar o majorante.\n",
      "Não foi possível encontrar o majorante.\n",
      "Não foi possível encontrar o majorante.\n",
      "Não foi possível encontrar o majorante.\n",
      "Não foi possível encontrar o majorante.\n",
      "Não foi possível encontrar o majorante.\n",
      "Não foi possível encontrar o majorante.\n",
      "Não foi possível encontrar o majorante.\n",
      "Não foi possível encontrar o majorante.\n",
      "Não foi possível encontrar o majorante.\n",
      "Não foi possível encontrar o majorante.\n",
      "Não foi possível encontrar o majorante.\n",
      "Não foi possível encontrar o majorante.\n",
      "Não foi possível encontrar o majorante.\n",
      "Não foi possível encontrar o majorante.\n",
      "Não foi possível encontrar o majorante.\n",
      "Não foi possível encontrar o majorante.\n",
      "Não foi possível encontrar o majorante.\n",
      "Não foi possível encontrar o majorante.\n",
      "Não foi possível encontrar o majorante.\n",
      "Não foi possível encontrar o majorante.\n",
      "Não foi possível encontrar o majorante.\n",
      "Não foi possível encontrar o majorante.\n",
      "Não foi possível encontrar o majorante.\n",
      "Não foi possível encontrar o majorante.\n",
      "Não foi possível encontrar o majorante.\n",
      "Não foi possível encontrar o majorante.\n",
      "Não foi possível encontrar o majorante.\n",
      "Não foi possível encontrar o majorante.\n",
      "Não foi possível encontrar o majorante.\n",
      "Não foi possível encontrar o majorante.\n",
      "Não foi possível encontrar o majorante.\n",
      "1 10\n",
      "Safe\n"
     ]
    }
   ],
   "source": [
    "model_checking(['pc','x','y','z'], init_bounded, trans_more_states, error, N, M, a, b, tamanho)    "
   ]
  },
  {
   "cell_type": "code",
   "execution_count": null,
   "id": "61f5184b",
   "metadata": {},
   "outputs": [
    {
     "name": "stdout",
     "output_type": "stream",
     "text": [
      "Não foi possível encontrar o majorante.\n",
      "Safe\n"
     ]
    }
   ],
   "source": [
    "model_checking_input(['pc','x','y','z'], init_bounded, trans_more_states, error, N, M, a, b, tamanho)    "
   ]
  }
 ],
 "metadata": {
  "kernelspec": {
   "display_name": "logica",
   "language": "python",
   "name": "python3"
  },
  "language_info": {
   "codemirror_mode": {
    "name": "ipython",
    "version": 3
   },
   "file_extension": ".py",
   "mimetype": "text/x-python",
   "name": "python",
   "nbconvert_exporter": "python",
   "pygments_lexer": "ipython3",
   "version": "3.10.6 (main, Oct 24 2022, 16:07:47) [GCC 11.2.0]"
  },
  "vscode": {
   "interpreter": {
    "hash": "e6e0711b34581e9d3d394d0e05c7a638721b909a5489b142ff17259bed82d5d5"
   }
  }
 },
 "nbformat": 4,
 "nbformat_minor": 5
}

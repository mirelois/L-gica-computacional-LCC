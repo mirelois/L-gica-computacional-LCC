{
 "cells": [
  {
   "cell_type": "markdown",
   "id": "f5fee879-61b9-47f6-97b1-f673a9df1399",
   "metadata": {},
   "source": [
    "# TP3\n",
    "## Grupo 15\n",
    "\n",
    "Carlos Eduardo Da Silva Machado A96936\n",
    "\n",
    "Gonçalo Manuel Maia de Sousa A97485"
   ]
  },
  {
   "cell_type": "markdown",
   "id": "da9d6821-200d-4076-8fb9-7b6992ab8f4e",
   "metadata": {},
   "source": [
    "## Problema 1"
   ]
  },
  {
   "cell_type": "markdown",
   "id": "b19e3d8c-0420-47e8-bfa6-023d71790691",
   "metadata": {},
   "source": [
    "### Descrição do Problema"
   ]
  },
  {
   "cell_type": "markdown",
   "id": "587c3fb2-0652-4398-ab4b-544ac91e1af7",
   "metadata": {},
   "source": [
    "\n",
    "1. Pretende-se construir uma implementação simplificada do algoritmo “model checking” orientado aos interpolantes seguindo a estrutura apresentada nos apontamentos onde no passo $(n,m)\\,$na impossibilidade de encontrar um interpolante invariante se dá ao utilizador a possibilidade de incrementar um dos índices $n$ e $m$ à sua escolha.\n",
    "    Pretende-se aplicar este algoritmo ao problema da da multiplicação de inteiros positivos em `BitVec`  (apresentado no TP2)."
   ]
  },
  {
   "cell_type": "markdown",
   "id": "e134250e-4b44-40e1-953a-d057fc2edf01",
   "metadata": {},
   "source": [
    "### Abordagem do Problema"
   ]
  },
  {
   "cell_type": "code",
   "execution_count": null,
   "id": "95df4f93-7644-47e2-9a20-09cb39f1c5b1",
   "metadata": {},
   "outputs": [],
   "source": []
  },
  {
   "cell_type": "markdown",
   "id": "db9ed133-e3d2-4a8a-b417-0051c77d609f",
   "metadata": {},
   "source": [
    "## Código Python"
   ]
  },
  {
   "cell_type": "code",
   "execution_count": 1,
   "id": "02f52aad-32e8-4088-bb97-64cda13c578e",
   "metadata": {},
   "outputs": [],
   "source": [
    "from pysmt.shortcuts import *\n",
    "from pprint import pprint\n",
    "from pysmt.typing import INT\n",
    "import random as rn"
   ]
  },
  {
   "cell_type": "code",
   "execution_count": 2,
   "id": "06c97ba0-f9b7-4b3e-86c1-66a8fbf2eeab",
   "metadata": {},
   "outputs": [],
   "source": [
    "def genState(vars,s,i,n):\n",
    "    state = {}\n",
    "    for v in vars:\n",
    "        state[v] = Symbol(v+'!'+s+str(i),types.BVType(n+1))\n",
    "    return state\n",
    "\n",
    "def init(state,a,b,n):\n",
    "    if b > a:\n",
    "        a,b = b,a\n",
    "        \n",
    "    tPc = Equals(state['pc'],BVZero(n+1)) # Program counter a zero\n",
    "    tZ = Equals(state['z'],BVZero(n+1)) # Z a zero\n",
    "    tX = Equals(state['x'], BV(a,n+1)) # x inicilizado com valor de a\n",
    "    tY = Equals(state['y'], BV(b,n+1)) # y inicilizado com valor de b\n",
    "    return And(tPc,tX,tY,tZ)"
   ]
  },
  {
   "cell_type": "code",
   "execution_count": 3,
   "id": "778b1b6f-4dcd-4ace-a090-4584af992c8b",
   "metadata": {},
   "outputs": [],
   "source": [
    "def BVFirst(n):\n",
    "    return BV(2**(n-1),n)\n",
    "\n",
    "def tEven(curr,prox,n):\n",
    "    tPcZero = Equals(curr['pc'],BVZero(n+1))\n",
    "    tYLast = Equals(BVAnd(curr['y'],BVOne(n+1)),BVZero(n+1))#ultimo bit = 0\n",
    "    tYGt = BVUGT(curr['y'],BVZero(n+1))#y > 0\n",
    "    tX = Equals(prox['x'], BVLShl(curr['x'],BVOne(n+1)))#2*x\n",
    "    tY = Equals(prox['y'], BVLShr(curr['y'],BVOne(n+1)))#y/2\n",
    "    tZ = Equals(prox['z'],curr['z'])#z\n",
    "    tPc = Equals(prox['pc'],BVZero(n+1))\n",
    "    return And(tPcZero,tYLast,tYGt,tX,tY,tZ,tPc)\n",
    "\n",
    "def tOdd(curr,prox,n):\n",
    "    tPcZero = Equals(curr['pc'],BVZero(n+1))\n",
    "    tYLast = Equals(BVAnd(curr['y'],BVOne(n+1)),BVOne(n+1))\n",
    "    tX = Equals(prox['x'], curr['x'])\n",
    "    tY = Equals(prox['y'],BVSub(curr['y'],BVOne(n+1)))\n",
    "    tZ = Equals(prox['z'],BVAdd(curr['x'],curr['z'])) \n",
    "    tPc = Equals(prox['pc'],BVZero(n+1))   \n",
    "    return And(tPcZero,tYLast,tX,tY,tZ,tPc)\n",
    "\n",
    "def tStop(curr,prox,n):\n",
    "    tPcZero = Equals(curr['pc'],BVZero(n+1))\n",
    "    tYZero = Equals(curr['y'],BVZero(n+1))#y=0\n",
    "    tZFirst = Equals(BVAnd(curr['z'],BVFirst(n+1)),BVZero(n+1))#primriro bit de z = 0\n",
    "    tX = Equals(prox['x'],curr['x'])\n",
    "    tY = Equals(prox['y'],curr['y'])\n",
    "    tZ = Equals(prox['z'],curr['z'])\n",
    "    tPc = Equals(prox['pc'],BVOne(n+1))\n",
    "    return And(tYZero,tZFirst,tPcZero,tX,tY,tZ,tPc)\n",
    "\n",
    "def tEnd(curr,prox,n):\n",
    "    tPcOne = Equals(curr['pc'],BVOne(n+1))\n",
    "    tX = Equals(prox['x'],curr['x'])\n",
    "    tY = Equals(prox['y'],curr['y'])\n",
    "    tZ = Equals(prox['z'],curr['z'])\n",
    "    tPc = Equals(prox['pc'],BVOne(n+1))\n",
    "    return And(tPcOne,tX,tY,tZ,tPc)\n",
    "\n",
    "def trans(curr,prox,n):\n",
    "    tToStop = tStop(curr,prox,n)\n",
    "    tToEven   = tEven(curr,prox,n)\n",
    "    tToOdd    = tOdd(curr,prox,n)\n",
    "    tToEnd    = tEnd(curr,prox,n)\n",
    "    return Or(tToStop,tToEven,tToOdd,tToEnd)"
   ]
  },
  {
   "cell_type": "code",
   "execution_count": 4,
   "id": "dffe4d5b-5ee6-461e-bf7b-7c4ba2505a97",
   "metadata": {},
   "outputs": [],
   "source": [
    "def error(state,n):\n",
    "    tYFirst = Equals(BVAnd(state['y'],BVFirst(n+1)),BVFirst(n+1))\n",
    "    tXFirst = Equals(BVAnd(state['x'],BVFirst(n+1)),BVFirst(n+1))\n",
    "    tZFirst = Equals(BVAnd(state['z'],BVFirst(n+1)),BVFirst(n+1))\n",
    "    return Or(tYFirst,tXFirst,tZFirst)"
   ]
  },
  {
   "cell_type": "code",
   "execution_count": 5,
   "id": "5766bc82-ed73-4d10-b347-3d46fb88a6dc",
   "metadata": {},
   "outputs": [],
   "source": [
    "def baseName(s):\n",
    "    return ''.join(list(itertools.takewhile(lambda x: x!='!', s)))\n",
    "\n",
    "def rename(form,state):\n",
    "    vs = get_free_variables(form)\n",
    "    pairs = [ (x,state[baseName(x.symbol_name())]) for x in vs ] # Descobrir os pares # symbol_name dá o nome aka string da var\n",
    "    return form.substitute(dict(pairs)) # recebe um dicionário e substitui as chaves do dicionário pelo o que está no value\n",
    "\n",
    "def same(state1,state2): # ver se as duas vars têm o mesmo valor\n",
    "    return And([Equals(state1[x],state2[x]) for x in state1])\n",
    "\n",
    "def invert(trans,n):\n",
    "    return (lambda u, v: trans(v,u,n))"
   ]
  },
  {
   "cell_type": "code",
   "execution_count": 6,
   "id": "755be1e0-8b91-4329-9280-ecbdc05aaed7",
   "metadata": {},
   "outputs": [],
   "source": [
    "def model_checking(vars,init,trans,error,N,M,a,b,tamanho):\n",
    "    with Solver(name=\"z3\") as s:\n",
    "        \n",
    "        # Criar todos os estados que poderão vir a ser necessários.\n",
    "        X = [genState(vars,'X',i,tamanho) for i in range(N+1)] # Com a função genState, criar todos os estados que possam ser necessário, TODOS. # X SFOTS original\n",
    "        Y = [genState(vars,'Y',i,tamanho) for i in range(M+1)] # Y SFOTS invertido\n",
    "\n",
    "        # Estabelecer a ordem pela qual os pares (n,m) vão surgir. Por exemplo:\n",
    "        order = sorted([(a,b) for a in range(1,N+1) for b in range(1,M+1)],key=lambda tup:tup[0]+tup[1]) # Estabelecer ordem que criamos o n e o m # ideia da stora: usar o sorted,\n",
    "                                                                                                         # gerar todos os pares possíveis \n",
    "                                                                                                         # e ter como critério de ordenação as soma dos elementos dos pares\n",
    "        \n",
    "        for (n,m) in order: # Seguir o algoritmo\n",
    "            # completar\n",
    "            I = init(X[0],a,b,tamanho) # o X é uma lista de estados\n",
    "            Tn = And([trans(X[i],X[i+1],tamanho) for i in range(n)])\n",
    "            Rn = And(I,Tn) # estados acessíveis em n transições\n",
    "            \n",
    "            E = error(Y[0],tamanho)\n",
    "            Bm = And([invert(trans,tamanho)(Y[i],Y[i+1]) for i in range(m)])\n",
    "            Um = And(E,Bm) # estados inseguros em m transições\n",
    "            \n",
    "            Vnm = And(Rn,same(X[n],Y[m]),Um) # temos de testar se dois estados estão iguais e, portanto, usamos a função same dada acima\n",
    "            \n",
    "            pprint(Vnm.serialize())\n",
    "            \n",
    "            if s.solve([Vnm]):\n",
    "                print(\"unsafe\")\n",
    "                return \n",
    "           \n",
    "            # Se for insatisfazível, temos de criar o interpolante para n fórmulas\n",
    "            C = binary_interpolant(And(Rn,same(X[n],Y[m])), Um)\n",
    "            if C is None:\n",
    "                print(\"Interpolante None\")\n",
    "                continue\n",
    "            \n",
    "            C0 = rename(C,X[0]) # Rename do C com o estado envolvido, neste caso o X[0] \n",
    "            C1 = rename(C,X[1])\n",
    "            # Trabalhamos com X[0] e X[1] porque T pode ser escrito como T = (X0,X1)\n",
    "            \n",
    "            T = trans(X[0],X[1])\n",
    "            \n",
    "            if not s.solve([C0,T,Not(C1)]):\n",
    "                print(\"Safe\")\n",
    "                return\n",
    "            else:\n",
    "                    #### gerar o S (Parte que descreve o Majorante S)\n",
    "                \n",
    "                #Passo 1:\n",
    "                S = rename(C,X[n])\n",
    "                while True:\n",
    "                    #Passo 2:\n",
    "                    A = And(S,trans(X[n],Y[m],tamanho))\n",
    "                    if s.solve([A,Um]):\n",
    "                        print(\"Não foi possível encontrar o majorante.\")\n",
    "                        break\n",
    "                    else:\n",
    "                        CNew = binary_interpolant(A,Um) # as duas formulas têm de ser inconsistentes para que faça sentido para usar binary_interpolant\n",
    "                        Cn = rename(CNew,X[n])\n",
    "                        \n",
    "                        if s.solve([Cn,Not(S)]):\n",
    "                            S = Or(S,Cn)\n",
    "                        else:\n",
    "                            print(\"Safe\")\n",
    "                            return\n",
    "            \n",
    "        print(\"unknown\")    "
   ]
  },
  {
   "cell_type": "code",
   "execution_count": 7,
   "id": "9e1c44f1-2e9f-4ac6-9aac-7522e0243173",
   "metadata": {},
   "outputs": [
    {
     "name": "stdout",
     "output_type": "stream",
     "text": [
      "('((((pc!X0 = 0_8) & (x!X0 = 1_8) & (y!X0 = 1_8) & (z!X0 = 0_8)) & (((y!X0 = '\n",
      " '0_8) & ((z!X0 & 128_8) = 0_8) & (pc!X0 = 0_8) & (x!X1 = x!X0) & (y!X1 = '\n",
      " 'y!X0) & (z!X1 = z!X0) & (pc!X1 = 1_8)) | ((pc!X0 = 0_8) & ((y!X0 & 1_8) = '\n",
      " '0_8) & (0_8 u< y!X0) & (x!X1 = (x!X0 << 1_8)) & (y!X1 = (y!X0 >> 1_8)) & '\n",
      " '(z!X1 = z!X0) & (pc!X1 = 0_8)) | ((pc!X0 = 0_8) & ((y!X0 & 1_8) = 1_8) & '\n",
      " '(x!X1 = x!X0) & (y!X1 = (y!X0 - 1_8)) & (z!X1 = (x!X0 + z!X0)) & (pc!X1 = '\n",
      " '0_8)) | ((pc!X0 = 1_8) & (x!X1 = x!X0) & (y!X1 = y!X0) & (z!X1 = z!X0) & '\n",
      " '(pc!X1 = 1_8)))) & ((pc!X1 = pc!Y1) & (x!X1 = x!Y1) & (y!X1 = y!Y1) & (z!X1 '\n",
      " '= z!Y1)) & ((((y!Y0 & 128_8) = 128_8) | ((x!Y0 & 128_8) = 128_8) | ((z!Y0 & '\n",
      " '128_8) = 128_8)) & (((y!Y1 = 0_8) & ((z!Y1 & 128_8) = 0_8) & (pc!Y1 = 0_8) & '\n",
      " '(x!Y0 = x!Y1) & (y!Y0 = y!Y1) & (z!Y0 = z!Y1) & (pc!Y0 = 1_8)) | ((pc!Y1 = '\n",
      " '0_8) & ((y!Y1 & 1_8) = 0_8) & (0_8 u< y!Y1) & (x!Y0 = (x!Y1 << 1_8)) & (y!Y0 '\n",
      " '= (y!Y1 >> 1_8)) & (z!Y0 = z!Y1) & (pc!Y0 = 0_8)) | ((pc!Y1 = 0_8) & ((y!Y1 '\n",
      " '& 1_8) = 1_8) & (x!Y0 = x!Y1) & (y!Y0 = (y!Y1 - 1_8)) & (z!Y0 = (x!Y1 + '\n",
      " 'z!Y1)) & (pc!Y0 = 0_8)) | ((pc!Y1 = 1_8) & (x!Y0 = x!Y1) & (y!Y0 = y!Y1) & '\n",
      " '(z!Y0 = z!Y1) & (pc!Y0 = 1_8)))))')\n"
     ]
    },
    {
     "ename": "NameError",
     "evalue": "name 'itertools' is not defined",
     "output_type": "error",
     "traceback": [
      "\u001b[0;31m---------------------------------------------------------------------------\u001b[0m",
      "\u001b[0;31mNameError\u001b[0m                                 Traceback (most recent call last)",
      "Cell \u001b[0;32mIn [7], line 1\u001b[0m\n\u001b[0;32m----> 1\u001b[0m model_checking([\u001b[39m'\u001b[39;49m\u001b[39mpc\u001b[39;49m\u001b[39m'\u001b[39;49m,\u001b[39m'\u001b[39;49m\u001b[39mx\u001b[39;49m\u001b[39m'\u001b[39;49m,\u001b[39m'\u001b[39;49m\u001b[39my\u001b[39;49m\u001b[39m'\u001b[39;49m,\u001b[39m'\u001b[39;49m\u001b[39mz\u001b[39;49m\u001b[39m'\u001b[39;49m], init, trans, error, \u001b[39m100\u001b[39;49m, \u001b[39m100\u001b[39;49m,\u001b[39m1\u001b[39;49m,\u001b[39m1\u001b[39;49m,\u001b[39m7\u001b[39;49m)    \n",
      "Cell \u001b[0;32mIn [6], line 37\u001b[0m, in \u001b[0;36mmodel_checking\u001b[0;34m(vars, init, trans, error, N, M, a, b, tamanho)\u001b[0m\n\u001b[1;32m     34\u001b[0m     \u001b[39mprint\u001b[39m(\u001b[39m\"\u001b[39m\u001b[39mInterpolante None\u001b[39m\u001b[39m\"\u001b[39m)\n\u001b[1;32m     35\u001b[0m     \u001b[39mcontinue\u001b[39;00m\n\u001b[0;32m---> 37\u001b[0m C0 \u001b[39m=\u001b[39m rename(C,X[\u001b[39m0\u001b[39;49m]) \u001b[39m# Rename do C com o estado envolvido, neste caso o X[0] \u001b[39;00m\n\u001b[1;32m     38\u001b[0m C1 \u001b[39m=\u001b[39m rename(C,X[\u001b[39m1\u001b[39m])\n\u001b[1;32m     39\u001b[0m \u001b[39m# Trabalhamos com X[0] e X[1] porque T pode ser escrito como T = (X0,X1)\u001b[39;00m\n",
      "Cell \u001b[0;32mIn [5], line 6\u001b[0m, in \u001b[0;36mrename\u001b[0;34m(form, state)\u001b[0m\n\u001b[1;32m      4\u001b[0m \u001b[39mdef\u001b[39;00m \u001b[39mrename\u001b[39m(form,state):\n\u001b[1;32m      5\u001b[0m     vs \u001b[39m=\u001b[39m get_free_variables(form)\n\u001b[0;32m----> 6\u001b[0m     pairs \u001b[39m=\u001b[39m [ (x,state[baseName(x\u001b[39m.\u001b[39msymbol_name())]) \u001b[39mfor\u001b[39;00m x \u001b[39min\u001b[39;00m vs ] \u001b[39m# Descobrir os pares # symbol_name dá o nome aka string da var\u001b[39;00m\n\u001b[1;32m      7\u001b[0m     \u001b[39mreturn\u001b[39;00m form\u001b[39m.\u001b[39msubstitute(\u001b[39mdict\u001b[39m(pairs))\n",
      "Cell \u001b[0;32mIn [5], line 6\u001b[0m, in \u001b[0;36m<listcomp>\u001b[0;34m(.0)\u001b[0m\n\u001b[1;32m      4\u001b[0m \u001b[39mdef\u001b[39;00m \u001b[39mrename\u001b[39m(form,state):\n\u001b[1;32m      5\u001b[0m     vs \u001b[39m=\u001b[39m get_free_variables(form)\n\u001b[0;32m----> 6\u001b[0m     pairs \u001b[39m=\u001b[39m [ (x,state[baseName(x\u001b[39m.\u001b[39;49msymbol_name())]) \u001b[39mfor\u001b[39;00m x \u001b[39min\u001b[39;00m vs ] \u001b[39m# Descobrir os pares # symbol_name dá o nome aka string da var\u001b[39;00m\n\u001b[1;32m      7\u001b[0m     \u001b[39mreturn\u001b[39;00m form\u001b[39m.\u001b[39msubstitute(\u001b[39mdict\u001b[39m(pairs))\n",
      "Cell \u001b[0;32mIn [5], line 2\u001b[0m, in \u001b[0;36mbaseName\u001b[0;34m(s)\u001b[0m\n\u001b[1;32m      1\u001b[0m \u001b[39mdef\u001b[39;00m \u001b[39mbaseName\u001b[39m(s):\n\u001b[0;32m----> 2\u001b[0m     \u001b[39mreturn\u001b[39;00m \u001b[39m'\u001b[39m\u001b[39m'\u001b[39m\u001b[39m.\u001b[39mjoin(\u001b[39mlist\u001b[39m(itertools\u001b[39m.\u001b[39mtakewhile(\u001b[39mlambda\u001b[39;00m x: x\u001b[39m!=\u001b[39m\u001b[39m'\u001b[39m\u001b[39m!\u001b[39m\u001b[39m'\u001b[39m, s)))\n",
      "\u001b[0;31mNameError\u001b[0m: name 'itertools' is not defined"
     ]
    }
   ],
   "source": [
    "model_checking(['pc','x','y','z'], init, trans, error, 100, 100,1,1,7)    "
   ]
  }
 ],
 "metadata": {
  "kernelspec": {
   "display_name": "logica",
   "language": "python",
   "name": "python3"
  },
  "language_info": {
   "codemirror_mode": {
    "name": "ipython",
    "version": 3
   },
   "file_extension": ".py",
   "mimetype": "text/x-python",
   "name": "python",
   "nbconvert_exporter": "python",
   "pygments_lexer": "ipython3",
   "version": "3.10.6"
  },
  "vscode": {
   "interpreter": {
    "hash": "e6e0711b34581e9d3d394d0e05c7a638721b909a5489b142ff17259bed82d5d5"
   }
  }
 },
 "nbformat": 4,
 "nbformat_minor": 5
}

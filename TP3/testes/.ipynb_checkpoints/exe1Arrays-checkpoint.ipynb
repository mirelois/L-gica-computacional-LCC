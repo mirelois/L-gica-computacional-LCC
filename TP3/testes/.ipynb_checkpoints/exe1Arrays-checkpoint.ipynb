{
 "cells": [
  {
   "cell_type": "markdown",
   "id": "f5fee879-61b9-47f6-97b1-f673a9df1399",
   "metadata": {},
   "source": [
    "# TP3\n",
    "## Grupo 15\n",
    "\n",
    "Carlos Eduardo Da Silva Machado A96936\n",
    "\n",
    "Gonçalo Manuel Maia de Sousa A97485"
   ]
  },
  {
   "cell_type": "markdown",
   "id": "da9d6821-200d-4076-8fb9-7b6992ab8f4e",
   "metadata": {},
   "source": [
    "## Problema 1"
   ]
  },
  {
   "cell_type": "markdown",
   "id": "b19e3d8c-0420-47e8-bfa6-023d71790691",
   "metadata": {},
   "source": [
    "### Descrição do Problema"
   ]
  },
  {
   "cell_type": "markdown",
   "id": "587c3fb2-0652-4398-ab4b-544ac91e1af7",
   "metadata": {},
   "source": [
    "\n",
    "1. Pretende-se construir uma implementação simplificada do algoritmo “model checking” orientado aos interpolantes seguindo a estrutura apresentada nos apontamentos onde no passo $(n,m)\\,$na impossibilidade de encontrar um interpolante invariante se dá ao utilizador a possibilidade de incrementar um dos índices $n$ e $m$ à sua escolha.\n",
    "    Pretende-se aplicar este algoritmo ao problema da da multiplicação de inteiros positivos em `BitVec`  (apresentado no TP2)."
   ]
  },
  {
   "cell_type": "markdown",
   "id": "e134250e-4b44-40e1-953a-d057fc2edf01",
   "metadata": {},
   "source": [
    "### Abordagem do Problema"
   ]
  },
  {
   "cell_type": "code",
   "execution_count": null,
   "id": "95df4f93-7644-47e2-9a20-09cb39f1c5b1",
   "metadata": {},
   "outputs": [],
   "source": []
  },
  {
   "cell_type": "markdown",
   "id": "db9ed133-e3d2-4a8a-b417-0051c77d609f",
   "metadata": {},
   "source": [
    "## Código Python"
   ]
  },
  {
   "cell_type": "code",
   "execution_count": null,
   "id": "02f52aad-32e8-4088-bb97-64cda13c578e",
   "metadata": {},
   "outputs": [],
   "source": [
    "from pysmt.shortcuts import *\n",
    "from pysmt.typing import INT\n",
    "import random as rn"
   ]
  },
  {
   "cell_type": "code",
   "execution_count": null,
   "id": "549b6a1c-a1d5-4d0d-96d1-a58f95000e99",
   "metadata": {},
   "outputs": [],
   "source": [
    "def geraBits(x,n):\n",
    "    i = 0\n",
    "    l = []\n",
    "    while(x>0):\n",
    "        i += 1\n",
    "        l.insert(0,x%2)\n",
    "        print(x)\n",
    "        x = x//2\n",
    "    if i>n:\n",
    "        raise Exception(\"Não é possível representar o inteiro em \" + str(n) + \" bits!\")\n",
    "    while i < n:\n",
    "        l.insert(0,0)\n",
    "        i += 1\n",
    "    return l\n",
    "\n",
    "def listEquals(x,y,n):\n",
    "    return And([Equals(x[i],y[i]) for i in range(n+1)])\n",
    "\n",
    "def listNotEquals(x,y,n):\n",
    "    return And([NotEquals(x[i],y[i]) for i in range(n+1)])\n",
    "\n",
    "def listAdd(x,y,n): # soma x com o y e dá x como resultado\n",
    "    return And([Equals(x[i],Plus(x[i],y[i])) for i in range(n+1)])\n",
    "\n",
    "def listSub(x,y,n): # subtração entre x e y, dá x como resultado\n",
    "    return And([Equals(x[i],Minus(x[i],y[i])) for i in range(n+1)])\n",
    "\n",
    "#def listLS(x,times):\n",
    "#    return x[times:] + ([0]*times)\n",
    "\n",
    "#def listRS(x,times):\n",
    "#    return ([0]*times) + x[:-times]\n",
    "\n",
    "def listLS(x,times,n):\n",
    "    if times > n+1 or times <= 0:\n",
    "        raise Exception(\"erro\")\n",
    "    return And([Equals(x[i],x[i+1]) for i in range(n+1-times)]+[Equals(x[j],Int(0)) for j in range(n+1-times,n+1)])\n",
    "\n",
    "def listRS(x,times,n):\n",
    "    if times > n+1 or times <= 0:\n",
    "        raise Exception(\"erro\")\n",
    "    return And([Equals(x[j],Int(0)) for j in range(times)]+[Equals(x[i],x[i-1]) for i in range(times,n+1)])\n"
   ]
  },
  {
   "cell_type": "code",
   "execution_count": null,
   "id": "b2bda65e-8cb3-47b3-bd1d-98e4bf0ac590",
   "metadata": {},
   "outputs": [],
   "source": [
    "def genState(vars,s,i,n):\n",
    "    state = {}\n",
    "    for v in vars:\n",
    "        if v == 'pc':\n",
    "            state[v] = Symbol(v+'!'+s+str(i),INT)\n",
    "        else:\n",
    "            state[v] = [Symbol(v+str(x)+'!'+s+str(i),INT) for x in range(n+1)]\n",
    "    return state"
   ]
  },
  {
   "cell_type": "code",
   "execution_count": null,
   "id": "06c97ba0-f9b7-4b3e-86c1-66a8fbf2eeab",
   "metadata": {},
   "outputs": [],
   "source": [
    "def init(state,a,b,n):\n",
    "    if b > a:\n",
    "        a,b = b,a\n",
    "        \n",
    "    tPc = Equals(state['pc'],Int(0)) # Program counter a zero\n",
    "    tZ = listEquals(state['z'],geraBits(0,n+1),n) # Z a zero\n",
    "    tX = listEquals(state['x'],geraBits(a,n+1),n) # x inicilizado com valor de a\n",
    "    tY = listEquals(state['y'],geraBits(b,n+1),n) # y inicilizado com valor de b\n",
    "    return And(tPc,tX,tY,tZ)"
   ]
  },
  {
   "cell_type": "code",
   "execution_count": null,
   "id": "b749feef-71a6-4d54-9ac3-a0687b987a38",
   "metadata": {},
   "outputs": [],
   "source": [
    "def even(curr,prox,n):\n",
    "    pcZero = Equals(curr['pc'],Int(0))\n",
    "    yNotZero = listNotEquals(curr['y'],geraBits(0,n+1),n)\n",
    "    yEven = Equals(curr['y'][n],Int(0))\n",
    "    pc = Equals(prox['pc'],Int(1))\n",
    "    x = Equals(prox['x'],curr['x'])\n",
    "    y = Equals(prox['y'],curr['y'])\n",
    "    z = Equals(prox['z'],curr['z'])\n",
    "    return And(pcZero,yNotZero,yEven,pc,x,y,z)\n",
    "\n",
    "def odd(curr,prox,n):\n",
    "    pcZero = Equals(curr['pc'],Int(0))\n",
    "    yNotZero = listNotEquals(curr['y'],geraBits(0,n+1),n)\n",
    "    yOdd = Equals(curr['y'][n],Int(1))\n",
    "    pc = Equals(prox['pc'],Int(2))\n",
    "    x = Equals(prox['x'],curr['x'])\n",
    "    y = Equals(prox['y'],curr['y'])\n",
    "    z = Equals(prox['z'],curr['z'])\n",
    "    return And(pcZero,yNotZero,yOdd,pc,x,y,z)\n",
    "\n",
    "def backFromEven(curr,prox,n):\n",
    "    pcOne = Equals(curr['pc'],Int(1))\n",
    "    noError = Equals(curr['y'][0],Int(0))\n",
    "    pc = Equals(prox['pc'],Int(0))\n",
    "    x = Equals(prox['x'],listAdd(curr['x'],curr['x'],n))\n",
    "    y = Equals(prox['y'],listRS(curr['y'],1,n))\n",
    "    z = Equals(prox['z'],curr['z'])\n",
    "    return And(pcOne,noError,pc,x,y,z)\n",
    "\n",
    "def backFromOdd(curr,prox,n):\n",
    "    pcTwo = Equals(curr['pc'],Int(2))\n",
    "    noError = Equals(curr['y'][0],Int(0))\n",
    "    pc = Equals(prox['pc'],Int(0))\n",
    "    x = Equals(prox['x'],curr['x'])\n",
    "    y = Equals(prox['y'],listSub(curr['y'],geraBits(1,n+1),n))\n",
    "    z = Equals(prox['z'],listAdd(curr['z'],curr['x'],n))\n",
    "    return And(pcOne,noError,yZero,pc,x,y,z)\n",
    "\n",
    "def error(curr,prox,n):\n",
    "    pcTwoOrThree = Or(Equals(curr['pc'],Int(2)),Equals(curr['pc'],Int(3)))\n",
    "    yesError = Equals(curr['y'][0],Int(1))\n",
    "    pc = Equals(prox['pc'],Int(4))\n",
    "    x = Equals(prox['x'],curr['x'])\n",
    "    y = Equals(prox['y'],curr['y'])\n",
    "    z = Equals(prox['z'],curr['y'])\n",
    "    return And(pcTwoOrThree,yesError,pc,x,y,z)\n",
    "\n",
    "def endError(curr,prox,n)\n",
    "    pcFour = Equals(curr['pc'],Int(4))\n",
    "    pc = Equals(prox['pc'],Int(4))\n",
    "    x = Equals(prox['x'],curr['x'])\n",
    "    y = Equals(prox['y'],curr['y'])\n",
    "    z = Equals(prox['z'],curr['y'])\n",
    "    return And(pcFour,pc,x,y,z)\n",
    "\n",
    "def stop(curr,prox,n):\n",
    "    pcZero = Equals(curr['pc'],Int(0))\n",
    "    yZero = listEquals(curr['y'],geraBits(0,n+1),n)\n",
    "    pc = Equals(prox['pc'],Int(3))\n",
    "    x = Equals(prox['x'],curr['x'])\n",
    "    y = Equals(prox['y'],curr['y'])\n",
    "    z = Equals(prox['z'],curr['z'])\n",
    "    return And(pcZero,yZero,pc,x,y,z)\n",
    "\n",
    "def end(curr,prox,n):\n",
    "    pcThree = Equals(curr['pc'],Int(3))\n",
    "    pc = Equals(prox['pc'],Int(3))\n",
    "    x = Equals(prox['x'],curr['x'])\n",
    "    y = Equals(prox['y'],curr['y'])\n",
    "    z = Equals(prox['z'],curr['z'])\n",
    "    return And(pcThree,pc,x,y,z)\n",
    "    \n",
    "    \n",
    "def trans(curr,prox,n):    \n",
    "    return Or(even(curr,prox,n),odd(curr,prox,n),backFromEven(curr,prox,n),\n",
    "              backFromOdd(curr,prox,n),error(curr,prox,n),endError(curr,prox,n),\n",
    "              stop(curr,prox,n),end(curr,prox,n))\n"
   ]
  }
 ],
 "metadata": {
  "kernelspec": {
   "display_name": "Python 3 (ipykernel)",
   "language": "python",
   "name": "python3"
  },
  "language_info": {
   "codemirror_mode": {
    "name": "ipython",
    "version": 3
   },
   "file_extension": ".py",
   "mimetype": "text/x-python",
   "name": "python",
   "nbconvert_exporter": "python",
   "pygments_lexer": "ipython3",
   "version": "3.10.6"
  }
 },
 "nbformat": 4,
 "nbformat_minor": 5
}

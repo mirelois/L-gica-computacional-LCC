{
 "cells": [
  {
   "cell_type": "markdown",
   "id": "fe9f5e77-3896-4e2f-8436-455e9084499e",
   "metadata": {},
   "source": [
    "# TP2\n",
    "## Grupo 15\n",
    "\n",
    "Carlos Eduardo Da Silva Machado A96936\n",
    "\n",
    "Gonçalo Manuel Maia de Sousa A97485"
   ]
  },
  {
   "cell_type": "markdown",
   "id": "23aaf1cd-86ca-4829-9cf6-e2f10c30b7bc",
   "metadata": {},
   "source": [
    "## Problema 1"
   ]
  },
  {
   "cell_type": "markdown",
   "id": "c22f3a3d-37ad-440c-acbf-9849857f108d",
   "metadata": {},
   "source": [
    "### Descrição do Problema"
   ]
  },
  {
   "cell_type": "markdown",
   "id": "79dbb8c4-23d0-4c5c-970e-1713eff7ff5d",
   "metadata": {},
   "source": [
    "É nos dado um Control Flow Automaton (CFA) que descreve um programa imperativo cujo objetivo é implementar a multiplicação de dois inteiros a,b, fornecidos como \"input\" e um n, também fornecido como \"input\", de precisão limitada.\n",
    "Para alem disso, temos de ter em conta os seguintes aspetos:\n",
    "- Existe a possibilidade de alguma das operações do programa produzir um erro de “overflow”;\n",
    "- Os nós do grafo representam ações  que actuam sobre os “inputs” do nó e produzem um “output” com as operações indicadas;\n",
    "- Os ramos do grafo representam ligações que transferem o “output” de um nodo para o “input” do nodo seguinte. Esta transferência é condicionada pela satisfação da condição associada ao ramo."
   ]
  },
  {
   "cell_type": "markdown",
   "id": "6680cc2f-e9cf-4c2d-b839-a38e675edf2f",
   "metadata": {},
   "source": [
    "### Abordagem do Problema"
   ]
  },
  {
   "cell_type": "markdown",
   "id": "22d4b6d5-d90f-45e6-9ce9-6bd0ada2fc06",
   "metadata": {},
   "source": [
    "Para resolver este problema, vamos construir um First Order Transition System (FOTS) usando $BitVector$'s de tamanho $n$ de forma a descrever o comportamento do autómato acima mencionado.\n",
    "\n",
    "São parâmetros do problema $a$, $b$, $n$, e $k$ tais que:\n",
    "1. $a$ é o valor inicial de $x$\n",
    "2. $b$ é o valor inicial de $y$\n",
    "3. $k$ é o número máximo de estados num traço do problema, toma o valor de $n+1$, este valor é o resultado do seguinte calculo: \n",
    "$$\n",
    "2.\\log(2^{\\frac{n}{2}-1})-1 \\approx 2.\\log(2^{\\frac{n}{2}})-1 = 2\\frac{n}{2}-1 = n-1;\\\\\n",
    "\\text{Este é o número de operações para o pior caso, com } y = 2^\\frac{n}{2}-1, \\text{pois são realizados }\\\\ \\log(2^{\\frac{n}{2}-1}) \\text{ shifts e }\\log(2^{\\frac{n}{2}-1})-1\\text{ subtrações no } y \\\\\n",
    "\\text{Para utilizar este valor resta apenas adicionar }2\\text{, pois para além de }n-1\\text{ estados é necessário incluir o estado inicial e o estado final.} \n",
    "$$  \n",
    "4. $n$ é o número de $bit$'s máximo das variáveis\n",
    "\n",
    "O autómato consiste na seguinte estrutura:\n",
    "1. Um estado final ($pc=1$).\n",
    "2. Um estado de erro ($pc=2$) que marca o estado de $overflow$\n",
    "3. Um estado de operações ($pc=0$) no o qual todas as operações sobre as variaveis serão realizadas\n",
    "\n",
    "De modo a tratar de casos de $overflow$ as variáveis $x$, $y$ e $z$ são declaradas como $BitVector$'s de tamanho $n+1$. Assim se o primeiro bit de uma delas for $1$ podemos transitar para o estado de $overflow$\n",
    "\n",
    "Além disso, por motivos de optimização no caso da variavel $b$ ser maior do que $a$, são trocadas para que o número de transições seja minimizado.\n",
    "\n",
    "Para além do FOTS, também vamos verificar se $P≡(x∗y+z=a∗b)$ é um invariante do comportamento que estamos a estudar.\n"
   ]
  },
  {
   "cell_type": "markdown",
   "id": "be8c49f4-36bb-43eb-bea7-93ccf88eb367",
   "metadata": {},
   "source": [
    "## Código Python"
   ]
  },
  {
   "cell_type": "markdown",
   "id": "8c7ce30e",
   "metadata": {},
   "source": [
    "#### Algoritmo básico"
   ]
  },
  {
   "cell_type": "markdown",
   "id": "375319eb-86b6-484d-9a9b-c35e4ae73df0",
   "metadata": {},
   "source": [
    "variaveis -> x,y,z,pc \n",
    "\n",
    "0: while(y!=0):\n",
    "\n",
    " \tif even(y) then x,y,z = 2*x,y/2,z\n",
    "\n",
    "\tif odd(y)  then x,y,z = x,y-1,z+x\n",
    "\n",
    "1: stop\n"
   ]
  },
  {
   "cell_type": "markdown",
   "id": "f8fcab8d-1c04-448a-b70e-dd921b4b972b",
   "metadata": {},
   "source": [
    "Vamos Utilizar a biblioteca do $\\textit{Pysmt}$ e a biblioteca $\\textit{random}$ para resolver este exercício."
   ]
  },
  {
   "cell_type": "code",
   "execution_count": 1,
   "id": "4378d36e-2646-4181-90ee-081f3aeb426b",
   "metadata": {},
   "outputs": [],
   "source": [
    "from pysmt.shortcuts import *\n",
    "from pysmt.typing import INT\n",
    "import random as rn\n",
    "import itertools "
   ]
  },
  {
   "cell_type": "markdown",
   "id": "68d27dcf-2fc3-4a4a-833f-68759b9df871",
   "metadata": {},
   "source": [
    "Construção do FOTS:"
   ]
  },
  {
   "cell_type": "markdown",
   "id": "2b0f4988-91c4-466b-866d-e8522bd17fc9",
   "metadata": {},
   "source": [
    "Função de declaração:"
   ]
  },
  {
   "cell_type": "code",
   "execution_count": 2,
   "id": "e8d36293-efa0-4700-bb66-a5aa5f051a82",
   "metadata": {},
   "outputs": [],
   "source": [
    "def declare(i,n):\n",
    "    state = {}\n",
    "    state['pc'] = Symbol('pc'+str(i),types.BVType(n+1))\n",
    "    state['x'] = Symbol('x'+str(i),types.BVType(n+1))\n",
    "    state['y'] = Symbol('y'+str(i),types.BVType(n+1))\n",
    "    state['z'] = Symbol('z'+str(i),types.BVType(n+1))\n",
    "    return state\n",
    "def genState(vars,s,i,n):\n",
    "    state = {}\n",
    "    for v in vars:\n",
    "        state[v] = Symbol(v+'!'+s+str(i),types.BVType(n+1))\n",
    "    return state"
   ]
  },
  {
   "cell_type": "markdown",
   "id": "186853ae-b125-4c40-afc5-1ddda866354a",
   "metadata": {},
   "source": [
    "Função de inicialização: "
   ]
  },
  {
   "cell_type": "code",
   "execution_count": 3,
   "id": "c2595d0f-3695-4e9f-9fd7-8236428ea5d0",
   "metadata": {},
   "outputs": [],
   "source": [
    "def init(state,a,b,n):\n",
    "    if b > a:\n",
    "        a,b = b,a\n",
    "        \n",
    "    tPc = Equals(state['pc'],BVZero(n+1)) # Program counter a zero\n",
    "    tZ = Equals(state['z'],BVZero(n+1)) # Z a zero\n",
    "    tX = Equals(state['x'], BV(a,n+1)) # x inicilizado com valor de a\n",
    "    tY = Equals(state['y'], BV(b,n+1)) # y inicilizado com valor de b\n",
    "    return And(tPc,tX,tY,tZ)"
   ]
  },
  {
   "cell_type": "markdown",
   "id": "3800c998-e7b2-4e67-a85f-f232b26f4c09",
   "metadata": {},
   "source": [
    "Função de Transição:\n",
    "\n",
    " $$\\mathsf{trans}(x,y,z,pc,x',y',z',pc')\\;\\equiv\\;$$\n",
    " $$\n",
    " \\left\\{\\begin{array}{lr}\n",
    " (pc=0)\\land even(y) \\land (y > 0) \\land (x'=2x)\\land (y'= \\frac{y}{2}) \\land (z'=c) \\land (pc'=0) & \\lor \\\\ \n",
    " (pc=0) \\land odd(y) \\land (x'=x) \\land (y'=y- 1) \\land (z'=x+z) \\land (pc'=0)  & \\lor \\\\\n",
    " (pc=0)\\land (y = 0) \\land overflow(z) \\land (x'=x)\\land (y'=y) \\land (z'=c) \\land (pc'=1) & \\lor \\\\\n",
    " (pc=1)\\land(x'=x)\\land (y'=y)\\land (z'=z)\\land (pc'=1)& \\lor \\\\\n",
    " (pc=0)\\land overflow(y) \\land overflow(x) \\land overflow(z) \\land (x'=x)\\land (y'=y) \\land (z'=c) \\land (pc'=2) & \\lor \\\\ \n",
    " (pc=2) \\land (x'=x) \\land (y'=y) \\land (z'=z) \\land (pc'= 2) & \\end{array}\\right.\n",
    " $$"
   ]
  },
  {
   "cell_type": "code",
   "execution_count": 4,
   "id": "af48e4b3-a209-4b96-bca4-13ce75c4aa2c",
   "metadata": {},
   "outputs": [],
   "source": [
    "def BVFirst(n):\n",
    "    return BV(2**(n-1),n)\n",
    "\n",
    "def tEven(curr,prox,n):\n",
    "    tPcZero = Equals(curr['pc'],BVZero(n+1))\n",
    "    tYLast = Equals(BVAnd(curr['y'],BVOne(n+1)),BVZero(n+1))#ultimo bit = 0\n",
    "    tYGt = BVUGT(curr['y'],BVZero(n+1))#y > 0\n",
    "    tX = Equals(prox['x'], BVLShl(curr['x'],BVOne(n+1)))#2*x\n",
    "    tY = Equals(prox['y'], BVLShr(curr['y'],BVOne(n+1)))#y/2\n",
    "    tZ = Equals(prox['z'],curr['z'])#z\n",
    "    tPc = Equals(prox['pc'],BVZero(n+1))\n",
    "    return And(tPcZero,tYLast,tYGt,tX,tY,tZ,tPc)\n",
    "\n",
    "def tOdd(curr,prox,n):\n",
    "    tPcZero = Equals(curr['pc'],BVZero(n+1))\n",
    "    tYLast = Equals(BVAnd(curr['y'],BVOne(n+1)),BVOne(n+1))\n",
    "    tX = Equals(prox['x'], curr['x'])\n",
    "    tY = Equals(prox['y'],BVSub(curr['y'],BVOne(n+1)))\n",
    "    tZ = Equals(prox['z'],BVAdd(curr['x'],curr['z'])) \n",
    "    tPc = Equals(prox['pc'],BVZero(n+1))   \n",
    "    return And(tPcZero,tYLast,tX,tY,tZ,tPc)\n",
    "\n",
    "def tStop(curr,prox,n):\n",
    "    tPcZero = Equals(curr['pc'],BVZero(n+1))\n",
    "    tYZero = Equals(curr['y'],BVZero(n+1))#y=0\n",
    "    tZFirst = Equals(BVAnd(curr['z'],BVFirst(n+1)),BVZero(n+1))#primriro bit de z = 0\n",
    "    tX = Equals(prox['x'],curr['x'])\n",
    "    tY = Equals(prox['y'],curr['y'])\n",
    "    tZ = Equals(prox['z'],curr['z'])\n",
    "    tPc = Equals(prox['pc'],BVOne(n+1))\n",
    "    return And(tYZero,tZFirst,tPcZero,tX,tY,tZ,tPc)\n",
    "\n",
    "def tEnd(curr,prox,n):\n",
    "    tPcOne = Equals(curr['pc'],BVOne(n+1))\n",
    "    tX = Equals(prox['x'],curr['x'])\n",
    "    tY = Equals(prox['y'],curr['y'])\n",
    "    tZ = Equals(prox['z'],curr['z'])\n",
    "    tPc = Equals(prox['pc'],BVOne(n+1))\n",
    "    return And(tPcOne,tX,tY,tZ,tPc)\n",
    "\n",
    "def tError(curr,prox,n):\n",
    "    tPcZero = Equals(curr['pc'],BVZero(n+1))\n",
    "    tYFirst = Equals(BVAnd(curr['y'],BVFirst(n+1)),BVFirst(n+1))\n",
    "    tXFirst = Equals(BVAnd(curr['x'],BVFirst(n+1)),BVFirst(n+1))\n",
    "    tZFirst = Equals(BVAnd(curr['z'],BVFirst(n+1)),BVFirst(n+1))\n",
    "    tX = Equals(prox['x'], curr['x'])\n",
    "    tY = Equals(prox['y'],curr['y'])\n",
    "    tZ = Equals(prox['z'],curr['z'])\n",
    "    tPc = Equals(prox['pc'],BV(2,n+1))\n",
    "    return And(tPcZero,Or(tYFirst,tXFirst,tZFirst),tX,tY,tZ,tPc)\n",
    "\n",
    "def tEndError(curr,prox,n):\n",
    "    tPcTwo = Equals(curr['pc'],BV(2,n+1))\n",
    "    tX = Equals(prox['x'], curr['x'])\n",
    "    tY = Equals(prox['y'],curr['y'])\n",
    "    tZ = Equals(prox['z'],curr['z'])\n",
    "    tPc = Equals(prox['pc'],BV(2,n+1))\n",
    "    return And(tPcTwo,tX,tY,tZ,tPc)\n",
    "\n",
    "def trans(curr,prox,n):\n",
    "    tToStop = tStop(curr,prox,n)\n",
    "    tToEven   = tEven(curr,prox,n)\n",
    "    tToError  = tError(curr,prox,n)\n",
    "    tToEndError = tEndError(curr,prox,n)\n",
    "    tToOdd    = tOdd(curr,prox,n)\n",
    "    tToEnd    = tEnd(curr,prox,n)\n",
    "    return Or(tToStop,tToEven,tToError,tToEndError,tToOdd,tToEnd)\n",
    "\n"
   ]
  },
  {
   "cell_type": "markdown",
   "id": "8bd6b569-d931-456b-a4cd-4465682f84ac",
   "metadata": {},
   "source": [
    "Função que usa $\\textit{SMT solver}$ para gerar um possível traço de execução do programa, imprimindo, para cada estado, as variáveis x,y,z e o program counter e função que auxiliar na conversão das variáveis para inteiro."
   ]
  },
  {
   "cell_type": "code",
   "execution_count": 5,
   "id": "7f7f0faf-40a2-4ab0-9e18-1898a28f8a0f",
   "metadata": {},
   "outputs": [],
   "source": [
    "def toInt(s):\n",
    "    return sum([int(x)*2**(len(s)-i-1) for i,x in (enumerate(s))])"
   ]
  },
  {
   "cell_type": "code",
   "execution_count": 6,
   "id": "b6ce854e-29fb-491f-879d-752abfca6252",
   "metadata": {},
   "outputs": [],
   "source": [
    "def resolve(a,b,n,k):\n",
    "    with Solver(name=\"msat\") as s:\n",
    "            # cria k copias do estado\n",
    "            trace = [genState(['pc','x','y','z'],'X',i,n) for i in range(k)]\n",
    "            #print(trace)\n",
    "            # criar o traço\n",
    "            s.add_assertion(init(trace[0],a,b,n))\n",
    "            #print(init(trace[0]))\n",
    "            for i in range(k-1):\n",
    "                s.add_assertion(trans(trace[i], trace[i+1],n))\n",
    "\n",
    "            if s.solve():\n",
    "                for i in range(k):\n",
    "                    print(i)\n",
    "                    print(\"pc=\", pc := s.get_value(trace[i]['pc']).bv_str())\n",
    "                    print(\"x=\", s.get_value(trace[i]['x']).constant_value())\n",
    "                    print(\"y=\", toInt(s.get_value(trace[i]['y']).bv_str()))\n",
    "                    print(\"z=\", toInt(s.get_value(trace[i]['z']).bv_str()))\n",
    "                    print()\n",
    "                    if pc in (1,2):\n",
    "                        break\n",
    "            else:\n",
    "                print('Não foi possível resolver')"
   ]
  },
  {
   "cell_type": "markdown",
   "id": "e8a215ff-03fb-4dc0-85fb-bade72558d78",
   "metadata": {},
   "source": [
    "O invariante $P≡(x∗y+z=a∗b)$ como função **invariant(state,a,b)** e a função de ordem superior **bmc_always(declare,init,trans,inv,K,a,b,n)** que testa se o invariante é verificado para traços de tamanho maximo $k$."
   ]
  },
  {
   "cell_type": "code",
   "execution_count": 7,
   "id": "c9179d6c-3fa0-4813-9f03-4fb8f7e6e444",
   "metadata": {},
   "outputs": [],
   "source": [
    "def invariant(state,a,b):\n",
    "    return Equals(BVAdd(BVMul(state['x'], state['y']), state['z']), BVMul(BV(a, n+1), BV(b, n+1)))\n",
    "\n",
    "\n",
    "def bmc_always(declare,init,trans,inv,K,n,a,b):\n",
    "    for k in range(1,K+1):\n",
    "        with Solver(name=\"z3\") as s:\n",
    "\n",
    "            trace = [declare(i,n) for i in range(k)]\n",
    "    \n",
    "            s.add_assertion(init(trace[0],a,b,n))\n",
    "            for i in range(k-1):\n",
    "                s.add_assertion(trans(trace[i], trace[i+1],n))\n",
    "            \n",
    "            s.add_assertion(Not(inv(trace[k-1],a,b)))\n",
    "            if s.solve():\n",
    "                for i in range(k):\n",
    "                    for v in trace[0]:\n",
    "                        print(v,'=',s.get_value(trace[0][v]))\n",
    "                return\n",
    "            \n",
    "    print(\"A propriedade é válida para traços de tamanho até \" + str(k))\n"
   ]
  },
  {
   "cell_type": "code",
   "execution_count": 8,
   "id": "0b341c9d-e891-492e-84a4-a7f021909bcf",
   "metadata": {},
   "outputs": [],
   "source": [
    "def baseName(s):\n",
    "    return ''.join(list(itertools.takewhile(lambda x: x!='!', s)))\n",
    "\n",
    "def rename(form,state):\n",
    "    vs = get_free_variables(form)\n",
    "    pairs = [ (x,state[baseName(x.symbol_name())]) for x in vs ] # Descobrir os pares # symbol_name dá o nome aka string da var\n",
    "    return form.substitute(dict(pairs)) # recebe um dicionário e substitui as chaves do dicionário pelo o que está no value\n",
    "\n",
    "def same(state1,state2): # ver se as duas vars têm o mesmo valor\n",
    "    return And([Equals(state1[x],state2[x]) for x in state1])\n",
    "\n",
    "def invert(trans,n):\n",
    "    return (lambda u, v: trans(v,u,n))"
   ]
  },
  {
   "cell_type": "code",
   "execution_count": 9,
   "id": "28e07f8d-d367-4c56-9dc3-8e4e96f97cb9",
   "metadata": {},
   "outputs": [],
   "source": [
    "def error(state,n):\n",
    "    tYFirst = Equals(BVAnd(state['y'],BVFirst(n+1)),BVFirst(n+1))\n",
    "    tXFirst = Equals(BVAnd(state['x'],BVFirst(n+1)),BVFirst(n+1))\n",
    "    tZFirst = Equals(BVAnd(state['z'],BVFirst(n+1)),BVFirst(n+1))\n",
    "    return Or(tYFirst,tXFirst,tZFirst)\n"
   ]
  },
  {
   "cell_type": "code",
   "execution_count": 10,
   "id": "e0d14272-b173-4a51-8b8e-2fddc6a16bfb",
   "metadata": {},
   "outputs": [],
   "source": [
    "def model_checking(vars,init,trans,error,N,M,a,b,tamanho):\n",
    "    with Solver(name=\"msat\") as s:\n",
    "        \n",
    "        # Criar todos os estados que poderão vir a ser necessários.\n",
    "        X = [genState(vars,'X',i,tamanho) for i in range(N+1)] # Com a função genState, criar todos os estados que possam ser necessário, TODOS. # X SFOTS original\n",
    "        Y = [genState(vars,'Y',i,tamanho) for i in range(M+1)] # Y SFOTS invertido\n",
    "\n",
    "        # Estabelecer a ordem pela qual os pares (n,m) vão surgir. Por exemplo:\n",
    "        order = sorted([(a,b) for a in range(1,N+1) for b in range(1,M+1)],key=lambda tup:tup[0]+tup[1]) # Estabelecer ordem que criamos o n e o m # ideia da stora: usar o sorted,\n",
    "                                                                                                         # gerar todos os pares possíveis \n",
    "                                                                                                         # e ter como critério de ordenação as soma dos elementos dos pares\n",
    "        \n",
    "        for (n,m) in order: # Seguir o algoritmo\n",
    "            # completar\n",
    "            I = init(X[0],a,b,tamanho) # o X é uma lista de estados\n",
    "            Tn = And([trans(X[i],X[i+1],tamanho) for i in range(n)])\n",
    "            Rn = And(I,Tn) # estados acessíveis em n transições\n",
    "            #print(X[0])\n",
    "            E = error(Y[0],tamanho)\n",
    "            Bm = And([invert(trans,tamanho)(Y[i],Y[i+1]) for i in range(m)])\n",
    "            Um = And(E,Bm) # estados inseguros em m transições\n",
    "            \n",
    "            Vnm = And(Rn,same(X[n],Y[m]),Um) # temos de testar se dois estados estão iguais e, portanto, usamos a função same dada acima\n",
    "            \n",
    "            #pprint(Vnm.serialize())\n",
    "            \n",
    "            if s.solve([Vnm]):\n",
    "                print(\"unsafe\")\n",
    "                return \n",
    "           \n",
    "            # Se for insatisfazível, temos de criar o interpolante para n fórmulas\n",
    "            C = binary_interpolant(And(Rn,same(X[n],Y[m])), Um)\n",
    "            if C is None:\n",
    "                print(\"Interpolante None\")\n",
    "                continue\n",
    "            \n",
    "            C0 = rename(C,X[0]) # Rename do C com o estado envolvido, neste caso o X[0] \n",
    "            C1 = rename(C,X[1])\n",
    "            # Trabalhamos com X[0] e X[1] porque T pode ser escrito como T = (X0,X1)\n",
    "            \n",
    "            T = trans(X[0],X[1],tamanho)\n",
    "            \n",
    "            if not s.solve([C0,T,Not(C1)]):\n",
    "                print(\"Safe\")\n",
    "                return\n",
    "            else:\n",
    "                    #### gerar o S (Parte que descreve o Majorante S)\n",
    "                \n",
    "                #Passo 1:\n",
    "                S = rename(C,X[n])\n",
    "                while True:\n",
    "                    #Passo 2:\n",
    "                    A = And(S,trans(X[n],Y[m],tamanho))\n",
    "                    if s.solve([A,Um]):\n",
    "                        print(\"Não foi possível encontrar o majorante.\")\n",
    "                        break\n",
    "                    else:\n",
    "                        CNew = binary_interpolant(A,Um) # as duas formulas têm de ser inconsistentes para que faça sentido para usar binary_interpolant\n",
    "                        Cn = rename(CNew,X[n])\n",
    "                        \n",
    "                        if s.solve([Cn,Not(S)]):\n",
    "                            S = Or(S,Cn)\n",
    "                        else:\n",
    "                            print(\"Safe\")\n",
    "                            return\n",
    "            \n",
    "        print(\"unknown\")     "
   ]
  },
  {
   "cell_type": "code",
   "execution_count": 11,
   "id": "f369668e-6082-479f-bf98-afcfbabe429b",
   "metadata": {},
   "outputs": [
    {
     "name": "stdout",
     "output_type": "stream",
     "text": [
      "Safe\n"
     ]
    }
   ],
   "source": [
    "model_checking(['pc','x','y','z'], init, trans, error, 100, 100,4,3,7)   "
   ]
  },
  {
   "cell_type": "markdown",
   "id": "6e33e41d-1729-4992-a3a6-e792730441fe",
   "metadata": {},
   "source": [
    "### Exemplos e Testes de Aplicação"
   ]
  },
  {
   "cell_type": "markdown",
   "id": "0cbecd15-6467-4016-8d11-b84c0f1ee764",
   "metadata": {},
   "source": [
    "#### Exemplo 1"
   ]
  },
  {
   "cell_type": "code",
   "execution_count": 12,
   "id": "840d8c4d-3f79-4c64-8905-6a8caeb5f71f",
   "metadata": {},
   "outputs": [
    {
     "name": "stdout",
     "output_type": "stream",
     "text": [
      "x =  0000001\n",
      "y =  0000001\n"
     ]
    }
   ],
   "source": [
    "n = 7\n",
    "a = 1\n",
    "b = 1\n",
    "k = n+1\n",
    "\n",
    "print('x = ', BV(a,n).bv_str())\n",
    "print('y = ', BV(b,n).bv_str())"
   ]
  },
  {
   "cell_type": "markdown",
   "id": "34f967ce-6fb9-4e6e-bb48-2080b5730a6d",
   "metadata": {},
   "source": [
    "#### Resolução do Exemplo 1"
   ]
  },
  {
   "cell_type": "markdown",
   "id": "e6b698ee",
   "metadata": {},
   "source": [
    "Este exemplo é apenas uma mostra de uma multiplicação básica."
   ]
  },
  {
   "cell_type": "code",
   "execution_count": 13,
   "id": "4c3a78af-e2ac-45bd-be53-b4b5be67485e",
   "metadata": {},
   "outputs": [
    {
     "name": "stdout",
     "output_type": "stream",
     "text": [
      "0\n",
      "pc= 00000000\n",
      "x= 1\n",
      "y= 1\n",
      "z= 0\n",
      "\n",
      "1\n",
      "pc= 00000000\n",
      "x= 1\n",
      "y= 0\n",
      "z= 1\n",
      "\n",
      "2\n",
      "pc= 00000001\n",
      "x= 1\n",
      "y= 0\n",
      "z= 1\n",
      "\n",
      "3\n",
      "pc= 00000001\n",
      "x= 1\n",
      "y= 0\n",
      "z= 1\n",
      "\n",
      "4\n",
      "pc= 00000001\n",
      "x= 1\n",
      "y= 0\n",
      "z= 1\n",
      "\n",
      "5\n",
      "pc= 00000001\n",
      "x= 1\n",
      "y= 0\n",
      "z= 1\n",
      "\n",
      "6\n",
      "pc= 00000001\n",
      "x= 1\n",
      "y= 0\n",
      "z= 1\n",
      "\n",
      "7\n",
      "pc= 00000001\n",
      "x= 1\n",
      "y= 0\n",
      "z= 1\n",
      "\n"
     ]
    }
   ],
   "source": [
    "resolve(a,b,n,k)"
   ]
  },
  {
   "cell_type": "code",
   "execution_count": 14,
   "id": "3fae11ea-5e47-4efa-8d9f-b60127c62796",
   "metadata": {},
   "outputs": [
    {
     "name": "stdout",
     "output_type": "stream",
     "text": [
      "A propriedade é válida para traços de tamanho até 8\n"
     ]
    }
   ],
   "source": [
    "bmc_always(declare,init,trans,invariant,k,n,a,b)"
   ]
  },
  {
   "cell_type": "markdown",
   "id": "ac8e868c-5178-49ee-ae4d-b96ecbd99cf6",
   "metadata": {},
   "source": [
    "#### Exemplo 2"
   ]
  },
  {
   "cell_type": "markdown",
   "id": "a0e3d7be",
   "metadata": {},
   "source": [
    "Neste exemplo procuramos apresentar um dos piores casos em termos de transições de estado."
   ]
  },
  {
   "cell_type": "code",
   "execution_count": 15,
   "id": "c4ce2978-7833-4f26-95de-09456338b1e4",
   "metadata": {},
   "outputs": [
    {
     "name": "stdout",
     "output_type": "stream",
     "text": [
      "x =  000111\n",
      "y =  000111\n"
     ]
    }
   ],
   "source": [
    "n = 6\n",
    "a = 7\n",
    "b = 7\n",
    "k = n+1\n",
    "k_inv = 1\n",
    "\n",
    "print('x = ', BV(a,n).bv_str())\n",
    "print('y = ', BV(b,n).bv_str())"
   ]
  },
  {
   "cell_type": "markdown",
   "id": "61b6571e-b0da-4b33-89b1-dfdba5eb6635",
   "metadata": {},
   "source": [
    "#### Resolução do Exemplo 2"
   ]
  },
  {
   "cell_type": "code",
   "execution_count": 16,
   "id": "9a74feaf-8eb5-49cb-a878-2eb2122a9983",
   "metadata": {},
   "outputs": [
    {
     "ename": "PysmtTypeError",
     "evalue": "Trying to redefine symbol 'pc!X0' with a new type. Previous type was 'BV{8}' new type is 'BV{7}'",
     "output_type": "error",
     "traceback": [
      "\u001b[1;31m---------------------------------------------------------------------------\u001b[0m",
      "\u001b[1;31mPysmtTypeError\u001b[0m                            Traceback (most recent call last)",
      "Input \u001b[1;32mIn [16]\u001b[0m, in \u001b[0;36m<cell line: 1>\u001b[1;34m()\u001b[0m\n\u001b[1;32m----> 1\u001b[0m \u001b[43mresolve\u001b[49m\u001b[43m(\u001b[49m\u001b[43ma\u001b[49m\u001b[43m,\u001b[49m\u001b[43mb\u001b[49m\u001b[43m,\u001b[49m\u001b[43mn\u001b[49m\u001b[43m,\u001b[49m\u001b[43mk\u001b[49m\u001b[43m)\u001b[49m\n",
      "Input \u001b[1;32mIn [6]\u001b[0m, in \u001b[0;36mresolve\u001b[1;34m(a, b, n, k)\u001b[0m\n\u001b[0;32m      1\u001b[0m \u001b[38;5;28;01mdef\u001b[39;00m \u001b[38;5;21mresolve\u001b[39m(a,b,n,k):\n\u001b[0;32m      2\u001b[0m     \u001b[38;5;28;01mwith\u001b[39;00m Solver(name\u001b[38;5;241m=\u001b[39m\u001b[38;5;124m\"\u001b[39m\u001b[38;5;124mmsat\u001b[39m\u001b[38;5;124m\"\u001b[39m) \u001b[38;5;28;01mas\u001b[39;00m s:\n\u001b[0;32m      3\u001b[0m             \u001b[38;5;66;03m# cria k copias do estado\u001b[39;00m\n\u001b[1;32m----> 4\u001b[0m             trace \u001b[38;5;241m=\u001b[39m [genState([\u001b[38;5;124m'\u001b[39m\u001b[38;5;124mpc\u001b[39m\u001b[38;5;124m'\u001b[39m,\u001b[38;5;124m'\u001b[39m\u001b[38;5;124mx\u001b[39m\u001b[38;5;124m'\u001b[39m,\u001b[38;5;124m'\u001b[39m\u001b[38;5;124my\u001b[39m\u001b[38;5;124m'\u001b[39m,\u001b[38;5;124m'\u001b[39m\u001b[38;5;124mz\u001b[39m\u001b[38;5;124m'\u001b[39m],\u001b[38;5;124m'\u001b[39m\u001b[38;5;124mX\u001b[39m\u001b[38;5;124m'\u001b[39m,i,n) \u001b[38;5;28;01mfor\u001b[39;00m i \u001b[38;5;129;01min\u001b[39;00m \u001b[38;5;28mrange\u001b[39m(k)]\n\u001b[0;32m      5\u001b[0m             \u001b[38;5;66;03m#print(trace)\u001b[39;00m\n\u001b[0;32m      6\u001b[0m             \u001b[38;5;66;03m# criar o traço\u001b[39;00m\n\u001b[0;32m      7\u001b[0m             s\u001b[38;5;241m.\u001b[39madd_assertion(init(trace[\u001b[38;5;241m0\u001b[39m],a,b,n))\n",
      "Input \u001b[1;32mIn [6]\u001b[0m, in \u001b[0;36m<listcomp>\u001b[1;34m(.0)\u001b[0m\n\u001b[0;32m      1\u001b[0m \u001b[38;5;28;01mdef\u001b[39;00m \u001b[38;5;21mresolve\u001b[39m(a,b,n,k):\n\u001b[0;32m      2\u001b[0m     \u001b[38;5;28;01mwith\u001b[39;00m Solver(name\u001b[38;5;241m=\u001b[39m\u001b[38;5;124m\"\u001b[39m\u001b[38;5;124mmsat\u001b[39m\u001b[38;5;124m\"\u001b[39m) \u001b[38;5;28;01mas\u001b[39;00m s:\n\u001b[0;32m      3\u001b[0m             \u001b[38;5;66;03m# cria k copias do estado\u001b[39;00m\n\u001b[1;32m----> 4\u001b[0m             trace \u001b[38;5;241m=\u001b[39m [\u001b[43mgenState\u001b[49m\u001b[43m(\u001b[49m\u001b[43m[\u001b[49m\u001b[38;5;124;43m'\u001b[39;49m\u001b[38;5;124;43mpc\u001b[39;49m\u001b[38;5;124;43m'\u001b[39;49m\u001b[43m,\u001b[49m\u001b[38;5;124;43m'\u001b[39;49m\u001b[38;5;124;43mx\u001b[39;49m\u001b[38;5;124;43m'\u001b[39;49m\u001b[43m,\u001b[49m\u001b[38;5;124;43m'\u001b[39;49m\u001b[38;5;124;43my\u001b[39;49m\u001b[38;5;124;43m'\u001b[39;49m\u001b[43m,\u001b[49m\u001b[38;5;124;43m'\u001b[39;49m\u001b[38;5;124;43mz\u001b[39;49m\u001b[38;5;124;43m'\u001b[39;49m\u001b[43m]\u001b[49m\u001b[43m,\u001b[49m\u001b[38;5;124;43m'\u001b[39;49m\u001b[38;5;124;43mX\u001b[39;49m\u001b[38;5;124;43m'\u001b[39;49m\u001b[43m,\u001b[49m\u001b[43mi\u001b[49m\u001b[43m,\u001b[49m\u001b[43mn\u001b[49m\u001b[43m)\u001b[49m \u001b[38;5;28;01mfor\u001b[39;00m i \u001b[38;5;129;01min\u001b[39;00m \u001b[38;5;28mrange\u001b[39m(k)]\n\u001b[0;32m      5\u001b[0m             \u001b[38;5;66;03m#print(trace)\u001b[39;00m\n\u001b[0;32m      6\u001b[0m             \u001b[38;5;66;03m# criar o traço\u001b[39;00m\n\u001b[0;32m      7\u001b[0m             s\u001b[38;5;241m.\u001b[39madd_assertion(init(trace[\u001b[38;5;241m0\u001b[39m],a,b,n))\n",
      "Input \u001b[1;32mIn [2]\u001b[0m, in \u001b[0;36mgenState\u001b[1;34m(vars, s, i, n)\u001b[0m\n\u001b[0;32m      9\u001b[0m state \u001b[38;5;241m=\u001b[39m {}\n\u001b[0;32m     10\u001b[0m \u001b[38;5;28;01mfor\u001b[39;00m v \u001b[38;5;129;01min\u001b[39;00m \u001b[38;5;28mvars\u001b[39m:\n\u001b[1;32m---> 11\u001b[0m     state[v] \u001b[38;5;241m=\u001b[39m \u001b[43mSymbol\u001b[49m\u001b[43m(\u001b[49m\u001b[43mv\u001b[49m\u001b[38;5;241;43m+\u001b[39;49m\u001b[38;5;124;43m'\u001b[39;49m\u001b[38;5;124;43m!\u001b[39;49m\u001b[38;5;124;43m'\u001b[39;49m\u001b[38;5;241;43m+\u001b[39;49m\u001b[43ms\u001b[49m\u001b[38;5;241;43m+\u001b[39;49m\u001b[38;5;28;43mstr\u001b[39;49m\u001b[43m(\u001b[49m\u001b[43mi\u001b[49m\u001b[43m)\u001b[49m\u001b[43m,\u001b[49m\u001b[43mtypes\u001b[49m\u001b[38;5;241;43m.\u001b[39;49m\u001b[43mBVType\u001b[49m\u001b[43m(\u001b[49m\u001b[43mn\u001b[49m\u001b[38;5;241;43m+\u001b[39;49m\u001b[38;5;241;43m1\u001b[39;49m\u001b[43m)\u001b[49m\u001b[43m)\u001b[49m\n\u001b[0;32m     12\u001b[0m \u001b[38;5;28;01mreturn\u001b[39;00m state\n",
      "File \u001b[1;32m~\\anaconda3\\envs\\logica\\lib\\site-packages\\pysmt\\shortcuts.py:243\u001b[0m, in \u001b[0;36mSymbol\u001b[1;34m(name, typename)\u001b[0m\n\u001b[0;32m    236\u001b[0m \u001b[38;5;28;01mdef\u001b[39;00m \u001b[38;5;21mSymbol\u001b[39m(name, typename\u001b[38;5;241m=\u001b[39mtypes\u001b[38;5;241m.\u001b[39mBOOL):\n\u001b[0;32m    237\u001b[0m     \u001b[38;5;124;03m\"\"\"Returns a symbol with the given name and type.\u001b[39;00m\n\u001b[0;32m    238\u001b[0m \n\u001b[0;32m    239\u001b[0m \u001b[38;5;124;03m    :param name: Specify the name\u001b[39;00m\n\u001b[0;32m    240\u001b[0m \u001b[38;5;124;03m    :param typename: Specify the typename\u001b[39;00m\n\u001b[0;32m    241\u001b[0m \u001b[38;5;124;03m    :returns: A symbol with the given name and type\u001b[39;00m\n\u001b[0;32m    242\u001b[0m \u001b[38;5;124;03m    \"\"\"\u001b[39;00m\n\u001b[1;32m--> 243\u001b[0m     \u001b[38;5;28;01mreturn\u001b[39;00m \u001b[43mget_env\u001b[49m\u001b[43m(\u001b[49m\u001b[43m)\u001b[49m\u001b[38;5;241;43m.\u001b[39;49m\u001b[43mformula_manager\u001b[49m\u001b[38;5;241;43m.\u001b[39;49m\u001b[43mSymbol\u001b[49m\u001b[43m(\u001b[49m\u001b[43mname\u001b[49m\u001b[43m,\u001b[49m\u001b[43m \u001b[49m\u001b[43mtypename\u001b[49m\u001b[43m)\u001b[49m\n",
      "File \u001b[1;32m~\\anaconda3\\envs\\logica\\lib\\site-packages\\pysmt\\formula.py:143\u001b[0m, in \u001b[0;36mFormulaManager.Symbol\u001b[1;34m(self, name, typename)\u001b[0m\n\u001b[0;32m    142\u001b[0m \u001b[38;5;28;01mdef\u001b[39;00m \u001b[38;5;21mSymbol\u001b[39m(\u001b[38;5;28mself\u001b[39m, name, typename\u001b[38;5;241m=\u001b[39mtypes\u001b[38;5;241m.\u001b[39mBOOL):\n\u001b[1;32m--> 143\u001b[0m     \u001b[38;5;28;01mreturn\u001b[39;00m \u001b[38;5;28;43mself\u001b[39;49m\u001b[38;5;241;43m.\u001b[39;49m\u001b[43mget_or_create_symbol\u001b[49m\u001b[43m(\u001b[49m\u001b[43mname\u001b[49m\u001b[43m,\u001b[49m\u001b[43m \u001b[49m\u001b[43mtypename\u001b[49m\u001b[43m)\u001b[49m\n",
      "File \u001b[1;32m~\\anaconda3\\envs\\logica\\lib\\site-packages\\pysmt\\formula.py:135\u001b[0m, in \u001b[0;36mFormulaManager.get_or_create_symbol\u001b[1;34m(self, name, typename)\u001b[0m\n\u001b[0;32m    133\u001b[0m     \u001b[38;5;28;01mreturn\u001b[39;00m \u001b[38;5;28mself\u001b[39m\u001b[38;5;241m.\u001b[39m_create_symbol(name, typename)\n\u001b[0;32m    134\u001b[0m \u001b[38;5;28;01mif\u001b[39;00m \u001b[38;5;129;01mnot\u001b[39;00m s\u001b[38;5;241m.\u001b[39msymbol_type() \u001b[38;5;241m==\u001b[39m typename:\n\u001b[1;32m--> 135\u001b[0m     \u001b[38;5;28;01mraise\u001b[39;00m PysmtTypeError(\u001b[38;5;124m\"\u001b[39m\u001b[38;5;124mTrying to redefine symbol \u001b[39m\u001b[38;5;124m'\u001b[39m\u001b[38;5;132;01m%s\u001b[39;00m\u001b[38;5;124m'\u001b[39m\u001b[38;5;124m with a new type\u001b[39m\u001b[38;5;124m\"\u001b[39m\n\u001b[0;32m    136\u001b[0m                          \u001b[38;5;124m\"\u001b[39m\u001b[38;5;124m. Previous type was \u001b[39m\u001b[38;5;124m'\u001b[39m\u001b[38;5;132;01m%s\u001b[39;00m\u001b[38;5;124m'\u001b[39m\u001b[38;5;124m new type is \u001b[39m\u001b[38;5;124m'\u001b[39m\u001b[38;5;132;01m%s\u001b[39;00m\u001b[38;5;124m'\u001b[39m\u001b[38;5;124m\"\u001b[39m \u001b[38;5;241m%\u001b[39m\n\u001b[0;32m    137\u001b[0m                          (name, s\u001b[38;5;241m.\u001b[39msymbol_type(), typename))\n\u001b[0;32m    138\u001b[0m \u001b[38;5;28;01mreturn\u001b[39;00m s\n",
      "\u001b[1;31mPysmtTypeError\u001b[0m: Trying to redefine symbol 'pc!X0' with a new type. Previous type was 'BV{8}' new type is 'BV{7}'"
     ]
    }
   ],
   "source": [
    "resolve(a,b,n,k)"
   ]
  },
  {
   "cell_type": "code",
   "execution_count": null,
   "id": "56040dae-e783-4b3f-a9a3-e0cea510774d",
   "metadata": {},
   "outputs": [],
   "source": [
    "bmc_always(declare,init,trans,invariant,k,n,a,b)"
   ]
  },
  {
   "cell_type": "markdown",
   "id": "4745fd36-c573-44e3-9fa7-211a86b0f4e7",
   "metadata": {},
   "source": [
    "#### Exemplo 3"
   ]
  },
  {
   "cell_type": "markdown",
   "id": "3152aa50",
   "metadata": {},
   "source": [
    "Neste exemplo procuramos mostrar a optimização feita de modo a que sejam efetuadas o menor número de transições possiveis."
   ]
  },
  {
   "cell_type": "code",
   "execution_count": null,
   "id": "c6369420-23ff-4927-832a-79341c24cd32",
   "metadata": {},
   "outputs": [],
   "source": [
    "n = 15\n",
    "a = 1\n",
    "b = 32767\n",
    "k = n+1\n",
    "\n",
    "print('x = ', BV(a,n).bv_str())\n",
    "print('y = ', BV(b,n).bv_str())"
   ]
  },
  {
   "cell_type": "markdown",
   "id": "ded0b093",
   "metadata": {},
   "source": [
    "#### Resolução do exemplo 3"
   ]
  },
  {
   "cell_type": "code",
   "execution_count": null,
   "id": "570ec9a5",
   "metadata": {},
   "outputs": [],
   "source": [
    "resolve(a,b,n,k)"
   ]
  },
  {
   "cell_type": "code",
   "execution_count": null,
   "id": "07d83a03",
   "metadata": {},
   "outputs": [],
   "source": [
    "bmc_always(declare,init,trans,invariant,k,n,a,b)"
   ]
  },
  {
   "cell_type": "markdown",
   "id": "b447de0b-abc7-464b-aa6f-c7ab34662899",
   "metadata": {},
   "source": [
    "#### Exemplo 4"
   ]
  },
  {
   "cell_type": "markdown",
   "id": "fecfe34f",
   "metadata": {},
   "source": [
    "Neste exemplo procuramos mostrar um caso de $overflow$."
   ]
  },
  {
   "cell_type": "code",
   "execution_count": null,
   "id": "17feb2fe-926b-4e87-8739-bd2fc6ba2772",
   "metadata": {},
   "outputs": [],
   "source": [
    "n = 32\n",
    "a = 65535\n",
    "b = 131069\n",
    "k = n+1\n",
    "\n",
    "print('x = ', BV(a,n).bv_str())\n",
    "print('y = ', BV(b,n).bv_str())"
   ]
  },
  {
   "cell_type": "markdown",
   "id": "a80d93cc",
   "metadata": {},
   "source": [
    "#### Resolução do exemplo 4"
   ]
  },
  {
   "cell_type": "code",
   "execution_count": null,
   "id": "3e17b2b0",
   "metadata": {},
   "outputs": [],
   "source": [
    "resolve(a,b,n,k)"
   ]
  },
  {
   "cell_type": "code",
   "execution_count": null,
   "id": "5c4bef9c",
   "metadata": {},
   "outputs": [],
   "source": [
    "bmc_always(declare,init,trans,invariant,k,n,a,b)"
   ]
  },
  {
   "cell_type": "markdown",
   "id": "02a27235-bd0d-4071-89b3-fd4aaee5eac0",
   "metadata": {},
   "source": [
    "#### Exemplo 5"
   ]
  },
  {
   "cell_type": "markdown",
   "id": "37ef6b7e",
   "metadata": {},
   "source": [
    "Este exemplo serve para ser possivel efetuar testes repetidos com variaveis aleatórias."
   ]
  },
  {
   "cell_type": "code",
   "execution_count": null,
   "id": "79844c3f-82ae-40d3-b240-7b698b430d83",
   "metadata": {},
   "outputs": [],
   "source": [
    "n = 32\n",
    "a = rn.randrange(1, 2**(n))\n",
    "b = rn.randrange(1, 2**(n))\n",
    "k = n+1\n",
    "\n",
    "print('x = ', BV(a,n).bv_str())\n",
    "print('y = ', BV(b,n).bv_str())"
   ]
  },
  {
   "cell_type": "markdown",
   "id": "2acdb983",
   "metadata": {},
   "source": [
    "#### Resolução do exemplo 5"
   ]
  },
  {
   "cell_type": "code",
   "execution_count": null,
   "id": "28324c31",
   "metadata": {},
   "outputs": [],
   "source": [
    "resolve(a,b,n,k)"
   ]
  },
  {
   "cell_type": "code",
   "execution_count": null,
   "id": "b16ec529",
   "metadata": {},
   "outputs": [],
   "source": [
    "bmc_always(declare,init,trans,invariant,k,n,a,b)"
   ]
  }
 ],
 "metadata": {
  "kernelspec": {
   "display_name": "Python 3 (ipykernel)",
   "language": "python",
   "name": "python3"
  },
  "language_info": {
   "codemirror_mode": {
    "name": "ipython",
    "version": 3
   },
   "file_extension": ".py",
   "mimetype": "text/x-python",
   "name": "python",
   "nbconvert_exporter": "python",
   "pygments_lexer": "ipython3",
   "version": "3.10.6"
  },
  "vscode": {
   "interpreter": {
    "hash": "e6e0711b34581e9d3d394d0e05c7a638721b909a5489b142ff17259bed82d5d5"
   }
  }
 },
 "nbformat": 4,
 "nbformat_minor": 5
}

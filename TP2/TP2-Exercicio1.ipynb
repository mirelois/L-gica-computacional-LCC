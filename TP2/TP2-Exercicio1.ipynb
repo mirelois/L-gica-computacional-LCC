{
 "cells": [
  {
   "cell_type": "markdown",
   "id": "fe9f5e77-3896-4e2f-8436-455e9084499e",
   "metadata": {},
   "source": [
    "# TP2\n",
    "## Grupo 15\n",
    "\n",
    "Carlos Eduardo Da Silva Machado A96936\n",
    "\n",
    "Gonçalo Manuel Maia de Sousa A97485"
   ]
  },
  {
   "cell_type": "markdown",
   "id": "23aaf1cd-86ca-4829-9cf6-e2f10c30b7bc",
   "metadata": {},
   "source": [
    "## Problema 1"
   ]
  },
  {
   "cell_type": "markdown",
   "id": "c22f3a3d-37ad-440c-acbf-9849857f108d",
   "metadata": {},
   "source": [
    "### Descrição do Problema"
   ]
  },
  {
   "cell_type": "markdown",
   "id": "79dbb8c4-23d0-4c5c-970e-1713eff7ff5d",
   "metadata": {},
   "source": [
    "É nos dado um Control Flow Automaton (CFA) que descreve um programa imperativo cujo objetivo é implementar a multiplicação de dois inteiros a,b, fornecidos como \"input\" e um n, também fornecido como \"input\", de precisão limitada.\n",
    "Para alem disso, temos de ter em conta os seguintes aspetos:\n",
    "- Existe a possibilidade de alguma das operações do programa produzir um erro de “overflow”;\n",
    "- Os nós do grafo representam ações  que actuam sobre os “inputs” do nó e produzem um “output” com as operações indicadas;\n",
    "- Os ramos do grafo representam ligações que transferem o “output” de um nodo para o “input” do nodo seguinte. Esta transferência é condicionada pela satisfação da condição associada ao ramo."
   ]
  },
  {
   "cell_type": "markdown",
   "id": "6680cc2f-e9cf-4c2d-b839-a38e675edf2f",
   "metadata": {},
   "source": [
    "### Abordagem do Problema"
   ]
  },
  {
   "cell_type": "markdown",
   "id": "22d4b6d5-d90f-45e6-9ce9-6bd0ada2fc06",
   "metadata": {},
   "source": [
    "Para resolver este problema, vamos construir um First Order Transition System (FOTS) usando $BitVector$'s de tamanho $n$ de forma a descrever o comportamento do autómato acima mencionado.\n",
    "\n",
    "São parâmetros do problema $a$, $b$, $n$, e $k$ tais que:\n",
    "1. $a$ é o valor inicial de $x$\n",
    "2. $b$ é o valor inicial de $y$\n",
    "3. $k$ é o número máximo de estados num traço do problema, toma o valor de $n+1$ visto que, esse é o número de transições necessárias para computar o pior caso possivel.\n",
    "4. $n$ é o número de $bit$'s máximo das variáveis\n",
    "\n",
    "O autómato consiste na seguinte estrutura:\n",
    "1. Um estado final ($pc=1$).\n",
    "2. Um estado de erro ($pc=2$) que marca o estado de $overflow$\n",
    "3. Um estado de operações ($pc=0$) no o qual todas as operações sobre as variaveis serão realizadas\n",
    "\n",
    "De modo a tratar de casos de $overflow$ as variáveis $x$, $y$ e $z$ são declaradas como $BitVector$'s de tamanho $n+1$. Assim se o primeiro bit de uma delas for $1$ podemos transitar para o estado de $overflow$\n",
    "\n",
    "Além disso, por motivos de optimização no caso da variavel $b$ ser maior do que $a$, são trocadas para que o número de transições seja minimizado.\n",
    "\n",
    "Para além do FOTS, também vamos verificar se $P≡(x∗y+z=a∗b)$ é um invariante do comportamento que estamos a estudar.\n"
   ]
  },
  {
   "cell_type": "markdown",
   "id": "be8c49f4-36bb-43eb-bea7-93ccf88eb367",
   "metadata": {},
   "source": [
    "## Código Python"
   ]
  },
  {
   "cell_type": "markdown",
   "id": "8c7ce30e",
   "metadata": {},
   "source": [
    "#### Algoritmo básico"
   ]
  },
  {
   "cell_type": "markdown",
   "id": "375319eb-86b6-484d-9a9b-c35e4ae73df0",
   "metadata": {},
   "source": [
    "variaveis -> x,y,z,pc \n",
    "\n",
    "0: while(y!=0):\n",
    "\n",
    " \tif even(y) then x,y,z = 2*x,y/2,z\n",
    "\n",
    "\tif odd(y)  then x,y,z = x,y-1,z+x\n",
    "\n",
    "1: stop\n"
   ]
  },
  {
   "cell_type": "markdown",
   "id": "f8fcab8d-1c04-448a-b70e-dd921b4b972b",
   "metadata": {},
   "source": [
    "Vamos Utilizar a biblioteca do $\\textit{Pysmt}$ e a biblioteca $\\textit{random}$ para resolver este exercício."
   ]
  },
  {
   "cell_type": "code",
   "execution_count": 1,
   "id": "4378d36e-2646-4181-90ee-081f3aeb426b",
   "metadata": {},
   "outputs": [],
   "source": [
    "from pysmt.shortcuts import *\n",
    "from pysmt.typing import INT\n",
    "import random as rn"
   ]
  },
  {
   "cell_type": "markdown",
   "id": "68d27dcf-2fc3-4a4a-833f-68759b9df871",
   "metadata": {},
   "source": [
    "Construção do FOTS:"
   ]
  },
  {
   "cell_type": "markdown",
   "id": "2b0f4988-91c4-466b-866d-e8522bd17fc9",
   "metadata": {},
   "source": [
    "Função de declaração:"
   ]
  },
  {
   "cell_type": "code",
   "execution_count": 2,
   "id": "e8d36293-efa0-4700-bb66-a5aa5f051a82",
   "metadata": {},
   "outputs": [],
   "source": [
    "def declare(i,n):\n",
    "    state = {}\n",
    "    state['pc'] = Symbol('pc'+str(i),INT)\n",
    "    state['x'] = Symbol('x'+str(i),types.BVType(n+1))\n",
    "    state['y'] = Symbol('y'+str(i),types.BVType(n+1))\n",
    "    state['z'] = Symbol('z'+str(i),types.BVType(n+1))\n",
    "    return state"
   ]
  },
  {
   "cell_type": "markdown",
   "id": "186853ae-b125-4c40-afc5-1ddda866354a",
   "metadata": {},
   "source": [
    "Função de inicialização: "
   ]
  },
  {
   "cell_type": "code",
   "execution_count": 3,
   "id": "c2595d0f-3695-4e9f-9fd7-8236428ea5d0",
   "metadata": {},
   "outputs": [],
   "source": [
    "def init(state,a,b,n):\n",
    "    if b > a:\n",
    "        a,b = b,a\n",
    "        \n",
    "    tPc = Equals(state['pc'],Int(0)) # Program counter a zero\n",
    "    tZ = Equals(state['z'],BVZero(n+1)) # Z a zero\n",
    "    tX = Equals(state['x'], BV(a,n+1)) # x inicilizado com valor de a\n",
    "    tY = Equals(state['y'], BV(b,n+1)) # y inicilizado com valor de b\n",
    "    return And(tPc,tX,tY,tZ)"
   ]
  },
  {
   "cell_type": "markdown",
   "id": "3800c998-e7b2-4e67-a85f-f232b26f4c09",
   "metadata": {},
   "source": [
    "Função de Transição:\n",
    "\n",
    " $$\\mathsf{trans}(x,y,z,pc,x',y',z',pc')\\;\\equiv\\;$$\n",
    " $$\n",
    " \\left\\{\\begin{array}{lr}\n",
    " (pc=0)\\land even(y) \\land (y > 0) \\land (x'=2x)\\land (y'= \\frac{y}{2}) \\land (z'=c) \\land (pc'=0) & \\lor \\\\ \n",
    " (pc=0) \\land odd(y) \\land (x'=x) \\land (y'=y- 1) \\land (z'=x+z) \\land (pc'=0)  & \\lor \\\\\n",
    " (pc=0)\\land (y = 0) \\land overflow(z) \\land (x'=x)\\land (y'=y) \\land (z'=c) \\land (pc'=1) & \\lor \\\\\n",
    " (pc=1)\\land(x'=x)\\land (y'=y)\\land (z'=z)\\land (pc'=1)& \\lor \\\\\n",
    " (pc=0)\\land overflow(y) \\land overflow(x) \\land overflow(z) \\land (x'=x)\\land (y'=y) \\land (z'=c) \\land (pc'=2) & \\lor \\\\ \n",
    " (pc=2) \\land (x'=x) \\land (y'=y) \\land (z'=z) \\land (pc'= 2) & \\end{array}\\right.\n",
    " $$"
   ]
  },
  {
   "cell_type": "code",
   "execution_count": 4,
   "id": "af48e4b3-a209-4b96-bca4-13ce75c4aa2c",
   "metadata": {},
   "outputs": [],
   "source": [
    "def BVFirst(n):\n",
    "    return BV(2**(n-1),n)\n",
    "\n",
    "def tEven(curr,prox,n):\n",
    "    tPcZero = Equals(curr['pc'],Int(0))\n",
    "    tYLast = Equals(BVAnd(curr['y'],BVOne(n+1)),BVZero(n+1))#ultimo bit = 0\n",
    "    tYGt = BVUGT(curr['y'],BVZero(n+1))#y > 0\n",
    "    tX = Equals(prox['x'], BVLShl(curr['x'],BVOne(n+1)))#2*x\n",
    "    tY = Equals(prox['y'], BVLShr(curr['y'],BVOne(n+1)))#y/2\n",
    "    tZ = Equals(prox['z'],curr['z'])#z\n",
    "    tPc = Equals(prox['pc'],Int(0))\n",
    "    return And(tPcZero,tYLast,tYGt,tX,tY,tZ,tPc)\n",
    "\n",
    "def tOdd(curr,prox,n):\n",
    "    tPcZero = Equals(curr['pc'],Int(0))\n",
    "    tYLast = Equals(BVAnd(curr['y'],BVOne(n+1)),BVOne(n+1))\n",
    "    tX = Equals(prox['x'], curr['x'])\n",
    "    tY = Equals(prox['y'],BVSub(curr['y'],BVOne(n+1)))\n",
    "    tZ = Equals(prox['z'],BVAdd(curr['x'],curr['z'])) \n",
    "    tPc = Equals(prox['pc'],Int(0))   \n",
    "    return And(tPcZero,tYLast,tX,tY,tZ,tPc)\n",
    "\n",
    "def tStop(curr,prox,n):\n",
    "    tPcZero = Equals(curr['pc'],Int(0))\n",
    "    tYZero = Equals(curr['y'],BVZero(n+1))#y=0\n",
    "    tZFirst = Equals(BVAnd(curr['z'],BVFirst(n+1)),BVZero(n+1))#primriro bit de z = 0\n",
    "    tX = Equals(prox['x'],curr['x'])\n",
    "    tY = Equals(prox['y'],curr['y'])\n",
    "    tZ = Equals(prox['z'],curr['z'])\n",
    "    tPc = Equals(prox['pc'],Int(1))\n",
    "    return And(tYZero,tZFirst,tPcZero,tX,tY,tZ,tPc)\n",
    "\n",
    "def tEnd(curr,prox):\n",
    "    tPcOne = Equals(curr['pc'],Int(1))\n",
    "    tX = Equals(prox['x'],curr['x'])\n",
    "    tY = Equals(prox['y'],curr['y'])\n",
    "    tZ = Equals(prox['z'],curr['z'])\n",
    "    tPc = Equals(prox['pc'],Int(1))\n",
    "    return And(tPcOne,tX,tY,tZ,tPc)\n",
    "\n",
    "def tError(curr,prox,n):\n",
    "    tPcZero = Equals(curr['pc'],Int(0))\n",
    "    tYFirst = Equals(BVAnd(curr['y'],BVFirst(n+1)),BVFirst(n+1))\n",
    "    tXFirst = Equals(BVAnd(curr['x'],BVFirst(n+1)),BVFirst(n+1))\n",
    "    tZFirst = Equals(BVAnd(curr['z'],BVFirst(n+1)),BVFirst(n+1))\n",
    "    tX = Equals(prox['x'], curr['x'])\n",
    "    tY = Equals(prox['y'],curr['y'])\n",
    "    tZ = Equals(prox['z'],curr['z'])\n",
    "    tPc = Equals(prox['pc'],Int(2))\n",
    "    return And(tPcZero,Or(tYFirst,tXFirst,tZFirst),tX,tY,tZ,tPc)\n",
    "\n",
    "def tEndError(curr,prox):\n",
    "    tPcTwo = Equals(curr['pc'],Int(2))\n",
    "    tX = Equals(prox['x'], curr['x'])\n",
    "    tY = Equals(prox['y'],curr['y'])\n",
    "    tZ = Equals(prox['z'],curr['z'])\n",
    "    tPc = Equals(prox['pc'],Int(2))\n",
    "    return And(tPcTwo,tX,tY,tZ,tPc)\n",
    "\n",
    "def trans(curr,prox,n):\n",
    "    tToStop = tStop(curr,prox,n)\n",
    "    tToEven   = tEven(curr,prox,n)\n",
    "    tToError  = tError(curr,prox,n)\n",
    "    tToEndError = tEndError(curr,prox)\n",
    "    tToOdd    = tOdd(curr,prox,n)\n",
    "    tToEnd    = tEnd(curr,prox)\n",
    "    return Or(tToStop,tToEven,tToError,tToEndError,tToOdd,tToEnd)\n",
    "\n"
   ]
  },
  {
   "cell_type": "markdown",
   "id": "8bd6b569-d931-456b-a4cd-4465682f84ac",
   "metadata": {},
   "source": [
    "Função que usa $\\textit{SMT solver}$ para gerar um possível traço de execução do programa, imprimindo, para cada estado, as variáveis x,y,z e o program counter e função que auxiliar na conversão das variáveis para inteiro."
   ]
  },
  {
   "cell_type": "code",
   "execution_count": 5,
   "id": "7f7f0faf-40a2-4ab0-9e18-1898a28f8a0f",
   "metadata": {},
   "outputs": [],
   "source": [
    "def toInt(s):\n",
    "    return sum([int(x)*2**(len(s)-i-1) for i,x in (enumerate(s))])"
   ]
  },
  {
   "cell_type": "code",
   "execution_count": 6,
   "id": "b6ce854e-29fb-491f-879d-752abfca6252",
   "metadata": {},
   "outputs": [],
   "source": [
    "def resolve(a,b,n,k):\n",
    "    with Solver(name=\"msat\") as s:\n",
    "            # cria k copias do estado\n",
    "            trace = [declare(i,n) for i in range(k)]\n",
    "            #print(trace)\n",
    "            # criar o traço\n",
    "            s.add_assertion(init(trace[0],a,b,n))\n",
    "            #print(init(trace[0]))\n",
    "            for i in range(k-1):\n",
    "                s.add_assertion(trans(trace[i], trace[i+1],n))\n",
    "\n",
    "            if s.solve():\n",
    "                for i in range(k):\n",
    "                    print(i)\n",
    "                    print(\"pc=\", pc := s.get_value(trace[i]['pc']).constant_value())\n",
    "                    print(\"x=\", toInt(s.get_value(trace[i]['x']).bv_str()))\n",
    "                    print(\"y=\", toInt(s.get_value(trace[i]['y']).bv_str()))\n",
    "                    print(\"z=\", toInt(s.get_value(trace[i]['z']).bv_str()))\n",
    "                    print()\n",
    "                    if pc in (1,2):\n",
    "                        break\n",
    "            else:\n",
    "                print('no')"
   ]
  },
  {
   "cell_type": "markdown",
   "id": "e8a215ff-03fb-4dc0-85fb-bade72558d78",
   "metadata": {},
   "source": [
    "O invariante $P≡(x∗y+z=a∗b)$ como função **invariant(state,a,b)** e a função de ordem superior **bmc_always(declare,init,trans,inv,K,a,b,n)** que testa se o invariante é verificado para traços de tamanho maximo $k$."
   ]
  },
  {
   "cell_type": "code",
   "execution_count": 7,
   "id": "c9179d6c-3fa0-4813-9f03-4fb8f7e6e444",
   "metadata": {},
   "outputs": [],
   "source": [
    "def invariant(state,a,b):\n",
    "    return Equals(BVAdd(BVMul(state['x'], state['y']), state['z']), BVMul(BV(a, n+1), BV(b, n+1)))\n",
    "\n",
    "\n",
    "def bmc_always(declare,init,trans,inv,K,n,a,b):\n",
    "    for k in range(1,K+1):\n",
    "        with Solver(name=\"z3\") as s:\n",
    "\n",
    "            trace = [declare(i,n) for i in range(k)]\n",
    "    \n",
    "            s.add_assertion(init(trace[0],a,b,n))\n",
    "            for i in range(k-1):\n",
    "                s.add_assertion(trans(trace[i], trace[i+1],n))\n",
    "            \n",
    "            s.add_assertion(Not(inv(trace[k-1],a,b)))\n",
    "            if s.solve():\n",
    "                for i in range(k):\n",
    "                    for v in trace[0]:\n",
    "                        print(v,'=',s.get_value(trace[0][v]))\n",
    "                return\n",
    "            \n",
    "    print(\"A propriedade é válida para traços de tamanho até \" + str(k))\n"
   ]
  },
  {
   "cell_type": "markdown",
   "id": "6e33e41d-1729-4992-a3a6-e792730441fe",
   "metadata": {},
   "source": [
    "### Exemplos e Testes de Aplicação"
   ]
  },
  {
   "cell_type": "markdown",
   "id": "0cbecd15-6467-4016-8d11-b84c0f1ee764",
   "metadata": {},
   "source": [
    "#### Exemplo 1"
   ]
  },
  {
   "cell_type": "code",
   "execution_count": 8,
   "id": "840d8c4d-3f79-4c64-8905-6a8caeb5f71f",
   "metadata": {},
   "outputs": [
    {
     "name": "stdout",
     "output_type": "stream",
     "text": [
      "x =  0000100\n",
      "y =  0000011\n"
     ]
    }
   ],
   "source": [
    "n = 7\n",
    "a = 4\n",
    "b = 3\n",
    "k = n+1\n",
    "\n",
    "print('x = ', BV(a,n).bv_str())\n",
    "print('y = ', BV(b,n).bv_str())"
   ]
  },
  {
   "cell_type": "markdown",
   "id": "34f967ce-6fb9-4e6e-bb48-2080b5730a6d",
   "metadata": {},
   "source": [
    "#### Resolução do Exemplo 1"
   ]
  },
  {
   "cell_type": "markdown",
   "id": "e6b698ee",
   "metadata": {},
   "source": [
    "Este exemplo é apenas uma mostra de uma multiplicação básica."
   ]
  },
  {
   "cell_type": "code",
   "execution_count": 9,
   "id": "4c3a78af-e2ac-45bd-be53-b4b5be67485e",
   "metadata": {},
   "outputs": [
    {
     "name": "stdout",
     "output_type": "stream",
     "text": [
      "0\n",
      "pc= 0\n",
      "x= 4\n",
      "y= 3\n",
      "z= 0\n",
      "\n",
      "1\n",
      "pc= 0\n",
      "x= 4\n",
      "y= 2\n",
      "z= 4\n",
      "\n",
      "2\n",
      "pc= 0\n",
      "x= 8\n",
      "y= 1\n",
      "z= 4\n",
      "\n",
      "3\n",
      "pc= 0\n",
      "x= 8\n",
      "y= 0\n",
      "z= 12\n",
      "\n",
      "4\n",
      "pc= 1\n",
      "x= 8\n",
      "y= 0\n",
      "z= 12\n",
      "\n"
     ]
    }
   ],
   "source": [
    "resolve(a,b,n,k)"
   ]
  },
  {
   "cell_type": "code",
   "execution_count": 10,
   "id": "3fae11ea-5e47-4efa-8d9f-b60127c62796",
   "metadata": {},
   "outputs": [
    {
     "name": "stdout",
     "output_type": "stream",
     "text": [
      "A propriedade é válida para traços de tamanho até 8\n"
     ]
    }
   ],
   "source": [
    "bmc_always(declare,init,trans,invariant,k,n,a,b)"
   ]
  },
  {
   "cell_type": "markdown",
   "id": "ac8e868c-5178-49ee-ae4d-b96ecbd99cf6",
   "metadata": {},
   "source": [
    "#### Exemplo 2"
   ]
  },
  {
   "cell_type": "markdown",
   "id": "a0e3d7be",
   "metadata": {},
   "source": [
    "Neste exemplo procuramos apresentar um dos piores casos em termos de transições de estado."
   ]
  },
  {
   "cell_type": "code",
   "execution_count": 8,
   "id": "c4ce2978-7833-4f26-95de-09456338b1e4",
   "metadata": {},
   "outputs": [
    {
     "name": "stdout",
     "output_type": "stream",
     "text": [
      "x =  000111\n",
      "y =  000111\n"
     ]
    }
   ],
   "source": [
    "n = 6\n",
    "a = 7\n",
    "b = 7\n",
    "k = n+1\n",
    "k_inv = 1\n",
    "\n",
    "print('x = ', BV(a,n).bv_str())\n",
    "print('y = ', BV(b,n).bv_str())"
   ]
  },
  {
   "cell_type": "markdown",
   "id": "61b6571e-b0da-4b33-89b1-dfdba5eb6635",
   "metadata": {},
   "source": [
    "#### Resolução do Exemplo 2"
   ]
  },
  {
   "cell_type": "code",
   "execution_count": 9,
   "id": "9a74feaf-8eb5-49cb-a878-2eb2122a9983",
   "metadata": {},
   "outputs": [
    {
     "name": "stdout",
     "output_type": "stream",
     "text": [
      "0\n",
      "pc= 0\n",
      "x= 7\n",
      "y= 7\n",
      "z= 0\n",
      "\n",
      "1\n",
      "pc= 0\n",
      "x= 7\n",
      "y= 6\n",
      "z= 7\n",
      "\n",
      "2\n",
      "pc= 0\n",
      "x= 14\n",
      "y= 3\n",
      "z= 7\n",
      "\n",
      "3\n",
      "pc= 0\n",
      "x= 14\n",
      "y= 2\n",
      "z= 21\n",
      "\n",
      "4\n",
      "pc= 0\n",
      "x= 28\n",
      "y= 1\n",
      "z= 21\n",
      "\n",
      "5\n",
      "pc= 0\n",
      "x= 28\n",
      "y= 0\n",
      "z= 49\n",
      "\n",
      "6\n",
      "pc= 1\n",
      "x= 28\n",
      "y= 0\n",
      "z= 49\n",
      "\n"
     ]
    }
   ],
   "source": [
    "resolve(a,b,n,k)"
   ]
  },
  {
   "cell_type": "code",
   "execution_count": 10,
   "id": "56040dae-e783-4b3f-a9a3-e0cea510774d",
   "metadata": {},
   "outputs": [
    {
     "name": "stdout",
     "output_type": "stream",
     "text": [
      "A propriedade é válida para traços de tamanho até 7\n"
     ]
    }
   ],
   "source": [
    "bmc_always(declare,init,trans,invariant,k,n,a,b)"
   ]
  },
  {
   "cell_type": "markdown",
   "id": "4745fd36-c573-44e3-9fa7-211a86b0f4e7",
   "metadata": {},
   "source": [
    "#### Exemplo 3"
   ]
  },
  {
   "cell_type": "markdown",
   "id": "3152aa50",
   "metadata": {},
   "source": [
    "Neste exemplo procuramos mostrar a optimização feita de modo a que sejam efetuadas o menor número de transições possiveis."
   ]
  },
  {
   "cell_type": "code",
   "execution_count": 8,
   "id": "c6369420-23ff-4927-832a-79341c24cd32",
   "metadata": {},
   "outputs": [
    {
     "name": "stdout",
     "output_type": "stream",
     "text": [
      "x =  000000000000001\n",
      "y =  111111111111111\n"
     ]
    }
   ],
   "source": [
    "n = 15\n",
    "a = 1\n",
    "b = 32767\n",
    "k = n+1\n",
    "\n",
    "print('x = ', BV(a,n).bv_str())\n",
    "print('y = ', BV(b,n).bv_str())"
   ]
  },
  {
   "cell_type": "markdown",
   "id": "ded0b093",
   "metadata": {},
   "source": [
    "#### Resolução do exemplo 3"
   ]
  },
  {
   "cell_type": "code",
   "execution_count": 9,
   "id": "570ec9a5",
   "metadata": {},
   "outputs": [
    {
     "name": "stdout",
     "output_type": "stream",
     "text": [
      "0\n",
      "pc= 0\n",
      "x= 32767\n",
      "y= 1\n",
      "z= 0\n",
      "\n",
      "1\n",
      "pc= 0\n",
      "x= 32767\n",
      "y= 0\n",
      "z= 32767\n",
      "\n",
      "2\n",
      "pc= 1\n",
      "x= 32767\n",
      "y= 0\n",
      "z= 32767\n",
      "\n"
     ]
    }
   ],
   "source": [
    "resolve(a,b,n,k)"
   ]
  },
  {
   "cell_type": "code",
   "execution_count": 10,
   "id": "07d83a03",
   "metadata": {},
   "outputs": [
    {
     "name": "stdout",
     "output_type": "stream",
     "text": [
      "A propriedade é válida para traços de tamanho até 16\n"
     ]
    }
   ],
   "source": [
    "bmc_always(declare,init,trans,invariant,k,n,a,b)"
   ]
  },
  {
   "cell_type": "markdown",
   "id": "b447de0b-abc7-464b-aa6f-c7ab34662899",
   "metadata": {},
   "source": [
    "#### Exemplo 4"
   ]
  },
  {
   "cell_type": "markdown",
   "id": "fecfe34f",
   "metadata": {},
   "source": [
    "Neste exemplo procuramos mostrar um caso de $overflow$."
   ]
  },
  {
   "cell_type": "code",
   "execution_count": 7,
   "id": "17feb2fe-926b-4e87-8739-bd2fc6ba2772",
   "metadata": {},
   "outputs": [
    {
     "name": "stdout",
     "output_type": "stream",
     "text": [
      "x =  00000000000000001111111111111111\n",
      "y =  00000000000000011111111111111101\n"
     ]
    }
   ],
   "source": [
    "n = 32\n",
    "a = 65535\n",
    "b = 131069\n",
    "k = n+1\n",
    "\n",
    "print('x = ', BV(a,n).bv_str())\n",
    "print('y = ', BV(b,n).bv_str())"
   ]
  },
  {
   "cell_type": "markdown",
   "id": "a80d93cc",
   "metadata": {},
   "source": [
    "#### Resolução do exemplo 4"
   ]
  },
  {
   "cell_type": "code",
   "execution_count": 8,
   "id": "3e17b2b0",
   "metadata": {},
   "outputs": [
    {
     "name": "stdout",
     "output_type": "stream",
     "text": [
      "0\n",
      "pc= 0\n",
      "x= 131069\n",
      "y= 65535\n",
      "z= 0\n",
      "\n",
      "1\n",
      "pc= 0\n",
      "x= 131069\n",
      "y= 65534\n",
      "z= 131069\n",
      "\n",
      "2\n",
      "pc= 0\n",
      "x= 262138\n",
      "y= 32767\n",
      "z= 131069\n",
      "\n",
      "3\n",
      "pc= 0\n",
      "x= 262138\n",
      "y= 32766\n",
      "z= 393207\n",
      "\n",
      "4\n",
      "pc= 0\n",
      "x= 524276\n",
      "y= 16383\n",
      "z= 393207\n",
      "\n",
      "5\n",
      "pc= 0\n",
      "x= 524276\n",
      "y= 16382\n",
      "z= 917483\n",
      "\n",
      "6\n",
      "pc= 0\n",
      "x= 1048552\n",
      "y= 8191\n",
      "z= 917483\n",
      "\n",
      "7\n",
      "pc= 0\n",
      "x= 1048552\n",
      "y= 8190\n",
      "z= 1966035\n",
      "\n",
      "8\n",
      "pc= 0\n",
      "x= 2097104\n",
      "y= 4095\n",
      "z= 1966035\n",
      "\n",
      "9\n",
      "pc= 0\n",
      "x= 2097104\n",
      "y= 4094\n",
      "z= 4063139\n",
      "\n",
      "10\n",
      "pc= 0\n",
      "x= 4194208\n",
      "y= 2047\n",
      "z= 4063139\n",
      "\n",
      "11\n",
      "pc= 0\n",
      "x= 4194208\n",
      "y= 2046\n",
      "z= 8257347\n",
      "\n",
      "12\n",
      "pc= 0\n",
      "x= 8388416\n",
      "y= 1023\n",
      "z= 8257347\n",
      "\n",
      "13\n",
      "pc= 0\n",
      "x= 8388416\n",
      "y= 1022\n",
      "z= 16645763\n",
      "\n",
      "14\n",
      "pc= 0\n",
      "x= 16776832\n",
      "y= 511\n",
      "z= 16645763\n",
      "\n",
      "15\n",
      "pc= 0\n",
      "x= 16776832\n",
      "y= 510\n",
      "z= 33422595\n",
      "\n",
      "16\n",
      "pc= 0\n",
      "x= 33553664\n",
      "y= 255\n",
      "z= 33422595\n",
      "\n",
      "17\n",
      "pc= 0\n",
      "x= 33553664\n",
      "y= 254\n",
      "z= 66976259\n",
      "\n",
      "18\n",
      "pc= 0\n",
      "x= 67107328\n",
      "y= 127\n",
      "z= 66976259\n",
      "\n",
      "19\n",
      "pc= 0\n",
      "x= 67107328\n",
      "y= 126\n",
      "z= 134083587\n",
      "\n",
      "20\n",
      "pc= 0\n",
      "x= 134214656\n",
      "y= 63\n",
      "z= 134083587\n",
      "\n",
      "21\n",
      "pc= 0\n",
      "x= 134214656\n",
      "y= 62\n",
      "z= 268298243\n",
      "\n",
      "22\n",
      "pc= 0\n",
      "x= 268429312\n",
      "y= 31\n",
      "z= 268298243\n",
      "\n",
      "23\n",
      "pc= 0\n",
      "x= 268429312\n",
      "y= 30\n",
      "z= 536727555\n",
      "\n",
      "24\n",
      "pc= 0\n",
      "x= 536858624\n",
      "y= 15\n",
      "z= 536727555\n",
      "\n",
      "25\n",
      "pc= 0\n",
      "x= 536858624\n",
      "y= 14\n",
      "z= 1073586179\n",
      "\n",
      "26\n",
      "pc= 0\n",
      "x= 1073717248\n",
      "y= 7\n",
      "z= 1073586179\n",
      "\n",
      "27\n",
      "pc= 0\n",
      "x= 1073717248\n",
      "y= 6\n",
      "z= 2147303427\n",
      "\n",
      "28\n",
      "pc= 0\n",
      "x= 2147434496\n",
      "y= 3\n",
      "z= 2147303427\n",
      "\n",
      "29\n",
      "pc= 0\n",
      "x= 2147434496\n",
      "y= 2\n",
      "z= 4294737923\n",
      "\n",
      "30\n",
      "pc= 0\n",
      "x= 4294868992\n",
      "y= 1\n",
      "z= 4294737923\n",
      "\n",
      "31\n",
      "pc= 0\n",
      "x= 4294868992\n",
      "y= 0\n",
      "z= 8589606915\n",
      "\n",
      "32\n",
      "pc= 2\n",
      "x= 4294868992\n",
      "y= 0\n",
      "z= 8589606915\n",
      "\n"
     ]
    }
   ],
   "source": [
    "resolve(a,b,n,k)"
   ]
  },
  {
   "cell_type": "code",
   "execution_count": 11,
   "id": "5c4bef9c",
   "metadata": {},
   "outputs": [
    {
     "name": "stdout",
     "output_type": "stream",
     "text": [
      "A propriedade é válida para traços de tamanho até 33\n"
     ]
    }
   ],
   "source": [
    "bmc_always(declare,init,trans,invariant,k,n,a,b)"
   ]
  },
  {
   "cell_type": "markdown",
   "id": "02a27235-bd0d-4071-89b3-fd4aaee5eac0",
   "metadata": {},
   "source": [
    "#### Exemplo 5"
   ]
  },
  {
   "cell_type": "markdown",
   "id": "37ef6b7e",
   "metadata": {},
   "source": [
    "Este exemplo serve para ser possivel efetuar testes repetidos com variaveis aleatórias."
   ]
  },
  {
   "cell_type": "code",
   "execution_count": 19,
   "id": "79844c3f-82ae-40d3-b240-7b698b430d83",
   "metadata": {},
   "outputs": [
    {
     "name": "stdout",
     "output_type": "stream",
     "text": [
      "x =  10011100101110110100100011100000\n",
      "y =  01101011111101100010110011100010\n"
     ]
    }
   ],
   "source": [
    "n = 32\n",
    "a = rn.randrange(1, 2**(n))\n",
    "b = rn.randrange(1, 2**(n))\n",
    "k = n+1\n",
    "\n",
    "print('x = ', BV(a,n).bv_str())\n",
    "print('y = ', BV(b,n).bv_str())"
   ]
  },
  {
   "cell_type": "markdown",
   "id": "2acdb983",
   "metadata": {},
   "source": [
    "#### Resolução do exemplo 5"
   ]
  },
  {
   "cell_type": "code",
   "execution_count": 20,
   "id": "28324c31",
   "metadata": {},
   "outputs": [
    {
     "name": "stdout",
     "output_type": "stream",
     "text": [
      "0\n",
      "pc= 0\n",
      "x= 2629519584\n",
      "y= 1811295458\n",
      "z= 0\n",
      "\n",
      "1\n",
      "pc= 0\n",
      "x= 5259039168\n",
      "y= 905647729\n",
      "z= 0\n",
      "\n",
      "2\n",
      "pc= 0\n",
      "x= 5259039168\n",
      "y= 905647728\n",
      "z= 5259039168\n",
      "\n",
      "3\n",
      "pc= 0\n",
      "x= 1928143744\n",
      "y= 452823864\n",
      "z= 5259039168\n",
      "\n",
      "4\n",
      "pc= 0\n",
      "x= 3856287488\n",
      "y= 226411932\n",
      "z= 5259039168\n",
      "\n",
      "5\n",
      "pc= 0\n",
      "x= 7712574976\n",
      "y= 113205966\n",
      "z= 5259039168\n",
      "\n",
      "6\n",
      "pc= 0\n",
      "x= 6835215360\n",
      "y= 56602983\n",
      "z= 5259039168\n",
      "\n",
      "7\n",
      "pc= 2\n",
      "x= 6835215360\n",
      "y= 56602983\n",
      "z= 5259039168\n",
      "\n"
     ]
    }
   ],
   "source": [
    "resolve(a,b,n,k)"
   ]
  },
  {
   "cell_type": "code",
   "execution_count": 21,
   "id": "b16ec529",
   "metadata": {},
   "outputs": [
    {
     "name": "stdout",
     "output_type": "stream",
     "text": [
      "A propriedade é válida para traços de tamanho até 33\n"
     ]
    }
   ],
   "source": [
    "bmc_always(declare,init,trans,invariant,k,n,a,b)"
   ]
  }
 ],
 "metadata": {
  "kernelspec": {
   "display_name": "Python 3 (ipykernel)",
   "language": "python",
   "name": "python3"
  },
  "language_info": {
   "codemirror_mode": {
    "name": "ipython",
    "version": 3
   },
   "file_extension": ".py",
   "mimetype": "text/x-python",
   "name": "python",
   "nbconvert_exporter": "python",
   "pygments_lexer": "ipython3",
   "version": "3.9.13"
  },
  "vscode": {
   "interpreter": {
    "hash": "e6e0711b34581e9d3d394d0e05c7a638721b909a5489b142ff17259bed82d5d5"
   }
  }
 },
 "nbformat": 4,
 "nbformat_minor": 5
}

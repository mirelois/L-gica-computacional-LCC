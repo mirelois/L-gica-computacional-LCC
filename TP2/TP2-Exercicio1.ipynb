{
 "cells": [
  {
   "cell_type": "markdown",
   "id": "fe9f5e77-3896-4e2f-8436-455e9084499e",
   "metadata": {},
   "source": [
    "# TP2\n",
    "## Grupo 15\n",
    "\n",
    "Carlos Eduardo Da Silva Machado A96936\n",
    "\n",
    "Gonçalo Manuel Maia de Sousa A97485"
   ]
  },
  {
   "cell_type": "markdown",
   "id": "23aaf1cd-86ca-4829-9cf6-e2f10c30b7bc",
   "metadata": {},
   "source": [
    "## Problema 1"
   ]
  },
  {
   "cell_type": "markdown",
   "id": "c22f3a3d-37ad-440c-acbf-9849857f108d",
   "metadata": {},
   "source": [
    "### Descrição do Problema"
   ]
  },
  {
   "cell_type": "markdown",
   "id": "79dbb8c4-23d0-4c5c-970e-1713eff7ff5d",
   "metadata": {},
   "source": [
    "É nos dado um Control Flow Automaton (CFA) que descreve um programa imperativo cujo objetivo é implementar a multiplicação de dois inteiros a,b, fornecidos como \"input\" e um n, também fornecido como \"input\", de precisão limitada.\n",
    "Para alem disso, temos de ter em conta os seguintes aspetos:\n",
    "- Existe a possibilidade de alguma das operações do programa produzir um erro de “overflow”;\n",
    "- Os nós do grafo representam ações  que actuam sobre os “inputs” do nó e produzem um “output” com as operações indicadas;\n",
    "- Os ramos do grafo representam ligações que transferem o “output” de um nodo para o “input” do nodo seguinte. Esta transferência é condicionada pela satisfação da condição associada ao ramo."
   ]
  },
  {
   "cell_type": "markdown",
   "id": "6680cc2f-e9cf-4c2d-b839-a38e675edf2f",
   "metadata": {},
   "source": [
    "### Abordagem do Problema"
   ]
  },
  {
   "cell_type": "markdown",
   "id": "22d4b6d5-d90f-45e6-9ce9-6bd0ada2fc06",
   "metadata": {},
   "source": [
    "Para resolver este problema, vamos construir um First Order Transition System (FOTS) usando um BitVector de tamanho n de forma a descrever o comportamento do autómato acima mencionado.\n",
    "\n",
    "( Talvez seja fixe mencionar a escolha do solver aqui futuramente)\n",
    "\n",
    "Para além do FOTS, também vamos verificar se $P≡(x∗y+z=a∗b)$ é um invariante do comportamento que estamos a estudar.\n"
   ]
  },
  {
   "cell_type": "markdown",
   "id": "be8c49f4-36bb-43eb-bea7-93ccf88eb367",
   "metadata": {},
   "source": [
    "## Código Python"
   ]
  },
  {
   "cell_type": "markdown",
   "id": "375319eb-86b6-484d-9a9b-c35e4ae73df0",
   "metadata": {},
   "source": [
    "variaveis -> x,y,z e o program counter (nº de linhas de código)\n",
    "\n",
    "x,y,z = a,b,0\n",
    "\n",
    "ideia 1:\n",
    "0: while(y!=0):\n",
    "\n",
    "1: \tif even(y) then x,y,z = 2*x,y/2,z\n",
    "\n",
    "2:\tif odd(y)  then x,y,z = x,y-1,z+x\n",
    "\n",
    "3: stop\n",
    "\n",
    "ideia 2:\n",
    "\n",
    "0: while(y!=0):\n",
    "\n",
    " \tif even(y) then x,y,z = 2*x,y/2,z\n",
    "\n",
    "\tif odd(y)  then x,y,z = x,y-1,z+x\n",
    "\n",
    "1: stop\n",
    "\n",
    "\n",
    "outras ideias que podem ser importantes: na aula T do dia 4 vimos que o stor evita usar o diferente por causa de ter problemas com indicibilidade, devemos também fazer o mesmo, vou cometer o erro aqui em baixo de usar not equals mas talvez temos de trocar depois.não esquecer"
   ]
  },
  {
   "cell_type": "code",
   "execution_count": 1,
   "id": "4378d36e-2646-4181-90ee-081f3aeb426b",
   "metadata": {},
   "outputs": [],
   "source": [
    "from pysmt.shortcuts import *\n",
    "from pysmt.typing import INT\n",
    "import random as rn\n",
    "\n",
    "# vou declarar aqui um exemplo depois passamos para exemplos separados\n",
    "n = 2 # [0,0] [0,1] [1,0] [1,1]\n",
    "a = 2\n",
    "b = 2"
   ]
  },
  {
   "cell_type": "markdown",
   "id": "1316cba1-e814-479a-9816-900353135372",
   "metadata": {},
   "source": [
    " $$\\mathsf{trans}(x,y,z,pc,x',y',z',pc')\\;\\equiv\\;$$\n",
    " $$\\left\\{\\begin{array}{lr} (y=0)\\land (pc=0) \\land (x'=x)\\land (y'=y) \\land (c'=c) \\land (pc'=3) & \\lor \\\\ (a > b)\\land(c=0)\\land (a'+b=a) \\land (b'=b)\\land (c'=0) & \\lor \\\\ (a < b)\\land (c=0) \\land (b'+a = b)\\land (a'=a)\\land (c'=0) & \\lor \\\\ (c=1)\\land(c'=1)\\land (a'=a)\\land (b'=b) & \\end{array}\\right.$$\n"
   ]
  },
  {
   "cell_type": "code",
   "execution_count": 15,
   "id": "af48e4b3-a209-4b96-bca4-13ce75c4aa2c",
   "metadata": {},
   "outputs": [],
   "source": [
    "# Ideias à toa, não faz muito sentido o que está escrito aqui a baixo\n",
    "\n",
    "def geraBV(valor,n):       \n",
    "    return BV(valor,n)\n",
    "\n",
    "def bv_sel(z,i):\n",
    "    return BVZExt(BVExtract(z,start=i,end=i),n-1)\n",
    "\n",
    "def bv_hamm(z,y=None):       \n",
    "    if y != None:\n",
    "        return bv_hamm(BVXor(z,y))\n",
    "    return sum([bv_sel(z,i) for i in range(n)])\n",
    "\n",
    "def declare(i):\n",
    "    state = {}\n",
    "    state['pc'] = Symbol('pc'+str(i),INT)\n",
    "    state['x'] = Symbol('x'+str(i),types.BVType(n))\n",
    "    state['y'] = Symbol('y'+str(i),types.BVType(n))\n",
    "    state['z'] = Symbol('z'+str(i),types.BVType(n))\n",
    "    return state\n",
    "\n",
    "def init(state):\n",
    "    tPc = Equals(state['pc'],Int(0)) # Program counter a zero\n",
    "    tZ = Equals(bv_hamm(state['z'],BVZero(n)),BVZero(n)) # Z a zero\n",
    "    tX = Equals(bv_hamm(state['x'], BV(a,n)),BVZero(n)) # x inicilizado com valor de a\n",
    "    tY = Equals(bv_hamm(state['y'], BV(b,n)),BVZero(n)) # y inicilizado com valor de b\n",
    "    return And(tPc,tX,tY,tZ)\n",
    "\n",
    "def tStop(curr,prox):\n",
    "    tYEqZero = Equals(curr['y'],BVZero(n))\n",
    "    tPcEqZero = Equals(curr['pc'],Int(0))\n",
    "    tX = Equals(prox['x'],curr['x'])\n",
    "    tY = Equals(prox['y'],curr['y'])\n",
    "    tZ = Equals(prox['z'],curr['z'])\n",
    "    tPc = Equals(prox['pc'],Int(1))\n",
    "    return And(tYEqZero,tPcEqZero,tX,tY,tZ,tPc)\n",
    "\n",
    "def trans(curr,prox):\n",
    "    tToStop = tStop(curr,prox)\n",
    "    tEven   = And(Equals(curr['pc'],Int(0)),Equals(BVExtract(curr['y'],n-1),Int(0)), Equals(BVExtract(curr['y'],0,0),Int(0)), Equals(prox['pc'],Int(0)), Equals(prox['z'],curr['z']), Equals(prox['x'], BVLShl(curr['x'],geraBV(2,n))), Equals(prox['y'], BVLShr(curr['y'],geraBV(2,n))))\n",
    "    tError  = And(Equals(curr['pc'],Int(0)),Equals(BVExtract(curr['y'],n-1),Int(0)), Equals(BVExtract(curr['y'],0,0),Int(1)), Equals(prox['pc'],Int(2)), Equals(prox['z'],curr['z']), Equals(prox['x'], curr['x']), Equals(prox['y'],curr['y']))\n",
    "    tOdd    = And(Equals(curr['pc'],Int(0)),Equals(BVExtract(curr['y'],n-1),Int(1)), Equals(prox['pc'],Int(0)), Equals(prox['z'],BVAdd(curr['z'],curr['x'])), Equals(prox['x'], curr['x']), Equals(prox['y'],BVAdd(curr['y'],geraBV(1,n))))\n",
    "    tEnd    = And(Equals(curr['pc'],Int(1)), Equals(prox['x'],curr['x']),Equals(prox['y'],curr['y']),Equals(prox['z'],curr['z']),Equals(prox['pc'],Int(1)))\n",
    "    return Or(tToStop,tEven,tOdd,tEnd)\n",
    "\n"
   ]
  },
  {
   "cell_type": "code",
   "execution_count": 16,
   "id": "b6ce854e-29fb-491f-879d-752abfca6252",
   "metadata": {},
   "outputs": [
    {
     "ename": "KeyError",
     "evalue": "'c'",
     "output_type": "error",
     "traceback": [
      "\u001b[1;31m---------------------------------------------------------------------------\u001b[0m",
      "\u001b[1;31mKeyError\u001b[0m                                  Traceback (most recent call last)",
      "Input \u001b[1;32mIn [16]\u001b[0m, in \u001b[0;36m<cell line: 1>\u001b[1;34m()\u001b[0m\n\u001b[0;32m      9\u001b[0m s\u001b[38;5;241m.\u001b[39madd_assertion(init(trace[\u001b[38;5;241m0\u001b[39m]))\n\u001b[0;32m     10\u001b[0m \u001b[38;5;28;01mfor\u001b[39;00m i \u001b[38;5;129;01min\u001b[39;00m \u001b[38;5;28mrange\u001b[39m(\u001b[38;5;241m2\u001b[39m):\n\u001b[1;32m---> 11\u001b[0m     s\u001b[38;5;241m.\u001b[39madd_assertion(\u001b[43mtrans\u001b[49m\u001b[43m(\u001b[49m\u001b[43mtrace\u001b[49m\u001b[43m[\u001b[49m\u001b[43mi\u001b[49m\u001b[43m]\u001b[49m\u001b[43m,\u001b[49m\u001b[43m \u001b[49m\u001b[43mtrace\u001b[49m\u001b[43m[\u001b[49m\u001b[43mi\u001b[49m\u001b[38;5;241;43m+\u001b[39;49m\u001b[38;5;241;43m1\u001b[39;49m\u001b[43m]\u001b[49m\u001b[43m)\u001b[49m)\n\u001b[0;32m     13\u001b[0m \u001b[38;5;28;01mif\u001b[39;00m s\u001b[38;5;241m.\u001b[39msolve():\n\u001b[0;32m     14\u001b[0m     \u001b[38;5;28;01mfor\u001b[39;00m i \u001b[38;5;129;01min\u001b[39;00m \u001b[38;5;28mrange\u001b[39m(\u001b[38;5;241m3\u001b[39m):\n",
      "Input \u001b[1;32mIn [15]\u001b[0m, in \u001b[0;36mtrans\u001b[1;34m(curr, prox)\u001b[0m\n\u001b[0;32m     38\u001b[0m \u001b[38;5;28;01mdef\u001b[39;00m \u001b[38;5;21mtrans\u001b[39m(curr,prox):\n\u001b[1;32m---> 39\u001b[0m     tToStop \u001b[38;5;241m=\u001b[39m \u001b[43mtStop\u001b[49m\u001b[43m(\u001b[49m\u001b[43mcurr\u001b[49m\u001b[43m,\u001b[49m\u001b[43mprox\u001b[49m\u001b[43m)\u001b[49m\n\u001b[0;32m     40\u001b[0m     tEven   \u001b[38;5;241m=\u001b[39m And(Equals(curr[\u001b[38;5;124m'\u001b[39m\u001b[38;5;124mpc\u001b[39m\u001b[38;5;124m'\u001b[39m],Int(\u001b[38;5;241m0\u001b[39m)),Equals(BVExtract(curr[\u001b[38;5;124m'\u001b[39m\u001b[38;5;124my\u001b[39m\u001b[38;5;124m'\u001b[39m],n\u001b[38;5;241m-\u001b[39m\u001b[38;5;241m1\u001b[39m),Int(\u001b[38;5;241m0\u001b[39m)), Equals(BVExtract(curr[\u001b[38;5;124m'\u001b[39m\u001b[38;5;124my\u001b[39m\u001b[38;5;124m'\u001b[39m],\u001b[38;5;241m0\u001b[39m,\u001b[38;5;241m0\u001b[39m),Int(\u001b[38;5;241m0\u001b[39m)), Equals(prox[\u001b[38;5;124m'\u001b[39m\u001b[38;5;124mpc\u001b[39m\u001b[38;5;124m'\u001b[39m],Int(\u001b[38;5;241m0\u001b[39m)), Equals(prox[\u001b[38;5;124m'\u001b[39m\u001b[38;5;124mz\u001b[39m\u001b[38;5;124m'\u001b[39m],curr[\u001b[38;5;124m'\u001b[39m\u001b[38;5;124mz\u001b[39m\u001b[38;5;124m'\u001b[39m]), Equals(prox[\u001b[38;5;124m'\u001b[39m\u001b[38;5;124mx\u001b[39m\u001b[38;5;124m'\u001b[39m], BVLShl(curr[\u001b[38;5;124m'\u001b[39m\u001b[38;5;124mx\u001b[39m\u001b[38;5;124m'\u001b[39m],geraBV(\u001b[38;5;241m2\u001b[39m,n))), Equals(prox[\u001b[38;5;124m'\u001b[39m\u001b[38;5;124my\u001b[39m\u001b[38;5;124m'\u001b[39m], BVLShr(curr[\u001b[38;5;124m'\u001b[39m\u001b[38;5;124my\u001b[39m\u001b[38;5;124m'\u001b[39m],geraBV(\u001b[38;5;241m2\u001b[39m,n))))\n\u001b[0;32m     41\u001b[0m     tError  \u001b[38;5;241m=\u001b[39m And(Equals(curr[\u001b[38;5;124m'\u001b[39m\u001b[38;5;124mpc\u001b[39m\u001b[38;5;124m'\u001b[39m],Int(\u001b[38;5;241m0\u001b[39m)),Equals(BVExtract(curr[\u001b[38;5;124m'\u001b[39m\u001b[38;5;124my\u001b[39m\u001b[38;5;124m'\u001b[39m],n\u001b[38;5;241m-\u001b[39m\u001b[38;5;241m1\u001b[39m),Int(\u001b[38;5;241m0\u001b[39m)), Equals(BVExtract(curr[\u001b[38;5;124m'\u001b[39m\u001b[38;5;124my\u001b[39m\u001b[38;5;124m'\u001b[39m],\u001b[38;5;241m0\u001b[39m,\u001b[38;5;241m0\u001b[39m),Int(\u001b[38;5;241m1\u001b[39m)), Equals(prox[\u001b[38;5;124m'\u001b[39m\u001b[38;5;124mpc\u001b[39m\u001b[38;5;124m'\u001b[39m],Int(\u001b[38;5;241m2\u001b[39m)), Equals(prox[\u001b[38;5;124m'\u001b[39m\u001b[38;5;124mz\u001b[39m\u001b[38;5;124m'\u001b[39m],curr[\u001b[38;5;124m'\u001b[39m\u001b[38;5;124mz\u001b[39m\u001b[38;5;124m'\u001b[39m]), Equals(prox[\u001b[38;5;124m'\u001b[39m\u001b[38;5;124mx\u001b[39m\u001b[38;5;124m'\u001b[39m], curr[\u001b[38;5;124m'\u001b[39m\u001b[38;5;124mx\u001b[39m\u001b[38;5;124m'\u001b[39m]), Equals(prox[\u001b[38;5;124m'\u001b[39m\u001b[38;5;124my\u001b[39m\u001b[38;5;124m'\u001b[39m],curr[\u001b[38;5;124m'\u001b[39m\u001b[38;5;124my\u001b[39m\u001b[38;5;124m'\u001b[39m]))\n",
      "Input \u001b[1;32mIn [15]\u001b[0m, in \u001b[0;36mtStop\u001b[1;34m(curr, prox)\u001b[0m\n\u001b[0;32m     32\u001b[0m tX \u001b[38;5;241m=\u001b[39m Equals(prox[\u001b[38;5;124m'\u001b[39m\u001b[38;5;124mx\u001b[39m\u001b[38;5;124m'\u001b[39m],curr[\u001b[38;5;124m'\u001b[39m\u001b[38;5;124mx\u001b[39m\u001b[38;5;124m'\u001b[39m])\n\u001b[0;32m     33\u001b[0m tY \u001b[38;5;241m=\u001b[39m Equals(prox[\u001b[38;5;124m'\u001b[39m\u001b[38;5;124my\u001b[39m\u001b[38;5;124m'\u001b[39m],curr[\u001b[38;5;124m'\u001b[39m\u001b[38;5;124my\u001b[39m\u001b[38;5;124m'\u001b[39m])\n\u001b[1;32m---> 34\u001b[0m tC \u001b[38;5;241m=\u001b[39m Equals(\u001b[43mprox\u001b[49m\u001b[43m[\u001b[49m\u001b[38;5;124;43m'\u001b[39;49m\u001b[38;5;124;43mc\u001b[39;49m\u001b[38;5;124;43m'\u001b[39;49m\u001b[43m]\u001b[49m,curr[\u001b[38;5;124m'\u001b[39m\u001b[38;5;124mc\u001b[39m\u001b[38;5;124m'\u001b[39m])\n\u001b[0;32m     35\u001b[0m tPc \u001b[38;5;241m=\u001b[39m Equals(prox[\u001b[38;5;124m'\u001b[39m\u001b[38;5;124mpc\u001b[39m\u001b[38;5;124m'\u001b[39m],Int(\u001b[38;5;241m1\u001b[39m))\n\u001b[0;32m     36\u001b[0m \u001b[38;5;28;01mreturn\u001b[39;00m And(tYEqZero,tPcEqZero,tX,tY,tC,tPc)\n",
      "\u001b[1;31mKeyError\u001b[0m: 'c'"
     ]
    }
   ],
   "source": [
    "with Solver(name=\"z3\") as s:\n",
    "    \n",
    "        # completar\n",
    "    \n",
    "        # cria k copias do estado\n",
    "        trace = [declare(i) for i in range(3)]\n",
    "        #print(trace)\n",
    "        # criar o traço\n",
    "        s.add_assertion(init(trace[0]))\n",
    "        for i in range(2):\n",
    "            s.add_assertion(trans(trace[i], trace[i+1]))\n",
    "        \n",
    "        if s.solve():\n",
    "            for i in range(3):\n",
    "                print(i)\n"
   ]
  },
  {
   "cell_type": "code",
   "execution_count": null,
   "id": "539fc3c7-aea9-4640-8f70-5dc38113f43e",
   "metadata": {},
   "outputs": [],
   "source": []
  }
 ],
 "metadata": {
  "kernelspec": {
   "display_name": "Python 3 (ipykernel)",
   "language": "python",
   "name": "python3"
  },
  "language_info": {
   "codemirror_mode": {
    "name": "ipython",
    "version": 3
   },
   "file_extension": ".py",
   "mimetype": "text/x-python",
   "name": "python",
   "nbconvert_exporter": "python",
   "pygments_lexer": "ipython3",
   "version": "3.10.6"
  }
 },
 "nbformat": 4,
 "nbformat_minor": 5
}

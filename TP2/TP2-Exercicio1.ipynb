{
 "cells": [
  {
   "cell_type": "markdown",
   "id": "fe9f5e77-3896-4e2f-8436-455e9084499e",
   "metadata": {},
   "source": [
    "# TP2\n",
    "## Grupo 15\n",
    "\n",
    "Carlos Eduardo Da Silva Machado A96936\n",
    "\n",
    "Gonçalo Manuel Maia de Sousa A97485"
   ]
  },
  {
   "cell_type": "markdown",
   "id": "23aaf1cd-86ca-4829-9cf6-e2f10c30b7bc",
   "metadata": {},
   "source": [
    "## Problema 1"
   ]
  },
  {
   "cell_type": "markdown",
   "id": "c22f3a3d-37ad-440c-acbf-9849857f108d",
   "metadata": {},
   "source": [
    "### Descrição do Problema"
   ]
  },
  {
   "cell_type": "markdown",
   "id": "79dbb8c4-23d0-4c5c-970e-1713eff7ff5d",
   "metadata": {},
   "source": [
    "É nos dado um Control Flow Automaton (CFA) que descreve um programa imperativo cujo objetivo é implementar a multiplicação de dois inteiros a,b, fornecidos como \"input\" e um n, também fornecido como \"input\", de precisão limitada.\n",
    "Para alem disso, temos de ter em conta os seguintes aspetos:\n",
    "- Existe a possibilidade de alguma das operações do programa produzir um erro de “overflow”;\n",
    "- Os nós do grafo representam ações  que actuam sobre os “inputs” do nó e produzem um “output” com as operações indicadas;\n",
    "- Os ramos do grafo representam ligações que transferem o “output” de um nodo para o “input” do nodo seguinte. Esta transferência é condicionada pela satisfação da condição associada ao ramo."
   ]
  },
  {
   "cell_type": "markdown",
   "id": "6680cc2f-e9cf-4c2d-b839-a38e675edf2f",
   "metadata": {},
   "source": [
    "### Abordagem do Problema"
   ]
  },
  {
   "cell_type": "markdown",
   "id": "22d4b6d5-d90f-45e6-9ce9-6bd0ada2fc06",
   "metadata": {},
   "source": [
    "Para resolver este problema, vamos construir um First Order Transition System (FOTS) usando um BitVector de tamanho n de forma a descrever o comportamento do autómato acima mencionado.\n",
    "\n",
    "( Talvez seja fixe mencionar a escolha do solver aqui futuramente)\n",
    "\n",
    "Para além do FOTS, também vamos verificar se $P≡(x∗y+z=a∗b)$ é um invariante do comportamento que estamos a estudar.\n"
   ]
  },
  {
   "cell_type": "markdown",
   "id": "be8c49f4-36bb-43eb-bea7-93ccf88eb367",
   "metadata": {},
   "source": [
    "## Código Python"
   ]
  },
  {
   "cell_type": "markdown",
   "id": "375319eb-86b6-484d-9a9b-c35e4ae73df0",
   "metadata": {},
   "source": [
    "variaveis -> x,y,z e o program counter (nº de linhas de código)\n",
    "\n",
    "x,y,z = a,b,0\n",
    "\n",
    "ideia 1:\n",
    "0: while(y!=0):\n",
    "\n",
    "1: \tif even(y) then x,y,z = 2*x,y/2,z\n",
    "\n",
    "2:\tif odd(y)  then x,y,z = x,y-1,z+x\n",
    "\n",
    "3: stop\n",
    "\n",
    "ideia 2:\n",
    "\n",
    "0: while(y!=0):\n",
    "\n",
    " \tif even(y) then x,y,z = 2*x,y/2,z\n",
    "\n",
    "\tif odd(y)  then x,y,z = x,y-1,z+x\n",
    "\n",
    "1: stop\n",
    "\n",
    "\n",
    "outras ideias que podem ser importantes: na aula T do dia 4 vimos que o stor evita usar o diferente por causa de ter problemas com indicibilidade, devemos também fazer o mesmo, vou cometer o erro aqui em baixo de usar not equals mas talvez temos de trocar depois.não esquecer"
   ]
  },
  {
   "cell_type": "markdown",
   "id": "f8fcab8d-1c04-448a-b70e-dd921b4b972b",
   "metadata": {},
   "source": [
    "Vamos Utilizar a biblioteca do $\\textit{Pysmt}$ e a biblioteca $\\textit{random}$ para resolver este exercício."
   ]
  },
  {
   "cell_type": "code",
   "execution_count": 1,
   "id": "4378d36e-2646-4181-90ee-081f3aeb426b",
   "metadata": {},
   "outputs": [],
   "source": [
    "from pysmt.shortcuts import *\n",
    "from pysmt.typing import INT\n",
    "import random as rn"
   ]
  },
  {
   "cell_type": "markdown",
   "id": "68d27dcf-2fc3-4a4a-833f-68759b9df871",
   "metadata": {},
   "source": [
    "Construção do FOTS:"
   ]
  },
  {
   "cell_type": "markdown",
   "id": "2b0f4988-91c4-466b-866d-e8522bd17fc9",
   "metadata": {},
   "source": [
    "Função de declaração"
   ]
  },
  {
   "cell_type": "code",
   "execution_count": null,
   "id": "e8d36293-efa0-4700-bb66-a5aa5f051a82",
   "metadata": {},
   "outputs": [],
   "source": [
    "def declare(i,n):\n",
    "    state = {}\n",
    "    state['pc'] = Symbol('pc'+str(i),INT)\n",
    "    state['x'] = Symbol('x'+str(i),types.BVType(n+1))\n",
    "    state['y'] = Symbol('y'+str(i),types.BVType(n+1))\n",
    "    state['z'] = Symbol('z'+str(i),types.BVType(n+1))\n",
    "    return state"
   ]
  },
  {
   "cell_type": "markdown",
   "id": "186853ae-b125-4c40-afc5-1ddda866354a",
   "metadata": {},
   "source": [
    "Função Init"
   ]
  },
  {
   "cell_type": "code",
   "execution_count": null,
   "id": "c2595d0f-3695-4e9f-9fd7-8236428ea5d0",
   "metadata": {},
   "outputs": [],
   "source": [
    "def init(state,a,b,n):\n",
    "    tPc = Equals(state['pc'],Int(0)) # Program counter a zero\n",
    "    tZ = Equals(state['z'],BVZero(n+1)) # Z a zero\n",
    "    tX = Equals(state['x'], BV(a,n+1)) # x inicilizado com valor de a\n",
    "    tY = Equals(state['y'], BV(b,n+1)) # y inicilizado com valor de b\n",
    "    return And(tPc,tX,tY,tZ)"
   ]
  },
  {
   "cell_type": "markdown",
   "id": "3800c998-e7b2-4e67-a85f-f232b26f4c09",
   "metadata": {},
   "source": [
    "Função de Transição\n",
    "\n",
    " $$\\mathsf{trans}(x,y,z,pc,x',y',z',pc')\\;\\equiv\\;$$\n",
    " $$\n",
    " \\left\\{\\begin{array}{lr}\n",
    " (pc=0)\\land (y_n=0) \\land (y > 0) \\land (x'=2*x)\\land (y'= y \\div 2) \\land (z'=c) \\land (pc'=0) & \\lor \\\\ \n",
    " (pc=0) \\land (y_n=1) \\land (x'=x) \\land (y'=y- 1) \\land (z'=x+z) \\land (pc'=0)  & \\lor \\\\\n",
    " (pc=0)\\land (y = 0) \\land (z_0=0)\\land (x'=x)\\land (y'=y) \\land (z'=c) \\land (pc'=1) & \\lor \\\\\n",
    " (pc=1)\\land(x'=x)\\land (y'=y)\\land (z'=z)\\land (pc'=1)& \\lor \\\\\n",
    " (pc=0)\\land (y_0=0) \\land (x_0 = 0) \\land (z_0=0) \\land (x'=x)\\land (y'=y) \\land (z'=c) \\land (pc'=2) & \\lor \\\\ \n",
    " (pc=2) \\land (x'=x) \\land (y'=y) \\land (z'=z) \\land (pc'= 2) & \\end{array}\\right.\n",
    " $$"
   ]
  },
  {
   "cell_type": "code",
   "execution_count": 2,
   "id": "af48e4b3-a209-4b96-bca4-13ce75c4aa2c",
   "metadata": {},
   "outputs": [],
   "source": [
    "def BVFirst(n):\n",
    "    return BV(2**(n-1),n)\n",
    "\n",
    "def tEven(curr,prox,n):\n",
    "    tPcZero = Equals(curr['pc'],Int(0))\n",
    "    tYLast = Equals(BVAnd(curr['y'],BVOne(n+1)),BVZero(n+1))#ultimo bit = 0\n",
    "    tYGt = BVUGT(curr['y'],BVZero(n+1))#y > 0\n",
    "    tX = Equals(prox['x'], BVLShl(curr['x'],BVOne(n+1)))#2*x\n",
    "    tY = Equals(prox['y'], BVLShr(curr['y'],BVOne(n+1)))#y/2\n",
    "    tZ = Equals(prox['z'],curr['z'])#z\n",
    "    tPc = Equals(prox['pc'],Int(0))\n",
    "    return And(tPcZero,tYLast,tYGt,tX,tY,tZ,tPc)\n",
    "\n",
    "def tOdd(curr,prox,n):\n",
    "    tPcZero = Equals(curr['pc'],Int(0))\n",
    "    tYLast = Equals(BVAnd(curr['y'],BVOne(n+1)),BVOne(n+1))\n",
    "    tX = Equals(prox['x'], curr['x'])\n",
    "    tY = Equals(prox['y'],BVSub(curr['y'],BVOne(n+1)))\n",
    "    tZ = Equals(prox['z'],BVAdd(curr['x'],curr['z'])) \n",
    "    tPc = Equals(prox['pc'],Int(0))   \n",
    "    return And(tPcZero,tYLast,tX,tY,tZ,tPc)\n",
    "\n",
    "def tStop(curr,prox,n):\n",
    "    tPcZero = Equals(curr['pc'],Int(0))\n",
    "    tYZero = Equals(curr['y'],BVZero(n+1))#y=0\n",
    "    tZFirst = Equals(BVAnd(curr['z'],BVFirst(n+1)),BVZero(n+1))#primriro bit de z = 0\n",
    "    tX = Equals(prox['x'],curr['x'])\n",
    "    tY = Equals(prox['y'],curr['y'])\n",
    "    tZ = Equals(prox['z'],curr['z'])\n",
    "    tPc = Equals(prox['pc'],Int(1))\n",
    "    return And(tYZero,tZFirst,tPcZero,tX,tY,tZ,tPc)\n",
    "\n",
    "def tEnd(curr,prox):\n",
    "    tPcOne = Equals(curr['pc'],Int(1))\n",
    "    tX = Equals(prox['x'],curr['x'])\n",
    "    tY = Equals(prox['y'],curr['y'])\n",
    "    tZ = Equals(prox['z'],curr['z'])\n",
    "    tPc = Equals(prox['pc'],Int(1))\n",
    "    return And(tPcOne,tX,tY,tZ,tPc)\n",
    "\n",
    "def tError(curr,prox,n):\n",
    "    tPcZero = Equals(curr['pc'],Int(0))\n",
    "    tYFirst = Equals(BVAnd(curr['y'],BVFirst(n+1)),BVFirst(n+1))\n",
    "    tXFirst = Equals(BVAnd(curr['x'],BVFirst(n+1)),BVFirst(n+1))\n",
    "    tZFirst = Equals(BVAnd(curr['z'],BVFirst(n+1)),BVFirst(n+1))\n",
    "    tX = Equals(prox['x'], curr['x'])\n",
    "    tY = Equals(prox['y'],curr['y'])\n",
    "    tZ = Equals(prox['z'],curr['z'])\n",
    "    tPc = Equals(prox['pc'],Int(2))\n",
    "    return And(tPcZero,Or(tYFirst,tXFirst,tZFirst),tX,tY,tZ,tPc)\n",
    "\n",
    "def tEndError(curr,prox):\n",
    "    tPcTwo = Equals(curr['pc'],Int(2))\n",
    "    tX = Equals(prox['x'], curr['x'])\n",
    "    tY = Equals(prox['y'],curr['y'])\n",
    "    tZ = Equals(prox['z'],curr['z'])\n",
    "    tPc = Equals(prox['pc'],Int(2))\n",
    "    return And(tPcTwo,tX,tY,tZ,tPc)\n",
    "\n",
    "def trans(curr,prox,n):\n",
    "    tToStop = tStop(curr,prox,n)\n",
    "    tToEven   = tEven(curr,prox,n)\n",
    "    tToError  = tError(curr,prox,n)\n",
    "    tToEndError = tEndError(curr,prox)\n",
    "    tToOdd    = tOdd(curr,prox,n)\n",
    "    tToEnd    = tEnd(curr,prox)\n",
    "    return Or(tToStop,tToEven,tToError,tToEndError,tToOdd,tToEnd)\n",
    "\n"
   ]
  },
  {
   "cell_type": "markdown",
   "id": "8bd6b569-d931-456b-a4cd-4465682f84ac",
   "metadata": {},
   "source": [
    "Função que usa $\\textit{SMT solver}$ para gerar um possível traço de execução do programa, imprimindo, para cada estado, as variáveis x,y,z e o program counter e função que auxiliar na conversão das variáveis para inteiro."
   ]
  },
  {
   "cell_type": "code",
   "execution_count": 3,
   "id": "7f7f0faf-40a2-4ab0-9e18-1898a28f8a0f",
   "metadata": {},
   "outputs": [],
   "source": [
    "def toInt(s):\n",
    "    return sum([int(x)*2**(len(s)-i-1) for i,x in (enumerate(s))])"
   ]
  },
  {
   "cell_type": "code",
   "execution_count": 4,
   "id": "b6ce854e-29fb-491f-879d-752abfca6252",
   "metadata": {},
   "outputs": [],
   "source": [
    "def resolve(a,b,n,k):\n",
    "    with Solver(name=\"msat\") as s:\n",
    "            # cria k copias do estado\n",
    "            trace = [declare(i,n) for i in range(k)]\n",
    "            #print(trace)\n",
    "            # criar o traço\n",
    "            s.add_assertion(init(trace[0],a,b,n))\n",
    "            #print(init(trace[0]))\n",
    "            for i in range(k-1):\n",
    "                s.add_assertion(trans(trace[i], trace[i+1],n))\n",
    "\n",
    "            if s.solve():\n",
    "                for i in range(k):\n",
    "                    print(i)\n",
    "                    print(\"pc=\", pc := s.get_value(trace[i]['pc']).constant_value())\n",
    "                    print(\"x=\", toInt(s.get_value(trace[i]['x']).bv_str()))\n",
    "                    print(\"y=\", toInt(s.get_value(trace[i]['y']).bv_str()))\n",
    "                    print(\"z=\", toInt(s.get_value(trace[i]['z']).bv_str()))\n",
    "                    print()\n",
    "                    if pc in (1,2):\n",
    "                        break\n",
    "            else:\n",
    "                print('no')"
   ]
  },
  {
   "cell_type": "markdown",
   "id": "e8a215ff-03fb-4dc0-85fb-bade72558d78",
   "metadata": {},
   "source": [
    "O invariante $P≡(x∗y+z=a∗b)$ como função **invariant(state)** e a função de ordem superior **kinduction_always(declare,init,trans,inv,k,a,b,n)** que testa se o invariante é verificado."
   ]
  },
  {
   "cell_type": "code",
   "execution_count": 5,
   "id": "c9179d6c-3fa0-4813-9f03-4fb8f7e6e444",
   "metadata": {},
   "outputs": [],
   "source": [
    "def invariant(state):\n",
    "    return Equals(BVAdd(BVMul(state['x'], state['y']), state['z']), BVMul(BV(a, n+1), BV(b, n+1)))\n",
    "\n",
    "\n",
    "def kinduction_always(declare,init,trans,inv,k,a,b,n):\n",
    "    with Solver(name=\"msat\") as s:\n",
    "        \n",
    "        \n",
    "        traco = [declare(i,n) for i in range(k+1)]\n",
    "       \n",
    "        s.push()\n",
    "        s.add_assertion(init(traco[0],a,b,n))\n",
    "        \n",
    "        for i in range(k-1):\n",
    "            s.add_assertion(trans(traco[i],traco[i+1],n))\n",
    "        s.add_assertion(Or([Not(inv(traco[i])) for i in range(k)]))\n",
    "        \n",
    "        if s.solve():\n",
    "            print('A propriedade nao e nos k estados iniciais')\n",
    "\n",
    "            for v in traco[0]:\n",
    "                print(v,'=',s.get_value(traco[0][v]))\n",
    "            return\n",
    "        s.pop()\n",
    "        \n",
    "        #testar o passo k-indutivo\n",
    "        \n",
    "        s.push()\n",
    "        \n",
    "        for i in range(k):\n",
    "            s.add_assertion(trans(traco[i],traco[i+1],n))\n",
    "            s.add_assertion(inv(traco[i]))\n",
    "        s.add_assertion(Not(inv(traco[k])))    \n",
    "        \n",
    "        \n",
    "        if s.solve():\n",
    "            print('O passo %s indutivo nao preserva a propriedade' % k)\n",
    "            print('O ponto onde falha começa aqui:')\n",
    "\n",
    "            for v in traco[0]:\n",
    "                print(v,'=',s.get_value(traco[0][v]))\n",
    "            return\n",
    "        s.pop()\n",
    "        \n",
    "        print(\"A propriedade verifica-se\")\n",
    "        \n",
    "        \n"
   ]
  },
  {
   "cell_type": "markdown",
   "id": "6e33e41d-1729-4992-a3a6-e792730441fe",
   "metadata": {},
   "source": [
    "### Exemplos e Testes de Aplicação"
   ]
  },
  {
   "cell_type": "markdown",
   "id": "0cbecd15-6467-4016-8d11-b84c0f1ee764",
   "metadata": {},
   "source": [
    "#### Exemplo 1"
   ]
  },
  {
   "cell_type": "code",
   "execution_count": 6,
   "id": "840d8c4d-3f79-4c64-8905-6a8caeb5f71f",
   "metadata": {},
   "outputs": [
    {
     "name": "stdout",
     "output_type": "stream",
     "text": [
      "x =  10\n",
      "y =  01\n"
     ]
    }
   ],
   "source": [
    "n = 2\n",
    "a = 2\n",
    "b = 1\n",
    "k = 2*n\n",
    "k_inv = 1\n",
    "\n",
    "print('x = ', BV(a,n).bv_str())\n",
    "print('y = ', BV(b,n).bv_str())"
   ]
  },
  {
   "cell_type": "markdown",
   "id": "34f967ce-6fb9-4e6e-bb48-2080b5730a6d",
   "metadata": {},
   "source": [
    "#### Resolução do Exemplo 1"
   ]
  },
  {
   "cell_type": "code",
   "execution_count": 7,
   "id": "4c3a78af-e2ac-45bd-be53-b4b5be67485e",
   "metadata": {},
   "outputs": [
    {
     "name": "stdout",
     "output_type": "stream",
     "text": [
      "0\n",
      "pc= 0\n",
      "x= 2\n",
      "y= 1\n",
      "z= 0\n",
      "\n",
      "1\n",
      "pc= 0\n",
      "x= 2\n",
      "y= 0\n",
      "z= 2\n",
      "\n",
      "2\n",
      "pc= 1\n",
      "x= 2\n",
      "y= 0\n",
      "z= 2\n",
      "\n"
     ]
    }
   ],
   "source": [
    "resolve(a,b,n,k)"
   ]
  },
  {
   "cell_type": "code",
   "execution_count": 8,
   "id": "3fae11ea-5e47-4efa-8d9f-b60127c62796",
   "metadata": {},
   "outputs": [
    {
     "name": "stdout",
     "output_type": "stream",
     "text": [
      "A propriedade verifica-se\n"
     ]
    }
   ],
   "source": [
    "kinduction_always(declare,init,trans,invariant,k_inv,a,b,n)"
   ]
  },
  {
   "cell_type": "markdown",
   "id": "ac8e868c-5178-49ee-ae4d-b96ecbd99cf6",
   "metadata": {},
   "source": [
    "#### Exemplo 2"
   ]
  },
  {
   "cell_type": "code",
   "execution_count": 13,
   "id": "c4ce2978-7833-4f26-95de-09456338b1e4",
   "metadata": {},
   "outputs": [
    {
     "name": "stdout",
     "output_type": "stream",
     "text": [
      "x =  000101\n",
      "y =  001001\n"
     ]
    }
   ],
   "source": [
    "n2 = 6\n",
    "a2 = 5\n",
    "b2 = 9\n",
    "k = 2*n\n",
    "k_inv = 1\n",
    "\n",
    "print('x = ', BV(a2,n2).bv_str())\n",
    "print('y = ', BV(b2,n2).bv_str())"
   ]
  },
  {
   "cell_type": "markdown",
   "id": "61b6571e-b0da-4b33-89b1-dfdba5eb6635",
   "metadata": {},
   "source": [
    "#### Resolução do Exemplo 2"
   ]
  },
  {
   "cell_type": "code",
   "execution_count": 10,
   "id": "9a74feaf-8eb5-49cb-a878-2eb2122a9983",
   "metadata": {},
   "outputs": [
    {
     "ename": "PysmtTypeError",
     "evalue": "Trying to redefine symbol 'x0' with a new type. Previous type was 'BV{3}' new type is 'BV{11}'",
     "output_type": "error",
     "traceback": [
      "\u001b[1;31m---------------------------------------------------------------------------\u001b[0m",
      "\u001b[1;31mPysmtTypeError\u001b[0m                            Traceback (most recent call last)",
      "Input \u001b[1;32mIn [10]\u001b[0m, in \u001b[0;36m<cell line: 1>\u001b[1;34m()\u001b[0m\n\u001b[1;32m----> 1\u001b[0m \u001b[43mresolve\u001b[49m\u001b[43m(\u001b[49m\u001b[43ma2\u001b[49m\u001b[43m,\u001b[49m\u001b[43mb2\u001b[49m\u001b[43m,\u001b[49m\u001b[43mn2\u001b[49m\u001b[43m,\u001b[49m\u001b[43mk\u001b[49m\u001b[43m)\u001b[49m\n",
      "Input \u001b[1;32mIn [4]\u001b[0m, in \u001b[0;36mresolve\u001b[1;34m(a, b, n, k)\u001b[0m\n\u001b[0;32m      1\u001b[0m \u001b[38;5;28;01mdef\u001b[39;00m \u001b[38;5;21mresolve\u001b[39m(a,b,n,k):\n\u001b[0;32m      2\u001b[0m     \u001b[38;5;28;01mwith\u001b[39;00m Solver(name\u001b[38;5;241m=\u001b[39m\u001b[38;5;124m\"\u001b[39m\u001b[38;5;124mmsat\u001b[39m\u001b[38;5;124m\"\u001b[39m) \u001b[38;5;28;01mas\u001b[39;00m s:\n\u001b[0;32m      3\u001b[0m             \u001b[38;5;66;03m# cria k copias do estado\u001b[39;00m\n\u001b[1;32m----> 4\u001b[0m             trace \u001b[38;5;241m=\u001b[39m [declare(i,n) \u001b[38;5;28;01mfor\u001b[39;00m i \u001b[38;5;129;01min\u001b[39;00m \u001b[38;5;28mrange\u001b[39m(k)]\n\u001b[0;32m      5\u001b[0m             \u001b[38;5;66;03m#print(trace)\u001b[39;00m\n\u001b[0;32m      6\u001b[0m             \u001b[38;5;66;03m# criar o traço\u001b[39;00m\n\u001b[0;32m      7\u001b[0m             s\u001b[38;5;241m.\u001b[39madd_assertion(init(trace[\u001b[38;5;241m0\u001b[39m],a,b,n))\n",
      "Input \u001b[1;32mIn [4]\u001b[0m, in \u001b[0;36m<listcomp>\u001b[1;34m(.0)\u001b[0m\n\u001b[0;32m      1\u001b[0m \u001b[38;5;28;01mdef\u001b[39;00m \u001b[38;5;21mresolve\u001b[39m(a,b,n,k):\n\u001b[0;32m      2\u001b[0m     \u001b[38;5;28;01mwith\u001b[39;00m Solver(name\u001b[38;5;241m=\u001b[39m\u001b[38;5;124m\"\u001b[39m\u001b[38;5;124mmsat\u001b[39m\u001b[38;5;124m\"\u001b[39m) \u001b[38;5;28;01mas\u001b[39;00m s:\n\u001b[0;32m      3\u001b[0m             \u001b[38;5;66;03m# cria k copias do estado\u001b[39;00m\n\u001b[1;32m----> 4\u001b[0m             trace \u001b[38;5;241m=\u001b[39m [\u001b[43mdeclare\u001b[49m\u001b[43m(\u001b[49m\u001b[43mi\u001b[49m\u001b[43m,\u001b[49m\u001b[43mn\u001b[49m\u001b[43m)\u001b[49m \u001b[38;5;28;01mfor\u001b[39;00m i \u001b[38;5;129;01min\u001b[39;00m \u001b[38;5;28mrange\u001b[39m(k)]\n\u001b[0;32m      5\u001b[0m             \u001b[38;5;66;03m#print(trace)\u001b[39;00m\n\u001b[0;32m      6\u001b[0m             \u001b[38;5;66;03m# criar o traço\u001b[39;00m\n\u001b[0;32m      7\u001b[0m             s\u001b[38;5;241m.\u001b[39madd_assertion(init(trace[\u001b[38;5;241m0\u001b[39m],a,b,n))\n",
      "Input \u001b[1;32mIn [2]\u001b[0m, in \u001b[0;36mdeclare\u001b[1;34m(i, n)\u001b[0m\n\u001b[0;32m      5\u001b[0m state \u001b[38;5;241m=\u001b[39m {}\n\u001b[0;32m      6\u001b[0m state[\u001b[38;5;124m'\u001b[39m\u001b[38;5;124mpc\u001b[39m\u001b[38;5;124m'\u001b[39m] \u001b[38;5;241m=\u001b[39m Symbol(\u001b[38;5;124m'\u001b[39m\u001b[38;5;124mpc\u001b[39m\u001b[38;5;124m'\u001b[39m\u001b[38;5;241m+\u001b[39m\u001b[38;5;28mstr\u001b[39m(i),INT)\n\u001b[1;32m----> 7\u001b[0m state[\u001b[38;5;124m'\u001b[39m\u001b[38;5;124mx\u001b[39m\u001b[38;5;124m'\u001b[39m] \u001b[38;5;241m=\u001b[39m \u001b[43mSymbol\u001b[49m\u001b[43m(\u001b[49m\u001b[38;5;124;43m'\u001b[39;49m\u001b[38;5;124;43mx\u001b[39;49m\u001b[38;5;124;43m'\u001b[39;49m\u001b[38;5;241;43m+\u001b[39;49m\u001b[38;5;28;43mstr\u001b[39;49m\u001b[43m(\u001b[49m\u001b[43mi\u001b[49m\u001b[43m)\u001b[49m\u001b[43m,\u001b[49m\u001b[43mtypes\u001b[49m\u001b[38;5;241;43m.\u001b[39;49m\u001b[43mBVType\u001b[49m\u001b[43m(\u001b[49m\u001b[43mn\u001b[49m\u001b[38;5;241;43m+\u001b[39;49m\u001b[38;5;241;43m1\u001b[39;49m\u001b[43m)\u001b[49m\u001b[43m)\u001b[49m\n\u001b[0;32m      8\u001b[0m state[\u001b[38;5;124m'\u001b[39m\u001b[38;5;124my\u001b[39m\u001b[38;5;124m'\u001b[39m] \u001b[38;5;241m=\u001b[39m Symbol(\u001b[38;5;124m'\u001b[39m\u001b[38;5;124my\u001b[39m\u001b[38;5;124m'\u001b[39m\u001b[38;5;241m+\u001b[39m\u001b[38;5;28mstr\u001b[39m(i),types\u001b[38;5;241m.\u001b[39mBVType(n\u001b[38;5;241m+\u001b[39m\u001b[38;5;241m1\u001b[39m))\n\u001b[0;32m      9\u001b[0m state[\u001b[38;5;124m'\u001b[39m\u001b[38;5;124mz\u001b[39m\u001b[38;5;124m'\u001b[39m] \u001b[38;5;241m=\u001b[39m Symbol(\u001b[38;5;124m'\u001b[39m\u001b[38;5;124mz\u001b[39m\u001b[38;5;124m'\u001b[39m\u001b[38;5;241m+\u001b[39m\u001b[38;5;28mstr\u001b[39m(i),types\u001b[38;5;241m.\u001b[39mBVType(n\u001b[38;5;241m+\u001b[39m\u001b[38;5;241m1\u001b[39m))\n",
      "File \u001b[1;32m~\\anaconda3\\envs\\logica\\lib\\site-packages\\pysmt\\shortcuts.py:243\u001b[0m, in \u001b[0;36mSymbol\u001b[1;34m(name, typename)\u001b[0m\n\u001b[0;32m    236\u001b[0m \u001b[38;5;28;01mdef\u001b[39;00m \u001b[38;5;21mSymbol\u001b[39m(name, typename\u001b[38;5;241m=\u001b[39mtypes\u001b[38;5;241m.\u001b[39mBOOL):\n\u001b[0;32m    237\u001b[0m     \u001b[38;5;124;03m\"\"\"Returns a symbol with the given name and type.\u001b[39;00m\n\u001b[0;32m    238\u001b[0m \n\u001b[0;32m    239\u001b[0m \u001b[38;5;124;03m    :param name: Specify the name\u001b[39;00m\n\u001b[0;32m    240\u001b[0m \u001b[38;5;124;03m    :param typename: Specify the typename\u001b[39;00m\n\u001b[0;32m    241\u001b[0m \u001b[38;5;124;03m    :returns: A symbol with the given name and type\u001b[39;00m\n\u001b[0;32m    242\u001b[0m \u001b[38;5;124;03m    \"\"\"\u001b[39;00m\n\u001b[1;32m--> 243\u001b[0m     \u001b[38;5;28;01mreturn\u001b[39;00m \u001b[43mget_env\u001b[49m\u001b[43m(\u001b[49m\u001b[43m)\u001b[49m\u001b[38;5;241;43m.\u001b[39;49m\u001b[43mformula_manager\u001b[49m\u001b[38;5;241;43m.\u001b[39;49m\u001b[43mSymbol\u001b[49m\u001b[43m(\u001b[49m\u001b[43mname\u001b[49m\u001b[43m,\u001b[49m\u001b[43m \u001b[49m\u001b[43mtypename\u001b[49m\u001b[43m)\u001b[49m\n",
      "File \u001b[1;32m~\\anaconda3\\envs\\logica\\lib\\site-packages\\pysmt\\formula.py:143\u001b[0m, in \u001b[0;36mFormulaManager.Symbol\u001b[1;34m(self, name, typename)\u001b[0m\n\u001b[0;32m    142\u001b[0m \u001b[38;5;28;01mdef\u001b[39;00m \u001b[38;5;21mSymbol\u001b[39m(\u001b[38;5;28mself\u001b[39m, name, typename\u001b[38;5;241m=\u001b[39mtypes\u001b[38;5;241m.\u001b[39mBOOL):\n\u001b[1;32m--> 143\u001b[0m     \u001b[38;5;28;01mreturn\u001b[39;00m \u001b[38;5;28;43mself\u001b[39;49m\u001b[38;5;241;43m.\u001b[39;49m\u001b[43mget_or_create_symbol\u001b[49m\u001b[43m(\u001b[49m\u001b[43mname\u001b[49m\u001b[43m,\u001b[49m\u001b[43m \u001b[49m\u001b[43mtypename\u001b[49m\u001b[43m)\u001b[49m\n",
      "File \u001b[1;32m~\\anaconda3\\envs\\logica\\lib\\site-packages\\pysmt\\formula.py:135\u001b[0m, in \u001b[0;36mFormulaManager.get_or_create_symbol\u001b[1;34m(self, name, typename)\u001b[0m\n\u001b[0;32m    133\u001b[0m     \u001b[38;5;28;01mreturn\u001b[39;00m \u001b[38;5;28mself\u001b[39m\u001b[38;5;241m.\u001b[39m_create_symbol(name, typename)\n\u001b[0;32m    134\u001b[0m \u001b[38;5;28;01mif\u001b[39;00m \u001b[38;5;129;01mnot\u001b[39;00m s\u001b[38;5;241m.\u001b[39msymbol_type() \u001b[38;5;241m==\u001b[39m typename:\n\u001b[1;32m--> 135\u001b[0m     \u001b[38;5;28;01mraise\u001b[39;00m PysmtTypeError(\u001b[38;5;124m\"\u001b[39m\u001b[38;5;124mTrying to redefine symbol \u001b[39m\u001b[38;5;124m'\u001b[39m\u001b[38;5;132;01m%s\u001b[39;00m\u001b[38;5;124m'\u001b[39m\u001b[38;5;124m with a new type\u001b[39m\u001b[38;5;124m\"\u001b[39m\n\u001b[0;32m    136\u001b[0m                          \u001b[38;5;124m\"\u001b[39m\u001b[38;5;124m. Previous type was \u001b[39m\u001b[38;5;124m'\u001b[39m\u001b[38;5;132;01m%s\u001b[39;00m\u001b[38;5;124m'\u001b[39m\u001b[38;5;124m new type is \u001b[39m\u001b[38;5;124m'\u001b[39m\u001b[38;5;132;01m%s\u001b[39;00m\u001b[38;5;124m'\u001b[39m\u001b[38;5;124m\"\u001b[39m \u001b[38;5;241m%\u001b[39m\n\u001b[0;32m    137\u001b[0m                          (name, s\u001b[38;5;241m.\u001b[39msymbol_type(), typename))\n\u001b[0;32m    138\u001b[0m \u001b[38;5;28;01mreturn\u001b[39;00m s\n",
      "\u001b[1;31mPysmtTypeError\u001b[0m: Trying to redefine symbol 'x0' with a new type. Previous type was 'BV{3}' new type is 'BV{11}'"
     ]
    }
   ],
   "source": [
    "resolve(a2,b2,n2,k)"
   ]
  },
  {
   "cell_type": "code",
   "execution_count": null,
   "id": "56040dae-e783-4b3f-a9a3-e0cea510774d",
   "metadata": {},
   "outputs": [],
   "source": [
    "kinduction_always(declare,init,trans,invariant,k_inv,a,b,n)"
   ]
  },
  {
   "cell_type": "markdown",
   "id": "4745fd36-c573-44e3-9fa7-211a86b0f4e7",
   "metadata": {},
   "source": [
    "#### Exemplo 3"
   ]
  },
  {
   "cell_type": "code",
   "execution_count": null,
   "id": "c6369420-23ff-4927-832a-79341c24cd32",
   "metadata": {},
   "outputs": [],
   "source": [
    "n = 2\n",
    "a = 2\n",
    "b = 1\n",
    "k = 2*n\n",
    "k_inv = 1\n",
    "\n",
    "print('x = ', BV(a,n).bv_str())\n",
    "print('y = ', BV(b,n).bv_str())"
   ]
  },
  {
   "cell_type": "markdown",
   "id": "b447de0b-abc7-464b-aa6f-c7ab34662899",
   "metadata": {},
   "source": [
    "#### Exemplo 4"
   ]
  },
  {
   "cell_type": "code",
   "execution_count": null,
   "id": "17feb2fe-926b-4e87-8739-bd2fc6ba2772",
   "metadata": {},
   "outputs": [],
   "source": [
    "n = 2\n",
    "a = 2\n",
    "b = 1\n",
    "k = 2*n\n",
    "k_inv = 1\n",
    "\n",
    "print('x = ', BV(a,n).bv_str())\n",
    "print('y = ', BV(b,n).bv_str())"
   ]
  },
  {
   "cell_type": "markdown",
   "id": "02a27235-bd0d-4071-89b3-fd4aaee5eac0",
   "metadata": {},
   "source": [
    "#### Exemplo 5"
   ]
  },
  {
   "cell_type": "code",
   "execution_count": null,
   "id": "79844c3f-82ae-40d3-b240-7b698b430d83",
   "metadata": {},
   "outputs": [],
   "source": [
    "#n = 32\n",
    "#a = rn.randrange(1, 2**(n-16))\n",
    "#b = rn.randrange(1, 2**(n-16))\n",
    "#k = 2*n\n",
    "#k_inv = 1"
   ]
  }
 ],
 "metadata": {
  "kernelspec": {
   "display_name": "Python 3 (ipykernel)",
   "language": "python",
   "name": "python3"
  },
  "language_info": {
   "codemirror_mode": {
    "name": "ipython",
    "version": 3
   },
   "file_extension": ".py",
   "mimetype": "text/x-python",
   "name": "python",
   "nbconvert_exporter": "python",
   "pygments_lexer": "ipython3",
   "version": "3.10.6"
  },
  "vscode": {
   "interpreter": {
    "hash": "e6e0711b34581e9d3d394d0e05c7a638721b909a5489b142ff17259bed82d5d5"
   }
  }
 },
 "nbformat": 4,
 "nbformat_minor": 5
}

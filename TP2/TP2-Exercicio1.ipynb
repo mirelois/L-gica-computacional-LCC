{
 "cells": [
  {
   "cell_type": "markdown",
   "id": "fe9f5e77-3896-4e2f-8436-455e9084499e",
   "metadata": {},
   "source": [
    "# TP2\n",
    "## Grupo 15\n",
    "\n",
    "Carlos Eduardo Da Silva Machado A96936\n",
    "\n",
    "Gonçalo Manuel Maia de Sousa A97485"
   ]
  },
  {
   "cell_type": "markdown",
   "id": "23aaf1cd-86ca-4829-9cf6-e2f10c30b7bc",
   "metadata": {},
   "source": [
    "## Problema 1"
   ]
  },
  {
   "cell_type": "markdown",
   "id": "c22f3a3d-37ad-440c-acbf-9849857f108d",
   "metadata": {},
   "source": [
    "### Descrição do Problema"
   ]
  },
  {
   "cell_type": "markdown",
   "id": "79dbb8c4-23d0-4c5c-970e-1713eff7ff5d",
   "metadata": {},
   "source": [
    "É nos dado um Control Flow Automaton (CFA) que descreve um programa imperativo cujo objetivo é implementar a multiplicação de dois inteiros a,b, fornecidos como \"input\" e um n, também fornecido como \"input\", de precisão limitada.\n",
    "Para alem disso, temos de ter em conta os seguintes aspetos:\n",
    "- Existe a possibilidade de alguma das operações do programa produzir um erro de “overflow”;\n",
    "- Os nós do grafo representam ações  que actuam sobre os “inputs” do nó e produzem um “output” com as operações indicadas;\n",
    "- Os ramos do grafo representam ligações que transferem o “output” de um nodo para o “input” do nodo seguinte. Esta transferência é condicionada pela satisfação da condição associada ao ramo."
   ]
  },
  {
   "cell_type": "markdown",
   "id": "6680cc2f-e9cf-4c2d-b839-a38e675edf2f",
   "metadata": {},
   "source": [
    "### Abordagem do Problema"
   ]
  },
  {
   "cell_type": "markdown",
   "id": "22d4b6d5-d90f-45e6-9ce9-6bd0ada2fc06",
   "metadata": {},
   "source": [
    "Para resolver este problema, vamos construir um First Order Transition System (FOTS) usando um BitVector de tamanho n de forma a descrever o comportamento do autómato acima mencionado.\n",
    "\n",
    "( Talvez seja fixe mencionar a escolha do solver aqui futuramente)\n",
    "\n",
    "Para além do FOTS, também vamos verificar se $P≡(x∗y+z=a∗b)$ é um invariante do comportamento que estamos a estudar.\n"
   ]
  },
  {
   "cell_type": "markdown",
   "id": "be8c49f4-36bb-43eb-bea7-93ccf88eb367",
   "metadata": {},
   "source": [
    "## Código Python"
   ]
  },
  {
   "cell_type": "markdown",
   "id": "375319eb-86b6-484d-9a9b-c35e4ae73df0",
   "metadata": {},
   "source": [
    "variaveis -> x,y,z e o program counter (nº de linhas de código)\n",
    "\n",
    "x,y,z = a,b,0\n",
    "\n",
    "ideia 1:\n",
    "0: while(y!=0):\n",
    "\n",
    "1: \tif even(y) then x,y,z = 2*x,y/2,z\n",
    "\n",
    "2:\tif odd(y)  then x,y,z = x,y-1,z+x\n",
    "\n",
    "3: stop\n",
    "\n",
    "ideia 2:\n",
    "\n",
    "0: while(y!=0):\n",
    "\n",
    " \tif even(y) then x,y,z = 2*x,y/2,z\n",
    "\n",
    "\tif odd(y)  then x,y,z = x,y-1,z+x\n",
    "\n",
    "1: stop\n",
    "\n",
    "\n",
    "outras ideias que podem ser importantes: na aula T do dia 4 vimos que o stor evita usar o diferente por causa de ter problemas com indicibilidade, devemos também fazer o mesmo, vou cometer o erro aqui em baixo de usar not equals mas talvez temos de trocar depois.não esquecer"
   ]
  },
  {
   "cell_type": "code",
   "execution_count": 1,
   "id": "4378d36e-2646-4181-90ee-081f3aeb426b",
   "metadata": {},
   "outputs": [
    {
     "name": "stdout",
     "output_type": "stream",
     "text": [
      "x =  00000000000000000000000000011000\n",
      "y =  00000000000000000000000000001100\n"
     ]
    }
   ],
   "source": [
    "from pysmt.shortcuts import *\n",
    "from pysmt.typing import INT\n",
    "import random as rn\n",
    "\n",
    "# vou declarar aqui um exemplo depois passamos para exemplos separados\n",
    "n = 32 # [0,0] [0,1] [1,0] [1,1]\n",
    "a = 24\n",
    "b = 12\n",
    "k = 2*n\n",
    "def toInt(s):\n",
    "    return s # return sum([int(x)*2**(len(s)-i-1) for i,x in (enumerate(s))])\n",
    "\n",
    "print('x = ', BV(a,n).bv_str())\n",
    "print('y = ', BV(b,n).bv_str())"
   ]
  },
  {
   "cell_type": "markdown",
   "id": "1316cba1-e814-479a-9816-900353135372",
   "metadata": {},
   "source": [
    " $$\\mathsf{trans}(x,y,z,pc,x',y',z',pc')\\;\\equiv\\;$$\n",
    " $$\\left\\{\\begin{array}{lr} (y=0)\\land (pc=0) \\land (x'=x)\\land (y'=y) \\land (c'=c) \\land (pc'=3) & \\lor \\\\ (a > b)\\land(c=0)\\land (a'+b=a) \\land (b'=b)\\land (c'=0) & \\lor \\\\ (a < b)\\land (c=0) \\land (b'+a = b)\\land (a'=a)\\land (c'=0) & \\lor \\\\ (c=1)\\land(c'=1)\\land (a'=a)\\land (b'=b) & \\end{array}\\right.$$\n"
   ]
  },
  {
   "cell_type": "code",
   "execution_count": 2,
   "id": "af48e4b3-a209-4b96-bca4-13ce75c4aa2c",
   "metadata": {},
   "outputs": [],
   "source": [
    "# Ideias à toa, não faz muito sentido o que está escrito aqui a baixo\n",
    "\n",
    "def BVLast(n):\n",
    "    return BV(2**(n-1),n)\n",
    "\n",
    "def geraBV(valor,n):       \n",
    "    return BV(valor,n)\n",
    "\n",
    "def bv_sel(z,i):\n",
    "    return BVZExt(BVExtract(z,start=i,end=i),n-1)\n",
    "\n",
    "def bv_hamm(z,y=None):       \n",
    "    if y != None:\n",
    "        return bv_hamm(BVXor(z,y))\n",
    "    return sum([bv_sel(z,i) for i in range(n)])\n",
    "\n",
    "def declare(i):\n",
    "    state = {}\n",
    "    state['pc'] = Symbol('pc'+str(i),INT)\n",
    "    state['x'] = Symbol('x'+str(i),types.BVType(n))\n",
    "    state['y'] = Symbol('y'+str(i),types.BVType(n))\n",
    "    state['z'] = Symbol('z'+str(i),types.BVType(n))\n",
    "    return state\n",
    "\n",
    "def init(state):\n",
    "    tPc = Equals(state['pc'],Int(0)) # Program counter a zero\n",
    "    tZ = Equals(state['z'],BVZero(n)) # Z a zero\n",
    "    tX = Equals(state['x'], BV(a,n)) # x inicilizado com valor de a\n",
    "    tY = Equals(state['y'], BV(b,n)) # y inicilizado com valor de b\n",
    "    return And(tPc,tX,tY,tZ)\n",
    "\n",
    "def tStop(curr,prox):\n",
    "    tYZero = Equals(curr['y'],BVZero(n))\n",
    "    tPcZero = Equals(curr['pc'],Int(0))\n",
    "    tYGe = BVUGE(curr['y'],BVZero(n))\n",
    "    tX = Equals(prox['x'],curr['x'])\n",
    "    tY = Equals(prox['y'],curr['y'])\n",
    "    tZ = Equals(prox['z'],curr['z'])\n",
    "    tPc = Equals(prox['pc'],Int(1))\n",
    "    return And(tYZero,tPcZero,tYGe,tX,tY,tZ,tPc)\n",
    "\n",
    "def tEven(curr,prox):\n",
    "    tPcZero = Equals(curr['pc'],Int(0)) #dam este e o stop sao ambiguos\n",
    "    tYLast = Equals(BVAnd(curr['y'],BVOne(n)),BVZero(n))\n",
    "    tXFirst = Equals(BVAnd(curr['x'],BV(2**(n-1),n)),BVZero(n))\n",
    "    tX = Equals(prox['x'], BVLShl(curr['x'],BVOne(n)))\n",
    "    tY = Equals(prox['y'], BVLShr(curr['y'],BVOne(n)))\n",
    "    tZ = Equals(prox['z'],curr['z'])\n",
    "    tPc = Equals(prox['pc'],Int(0))\n",
    "    return And(tPcZero,tYLast,tXFirst,tX,tY,tZ,tPc)\n",
    "\n",
    "def tError(curr,prox):\n",
    "    tPcZero = Equals(curr['pc'],Int(0))\n",
    "    tYLast = Equals(BVAnd(curr['y'],BVOne(n)),BVZero(n))\n",
    "    tXFirst = Equals(BVAnd(curr['x'],BVLast(n)),BVLast(n))\n",
    "    tX = Equals(prox['x'], curr['x'])\n",
    "    tY = Equals(prox['y'],curr['y'])\n",
    "    tZ = Equals(prox['z'],curr['z'])\n",
    "    tPc = Equals(prox['pc'],Int(2))\n",
    "    return And(tPcZero,tYLast,tXFirst,tX,tY,tZ,tPc)\n",
    "\n",
    "def tEndError(curr,prox):\n",
    "    tPcTwo = Equals(curr['pc'],Int(2))\n",
    "    tX = Equals(prox['x'], curr['x'])\n",
    "    tY = Equals(prox['y'],curr['y'])\n",
    "    tZ = Equals(prox['z'],curr['z'])\n",
    "    tPc = Equals(prox['pc'],Int(2))\n",
    "    return And(tPcTwo,tX,tY,tZ,tPc)\n",
    "\n",
    "def tOdd(curr,prox):\n",
    "    tPcZero = Equals(curr['pc'],Int(0))\n",
    "    tYLast = Equals(BVAnd(curr['y'],BVOne(n)),BVOne(n))\n",
    "    tX = Equals(prox['x'], curr['x'])\n",
    "    tY = Equals(prox['y'],BVSub(curr['y'],BVOne(n)))\n",
    "    tZ = Equals(prox['z'],BVAdd(curr['x'],curr['z'])) \n",
    "    tPc = Equals(prox['pc'],Int(0))   \n",
    "    return And(tPcZero,tYLast,tX,tY,tZ,tPc)\n",
    "\n",
    "def tEnd(curr,prox):\n",
    "    tPcOne = Equals(curr['pc'],Int(1))\n",
    "    tX = Equals(prox['x'],curr['x'])\n",
    "    tY = Equals(prox['y'],curr['y'])\n",
    "    tZ = Equals(prox['z'],curr['z'])\n",
    "    tPc = Equals(prox['pc'],Int(1))\n",
    "    return And(tPcOne,tX,tY,tZ,tPc)\n",
    "\n",
    "def trans(curr,prox):\n",
    "    tToStop = tStop(curr,prox)\n",
    "    tToEven   = tEven(curr,prox)\n",
    "    tToError  = tError(curr,prox)\n",
    "    tToEndError = tEndError(curr,prox)\n",
    "    tToOdd    = tOdd(curr,prox)\n",
    "    tToEnd    = tEnd(curr,prox)\n",
    "    return Or(tToStop,tToEven,tToError,tToEndError,tToOdd,tToEnd)\n",
    "\n"
   ]
  },
  {
   "cell_type": "code",
   "execution_count": 7,
   "id": "b6ce854e-29fb-491f-879d-752abfca6252",
   "metadata": {},
   "outputs": [
    {
     "name": "stdout",
     "output_type": "stream",
     "text": [
      "0\n",
      "pc= 0\n",
      "x= 00000000000000000000000000011000\n",
      "y= 00000000000000000000000000001100\n",
      "z= 00000000000000000000000000000000\n",
      "\n",
      "1\n",
      "pc= 0\n",
      "x= 00000000000000000000000000110000\n",
      "y= 00000000000000000000000000000110\n",
      "z= 00000000000000000000000000000000\n",
      "\n",
      "2\n",
      "pc= 0\n",
      "x= 00000000000000000000000001100000\n",
      "y= 00000000000000000000000000000011\n",
      "z= 00000000000000000000000000000000\n",
      "\n",
      "3\n",
      "pc= 0\n",
      "x= 00000000000000000000000001100000\n",
      "y= 00000000000000000000000000000010\n",
      "z= 00000000000000000000000001100000\n",
      "\n",
      "4\n",
      "pc= 0\n",
      "x= 00000000000000000000000011000000\n",
      "y= 00000000000000000000000000000001\n",
      "z= 00000000000000000000000001100000\n",
      "\n",
      "5\n",
      "pc= 0\n",
      "x= 00000000000000000000000011000000\n",
      "y= 00000000000000000000000000000000\n",
      "z= 00000000000000000000000100100000\n",
      "\n",
      "6\n",
      "pc= 1\n",
      "x= 00000000000000000000000011000000\n",
      "y= 00000000000000000000000000000000\n",
      "z= 00000000000000000000000100100000\n",
      "\n"
     ]
    }
   ],
   "source": [
    "with Solver(name=\"z3\") as s:\n",
    "    \n",
    "        # completar\n",
    "    \n",
    "        # cria k copias do estado\n",
    "        trace = [declare(i) for i in range(k)]\n",
    "        #print(trace)\n",
    "        # criar o traço\n",
    "        s.add_assertion(init(trace[0]))\n",
    "        #print(init(trace[0]))\n",
    "        for i in range(k-1):\n",
    "            s.add_assertion(trans(trace[i], trace[i+1]))\n",
    "        \n",
    "        if s.solve():\n",
    "            for i in range(k):\n",
    "                print(i)\n",
    "                print(\"pc=\", pc := s.get_value(trace[i]['pc']).constant_value())\n",
    "                print(\"x=\", toInt(s.get_value(trace[i]['x']).bv_str()))\n",
    "                print(\"y=\", toInt(s.get_value(trace[i]['y']).bv_str()))\n",
    "                print(\"z=\", toInt(s.get_value(trace[i]['z']).bv_str()))\n",
    "                print()\n",
    "                if pc in (1,2):\n",
    "                    break\n",
    "        else:\n",
    "            print('no')"
   ]
  },
  {
   "cell_type": "markdown",
   "id": "e8a215ff-03fb-4dc0-85fb-bade72558d78",
   "metadata": {},
   "source": [
    "Provar invariante"
   ]
  },
  {
   "cell_type": "code",
   "execution_count": 6,
   "id": "c9179d6c-3fa0-4813-9f03-4fb8f7e6e444",
   "metadata": {},
   "outputs": [],
   "source": [
    "def bmc_always(declare,init,trans,inv,K):\n",
    "    for k in range(1,K+1):\n",
    "        with Solver(name=\"z3\") as s:\n",
    "\n",
    "            trace = [declare(i) for i in range(k)]\n",
    "    \n",
    "            s.add_assertion(init(trace[0]))\n",
    "            for i in range(k-1):\n",
    "                s.add_assertion(trans(trace[i], trace[i+1]))\n",
    "            \n",
    "            # \n",
    "            s.add_assertion(Not(inv(trace[k-1])))\n",
    "            if s.solve():\n",
    "                for i in range(k):\n",
    "                    print(i)\n",
    "                    print(\"pc=\", s.get_value(trace[i]['pc']))\n",
    "                    print(\"x=\", s.get_value(trace[i]['x']))\n",
    "                return\n",
    "            \n",
    "    print(\"A propriedade é válida para o invariante\")\n",
    "\n",
    "def P(state):\n",
    "    return Equals(BVAdd(BVMul(state['x'],state['y']),state['z']), BVMul(BV(a,n),BV(b,n)))"
   ]
  },
  {
   "cell_type": "code",
   "execution_count": 5,
   "id": "25b9b9c8-1882-4172-a4a6-2dd7d5211c32",
   "metadata": {},
   "outputs": [
    {
     "name": "stdout",
     "output_type": "stream",
     "text": [
      "A propriedade é válida para o invariante\n"
     ]
    }
   ],
   "source": [
    "bmc_always(declare,init,trans,P,3)"
   ]
  },
  {
   "cell_type": "code",
   "execution_count": null,
   "id": "c600f9f5-df42-444e-a60e-e60bf396ae3c",
   "metadata": {},
   "outputs": [],
   "source": []
  }
 ],
 "metadata": {
  "kernelspec": {
   "display_name": "Python 3.10.6 ('logica')",
   "language": "python",
   "name": "python3"
  },
  "language_info": {
   "codemirror_mode": {
    "name": "ipython",
    "version": 3
   },
   "file_extension": ".py",
   "mimetype": "text/x-python",
   "name": "python",
   "nbconvert_exporter": "python",
   "pygments_lexer": "ipython3",
   "version": "3.10.6"
  },
  "vscode": {
   "interpreter": {
    "hash": "e6e0711b34581e9d3d394d0e05c7a638721b909a5489b142ff17259bed82d5d5"
   }
  }
 },
 "nbformat": 4,
 "nbformat_minor": 5
}

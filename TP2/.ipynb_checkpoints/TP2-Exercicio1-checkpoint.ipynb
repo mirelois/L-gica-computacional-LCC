{
 "cells": [
  {
   "cell_type": "markdown",
   "id": "fe9f5e77-3896-4e2f-8436-455e9084499e",
   "metadata": {},
   "source": [
    "# TP2\n",
    "## Grupo 15\n",
    "\n",
    "Carlos Eduardo Da Silva Machado A96936\n",
    "\n",
    "Gonçalo Manuel Maia de Sousa A97485"
   ]
  },
  {
   "cell_type": "markdown",
   "id": "23aaf1cd-86ca-4829-9cf6-e2f10c30b7bc",
   "metadata": {},
   "source": [
    "## Problema 1"
   ]
  },
  {
   "cell_type": "markdown",
   "id": "c22f3a3d-37ad-440c-acbf-9849857f108d",
   "metadata": {},
   "source": [
    "### Descrição do Problema"
   ]
  },
  {
   "cell_type": "markdown",
   "id": "79dbb8c4-23d0-4c5c-970e-1713eff7ff5d",
   "metadata": {},
   "source": [
    "É nos dado um Control Flow Automaton (CFA) que descreve um programa imperativo cujo objetivo é implementar a multiplicação de dois inteiros a,b, fornecidos como \"input\" e um n, também fornecido como \"input\", de precisão limitada.\n",
    "Para alem disso, temos de ter em conta os seguintes aspetos:\n",
    "- Existe a possibilidade de alguma das operações do programa produzir um erro de “overflow”;\n",
    "- Os nós do grafo representam ações  que actuam sobre os “inputs” do nó e produzem um “output” com as operações indicadas;\n",
    "- Os ramos do grafo representam ligações que transferem o “output” de um nodo para o “input” do nodo seguinte. Esta transferência é condicionada pela satisfação da condição associada ao ramo."
   ]
  },
  {
   "cell_type": "markdown",
   "id": "6680cc2f-e9cf-4c2d-b839-a38e675edf2f",
   "metadata": {},
   "source": [
    "### Abordagem do Problema"
   ]
  },
  {
   "cell_type": "markdown",
   "id": "22d4b6d5-d90f-45e6-9ce9-6bd0ada2fc06",
   "metadata": {},
   "source": [
    "Para resolver este problema, vamos construir um First Order Transition System (FOTS) usando um BitVector de tamanho n de forma a descrever o comportamento do autómato acima mencionado.\n",
    "\n",
    "( Talvez seja fixe mencionar a escolha do solver aqui futuramente)\n",
    "\n",
    "Para além do FOTS, também vamos verificar se $P≡(x∗y+z=a∗b)$ é um invariante do comportamento que estamos a estudar.\n"
   ]
  },
  {
   "cell_type": "markdown",
   "id": "be8c49f4-36bb-43eb-bea7-93ccf88eb367",
   "metadata": {},
   "source": [
    "## Código Python"
   ]
  },
  {
   "cell_type": "markdown",
   "id": "375319eb-86b6-484d-9a9b-c35e4ae73df0",
   "metadata": {},
   "source": [
    "variaveis -> x,y,z e o program counter (nº de linhas de código)\n",
    "\n",
    "x,y,z = a,b,0\n",
    "\n",
    "ideia 1:\n",
    "0: while(y!=0):\n",
    "\n",
    "1: \tif even(y) then x,y,z = 2*x,y/2,z\n",
    "\n",
    "2:\tif odd(y)  then x,y,z = x,y-1,z+x\n",
    "\n",
    "3: stop\n",
    "\n",
    "ideia 2:\n",
    "\n",
    "0: while(y!=0):\n",
    "\n",
    " \tif even(y) then x,y,z = 2*x,y/2,z\n",
    "\n",
    "\tif odd(y)  then x,y,z = x,y-1,z+x\n",
    "\n",
    "1: stop\n",
    "\n",
    "\n",
    "outras ideias que podem ser importantes: na aula T do dia 4 vimos que o stor evita usar o diferente por causa de ter problemas com indicibilidade, devemos também fazer o mesmo, vou cometer o erro aqui em baixo de usar not equals mas talvez temos de trocar depois.não esquecer"
   ]
  },
  {
   "cell_type": "code",
   "execution_count": 8,
   "id": "4378d36e-2646-4181-90ee-081f3aeb426b",
   "metadata": {},
   "outputs": [],
   "source": [
    "from pysmt.shortcuts import *\n",
    "from pysmt.typing import INT\n",
    "import random as rn\n",
    "\n",
    "# vou declarar aqui um exemplo depois passamos para exemplos separados\n",
    "n = 2 # [0,0] [0,1] [1,0] [1,1]\n",
    "a = 2\n",
    "b = 2"
   ]
  },
  {
   "cell_type": "markdown",
   "id": "1316cba1-e814-479a-9816-900353135372",
   "metadata": {},
   "source": [
    " $$\\mathsf{trans}(x,y,z,pc,x',y',z',pc')\\;\\equiv\\;$$\n",
    " $$\\left\\{\\begin{array}{lr} (y=0)\\land (pc=0) \\land (x'=x)\\land (y'=y) \\land (c'=c) \\land (pc'=3) & \\lor \\\\ (a > b)\\land(c=0)\\land (a'+b=a) \\land (b'=b)\\land (c'=0) & \\lor \\\\ (a < b)\\land (c=0) \\land (b'+a = b)\\land (a'=a)\\land (c'=0) & \\lor \\\\ (c=1)\\land(c'=1)\\land (a'=a)\\land (b'=b) & \\end{array}\\right.$$\n"
   ]
  },
  {
   "cell_type": "code",
   "execution_count": 9,
   "id": "af48e4b3-a209-4b96-bca4-13ce75c4aa2c",
   "metadata": {},
   "outputs": [],
   "source": [
    "# Ideias à toa, não faz muito sentido o que está escrito aqui a baixo\n",
    "\n",
    "def geraBV(valor,n):       \n",
    "    return BV(valor,n)\n",
    "\n",
    "def declare(i):\n",
    "    state = {}\n",
    "    state['pc'] = Symbol('pc'+str(i),INT)\n",
    "    state['x'] = Symbol('x'+str(i),types.BVType(n))\n",
    "    state['y'] = Symbol('y'+str(i),types.BVType(n))\n",
    "    state['z'] = Symbol('z'+str(i),types.BVType(n))\n",
    "    return state\n",
    "\n",
    "def init(state):\n",
    "    return And(Equals(state['pc'],Int(0)),Equals(BVComp(state['z'], geraBV(0,n))), Equals(BVComp(state['x'], geraBV(a,n)), Equals(BVComp(state['y'], geraBV(b,n)), Int(1))))\n",
    "\n",
    "def trans(curr,prox):\n",
    "    tToStop = And(Equals(curr['y'],Int(0)),Equals(curr['pc'],Int(0)),Equals(prox['x'],curr['x']), Equals(prox['y'],curr['y']), Equals(prox['c'],curr['c']), Equals(prox['pc'],Int(1)))\n",
    "    tEven   = And(Equals(curr['pc'],Int(0)),Equals(BVExtract(curr['y'],n-1),Int(0)), Equals(BVExtract(curr['y'],0,0),Int(0)), Equals(prox['pc'],Int(0)), Equals(prox['z'],curr['z']), Equals(prox['x'], BVLShl(curr['x'],geraBV(2,n))), Equals(prox['y'], BVLShr(curr['y'],geraBV(2,n))))\n",
    "    tError  = And(Equals(curr['pc'],Int(0)),Equals(BVExtract(curr['y'],n-1),Int(0)), Equals(BVExtract(curr['y'],0,0),Int(1)), Equals(prox['pc'],Int(2)), Equals(prox['z'],curr['z']), Equals(prox['x'], curr['x']), Equals(prox['y'],curr['y']))\n",
    "    tOdd    = And(Equals(curr['pc'],Int(0)),Equals(BVExtract(curr['y'],n-1),Int(1)), Equals(prox['pc'],Int(0)), Equals(prox['z'],BVAdd(curr['z'],curr['x'])), Equals(prox['x'], curr['x']), Equals(prox['y'],BVAdd(curr['y'],geraBV(1,n))))\n",
    "    tEnd    = And(Equals(curr['pc'],Int(1)), Equals(prox['x'],curr['x']),Equals(prox['y'],curr['y']),Equals(prox['z'],curr['z']),Equals(prox['pc'],Int(1)))\n",
    "    return Or(tToStop,tEven,tOdd,tEnd)\n",
    "\n"
   ]
  },
  {
   "cell_type": "code",
   "execution_count": 5,
   "id": "b6ce854e-29fb-491f-879d-752abfca6252",
   "metadata": {},
   "outputs": [],
   "source": [
    "with Solver(name=\"z3\") as s:\n",
    "    \n",
    "        # completar\n",
    "    \n",
    "        # cria k copias do estado\n",
    "        trace = [declare(i) for i in range(3)]\n",
    "\n",
    "        # criar o traço\n",
    "        s.add_assertion(init(trace[0]))\n",
    "        for i in range(3-1):\n",
    "            s.add_assertion(trans(trace[i], trace[i+1]))\n",
    "        \n",
    "        if s.solve():\n",
    "            for i in range(3):\n",
    "                print(i)\n"
   ]
  },
  {
   "cell_type": "code",
   "execution_count": 7,
   "id": "c7ab3616-5b0f-439e-bb97-4106cda41c69",
   "metadata": {},
   "outputs": [
    {
     "ename": "NameError",
     "evalue": "name 'Solver' is not defined",
     "output_type": "error",
     "traceback": [
      "\u001b[1;31m---------------------------------------------------------------------------\u001b[0m",
      "\u001b[1;31mNameError\u001b[0m                                 Traceback (most recent call last)",
      "Input \u001b[1;32mIn [7]\u001b[0m, in \u001b[0;36m<cell line: 1>\u001b[1;34m()\u001b[0m\n\u001b[1;32m----> 1\u001b[0m \u001b[43mresolvestaporra\u001b[49m\u001b[43m(\u001b[49m\u001b[43m)\u001b[49m\n",
      "Input \u001b[1;32mIn [5]\u001b[0m, in \u001b[0;36mresolvestaporra\u001b[1;34m()\u001b[0m\n\u001b[0;32m      1\u001b[0m \u001b[38;5;28;01mdef\u001b[39;00m \u001b[38;5;21mresolvestaporra\u001b[39m():\n\u001b[1;32m----> 2\u001b[0m     \u001b[38;5;28;01mwith\u001b[39;00m \u001b[43mSolver\u001b[49m(name\u001b[38;5;241m=\u001b[39m\u001b[38;5;124m\"\u001b[39m\u001b[38;5;124mz3\u001b[39m\u001b[38;5;124m\"\u001b[39m) \u001b[38;5;28;01mas\u001b[39;00m s:\n\u001b[0;32m      3\u001b[0m         \u001b[38;5;28;01mif\u001b[39;00m s\u001b[38;5;241m.\u001b[39msolve():\n\u001b[0;32m      4\u001b[0m             \u001b[38;5;28mprint\u001b[39m(\u001b[38;5;124m\"\u001b[39m\u001b[38;5;124mola\u001b[39m\u001b[38;5;124m\"\u001b[39m)\n",
      "\u001b[1;31mNameError\u001b[0m: name 'Solver' is not defined"
     ]
    }
   ],
   "source": []
  },
  {
   "cell_type": "code",
   "execution_count": null,
   "id": "539fc3c7-aea9-4640-8f70-5dc38113f43e",
   "metadata": {},
   "outputs": [],
   "source": []
  }
 ],
 "metadata": {
  "kernelspec": {
   "display_name": "Python 3 (ipykernel)",
   "language": "python",
   "name": "python3"
  },
  "language_info": {
   "codemirror_mode": {
    "name": "ipython",
    "version": 3
   },
   "file_extension": ".py",
   "mimetype": "text/x-python",
   "name": "python",
   "nbconvert_exporter": "python",
   "pygments_lexer": "ipython3",
   "version": "3.10.6"
  }
 },
 "nbformat": 4,
 "nbformat_minor": 5
}

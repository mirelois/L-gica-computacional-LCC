{
 "cells": [
  {
   "cell_type": "markdown",
   "id": "c28cc3cc-f8fd-45a6-a350-b66ee497f1ce",
   "metadata": {},
   "source": [
    "# TP2\n",
    "## Grupo 15\n",
    "\n",
    "Carlos Eduardo Da Silva Machado A96936\n",
    "\n",
    "Gonçalo Manuel Maia de Sousa A97485"
   ]
  },
  {
   "cell_type": "markdown",
   "id": "1db240c2-ae70-4102-8513-42d30d4cf789",
   "metadata": {},
   "source": [
    "## Problema 2"
   ]
  },
  {
   "cell_type": "markdown",
   "id": "18052233-a40c-49e1-a069-bdd4109fb2fe",
   "metadata": {},
   "source": [
    "### Descrição do Problema"
   ]
  },
  {
   "cell_type": "markdown",
   "id": "b28c0426-53d3-4ef2-9268-44658f0dc117",
   "metadata": {},
   "source": []
  },
  {
   "cell_type": "markdown",
   "id": "513bbb6b-3f17-44a2-94ec-55e15e0245e4",
   "metadata": {},
   "source": [
    "### Abordagem do Problema"
   ]
  },
  {
   "cell_type": "markdown",
   "id": "b66b9043-89a5-4834-b334-96008c37373d",
   "metadata": {},
   "source": []
  },
  {
   "cell_type": "markdown",
   "id": "185344a2-9619-4efc-9545-6cecf34efebf",
   "metadata": {},
   "source": [
    "## Código Python"
   ]
  },
  {
   "cell_type": "code",
   "execution_count": 1,
   "id": "8e69cf88-6c27-4157-8ce9-a5c5f0cd359b",
   "metadata": {},
   "outputs": [
    {
     "name": "stdout",
     "output_type": "stream",
     "text": [
      "1\n"
     ]
    }
   ],
   "source": [
    "\n",
    "from pysmt.shortcuts import *\n",
    "from pysmt.typing import INT\n",
    "import random as rn\n",
    "from pprint import pprint\n",
    "N = 20\n",
    "p = 1\n",
    "centro = (4,4)\n",
    "k = 7\n",
    "def gera_rand():\n",
    "    return rn.choices([0,1],[1-p,p],k=1)[0]\n",
    "\n",
    "print(rn.choices([0,1],[1-p,p],k=1)[0])\n",
    "\n"
   ]
  },
  {
   "cell_type": "code",
   "execution_count": 2,
   "id": "901ba852",
   "metadata": {},
   "outputs": [],
   "source": [
    "def declare(c):\n",
    "    state = dict()\n",
    "    #state['pc'] = Symbol('pc'+str(c),INT)\n",
    "    for i in range(1,N+1):\n",
    "        for j in range(1,N+1):\n",
    "            state[f'({i},{j})'] = Symbol(f'({i},{j})'+str(c),INT)\n",
    "    return state\n",
    "\n",
    "def init(state):\n",
    "    l = list()\n",
    "    for i in range(1,N+1):\n",
    "        l.append(Equals(state[f'({i},1)'], Int(gera_rand())))\n",
    "    for j in range(2,N+1):\n",
    "        l.append(Equals(state[f'(1,{j})'], Int(gera_rand())))\n",
    "    \n",
    "    ic,jc = centro\n",
    "    \n",
    "    for i in range(2,N+1):\n",
    "        for j in range(2,N+1):\n",
    "            if i in [ic-1,ic, ic+1] and j in [jc-1, jc, jc+1]:\n",
    "                l.append(Equals(state[f'({i},{j})'], Int(1)))\n",
    "            else:\n",
    "                l.append(Equals(state[f'({i},{j})'], Int(0)))\n",
    "            \n",
    "    #l.append(Equals(state['pc'], Int(0)))\n",
    "    return And(l)\n",
    "\n",
    "def PontosProximos(pos):\n",
    "    p = [(pos[0]+1,pos[1]),(pos[0]-1,pos[1]),(pos[0],pos[1]+1),(pos[0],pos[1]-1),(pos[0]-1,pos[1]-1),(pos[0]+1,pos[1]+1),(pos[0]-1,pos[1]+1),(pos[0]+1, pos[1]-1)]\n",
    "    return list(filter(lambda x: x[0] < N+1 and x[1] < N+1,  p))\n",
    "\n",
    "\n",
    "def trans(curr,prox):\n",
    "    l = []\n",
    "    for i in range(1,N+1):\n",
    "        l.append(Equals(prox[f'({i},1)'], curr[f'({i},1)']))\n",
    "    for j in range(2,N+1):\n",
    "        l.append(Equals(prox[f'(1,{j})'], curr[f'(1,{i})']))\n",
    "    for i in range(2,N+1):\n",
    "        for j in range(2,N+1):\n",
    "            valor = Plus([curr[f'({x},{y})'] for x,y in PontosProximos((i,j))])\n",
    "            tBorn = And(Equals(curr[f'({i},{j})'], Int(0)), Equals(valor, Int(3)), Equals(prox[f'({i},{j})'], Int(1)))\n",
    "            tStayAlive = And(Equals(curr[f'({i},{j})'], Int(1)), Or(Equals(valor, Int(2)),Equals(valor, Int(3))), Equals(prox[f'({i},{j})'], Int(1)))\n",
    "            tDie = And(Equals(curr[f'({i},{j})'], Int(1)), Or(valor < Int(2),valor > Int(3)), Equals(prox[f'({i},{j})'], Int(0)))\n",
    "            tStillDead = And(Equals(curr[f'({i},{j})'], Int(0)), Or(valor <= Int(2),valor > Int(3)), Equals(prox[f'({i},{j})'],Int(0)))\n",
    "            \n",
    "            l.append(Or(tBorn, tStayAlive, tDie,tStillDead))\n",
    "            \n",
    "    #tPC = Equals(prox['pc'], Plus(curr['pc'], Int(1)))\n",
    "    #l.append(tPC)\n",
    "    return And(l)\n",
    "\n"
   ]
  },
  {
   "cell_type": "code",
   "execution_count": 3,
   "id": "a941db6b-6e43-4643-b40c-a53186996ce2",
   "metadata": {},
   "outputs": [
    {
     "name": "stdout",
     "output_type": "stream",
     "text": [
      "[1, 1, 1, 1, 1, 1, 1]\n",
      "[1, 0, 0, 0, 0, 0, 0]\n",
      "[1, 0, 1, 1, 1, 0, 0]\n",
      "[1, 0, 1, 1, 1, 0, 0]\n",
      "[1, 0, 1, 1, 1, 0, 0]\n",
      "[1, 0, 0, 0, 0, 0, 0]\n",
      "[1, 0, 0, 0, 0, 0, 0]\n",
      "\n",
      "[1, 1, 1, 1, 1, 1, 1]\n",
      "[1, 0, 0, 0, 0, 0, 0]\n",
      "[1, 0, 1, 0, 1, 0, 0]\n",
      "[1, 0, 0, 0, 0, 1, 0]\n",
      "[1, 0, 1, 0, 1, 0, 0]\n",
      "[1, 0, 0, 1, 0, 0, 0]\n",
      "[1, 0, 0, 0, 0, 0, 0]\n",
      "\n",
      "[1, 1, 1, 1, 1, 1, 1]\n",
      "[1, 0, 0, 0, 0, 0, 0]\n",
      "[1, 0, 0, 0, 0, 0, 0]\n",
      "[1, 0, 0, 0, 1, 1, 0]\n",
      "[1, 0, 0, 1, 1, 0, 0]\n",
      "[1, 0, 0, 1, 0, 0, 0]\n",
      "[1, 0, 0, 0, 0, 0, 0]\n",
      "\n",
      "[1, 1, 1, 1, 1, 1, 1]\n",
      "[1, 0, 1, 1, 1, 1, 0]\n",
      "[1, 1, 0, 0, 0, 0, 0]\n",
      "[1, 1, 0, 1, 1, 1, 0]\n",
      "[1, 1, 0, 1, 0, 1, 0]\n",
      "[1, 1, 0, 1, 1, 0, 0]\n",
      "[1, 0, 0, 0, 0, 0, 0]\n",
      "\n",
      "[1, 1, 1, 1, 1, 1, 1]\n",
      "[1, 0, 0, 0, 0, 0, 1]\n",
      "[1, 0, 0, 0, 0, 0, 0]\n",
      "[1, 0, 0, 1, 0, 1, 0]\n",
      "[1, 0, 0, 0, 0, 1, 0]\n",
      "[1, 0, 0, 1, 1, 0, 0]\n",
      "[1, 1, 0, 0, 0, 0, 0]\n",
      "\n",
      "[1, 1, 1, 1, 1, 1, 1]\n",
      "[1, 0, 1, 1, 1, 0, 1]\n",
      "[1, 1, 0, 0, 0, 0, 0]\n",
      "[1, 1, 0, 0, 1, 0, 0]\n",
      "[1, 1, 0, 1, 0, 1, 0]\n",
      "[1, 0, 0, 0, 1, 0, 0]\n",
      "[1, 1, 0, 0, 0, 0, 0]\n",
      "\n",
      "[1, 1, 1, 1, 1, 1, 1]\n",
      "[1, 0, 0, 0, 0, 0, 1]\n",
      "[1, 0, 0, 0, 1, 1, 0]\n",
      "[1, 0, 0, 0, 1, 0, 0]\n",
      "[1, 0, 1, 1, 0, 1, 0]\n",
      "[1, 0, 1, 0, 1, 0, 0]\n",
      "[1, 1, 0, 0, 0, 0, 0]\n",
      "\n",
      "[1, 1, 1, 1, 1, 1, 1]\n",
      "[1, 0, 1, 0, 0, 0, 1]\n",
      "[1, 1, 0, 0, 1, 1, 0]\n",
      "[1, 0, 0, 0, 0, 0, 0]\n",
      "[1, 0, 1, 0, 0, 1, 0]\n",
      "[1, 0, 1, 0, 1, 0, 0]\n",
      "[1, 1, 0, 0, 0, 0, 0]\n",
      "\n",
      "[1, 1, 1, 1, 1, 1, 1]\n",
      "[1, 0, 0, 0, 0, 0, 1]\n",
      "[1, 0, 0, 0, 0, 1, 0]\n",
      "[1, 0, 0, 0, 1, 1, 0]\n",
      "[1, 0, 0, 1, 0, 0, 0]\n",
      "[1, 0, 1, 1, 0, 0, 0]\n",
      "[1, 1, 0, 0, 0, 0, 0]\n",
      "\n",
      "[1, 1, 1, 1, 1, 1, 1]\n",
      "[1, 0, 1, 1, 0, 0, 1]\n",
      "[1, 1, 0, 0, 1, 1, 1]\n",
      "[1, 1, 0, 0, 1, 1, 0]\n",
      "[1, 0, 1, 1, 0, 0, 0]\n",
      "[1, 0, 1, 1, 0, 0, 0]\n",
      "[1, 1, 1, 0, 0, 0, 0]\n",
      "\n"
     ]
    }
   ],
   "source": [
    "with Solver(name=\"z3\") as s:\n",
    "    \n",
    "        # completar\n",
    "    \n",
    "        # cria k copias do estado\n",
    "        trace = [declare(i) for i in range(k)]\n",
    "        #pprint(trace)\n",
    "        # criar o traço\n",
    "        s.add_assertion(init(trace[0]))\n",
    "        #print(init(trace[0]))\n",
    "        for i in range(k-1):\n",
    "            s.add_assertion(trans(trace[i], trace[i+1]))\n",
    "        \n",
    "        if s.solve():\n",
    "            for i in range(k):\n",
    "                #print(s.get_value(trace[i]['pc']))\n",
    "                for x in range(1,N+1):\n",
    "                    print([s.get_value(trace[i][f'({k},{x})']) for k in range(1,N+1)])\n",
    "                print()\n",
    "        else:\n",
    "            print('no')"
   ]
  },
  {
   "cell_type": "code",
   "execution_count": null,
   "id": "551b62d0-69f2-44d0-92fa-69a8265b3bdc",
   "metadata": {},
   "outputs": [],
   "source": []
  }
 ],
 "metadata": {
  "kernelspec": {
   "display_name": "Python 3 (ipykernel)",
   "language": "python",
   "name": "python3"
  },
  "language_info": {
   "codemirror_mode": {
    "name": "ipython",
    "version": 3
   },
   "file_extension": ".py",
   "mimetype": "text/x-python",
   "name": "python",
   "nbconvert_exporter": "python",
   "pygments_lexer": "ipython3",
   "version": "3.10.6"
  },
  "vscode": {
   "interpreter": {
    "hash": "e6e0711b34581e9d3d394d0e05c7a638721b909a5489b142ff17259bed82d5d5"
   }
  }
 },
 "nbformat": 4,
 "nbformat_minor": 5
}

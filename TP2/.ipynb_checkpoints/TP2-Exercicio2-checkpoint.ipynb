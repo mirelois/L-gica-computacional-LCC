{
 "cells": [
  {
   "cell_type": "markdown",
   "id": "c28cc3cc-f8fd-45a6-a350-b66ee497f1ce",
   "metadata": {},
   "source": [
    "# TP2\n",
    "## Grupo 15\n",
    "\n",
    "Carlos Eduardo Da Silva Machado A96936\n",
    "\n",
    "Gonçalo Manuel Maia de Sousa A97485"
   ]
  },
  {
   "cell_type": "markdown",
   "id": "1db240c2-ae70-4102-8513-42d30d4cf789",
   "metadata": {},
   "source": [
    "## Problema 2"
   ]
  },
  {
   "cell_type": "markdown",
   "id": "18052233-a40c-49e1-a069-bdd4109fb2fe",
   "metadata": {},
   "source": [
    "### Descrição do Problema"
   ]
  },
  {
   "cell_type": "markdown",
   "id": "b28c0426-53d3-4ef2-9268-44658f0dc117",
   "metadata": {},
   "source": []
  },
  {
   "cell_type": "markdown",
   "id": "513bbb6b-3f17-44a2-94ec-55e15e0245e4",
   "metadata": {},
   "source": [
    "### Abordagem do Problema"
   ]
  },
  {
   "cell_type": "markdown",
   "id": "b66b9043-89a5-4834-b334-96008c37373d",
   "metadata": {},
   "source": []
  },
  {
   "cell_type": "markdown",
   "id": "185344a2-9619-4efc-9545-6cecf34efebf",
   "metadata": {},
   "source": [
    "## Código Python"
   ]
  },
  {
   "cell_type": "code",
   "execution_count": 6,
   "id": "8e69cf88-6c27-4157-8ce9-a5c5f0cd359b",
   "metadata": {},
   "outputs": [
    {
     "name": "stdout",
     "output_type": "stream",
     "text": [
      "0\n"
     ]
    }
   ],
   "source": [
    "\n",
    "from pysmt.shortcuts import *\n",
    "from pysmt.typing import INT\n",
    "import random as rn\n",
    "N = 10\n",
    "p = 0.01\n",
    "centro = (0,0)\n",
    "\n",
    "def gera_rand():\n",
    "    return rn.choices([0,1],[1-p,p],k=1)[0]\n",
    "\n",
    "print(rn.choices([0,1],[1-p,p],k=1)[0])\n",
    "\n"
   ]
  },
  {
   "cell_type": "code",
   "execution_count": 7,
   "id": "901ba852",
   "metadata": {},
   "outputs": [],
   "source": [
    "def declare(i):\n",
    "    state = dict()\n",
    "    state['pc'] = Symbol('pc'+str(i),INT)\n",
    "    for i in range(1,N+1):\n",
    "        for j in range(1,N+1):\n",
    "            state[f'({i},{j})'] = Symbol('(i,j)'+str(i),INT)\n",
    "    return state\n",
    "\n",
    "def init(state):\n",
    "    l = list()\n",
    "    for i in range(1,N+1):\n",
    "        l.append(Equals(state[f'({i},1)'], Int(gera_rand())))\n",
    "    for j in range(2,N+1):\n",
    "        l.append(Equals(state[f'(1,{j})'], Int(gera_rand())))\n",
    "    \n",
    "    ic,jc = centro\n",
    "    \n",
    "    for i in [ic-1,ic, ic+1]:\n",
    "        for j in [jc-1, jc, jc+1]:\n",
    "            l.append(Equals(state[f'{i},{j}'], Int(1)))\n",
    "    return l\n",
    "\n",
    "def PontosProximos(pos):\n",
    "    return [(pos[0]+1,pos[1]),(pos[0]-1,pos[1]),(pos[0],pos[1]+1),(pos[0],pos[1]-1),(pos[0]-1,pos[1]-1),(pos[0]+1,pos[1]+1),(pos[0]-1,pos[1]+1),(pos[0]+1, pos[1]-1)]\n",
    "\n",
    "def trans(curr,prox):\n",
    "    l = []\n",
    "    for i in range(2,N+1):\n",
    "        for j in range(2,N+1):\n",
    "            valor = sum(filter(lambda x,y: x < N+1, y < N+1,  PontosProximos(i,j)))\n",
    "            tBorn = And(Equals(curr[f'({i},{j})'], Int(0)), Equals(Int(valor), Int(3)))\n",
    "            tStayAlive = And(Equals(curr[f'({i},{j})'], Int(1)), Or(Equals(Int(valor), Int(2)),Equals(Int(valor), Int(3))))\n",
    "            tDie = And(Equals(curr[f'({i},{j})'], Int(1)), Or(Int(valor) < Int(2),Int(valor) > Int(3)))\n",
    "            tStillDead = And(Equals(curr[f'({i},{j})'], Int(0)), Or(Int(valor) < Int(2),Int(valor) > Int(3)))\n",
    "            l.add(Or(tBorn, tStayAlive, tDie, tStillDead))\n",
    "            \n",
    "    return And(l)\n",
    "\n"
   ]
  },
  {
   "cell_type": "code",
   "execution_count": 8,
   "id": "a941db6b-6e43-4643-b40c-a53186996ce2",
   "metadata": {},
   "outputs": [
    {
     "ename": "KeyError",
     "evalue": "'(1,2'",
     "output_type": "error",
     "traceback": [
      "\u001b[1;31m---------------------------------------------------------------------------\u001b[0m",
      "\u001b[1;31mKeyError\u001b[0m                                  Traceback (most recent call last)",
      "Input \u001b[1;32mIn [8]\u001b[0m, in \u001b[0;36m<cell line: 1>\u001b[1;34m()\u001b[0m\n\u001b[0;32m      6\u001b[0m trace \u001b[38;5;241m=\u001b[39m [declare(i) \u001b[38;5;28;01mfor\u001b[39;00m i \u001b[38;5;129;01min\u001b[39;00m \u001b[38;5;28mrange\u001b[39m(\u001b[38;5;241m100\u001b[39m)]\n\u001b[0;32m      7\u001b[0m \u001b[38;5;66;03m#print(trace)\u001b[39;00m\n\u001b[0;32m      8\u001b[0m \u001b[38;5;66;03m# criar o traço\u001b[39;00m\n\u001b[1;32m----> 9\u001b[0m s\u001b[38;5;241m.\u001b[39madd_assertion(\u001b[43minit\u001b[49m\u001b[43m(\u001b[49m\u001b[43mtrace\u001b[49m\u001b[43m[\u001b[49m\u001b[38;5;241;43m0\u001b[39;49m\u001b[43m]\u001b[49m\u001b[43m)\u001b[49m)\n\u001b[0;32m     10\u001b[0m \u001b[38;5;66;03m#print(init(trace[0]))\u001b[39;00m\n\u001b[0;32m     11\u001b[0m \u001b[38;5;28;01mfor\u001b[39;00m i \u001b[38;5;129;01min\u001b[39;00m \u001b[38;5;28mrange\u001b[39m(k\u001b[38;5;241m-\u001b[39m\u001b[38;5;241m1\u001b[39m):\n",
      "Input \u001b[1;32mIn [7]\u001b[0m, in \u001b[0;36minit\u001b[1;34m(state)\u001b[0m\n\u001b[0;32m     12\u001b[0m     l\u001b[38;5;241m.\u001b[39mappend(Equals(state[\u001b[38;5;124mf\u001b[39m\u001b[38;5;124m'\u001b[39m\u001b[38;5;124m(\u001b[39m\u001b[38;5;132;01m{\u001b[39;00mi\u001b[38;5;132;01m}\u001b[39;00m\u001b[38;5;124m,1)\u001b[39m\u001b[38;5;124m'\u001b[39m], Int(gera_rand())))\n\u001b[0;32m     13\u001b[0m \u001b[38;5;28;01mfor\u001b[39;00m j \u001b[38;5;129;01min\u001b[39;00m \u001b[38;5;28mrange\u001b[39m(\u001b[38;5;241m2\u001b[39m,N\u001b[38;5;241m+\u001b[39m\u001b[38;5;241m1\u001b[39m):\n\u001b[1;32m---> 14\u001b[0m     l\u001b[38;5;241m.\u001b[39mappend(Equals(\u001b[43mstate\u001b[49m\u001b[43m[\u001b[49m\u001b[38;5;124;43mf\u001b[39;49m\u001b[38;5;124;43m'\u001b[39;49m\u001b[38;5;124;43m(1,\u001b[39;49m\u001b[38;5;132;43;01m{\u001b[39;49;00m\u001b[43mj\u001b[49m\u001b[38;5;132;43;01m}\u001b[39;49;00m\u001b[38;5;124;43m'\u001b[39;49m\u001b[43m]\u001b[49m, Int(gera_rand())))\n\u001b[0;32m     16\u001b[0m ic,jc \u001b[38;5;241m=\u001b[39m centro\n\u001b[0;32m     18\u001b[0m \u001b[38;5;28;01mfor\u001b[39;00m i \u001b[38;5;129;01min\u001b[39;00m [ic\u001b[38;5;241m-\u001b[39m\u001b[38;5;241m1\u001b[39m,ic, ic\u001b[38;5;241m+\u001b[39m\u001b[38;5;241m1\u001b[39m]:\n",
      "\u001b[1;31mKeyError\u001b[0m: '(1,2'"
     ]
    }
   ],
   "source": []
  },
  {
   "cell_type": "code",
   "execution_count": null,
   "id": "551b62d0-69f2-44d0-92fa-69a8265b3bdc",
   "metadata": {},
   "outputs": [],
   "source": []
  }
 ],
 "metadata": {
  "kernelspec": {
   "display_name": "Python 3 (ipykernel)",
   "language": "python",
   "name": "python3"
  },
  "language_info": {
   "codemirror_mode": {
    "name": "ipython",
    "version": 3
   },
   "file_extension": ".py",
   "mimetype": "text/x-python",
   "name": "python",
   "nbconvert_exporter": "python",
   "pygments_lexer": "ipython3",
   "version": "3.10.6"
  },
  "vscode": {
   "interpreter": {
    "hash": "e6e0711b34581e9d3d394d0e05c7a638721b909a5489b142ff17259bed82d5d5"
   }
  }
 },
 "nbformat": 4,
 "nbformat_minor": 5
}

{
 "cells": [
  {
   "cell_type": "markdown",
   "id": "c28cc3cc-f8fd-45a6-a350-b66ee497f1ce",
   "metadata": {},
   "source": [
    "# TP2\n",
    "## Grupo 15\n",
    "\n",
    "Carlos Eduardo Da Silva Machado A96936\n",
    "\n",
    "Gonçalo Manuel Maia de Sousa A97485"
   ]
  },
  {
   "cell_type": "markdown",
   "id": "1db240c2-ae70-4102-8513-42d30d4cf789",
   "metadata": {},
   "source": [
    "## Problema 2"
   ]
  },
  {
   "cell_type": "markdown",
   "id": "18052233-a40c-49e1-a069-bdd4109fb2fe",
   "metadata": {},
   "source": [
    "### Descrição do Problema"
   ]
  },
  {
   "cell_type": "markdown",
   "id": "b28c0426-53d3-4ef2-9268-44658f0dc117",
   "metadata": {},
   "source": []
  },
  {
   "cell_type": "markdown",
   "id": "513bbb6b-3f17-44a2-94ec-55e15e0245e4",
   "metadata": {},
   "source": [
    "### Abordagem do Problema"
   ]
  },
  {
   "cell_type": "markdown",
   "id": "b66b9043-89a5-4834-b334-96008c37373d",
   "metadata": {},
   "source": []
  },
  {
   "cell_type": "markdown",
   "id": "185344a2-9619-4efc-9545-6cecf34efebf",
   "metadata": {},
   "source": [
    "## Código Python"
   ]
  },
  {
   "cell_type": "code",
   "execution_count": null,
   "id": "8e69cf88-6c27-4157-8ce9-a5c5f0cd359b",
   "metadata": {},
   "outputs": [],
   "source": [
    "from pysmt.shortcuts import *\n",
    "import pysmt.typing as types\n",
    "import random as rn\n",
    "N = 10\n",
    "p = 0.5\n",
    "centro = (0,0)\n",
    "\n"
   ]
  }
 ],
 "metadata": {
  "kernelspec": {
   "display_name": "Python 3 (ipykernel)",
   "language": "python",
   "name": "python3"
  },
  "language_info": {
   "codemirror_mode": {
    "name": "ipython",
    "version": 3
   },
   "file_extension": ".py",
   "mimetype": "text/x-python",
   "name": "python",
   "nbconvert_exporter": "python",
   "pygments_lexer": "ipython3",
   "version": "3.10.6"
  }
 },
 "nbformat": 4,
 "nbformat_minor": 5
}

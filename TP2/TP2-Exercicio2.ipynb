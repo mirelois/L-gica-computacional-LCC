{
 "cells": [
  {
   "cell_type": "markdown",
   "id": "c28cc3cc-f8fd-45a6-a350-b66ee497f1ce",
   "metadata": {},
   "source": [
    "# TP2\n",
    "## Grupo 15\n",
    "\n",
    "Carlos Eduardo Da Silva Machado A96936\n",
    "\n",
    "Gonçalo Manuel Maia de Sousa A97485"
   ]
  },
  {
   "cell_type": "markdown",
   "id": "1db240c2-ae70-4102-8513-42d30d4cf789",
   "metadata": {},
   "source": [
    "## Problema 2"
   ]
  },
  {
   "cell_type": "markdown",
   "id": "18052233-a40c-49e1-a069-bdd4109fb2fe",
   "metadata": {},
   "source": [
    "### Descrição do Problema"
   ]
  },
  {
   "cell_type": "markdown",
   "id": "b28c0426-53d3-4ef2-9268-44658f0dc117",
   "metadata": {},
   "source": [
    "\n",
    "2. O Conway’s Game of Life é um exemplo bastante conhecido de um autómato celular . Neste problema vamos modificar as regras do autómato da seguinte forma\n",
    "    1. O espaço de estados é finito definido por uma grelha de células booleanas (morta=0/viva=1) de dimensão $\\,N\\times N\\,$ (com $N>3$) identificadas por índices $\\,(i,j)\\in \\{1..N\\}$.  Estas $\\;N^2\\;$ células são aqui referidas como “normais”. \n",
    "    2. No estado inicial todas as células normais estão mortas excepto  um quadrado $\\,3\\times 3\\,$, designado por “centro”, aleatoriamente posicionado formado apenas por células vivas.\n",
    "    3. Adicionalmente existem $\\,2\\,N+1\\,$ “células da borda” que correspondem a um dos índices, $i$ ou $j$, ser zero. As células da borda têm valores constantes que, no estado inicial, são gerados aleatoriamente com uma probabilidade $\\,\\rho\\,$ de estarem vivas.\n",
    "    4. As células normais o autómato modificam o estado de acordo com a regra “B3/S23”: i.e. a célula nasce (passa de $0$ a $1$) se tem exatamente 3 vizinhos vivos e sobrevive (mantém-se viva) se o número de vizinhos vivos é 2 ou 3, caso contrário morre ou continua morta."
   ]
  },
  {
   "cell_type": "markdown",
   "id": "513bbb6b-3f17-44a2-94ec-55e15e0245e4",
   "metadata": {},
   "source": [
    "### Abordagem do Problema"
   ]
  },
  {
   "cell_type": "markdown",
   "id": "b66b9043-89a5-4834-b334-96008c37373d",
   "metadata": {},
   "source": [
    "Para resolver este problema construimos uma máquina de estados finita que representa esse automato, de modo que cada estado é representado unicamente por uma configuração específica de células vivas e mortas.\n",
    "\n",
    "São parametros deste problema:\n",
    "1. $\\rho$ a probabilidade de cada uma das células da borda estar viva.\n",
    "2. $N$ o tamaho do quadro.\n",
    "3. $k$ o limite imposto ao número de transições do autómato.\n",
    "4. $centro$ a posição do centro aleatóriamente posicionado.\n",
    "\n",
    "Para além do autómato é necessário verificar de as seguintes propriedades de aplicam:\n",
    "1. Todos os estados acessíveis contém pelo menos uma célula viva.\n",
    "2. Toda a célula normal está viva pelo menos uma vez em algum estado acessível."
   ]
  },
  {
   "cell_type": "markdown",
   "id": "185344a2-9619-4efc-9545-6cecf34efebf",
   "metadata": {},
   "source": [
    "## Código Python"
   ]
  },
  {
   "cell_type": "markdown",
   "id": "ad04c0e3",
   "metadata": {},
   "source": [
    "Esta secção de codigo serve para importar as bibliotecas nesseçárias para a realização do trabalho. Além disso, é aqui que declaramos os parâmetros $N$, $\\rho$ e a posição do centro "
   ]
  },
  {
   "cell_type": "code",
   "execution_count": 1,
   "id": "8e69cf88-6c27-4157-8ce9-a5c5f0cd359b",
   "metadata": {},
   "outputs": [],
   "source": [
    "import matplotlib.pyplot as plt\n",
    "from pysmt.shortcuts import *\n",
    "from pysmt.typing import INT\n",
    "import random as rn\n",
    "from pprint import pprint\n"
   ]
  },
  {
   "cell_type": "markdown",
   "id": "3b0b50e2",
   "metadata": {},
   "source": [
    "Aqui são apresentadas funções auxiliares."
   ]
  },
  {
   "cell_type": "code",
   "execution_count": 2,
   "id": "af1084a7",
   "metadata": {},
   "outputs": [],
   "source": [
    "def gera_rand(p,size):\n",
    "    return rn.choices([0,1],[1-p,p],k=size)\n",
    "\n",
    "def gera_border(p,size):\n",
    "    return (gera_rand(p,size),gera_rand(p,size-1))\n",
    "\n",
    "def gera_centro(N):\n",
    "    return (rn.randint(3,N-1),rn.randint(3,N-1))\n",
    "\n",
    "def PontosProximos(pos,N):\n",
    "    x,y = pos\n",
    "    p = [(x+1,y),(x-1,y),(x,y+1),(x,y-1),(x-1,y-1),(x+1,y+1),(x-1,y+1),(x+1, y-1)]\n",
    "    return list(filter(lambda x: x[0] < N+1 and x[1] < N+1,  p))"
   ]
  },
  {
   "cell_type": "markdown",
   "id": "96d7c584",
   "metadata": {},
   "source": [
    "# Construção da máquina de estados finita"
   ]
  },
  {
   "cell_type": "markdown",
   "id": "b2a5314f",
   "metadata": {},
   "source": [
    "Função de declaração."
   ]
  },
  {
   "cell_type": "code",
   "execution_count": 3,
   "id": "901ba852",
   "metadata": {},
   "outputs": [],
   "source": [
    "def declare(c,N):\n",
    "    state = dict()\n",
    "    for i in range(1,N+1):\n",
    "        for j in range(1,N+1):\n",
    "            state[f'({i},{j})'] = Symbol(f'({i},{j})'+str(c),INT)\n",
    "    return state"
   ]
  },
  {
   "cell_type": "markdown",
   "id": "c7025532",
   "metadata": {},
   "source": [
    "Função init."
   ]
  },
  {
   "cell_type": "code",
   "execution_count": 4,
   "id": "84b895eb",
   "metadata": {},
   "outputs": [],
   "source": [
    "def init(state,N,centro,border):\n",
    "    \n",
    "    l = list()\n",
    "    \n",
    "    for i,x in enumerate(border[0],start=1):\n",
    "        l.append(Equals(state[f'({i},1)'], Int(x)))\n",
    "    for j,x in enumerate(border[1],start=2):\n",
    "        l.append(Equals(state[f'(1,{j})'], Int(x)))\n",
    "        \n",
    "    ic,jc = centro\n",
    "    \n",
    "    for i in range(2,N+1):\n",
    "        for j in range(2,N+1):\n",
    "            if i in [ic-1,ic, ic+1] and j in [jc-1, jc, jc+1]:\n",
    "                l.append(Equals(state[f'({i},{j})'], Int(1)))\n",
    "            else:\n",
    "                l.append(Equals(state[f'({i},{j})'], Int(0)))\n",
    "            \n",
    "    #l.append(Equals(state['pc'], Int(0)))\n",
    "    return And(l)"
   ]
  },
  {
   "cell_type": "markdown",
   "id": "9d9c2e5d",
   "metadata": {},
   "source": [
    "Função de transição.\n",
    "\n",
    " $$\\mathsf{trans}(x_{i,j},x'_{i,j} : i,j \\in N, )\\;\\equiv\\;$$\n",
    " $$\n",
    " \\left\\{\\begin{array}{lr}\n",
    " \\forall_{i \\in \\{1...N\\}} \\quad (x'_{i,1} = x_{i,1}) & \\land \\\\ \n",
    " \\forall_{j \\in \\{1...N\\}} \\quad (x'_{1,j} = x_{1,j}) & \\end{array}\\right.\\\\\n",
    " \\land\\\\\n",
    " \\left\\{\\begin{array}{lr}\n",
    " \\forall_{i \\in \\{2...N\\}} \\cdot \\forall{j \\in \\{2...N\\}} \\quad (x_{i,j} = 0) \\land (neighbors(x_{i,j}) = 3) \\land (x'_{i,j} = 1) & \\lor \\\\\n",
    " \\forall_{i \\in \\{2...N\\}} \\cdot \\forall{j \\in \\{2...N\\}} \\quad (x_{i,j} = 1) \\land ((neighbors(x_{i,j}) = 2) \\lor neighbors(x_{i,j} = 3)) \\land (x'_{i,j} = 1) & \\lor\\\\ \n",
    " \\forall_{i \\in \\{2...N\\}} \\cdot \\forall{j \\in \\{2...N\\}} \\quad (x_{i,j} = 1) \\land ((neighbors(x_{i,j}) \\lt 2) \\lor neighbors(x_{i,j} \\gt 3)) \\land (x'_{i,j} = 0) & \\lor\\\\ \n",
    " \\forall_{i \\in \\{2...N\\}} \\cdot \\forall{j \\in \\{2...N\\}} \\quad (x_{i,j} = 0) \\land ((neighbors(x_{i,j}) \\le 2) \\lor neighbors(x_{i,j} \\gt 3)) \\land (x'_{i,j} = 0) & \\end{array}\\right.\n",
    " $$"
   ]
  },
  {
   "cell_type": "code",
   "execution_count": 5,
   "id": "995843c1",
   "metadata": {},
   "outputs": [],
   "source": [
    "def trans(curr,prox,N):\n",
    "    l = []\n",
    "    for i in range(1,N+1):\n",
    "        l.append(Equals(prox[f'({i},1)'], curr[f'({i},1)']))\n",
    "    for j in range(2,N+1):\n",
    "        l.append(Equals(prox[f'(1,{j})'], curr[f'(1,{j})']))\n",
    "    for i in range(2,N+1):\n",
    "        for j in range(2,N+1):\n",
    "            valor = Plus([curr[f'({x},{y})'] for x,y in PontosProximos((i,j),N)])\n",
    "            tBorn = And(Equals(curr[f'({i},{j})'], Int(0)), Equals(valor, Int(3)), Equals(prox[f'({i},{j})'], Int(1)))\n",
    "            tStayAlive = And(Equals(curr[f'({i},{j})'], Int(1)), Or(Equals(valor, Int(2)),Equals(valor, Int(3))), Equals(prox[f'({i},{j})'], Int(1)))\n",
    "            tDie = And(Equals(curr[f'({i},{j})'], Int(1)), Or(valor < Int(2),valor > Int(3)), Equals(prox[f'({i},{j})'], Int(0)))\n",
    "            tStillDead = And(Equals(curr[f'({i},{j})'], Int(0)), Or(valor <= Int(2),valor > Int(3)), Equals(prox[f'({i},{j})'],Int(0)))\n",
    "            \n",
    "            l.append(Or(tBorn, tStayAlive, tDie,tStillDead))\n",
    "    return And(l)\n",
    "\n"
   ]
  },
  {
   "cell_type": "markdown",
   "id": "a2d63670",
   "metadata": {},
   "source": [
    "Função que usa $\\textit{SMT solver}$ para gerar um possível traço de execução do programa, e mostra o estado do autómato na forma de um quadrado $N \\times N$ tal que as células mortas são apresentadas com cor escura e as vivas com cor clara. "
   ]
  },
  {
   "cell_type": "code",
   "execution_count": 6,
   "id": "a941db6b-6e43-4643-b40c-a53186996ce2",
   "metadata": {},
   "outputs": [],
   "source": [
    "    \n",
    "def resolve(N,k,centro,border):    \n",
    "    with Solver(name=\"z3\") as s:\n",
    "        \n",
    "        flag = True\n",
    "        \n",
    "        while flag:\n",
    "            \n",
    "            bound = 0\n",
    "            \n",
    "            mat_list = list()\n",
    "            \n",
    "            trace = [declare(i,N) for i in range(k)]\n",
    "            \n",
    "            s.add_assertion(init(trace[0],N,centro,border))\n",
    "\n",
    "            for i in range(k-1):\n",
    "                s.add_assertion(trans(trace[i], trace[i+1],N))\n",
    "            \n",
    "            mat_set = set()\n",
    "            \n",
    "            if s.solve():\n",
    "                for i in range(k):\n",
    "                    matrix = []\n",
    "                    for x in range(1,N+1):\n",
    "                        #print([s.get_value(trace[i][f'({k},{x})']) for k in range(1,N+1)])\n",
    "                        matrix.append([(s.get_value(trace[i][f'({k},{x})']).constant_value()) for k in range(1,N+1)])\n",
    "                    #pprint(matrix)\n",
    "                    matrix_str = str(matrix)\n",
    "                    if matrix_str in mat_set:\n",
    "                       flag = False\n",
    "                       break\n",
    "                    mat_set.add(matrix_str)\n",
    "                    mat_list.append(matrix)\n",
    "                    #pprint(matrix)\n",
    "                    bound += 1\n",
    "            else:\n",
    "                print('Não foi possivel resolver')\n",
    "            #print(trace)   \n",
    "            \n",
    "            k = 2*k\n",
    "            #print('cicle')\n",
    "            \n",
    "            s.reset_assertions()\n",
    "              \n",
    "        for i,l in enumerate(mat_list):\n",
    "            plt.imshow(l)\n",
    "            plt.axis('off')\n",
    "            print(i)\n",
    "            plt.show()\n",
    "        return bound\n",
    "\n",
    "\n"
   ]
  },
  {
   "cell_type": "code",
   "execution_count": 7,
   "id": "13c65943-2284-4ef7-8dcf-d8038e8212a3",
   "metadata": {},
   "outputs": [],
   "source": [
    "def bmc_always(declare,init,trans,inv,K,N,centro,borda):\n",
    "    for k in range(1,K+1):\n",
    "        with Solver(name=\"z3\") as s:\n",
    "            trace = [declare(i,N) for i in range(k)]\n",
    "            s.add_assertion(init(trace[0],N,centro,borda))\n",
    "            for i in range(k-1):\n",
    "                s.add_assertion(trans(trace[i], trace[i+1],N))\n",
    "            s.add_assertion(Not(inv(trace[k-1],N)))\n",
    "            if s.solve():\n",
    "                print(\"A propriedade é inválida\")\n",
    "                return\n",
    "    print(\"A propriedade é válida\")\n",
    "   "
   ]
  },
  {
   "cell_type": "code",
   "execution_count": 8,
   "id": "1fdad78e-bf1c-4ca0-91c9-29838a3963b7",
   "metadata": {},
   "outputs": [],
   "source": [
    "def bmc_eventually(declare,init,trans,prop,bound,N,centro,borda):\n",
    "    for k in range(1,bound+1):\n",
    "         with Solver(name=\"z3\") as s:\n",
    "            # completar\n",
    "            trace = [declare(i,N) for i in range(k)]\n",
    "    \n",
    "            s.add_assertion(init(trace[0],N,centro,borda))\n",
    "            for i in range(k-1):\n",
    "                s.add_assertion(trans(trace[i], trace[i+1],N))\n",
    "            \n",
    "            for i in range(k):\n",
    "                s.add_assertion(Not(prop(trace,k,N)))\n",
    "            \n",
    "            s.add_assertion(Or(trans(trace[k-1],trace[i],N) for i in range(k)))\n",
    "            \n",
    "            if s.solve():\n",
    "                print(\"Propriedade é inválida\")\n",
    "                return\n",
    "            \n",
    "    print(\"A propriedade é válida\")"
   ]
  },
  {
   "cell_type": "code",
   "execution_count": 9,
   "id": "918dea9f-ce65-48c8-add3-42de67e73096",
   "metadata": {},
   "outputs": [],
   "source": [
    "def propA(state,N):\n",
    "    return Plus([state[f'({i},{j})'] for i in range(1,N+1) for j in range(1,N+1)]) >= 1"
   ]
  },
  {
   "cell_type": "code",
   "execution_count": 10,
   "id": "83d6ecd3-cfac-4ee1-abca-ea40841e63ce",
   "metadata": {},
   "outputs": [],
   "source": [
    "def propA2(state,N):\n",
    "    return Plus([state[f'({i},{j})'] for i in range(2,N+1) for j in range(2,N+1)]) >= 1"
   ]
  },
  {
   "cell_type": "code",
   "execution_count": 11,
   "id": "fab9737b-e4f8-49f9-9f3c-97ee9d27f0e4",
   "metadata": {},
   "outputs": [],
   "source": [
    "def propB(trace,k,N):\n",
    "    l = []\n",
    "    for i in range(2,N+1):\n",
    "        for j in range(2,N+1):\n",
    "            l.append(Plus([trace[x][f'({i},{j})'] for x in range(k)]) >= 1)\n",
    "    return And(l)"
   ]
  },
  {
   "cell_type": "markdown",
   "id": "f3b6768d",
   "metadata": {},
   "source": [
    "### Exemplos e testes de aplicação."
   ]
  },
  {
   "cell_type": "markdown",
   "id": "ef06ac0f",
   "metadata": {},
   "source": [
    "#### Exemplo 1"
   ]
  },
  {
   "cell_type": "code",
   "execution_count": 12,
   "id": "1149996b",
   "metadata": {},
   "outputs": [
    {
     "name": "stdout",
     "output_type": "stream",
     "text": [
      "(3, 3)\n",
      "([1, 0, 1, 1], [1, 0, 0])\n"
     ]
    }
   ],
   "source": [
    "N = 4\n",
    "p = 0.75\n",
    "k = 2\n",
    "centro = gera_centro(N)\n",
    "border = gera_border(p,N)\n",
    "print(centro)\n",
    "print(border)"
   ]
  },
  {
   "cell_type": "code",
   "execution_count": 13,
   "id": "832ec74a",
   "metadata": {},
   "outputs": [
    {
     "name": "stdout",
     "output_type": "stream",
     "text": [
      "0\n"
     ]
    },
    {
     "data": {
      "image/png": "[encoded data removed]",
      "text/plain": [
       "<Figure size 640x480 with 1 Axes>"
      ]
     },
     "metadata": {},
     "output_type": "display_data"
    },
    {
     "name": "stdout",
     "output_type": "stream",
     "text": [
      "1\n"
     ]
    },
    {
     "data": {
      "image/png": "[encoded data removed]",
      "text/plain": [
       "<Figure size 640x480 with 1 Axes>"
      ]
     },
     "metadata": {},
     "output_type": "display_data"
    },
    {
     "name": "stdout",
     "output_type": "stream",
     "text": [
      "2\n"
     ]
    },
    {
     "data": {
      "image/png": "[encoded data removed]",
      "text/plain": [
       "<Figure size 640x480 with 1 Axes>"
      ]
     },
     "metadata": {},
     "output_type": "display_data"
    },
    {
     "name": "stdout",
     "output_type": "stream",
     "text": [
      "3\n"
     ]
    },
    {
     "data": {
      "image/png": "[encoded data removed]",
      "text/plain": [
       "<Figure size 640x480 with 1 Axes>"
      ]
     },
     "metadata": {},
     "output_type": "display_data"
    },
    {
     "name": "stdout",
     "output_type": "stream",
     "text": [
      "4\n"
     ]
    },
    {
     "data": {
      "image/png": "[encoded data removed]",
      "text/plain": [
       "<Figure size 640x480 with 1 Axes>"
      ]
     },
     "metadata": {},
     "output_type": "display_data"
    },
    {
     "name": "stdout",
     "output_type": "stream",
     "text": [
      "5\n"
     ]
    },
    {
     "data": {
      "image/png": "[encoded data removed]",
      "text/plain": [
       "<Figure size 640x480 with 1 Axes>"
      ]
     },
     "metadata": {},
     "output_type": "display_data"
    },
    {
     "name": "stdout",
     "output_type": "stream",
     "text": [
      "6\n"
     ]
    }
   ],
   "source": [
    "print(bound := resolve(N,k,centro,border))"
   ]
  },
  {
   "cell_type": "code",
   "execution_count": 14,
   "id": "a83a61fb-740c-49e4-a0b1-50225edc46be",
   "metadata": {},
   "outputs": [
    {
     "name": "stdout",
     "output_type": "stream",
     "text": [
      "Propriedade A:\n",
      "A propriedade é válida\n",
      "Propriedade A, mas para células normais apenas:\n",
      "A propriedade é válida\n",
      "Propriedade B:\n",
      "A propriedade é válida\n"
     ]
    }
   ],
   "source": [
    "print(\"Propriedade A:\")\n",
    "bmc_always(declare,init,trans,propA,bound,N,centro,border)\n",
    "print(\"Propriedade A, mas para células normais apenas:\")\n",
    "bmc_always(declare,init,trans,propA2,bound,N,centro,border)\n",
    "print(\"Propriedade B:\")\n",
    "bmc_eventually(declare,init,trans,propB,bound,N,centro,border)"
   ]
  },
  {
   "cell_type": "markdown",
   "id": "5220d05e-1da4-47ad-978a-fd1b0089f894",
   "metadata": {},
   "source": [
    "#### Exemplo 2"
   ]
  },
  {
   "cell_type": "code",
   "execution_count": 15,
   "id": "e716a676-ba3f-4658-a099-230d44b0ac0c",
   "metadata": {},
   "outputs": [
    {
     "name": "stdout",
     "output_type": "stream",
     "text": [
      "(3, 4)\n",
      "([1, 1, 1, 1, 1], [1, 1, 1, 1])\n"
     ]
    }
   ],
   "source": [
    "N = 5\n",
    "p = 1\n",
    "k = 2\n",
    "centro = gera_centro(N)\n",
    "border = gera_border(p,N)\n",
    "print(centro)\n",
    "print(border)"
   ]
  },
  {
   "cell_type": "code",
   "execution_count": 16,
   "id": "a647f80a-1917-4e2d-a0ec-b9aaf5bd7bc9",
   "metadata": {},
   "outputs": [
    {
     "name": "stdout",
     "output_type": "stream",
     "text": [
      "0\n"
     ]
    },
    {
     "data": {
      "image/png": "[encoded data removed]",
      "text/plain": [
       "<Figure size 640x480 with 1 Axes>"
      ]
     },
     "metadata": {},
     "output_type": "display_data"
    },
    {
     "name": "stdout",
     "output_type": "stream",
     "text": [
      "1\n"
     ]
    },
    {
     "data": {
      "image/png": "[encoded data removed]",
      "text/plain": [
       "<Figure size 640x480 with 1 Axes>"
      ]
     },
     "metadata": {},
     "output_type": "display_data"
    },
    {
     "name": "stdout",
     "output_type": "stream",
     "text": [
      "2\n"
     ]
    },
    {
     "data": {
      "image/png": "[encoded data removed]",
      "text/plain": [
       "<Figure size 640x480 with 1 Axes>"
      ]
     },
     "metadata": {},
     "output_type": "display_data"
    },
    {
     "name": "stdout",
     "output_type": "stream",
     "text": [
      "3\n"
     ]
    },
    {
     "data": {
      "image/png": "[encoded data removed]",
      "text/plain": [
       "<Figure size 640x480 with 1 Axes>"
      ]
     },
     "metadata": {},
     "output_type": "display_data"
    },
    {
     "name": "stdout",
     "output_type": "stream",
     "text": [
      "4\n"
     ]
    },
    {
     "data": {
      "image/png": "[encoded data removed]",
      "text/plain": [
       "<Figure size 640x480 with 1 Axes>"
      ]
     },
     "metadata": {},
     "output_type": "display_data"
    },
    {
     "name": "stdout",
     "output_type": "stream",
     "text": [
      "5\n"
     ]
    },
    {
     "data": {
      "image/png": "[encoded data removed]",
      "text/plain": [
       "<Figure size 640x480 with 1 Axes>"
      ]
     },
     "metadata": {},
     "output_type": "display_data"
    },
    {
     "name": "stdout",
     "output_type": "stream",
     "text": [
      "6\n"
     ]
    },
    {
     "data": {
      "image/png": "[encoded data removed]",
      "text/plain": [
       "<Figure size 640x480 with 1 Axes>"
      ]
     },
     "metadata": {},
     "output_type": "display_data"
    },
    {
     "name": "stdout",
     "output_type": "stream",
     "text": [
      "7\n"
     ]
    },
    {
     "data": {
      "image/png": "[encoded data removed]",
      "text/plain": [
       "<Figure size 640x480 with 1 Axes>"
      ]
     },
     "metadata": {},
     "output_type": "display_data"
    },
    {
     "name": "stdout",
     "output_type": "stream",
     "text": [
      "8\n"
     ]
    }
   ],
   "source": [
    "print(bound := resolve(N,k,centro,border))"
   ]
  },
  {
   "cell_type": "code",
   "execution_count": 17,
   "id": "117e0b51-b324-43a2-aa7d-43a6b1c144ce",
   "metadata": {},
   "outputs": [
    {
     "name": "stdout",
     "output_type": "stream",
     "text": [
      "Propriedade A:\n",
      "A propriedade é válida\n",
      "Propriedade A, mas para células normais apenas:\n",
      "A propriedade é válida\n",
      "Propriedade B:\n",
      "Propriedade é inválida\n"
     ]
    }
   ],
   "source": [
    "print(\"Propriedade A:\")\n",
    "bmc_always(declare,init,trans,propA,bound,N,centro,border)\n",
    "print(\"Propriedade A, mas para células normais apenas:\")\n",
    "bmc_always(declare,init,trans,propA2,bound,N,centro,border)\n",
    "print(\"Propriedade B:\")\n",
    "bmc_eventually(declare,init,trans,propB,bound,N,centro,border)"
   ]
  },
  {
   "cell_type": "markdown",
   "id": "c8516a7f-52e8-47e1-a466-1e56454fc788",
   "metadata": {},
   "source": [
    "#### Exemplo 3"
   ]
  },
  {
   "cell_type": "code",
   "execution_count": 21,
   "id": "c72f88ce-1fa4-4cf7-88d0-d7f129e9b655",
   "metadata": {},
   "outputs": [
    {
     "name": "stdout",
     "output_type": "stream",
     "text": [
      "(13, 12)\n",
      "([0, 1, 0, 0, 1, 1, 0, 0, 0, 0, 0, 1, 0, 0, 0], [0, 1, 0, 0, 1, 1, 1, 0, 0, 1, 1, 0, 1, 0])\n"
     ]
    }
   ],
   "source": [
    "N = 15\n",
    "p = 0.5\n",
    "k = 50\n",
    "centro = gera_centro(N)\n",
    "border = gera_border(p,N)\n",
    "print(centro)\n",
    "print(border)"
   ]
  },
  {
   "cell_type": "code",
   "execution_count": 22,
   "id": "76972129-a67f-4e0b-822b-b211e6c0e8a9",
   "metadata": {},
   "outputs": [
    {
     "name": "stdout",
     "output_type": "stream",
     "text": [
      "0\n"
     ]
    },
    {
     "data": {
      "image/png": "[encoded data removed]",
      "text/plain": [
       "<Figure size 640x480 with 1 Axes>"
      ]
     },
     "metadata": {},
     "output_type": "display_data"
    },
    {
     "name": "stdout",
     "output_type": "stream",
     "text": [
      "1\n"
     ]
    },
    {
     "data": {
      "image/png": "[encoded data removed]",
      "text/plain": [
       "<Figure size 640x480 with 1 Axes>"
      ]
     },
     "metadata": {},
     "output_type": "display_data"
    },
    {
     "name": "stdout",
     "output_type": "stream",
     "text": [
      "2\n"
     ]
    },
    {
     "data": {
      "image/png": "[encoded data removed]",
      "text/plain": [
       "<Figure size 640x480 with 1 Axes>"
      ]
     },
     "metadata": {},
     "output_type": "display_data"
    },
    {
     "name": "stdout",
     "output_type": "stream",
     "text": [
      "3\n"
     ]
    },
    {
     "data": {
      "image/png": "[encoded data removed]",
      "text/plain": [
       "<Figure size 640x480 with 1 Axes>"
      ]
     },
     "metadata": {},
     "output_type": "display_data"
    },
    {
     "name": "stdout",
     "output_type": "stream",
     "text": [
      "4\n"
     ]
    },
    {
     "data": {
      "image/png": "[encoded data removed]",
      "text/plain": [
       "<Figure size 640x480 with 1 Axes>"
      ]
     },
     "metadata": {},
     "output_type": "display_data"
    },
    {
     "name": "stdout",
     "output_type": "stream",
     "text": [
      "5\n"
     ]
    },
    {
     "data": {
      "image/png": "[encoded data removed]",
      "text/plain": [
       "<Figure size 640x480 with 1 Axes>"
      ]
     },
     "metadata": {},
     "output_type": "display_data"
    },
    {
     "name": "stdout",
     "output_type": "stream",
     "text": [
      "6\n"
     ]
    },
    {
     "data": {
      "image/png": "[encoded data removed]",
      "text/plain": [
       "<Figure size 640x480 with 1 Axes>"
      ]
     },
     "metadata": {},
     "output_type": "display_data"
    },
    {
     "name": "stdout",
     "output_type": "stream",
     "text": [
      "7\n"
     ]
    },
    {
     "data": {
      "image/png": "[encoded data removed]",
      "text/plain": [
       "<Figure size 640x480 with 1 Axes>"
      ]
     },
     "metadata": {},
     "output_type": "display_data"
    },
    {
     "name": "stdout",
     "output_type": "stream",
     "text": [
      "8\n"
     ]
    },
    {
     "data": {
      "image/png": "[encoded data removed]",
      "text/plain": [
       "<Figure size 640x480 with 1 Axes>"
      ]
     },
     "metadata": {},
     "output_type": "display_data"
    },
    {
     "name": "stdout",
     "output_type": "stream",
     "text": [
      "9\n"
     ]
    },
    {
     "data": {
      "image/png": "[encoded data removed]",
      "text/plain": [
       "<Figure size 640x480 with 1 Axes>"
      ]
     },
     "metadata": {},
     "output_type": "display_data"
    },
    {
     "name": "stdout",
     "output_type": "stream",
     "text": [
      "10\n"
     ]
    },
    {
     "data": {
      "image/png": "[encoded data removed]",
      "text/plain": [
       "<Figure size 640x480 with 1 Axes>"
      ]
     },
     "metadata": {},
     "output_type": "display_data"
    },
    {
     "name": "stdout",
     "output_type": "stream",
     "text": [
      "11\n"
     ]
    },
    {
     "data": {
      "image/png": "[encoded data removed]",
      "text/plain": [
       "<Figure size 640x480 with 1 Axes>"
      ]
     },
     "metadata": {},
     "output_type": "display_data"
    },
    {
     "name": "stdout",
     "output_type": "stream",
     "text": [
      "12\n"
     ]
    },
    {
     "data": {
      "image/png": "[encoded data removed]",
      "text/plain": [
       "<Figure size 640x480 with 1 Axes>"
      ]
     },
     "metadata": {},
     "output_type": "display_data"
    },
    {
     "name": "stdout",
     "output_type": "stream",
     "text": [
      "13\n"
     ]
    },
    {
     "data": {
      "image/png": "[encoded data removed]",
      "text/plain": [
       "<Figure size 640x480 with 1 Axes>"
      ]
     },
     "metadata": {},
     "output_type": "display_data"
    },
    {
     "name": "stdout",
     "output_type": "stream",
     "text": [
      "14\n"
     ]
    },
    {
     "data": {
      "image/png": "[encoded data removed]",
      "text/plain": [
       "<Figure size 640x480 with 1 Axes>"
      ]
     },
     "metadata": {},
     "output_type": "display_data"
    },
    {
     "name": "stdout",
     "output_type": "stream",
     "text": [
      "15\n"
     ]
    },
    {
     "data": {
      "image/png": "[encoded data removed]",
      "text/plain": [
       "<Figure size 640x480 with 1 Axes>"
      ]
     },
     "metadata": {},
     "output_type": "display_data"
    },
    {
     "name": "stdout",
     "output_type": "stream",
     "text": [
      "16\n"
     ]
    },
    {
     "data": {
      "image/png": "[encoded data removed]",
      "text/plain": [
       "<Figure size 640x480 with 1 Axes>"
      ]
     },
     "metadata": {},
     "output_type": "display_data"
    },
    {
     "name": "stdout",
     "output_type": "stream",
     "text": [
      "17\n"
     ]
    },
    {
     "data": {
      "image/png": "[encoded data removed]",
      "text/plain": [
       "<Figure size 640x480 with 1 Axes>"
      ]
     },
     "metadata": {},
     "output_type": "display_data"
    },
    {
     "name": "stdout",
     "output_type": "stream",
     "text": [
      "18\n"
     ]
    },
    {
     "data": {
      "image/png": "[encoded data removed]",
      "text/plain": [
       "<Figure size 640x480 with 1 Axes>"
      ]
     },
     "metadata": {},
     "output_type": "display_data"
    },
    {
     "name": "stdout",
     "output_type": "stream",
     "text": [
      "19\n"
     ]
    },
    {
     "data": {
      "image/png": "[encoded data removed]",
      "text/plain": [
       "<Figure size 640x480 with 1 Axes>"
      ]
     },
     "metadata": {},
     "output_type": "display_data"
    },
    {
     "name": "stdout",
     "output_type": "stream",
     "text": [
      "20\n"
     ]
    },
    {
     "data": {
      "image/png": "[encoded data removed]",
      "text/plain": [
       "<Figure size 640x480 with 1 Axes>"
      ]
     },
     "metadata": {},
     "output_type": "display_data"
    },
    {
     "name": "stdout",
     "output_type": "stream",
     "text": [
      "21\n"
     ]
    },
    {
     "data": {
      "image/png": "[encoded data removed]",
      "text/plain": [
       "<Figure size 640x480 with 1 Axes>"
      ]
     },
     "metadata": {},
     "output_type": "display_data"
    },
    {
     "name": "stdout",
     "output_type": "stream",
     "text": [
      "22\n"
     ]
    },
    {
     "data": {
      "image/png": "[encoded data removed]",
      "text/plain": [
       "<Figure size 640x480 with 1 Axes>"
      ]
     },
     "metadata": {},
     "output_type": "display_data"
    },
    {
     "name": "stdout",
     "output_type": "stream",
     "text": [
      "23\n"
     ]
    },
    {
     "data": {
      "image/png": "[encoded data removed]",
      "text/plain": [
       "<Figure size 640x480 with 1 Axes>"
      ]
     },
     "metadata": {},
     "output_type": "display_data"
    },
    {
     "name": "stdout",
     "output_type": "stream",
     "text": [
      "24\n"
     ]
    },
    {
     "data": {
      "image/png": "[encoded data removed]",
      "text/plain": [
       "<Figure size 640x480 with 1 Axes>"
      ]
     },
     "metadata": {},
     "output_type": "display_data"
    },
    {
     "name": "stdout",
     "output_type": "stream",
     "text": [
      "25\n"
     ]
    },
    {
     "data": {
      "image/png": "[encoded data removed]",
      "text/plain": [
       "<Figure size 640x480 with 1 Axes>"
      ]
     },
     "metadata": {},
     "output_type": "display_data"
    },
    {
     "name": "stdout",
     "output_type": "stream",
     "text": [
      "26\n"
     ]
    }
   ],
   "source": [
    "print(bound := resolve(N,k,centro,border))"
   ]
  },
  {
   "cell_type": "code",
   "execution_count": 23,
   "id": "3a6875ab-ff97-42fa-9696-ac92653fc3ac",
   "metadata": {},
   "outputs": [
    {
     "name": "stdout",
     "output_type": "stream",
     "text": [
      "Propriedade A:\n",
      "A propriedade é válida\n",
      "Propriedade A, mas para células normais apenas:\n",
      "A propriedade é válida\n",
      "Propriedade B:\n",
      "Propriedade é inválida\n"
     ]
    }
   ],
   "source": [
    "print(\"Propriedade A:\")\n",
    "bmc_always(declare,init,trans,propA,bound,N,centro,border)\n",
    "print(\"Propriedade A, mas para células normais apenas:\")\n",
    "bmc_always(declare,init,trans,propA2,bound,N,centro,border)\n",
    "print(\"Propriedade B:\")\n",
    "bmc_eventually(declare,init,trans,propB,bound,N,centro,border)"
   ]
  },
  {
   "cell_type": "markdown",
   "id": "82b4e05a-ec0e-4c4b-820c-366af39129f0",
   "metadata": {},
   "source": [
    "#### Exemplo 4"
   ]
  },
  {
   "cell_type": "code",
   "execution_count": 24,
   "id": "54b12920-50b7-455f-a9e7-6c5b56d326f5",
   "metadata": {},
   "outputs": [
    {
     "name": "stdout",
     "output_type": "stream",
     "text": [
      "(4, 4)\n",
      "([0, 0, 0, 0, 0, 0, 0], [0, 0, 0, 0, 0, 0])\n"
     ]
    }
   ],
   "source": [
    "N = 7\n",
    "p = 0\n",
    "k = 20\n",
    "centro = gera_centro(N)\n",
    "border = gera_border(p,N)\n",
    "print(centro)\n",
    "print(border)"
   ]
  },
  {
   "cell_type": "code",
   "execution_count": 25,
   "id": "90ad2d1f-a6fc-46a8-b8c2-e639adf36fde",
   "metadata": {},
   "outputs": [
    {
     "name": "stdout",
     "output_type": "stream",
     "text": [
      "0\n"
     ]
    },
    {
     "data": {
      "image/png": "[encoded data removed]",
      "text/plain": [
       "<Figure size 640x480 with 1 Axes>"
      ]
     },
     "metadata": {},
     "output_type": "display_data"
    },
    {
     "name": "stdout",
     "output_type": "stream",
     "text": [
      "1\n"
     ]
    },
    {
     "data": {
      "image/png": "[encoded data removed]",
      "text/plain": [
       "<Figure size 640x480 with 1 Axes>"
      ]
     },
     "metadata": {},
     "output_type": "display_data"
    },
    {
     "name": "stdout",
     "output_type": "stream",
     "text": [
      "2\n"
     ]
    },
    {
     "data": {
      "image/png": "[encoded data removed]",
      "text/plain": [
       "<Figure size 640x480 with 1 Axes>"
      ]
     },
     "metadata": {},
     "output_type": "display_data"
    },
    {
     "name": "stdout",
     "output_type": "stream",
     "text": [
      "3\n"
     ]
    },
    {
     "data": {
      "image/png": "[encoded data removed]",
      "text/plain": [
       "<Figure size 640x480 with 1 Axes>"
      ]
     },
     "metadata": {},
     "output_type": "display_data"
    },
    {
     "name": "stdout",
     "output_type": "stream",
     "text": [
      "4\n"
     ]
    },
    {
     "data": {
      "image/png": "[encoded data removed]",
      "text/plain": [
       "<Figure size 640x480 with 1 Axes>"
      ]
     },
     "metadata": {},
     "output_type": "display_data"
    },
    {
     "name": "stdout",
     "output_type": "stream",
     "text": [
      "5\n"
     ]
    },
    {
     "data": {
      "image/png": "[encoded data removed]",
      "text/plain": [
       "<Figure size 640x480 with 1 Axes>"
      ]
     },
     "metadata": {},
     "output_type": "display_data"
    },
    {
     "name": "stdout",
     "output_type": "stream",
     "text": [
      "6\n"
     ]
    },
    {
     "data": {
      "image/png": "[encoded data removed]",
      "text/plain": [
       "<Figure size 640x480 with 1 Axes>"
      ]
     },
     "metadata": {},
     "output_type": "display_data"
    },
    {
     "name": "stdout",
     "output_type": "stream",
     "text": [
      "7\n"
     ]
    },
    {
     "data": {
      "image/png": "[encoded data removed]",
      "text/plain": [
       "<Figure size 640x480 with 1 Axes>"
      ]
     },
     "metadata": {},
     "output_type": "display_data"
    },
    {
     "name": "stdout",
     "output_type": "stream",
     "text": [
      "8\n"
     ]
    },
    {
     "data": {
      "image/png": "[encoded data removed]",
      "text/plain": [
       "<Figure size 640x480 with 1 Axes>"
      ]
     },
     "metadata": {},
     "output_type": "display_data"
    },
    {
     "name": "stdout",
     "output_type": "stream",
     "text": [
      "9\n"
     ]
    },
    {
     "data": {
      "image/png": "[encoded data removed]",
      "text/plain": [
       "<Figure size 640x480 with 1 Axes>"
      ]
     },
     "metadata": {},
     "output_type": "display_data"
    },
    {
     "name": "stdout",
     "output_type": "stream",
     "text": [
      "10\n"
     ]
    },
    {
     "data": {
      "image/png": "[encoded data removed]",
      "text/plain": [
       "<Figure size 640x480 with 1 Axes>"
      ]
     },
     "metadata": {},
     "output_type": "display_data"
    },
    {
     "name": "stdout",
     "output_type": "stream",
     "text": [
      "11\n"
     ]
    },
    {
     "data": {
      "image/png": "[encoded data removed]",
      "text/plain": [
       "<Figure size 640x480 with 1 Axes>"
      ]
     },
     "metadata": {},
     "output_type": "display_data"
    },
    {
     "name": "stdout",
     "output_type": "stream",
     "text": [
      "12\n"
     ]
    },
    {
     "data": {
      "image/png": "[encoded data removed]",
      "text/plain": [
       "<Figure size 640x480 with 1 Axes>"
      ]
     },
     "metadata": {},
     "output_type": "display_data"
    },
    {
     "name": "stdout",
     "output_type": "stream",
     "text": [
      "13\n"
     ]
    },
    {
     "data": {
      "image/png": "[encoded data removed]",
      "text/plain": [
       "<Figure size 640x480 with 1 Axes>"
      ]
     },
     "metadata": {},
     "output_type": "display_data"
    },
    {
     "name": "stdout",
     "output_type": "stream",
     "text": [
      "14\n"
     ]
    },
    {
     "data": {
      "image/png": "[encoded data removed]",
      "text/plain": [
       "<Figure size 640x480 with 1 Axes>"
      ]
     },
     "metadata": {},
     "output_type": "display_data"
    },
    {
     "name": "stdout",
     "output_type": "stream",
     "text": [
      "15\n"
     ]
    }
   ],
   "source": [
    "print(bound := resolve(N,k,centro,border))"
   ]
  },
  {
   "cell_type": "code",
   "execution_count": 26,
   "id": "512e5b94-7e1f-4c39-bada-20b389859ebc",
   "metadata": {},
   "outputs": [
    {
     "name": "stdout",
     "output_type": "stream",
     "text": [
      "Propriedade A:\n",
      "A propriedade é inválida\n",
      "Propriedade A, mas para células normais apenas:\n",
      "A propriedade é inválida\n",
      "Propriedade B:\n",
      "Propriedade é inválida\n"
     ]
    }
   ],
   "source": [
    "print(\"Propriedade A:\")\n",
    "bmc_always(declare,init,trans,propA,bound,N,centro,border)\n",
    "print(\"Propriedade A, mas para células normais apenas:\")\n",
    "bmc_always(declare,init,trans,propA2,bound,N,centro,border)\n",
    "print(\"Propriedade B:\")\n",
    "bmc_eventually(declare,init,trans,propB,bound,N,centro,border)"
   ]
  },
  {
   "cell_type": "markdown",
   "id": "c158079f-1fe5-4f71-a748-869b9e5e47fc",
   "metadata": {},
   "source": [
    "##### Exemplo 5"
   ]
  },
  {
   "cell_type": "code",
   "execution_count": 31,
   "id": "c3be0bc6-62a3-4af8-adea-35abdae56307",
   "metadata": {},
   "outputs": [
    {
     "name": "stdout",
     "output_type": "stream",
     "text": [
      "(14, 17)\n",
      "([0, 0, 0, 0, 0, 0, 0, 0, 0, 0, 0, 0, 0, 0, 0, 0, 0, 0, 0, 0, 0, 0, 0, 0, 0, 0, 0, 0, 0, 0, 0, 0, 0, 0, 0, 0, 0, 0, 0, 0], [0, 0, 0, 0, 0, 0, 0, 0, 0, 0, 0, 0, 0, 0, 0, 0, 0, 0, 0, 0, 0, 0, 0, 0, 0, 0, 0, 0, 0, 0, 0, 0, 0, 0, 0, 0, 0, 0, 0])\n"
     ]
    }
   ],
   "source": [
    "N = 40\n",
    "p = 0\n",
    "k = 100\n",
    "centro = gera_centro(N)\n",
    "border = gera_border(p,N)\n",
    "print(centro)\n",
    "print(border)"
   ]
  },
  {
   "cell_type": "code",
   "execution_count": null,
   "id": "cd09a645-35c4-4266-8f17-f06d40eaae45",
   "metadata": {},
   "outputs": [],
   "source": [
    "print(bound := resolve(N,k,centro,border))"
   ]
  },
  {
   "cell_type": "code",
   "execution_count": null,
   "id": "4cf2e199-23d6-4434-9ef1-a6f4592b8b0b",
   "metadata": {},
   "outputs": [],
   "source": [
    "print(\"Propriedade A:\")\n",
    "bmc_always(declare,init,trans,propA,bound,N,centro,border)\n",
    "print(\"Propriedade A, mas para células normais apenas:\")\n",
    "bmc_always(declare,init,trans,propA2,bound,N,centro,border)\n",
    "print(\"Propriedade B:\")\n",
    "bmc_eventually(declare,init,trans,propB,bound,N,centro,border)"
   ]
  }
 ],
 "metadata": {
  "kernelspec": {
   "display_name": "Python 3 (ipykernel)",
   "language": "python",
   "name": "python3"
  },
  "language_info": {
   "codemirror_mode": {
    "name": "ipython",
    "version": 3
   },
   "file_extension": ".py",
   "mimetype": "text/x-python",
   "name": "python",
   "nbconvert_exporter": "python",
   "pygments_lexer": "ipython3",
   "version": "3.10.6"
  },
  "vscode": {
   "interpreter": {
    "hash": "e6e0711b34581e9d3d394d0e05c7a638721b909a5489b142ff17259bed82d5d5"
   }
  }
 },
 "nbformat": 4,
 "nbformat_minor": 5
}

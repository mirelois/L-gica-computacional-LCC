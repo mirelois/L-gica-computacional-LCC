{
 "cells": [
  {
   "cell_type": "markdown",
   "id": "4bf371ec-c0f5-49d6-b984-f18d552e73eb",
   "metadata": {},
   "source": [
    "$$q \\quad \\mbox{é um primo} \\ge 3$$"
   ]
  },
  {
   "cell_type": "code",
   "execution_count": 2,
   "id": "6eb3756b",
   "metadata": {},
   "outputs": [],
   "source": [
    "import\n",
    "\n",
    "n,m = 5,5"
   ]
  },
  {
   "cell_type": "markdown",
   "id": "059a036b",
   "metadata": {},
   "source": [
    "$$m > n$$"
   ]
  },
  {
   "cell_type": "markdown",
   "id": "c9acf077-4843-4c61-aa1d-bcfb67bbdac3",
   "metadata": {},
   "source": [
    "$$n \\le 30$$"
   ]
  },
  {
   "cell_type": "markdown",
   "id": "0912420b-b93c-4ed8-a5b0-65cffd13b9be",
   "metadata": {},
   "source": [
    "$$|m| > 1 + |n|$$ ***cuidado que |x| não é valor absoluto***"
   ]
  },
  {
   "cell_type": "markdown",
   "id": "6b8053ea-98fb-4299-b71b-e048d1c677e1",
   "metadata": {},
   "source": [
    "$$|q| > |m|$$"
   ]
  },
  {
   "cell_type": "markdown",
   "id": "b801a04e",
   "metadata": {},
   "source": [
    "$$e = \\{-1,0,1\\}^m$$"
   ]
  },
  {
   "cell_type": "markdown",
   "id": "eac8154f",
   "metadata": {},
   "source": [
    "$$\n",
    "\\forall i < n \\cdot \\quad \\sum_{j<m} e_j \\times L_{i,j} \\cong 0 \\; mod \\; q\n",
    "$$"
   ]
  },
  {
   "cell_type": "code",
   "execution_count": null,
   "id": "407edabf",
   "metadata": {},
   "outputs": [],
   "source": [
    "e[i,j] == 1 sse e[i] == (j-1)"
   ]
  },
  {
   "cell_type": "code",
   "execution_count": 3,
   "id": "6dc0bf65",
   "metadata": {},
   "outputs": [
    {
     "ename": "NameError",
     "evalue": "name 'solver' is not defined",
     "output_type": "error",
     "traceback": [
      "\u001b[0;31m---------------------------------------------------------------------------\u001b[0m",
      "\u001b[0;31mNameError\u001b[0m                                 Traceback (most recent call last)",
      "Input \u001b[0;32mIn [3]\u001b[0m, in \u001b[0;36m<cell line: 1>\u001b[0;34m()\u001b[0m\n\u001b[1;32m      1\u001b[0m \u001b[38;5;28;01mfor\u001b[39;00m i \u001b[38;5;129;01min\u001b[39;00m \u001b[38;5;28mrange\u001b[39m(n):\n\u001b[0;32m----> 2\u001b[0m     \u001b[43msolver\u001b[49m\u001b[38;5;241m.\u001b[39mAdd(\u001b[38;5;28msum\u001b[39m([e[j] \u001b[38;5;241m*\u001b[39m L[i][j] \u001b[38;5;28;01mfor\u001b[39;00m j \u001b[38;5;129;01min\u001b[39;00m \u001b[38;5;28mrange\u001b[39m(m)]) \u001b[38;5;241m%\u001b[39m q \u001b[38;5;241m==\u001b[39m \u001b[38;5;241m0\u001b[39m)\n",
      "\u001b[0;31mNameError\u001b[0m: name 'solver' is not defined"
     ]
    }
   ],
   "source": [
    "\n",
    "for i in range(m):\n",
    "    solver.AddBoolv()\n",
    "    \n",
    "\n",
    "for i in range(n):\n",
    "    solver.Add(sum([e[j] * L[i][j] for j in range(m)]) % q == 0)"
   ]
  },
  {
   "cell_type": "markdown",
   "id": "12da8c8f",
   "metadata": {},
   "source": [
    "$$\\exists i < n \\cdot \\quad e_i \\neq 0$$"
   ]
  },
  {
   "cell_type": "code",
   "execution_count": null,
   "id": "38d92580",
   "metadata": {},
   "outputs": [],
   "source": []
  },
  {
   "cell_type": "code",
   "execution_count": null,
   "id": "c7895e81",
   "metadata": {},
   "outputs": [],
   "source": []
  }
 ],
 "metadata": {
  "kernelspec": {
   "display_name": "Python 3 (ipykernel)",
   "language": "python",
   "name": "python3"
  },
  "language_info": {
   "codemirror_mode": {
    "name": "ipython",
    "version": 3
   },
   "file_extension": ".py",
   "mimetype": "text/x-python",
   "name": "python",
   "nbconvert_exporter": "python",
   "pygments_lexer": "ipython3",
   "version": "3.10.4"
  }
 },
 "nbformat": 4,
 "nbformat_minor": 5
}

{
 "cells": [
  {
   "cell_type": "markdown",
   "id": "4bf371ec-c0f5-49d6-b984-f18d552e73eb",
   "metadata": {},
   "source": [
    "$$q \\quad \\mbox{é um primo} \\ge 3$$"
   ]
  },
  {
   "cell_type": "code",
   "execution_count": 1,
   "id": "6eb3756b",
   "metadata": {},
   "outputs": [
    {
     "name": "stdout",
     "output_type": "stream",
     "text": [
      "17 4 -11 -11 -11 -3 \n",
      "13 -8 -17 -14 -13 -12 \n",
      "-8 0 -12 -4 9 -6 \n",
      "13 3 -1 1 6 -9 \n",
      "8 11 12 16 2 4 \n",
      "-3 -18 4 1 -16 3 \n",
      "-2 -1 7 9 -4 -2 \n",
      "6 -5 15 8 2 5 \n",
      "-18 6 -17 -5 15 -4 \n",
      "5 18 0 4 16 11 \n",
      "-2 -4 -8 -12 17 -12 \n",
      "14 -5 -17 -17 -1 -15 \n",
      "8 17 -14 -14 -12 -3 \n",
      "-15 -3 -2 3 5 -2 \n",
      "-1 -15 -10 12 12 3 \n",
      "8 13 3 6 -13 11 \n",
      "\n",
      "6 16 37 18\n"
     ]
    }
   ],
   "source": [
    "from ortools.linear_solver import pywraplp\n",
    "svp = pywraplp.Solver.CreateSolver('SCIP')\n",
    "\n",
    "from pprint import pprint\n",
    "\n",
    "def printmatrix(x,m,n):\n",
    "    for i in range(m):\n",
    "        for j in range(n):\n",
    "            print(x[i,j], end = ' ')  \n",
    "        print()\n",
    "\n",
    "        \n",
    "import math\n",
    "\n",
    "def is_prime(x):\n",
    "    return all(x % i for i in range(2, x))\n",
    "\n",
    "def next_prime(x):\n",
    "    return min([a for a in range(x+1, 2*x) if is_prime(a)])\n",
    "\n",
    "\n",
    "def size(x):\n",
    "    return(math.ceil(math.log(x+1,2)))\n",
    "\n",
    "def nextnum(x):\n",
    "    p = size(x)\n",
    "    return pow(2,p)\n",
    "    return(math.ceil(math.log(x,2)))\n",
    "\n",
    "import random\n",
    "n = 6\n",
    "m = nextnum(n)*2\n",
    "q = next_prime(nextnum(m))\n",
    "d = int((q-1)/2)\n",
    "#print(n)\n",
    "L = {}\n",
    "for j in range(m):\n",
    "    for i in range(n):\n",
    "        L[j,i] = random.randrange(-d,d+1)\n",
    "        \n",
    "printmatrix(L,m,n)\n",
    "print()\n",
    "print(n,m,q,d)\n",
    "#pprint(L)"
   ]
  },
  {
   "cell_type": "markdown",
   "id": "059a036b",
   "metadata": {},
   "source": [
    "$$m > n$$"
   ]
  },
  {
   "cell_type": "markdown",
   "id": "c9acf077-4843-4c61-aa1d-bcfb67bbdac3",
   "metadata": {},
   "source": [
    "$$n \\le 30$$"
   ]
  },
  {
   "cell_type": "markdown",
   "id": "0912420b-b93c-4ed8-a5b0-65cffd13b9be",
   "metadata": {},
   "source": [
    "$$|m| > 1 + |n|$$ ***cuidado que |x| não é valor absoluto***"
   ]
  },
  {
   "cell_type": "markdown",
   "id": "6b8053ea-98fb-4299-b71b-e048d1c677e1",
   "metadata": {},
   "source": [
    "$$|q| > |m|$$"
   ]
  },
  {
   "cell_type": "markdown",
   "id": "b801a04e",
   "metadata": {},
   "source": [
    "$$e = \\{-1,0,1\\}^m$$"
   ]
  },
  {
   "cell_type": "markdown",
   "id": "eac8154f",
   "metadata": {},
   "source": [
    "$$\n",
    "\\forall i < n \\cdot \\quad \\sum_{j<m} e_j \\times L_{i,j} \\cong 0 \\; mod \\; q\n",
    "$$"
   ]
  },
  {
   "cell_type": "markdown",
   "id": "1bf6648c",
   "metadata": {},
   "source": [
    "e[i,j] == 1 sse e[i] == (j-1)"
   ]
  },
  {
   "cell_type": "code",
   "execution_count": 2,
   "id": "6dc0bf65",
   "metadata": {},
   "outputs": [
    {
     "name": "stdout",
     "output_type": "stream",
     "text": [
      "6\n"
     ]
    }
   ],
   "source": [
    "\n",
    "print(n)\n",
    "\n",
    "e = {}\n",
    "k ={}\n",
    "for j in range(m):\n",
    "    for i in range(3):\n",
    "        e[j,i] = svp.BoolVar(f'e[{j}][{i}]')\n",
    "\n",
    "for i in range(n):\n",
    "    k[i] = svp.IntVar(-svp.infinity(),svp.infinity(),f'k[{i}]')\n",
    "    \n",
    "    \n",
    "    "
   ]
  },
  {
   "cell_type": "markdown",
   "id": "12da8c8f",
   "metadata": {},
   "source": [
    "$$\\exists i < n \\cdot \\quad e_i \\neq 0$$"
   ]
  },
  {
   "cell_type": "code",
   "execution_count": 3,
   "id": "38d92580",
   "metadata": {},
   "outputs": [
    {
     "data": {
      "text/plain": [
       "<ortools.linear_solver.pywraplp.Constraint; proxy of <Swig Object of type 'operations_research::MPConstraint *' at 0x7fe9b061c6c0> >"
      ]
     },
     "execution_count": 3,
     "metadata": {},
     "output_type": "execute_result"
    }
   ],
   "source": [
    "svp.Add(sum([e[j,1] for j in range(m)]) <= m-1)"
   ]
  },
  {
   "cell_type": "code",
   "execution_count": 4,
   "id": "c7895e81",
   "metadata": {},
   "outputs": [],
   "source": [
    "for i in range(n):\n",
    "    svp.Add(sum([(e[j,2]-e[j,0])*L[j,i] for j in range(m)]) == k[i]*q)"
   ]
  },
  {
   "cell_type": "code",
   "execution_count": 5,
   "id": "01e3e28a",
   "metadata": {},
   "outputs": [],
   "source": [
    "for j in range(m):\n",
    "    svp.Add(sum([e[j,i] for i in range(3)]) == 1)"
   ]
  },
  {
   "cell_type": "code",
   "execution_count": 6,
   "id": "35baa74b",
   "metadata": {},
   "outputs": [],
   "source": [
    "svp.Maximize(sum([e[j,1] for j in range(m)]))"
   ]
  },
  {
   "cell_type": "code",
   "execution_count": 7,
   "id": "bff682c6",
   "metadata": {},
   "outputs": [
    {
     "name": "stdout",
     "output_type": "stream",
     "text": [
      "False\n",
      "6\n",
      "0\n",
      "0\n",
      "0\n",
      "0\n",
      "0\n",
      "0\n"
     ]
    },
    {
     "name": "stderr",
     "output_type": "stream",
     "text": [
      "WARNING: Logging before InitGoogleLogging() is written to STDERR\n",
      "E1015 19:22:13.042707 30593 linear_solver.cc:1879] No solution exists. MPSolverInterface::result_status_ = MPSOLVER_INFEASIBLE\n",
      "E1015 19:22:13.042737 30593 linear_solver.cc:1879] No solution exists. MPSolverInterface::result_status_ = MPSOLVER_INFEASIBLE\n",
      "E1015 19:22:13.042744 30593 linear_solver.cc:1879] No solution exists. MPSolverInterface::result_status_ = MPSOLVER_INFEASIBLE\n",
      "E1015 19:22:13.042749 30593 linear_solver.cc:1879] No solution exists. MPSolverInterface::result_status_ = MPSOLVER_INFEASIBLE\n",
      "E1015 19:22:13.042754 30593 linear_solver.cc:1879] No solution exists. MPSolverInterface::result_status_ = MPSOLVER_INFEASIBLE\n",
      "E1015 19:22:13.042758 30593 linear_solver.cc:1879] No solution exists. MPSolverInterface::result_status_ = MPSOLVER_INFEASIBLE\n"
     ]
    }
   ],
   "source": [
    "status = svp.Solve()\n",
    "\n",
    "print(status == pywraplp.Solver.OPTIMAL) \n",
    "print(n)\n",
    "\n",
    "for i in range(n):\n",
    "        print(int(k[i].solution_value()))\n",
    "\n",
    "if(status == pywraplp.Solver.OPTIMAL):\n",
    "    \n",
    "    \n",
    "    for j in range(m):\n",
    "        for i in range(3):\n",
    "            #print(int(e[j,n].solution_value()), end=' ')\n",
    "            if(int(e[j,i].solution_value()) == 1):\n",
    "                print(i-1, end = ',')\n",
    "        \n",
    "        #print()\n",
    "        \n",
    "#print()\n",
    "#if(status == pywraplp.Solver.OPTIMAL):\n",
    "#    for j in range(m):\n",
    "#        for i in range(3):\n",
    "#            print(int(e[j,i].solution_value()), end=' ')\n",
    "#            #if(int(e[j,i].solution_value()) == 1):\n",
    "#             #   print(i-1, end = ',')\n",
    "#        \n",
    "#        print()\n",
    "#        \n",
    "#        \n",
    "#print()\n",
    "#print(int(e[3,2].solution_value()))\n",
    "#print(int(e[3,0].solution_value()))\n",
    "##print(sum([(int(e[j,2].solution_value())-int(e[j,1].solution_value()))*L[j,i] for j in range(m)]))"
   ]
  },
  {
   "cell_type": "code",
   "execution_count": null,
   "id": "28c6fbc4",
   "metadata": {},
   "outputs": [],
   "source": []
  },
  {
   "cell_type": "code",
   "execution_count": null,
   "id": "a86c5ecc",
   "metadata": {},
   "outputs": [],
   "source": []
  }
 ],
 "metadata": {
  "kernelspec": {
   "display_name": "Python 3 (ipykernel)",
   "language": "python",
   "name": "python3"
  },
  "language_info": {
   "codemirror_mode": {
    "name": "ipython",
    "version": 3
   },
   "file_extension": ".py",
   "mimetype": "text/x-python",
   "name": "python",
   "nbconvert_exporter": "python",
   "pygments_lexer": "ipython3",
   "version": "3.10.4"
  }
 },
 "nbformat": 4,
 "nbformat_minor": 5
}

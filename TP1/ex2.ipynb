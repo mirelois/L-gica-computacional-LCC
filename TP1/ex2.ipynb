{
 "cells": [
  {
   "cell_type": "markdown",
   "id": "4bf371ec-c0f5-49d6-b984-f18d552e73eb",
   "metadata": {},
   "source": [
    "$$q \\quad \\mbox{é um primo} \\ge 3$$"
   ]
  },
  {
   "cell_type": "code",
   "execution_count": 1,
   "id": "6eb3756b",
   "metadata": {},
   "outputs": [
    {
     "name": "stdout",
     "output_type": "stream",
     "text": [
      "{(0, 0): -2,\n",
      " (0, 1): -2,\n",
      " (0, 2): -4,\n",
      " (1, 0): 2,\n",
      " (1, 1): 1,\n",
      " (1, 2): 0,\n",
      " (2, 0): 4,\n",
      " (2, 1): -3,\n",
      " (2, 2): 1,\n",
      " (3, 0): 4,\n",
      " (3, 1): -2,\n",
      " (3, 2): 5,\n",
      " (4, 0): -5,\n",
      " (4, 1): -5,\n",
      " (4, 2): 1}\n"
     ]
    }
   ],
   "source": [
    "from ortools.linear_solver import pywraplp\n",
    "svp = pywraplp.Solver.CreateSolver('SCIP')\n",
    "\n",
    "from pprint import pprint\n",
    "\n",
    "import random\n",
    "d = 5\n",
    "q = 3\n",
    "n,m = 3,5\n",
    "\n",
    "L = {}\n",
    "for j in range(m):\n",
    "    for i in range(n):\n",
    "        L[j,i] = random.randrange(-d,d+1)\n",
    "        \n",
    "pprint(L)"
   ]
  },
  {
   "cell_type": "markdown",
   "id": "059a036b",
   "metadata": {},
   "source": [
    "$$m > n$$"
   ]
  },
  {
   "cell_type": "markdown",
   "id": "c9acf077-4843-4c61-aa1d-bcfb67bbdac3",
   "metadata": {},
   "source": [
    "$$n \\le 30$$"
   ]
  },
  {
   "cell_type": "markdown",
   "id": "0912420b-b93c-4ed8-a5b0-65cffd13b9be",
   "metadata": {},
   "source": [
    "$$|m| > 1 + |n|$$ ***cuidado que |x| não é valor absoluto***"
   ]
  },
  {
   "cell_type": "markdown",
   "id": "6b8053ea-98fb-4299-b71b-e048d1c677e1",
   "metadata": {},
   "source": [
    "$$|q| > |m|$$"
   ]
  },
  {
   "cell_type": "markdown",
   "id": "b801a04e",
   "metadata": {},
   "source": [
    "$$e = \\{-1,0,1\\}^m$$"
   ]
  },
  {
   "cell_type": "markdown",
   "id": "eac8154f",
   "metadata": {},
   "source": [
    "$$\n",
    "\\forall i < n \\cdot \\quad \\sum_{j<m} e_j \\times L_{i,j} \\cong 0 \\; mod \\; q\n",
    "$$"
   ]
  },
  {
   "cell_type": "markdown",
   "id": "1bf6648c",
   "metadata": {},
   "source": [
    "e[i,j] == 1 sse e[i] == (j-1)"
   ]
  },
  {
   "cell_type": "code",
   "execution_count": 2,
   "id": "6dc0bf65",
   "metadata": {},
   "outputs": [],
   "source": [
    "e = {}\n",
    "for j in range(m):\n",
    "    for n in range(3):\n",
    "        e[j,n] = svp.BoolVar(f'e[{j}][{n}]')\n",
    "k = svp.IntVar(1,svp.infinity(),'k')   "
   ]
  },
  {
   "cell_type": "markdown",
   "id": "12da8c8f",
   "metadata": {},
   "source": [
    "$$\\exists i < n \\cdot \\quad e_i \\neq 0$$"
   ]
  },
  {
   "cell_type": "code",
   "execution_count": 3,
   "id": "38d92580",
   "metadata": {},
   "outputs": [
    {
     "data": {
      "text/plain": [
       "<ortools.linear_solver.pywraplp.Constraint; proxy of <Swig Object of type 'operations_research::MPConstraint *' at 0x7f81bc0aa7f0> >"
      ]
     },
     "execution_count": 3,
     "metadata": {},
     "output_type": "execute_result"
    }
   ],
   "source": [
    "svp.Add(sum([e[j,1] for j in range(m)]) <= m-1)"
   ]
  },
  {
   "cell_type": "code",
   "execution_count": 4,
   "id": "c7895e81",
   "metadata": {},
   "outputs": [],
   "source": [
    "for i in range(n):\n",
    "    svp.Add(sum([(e[j,2]-e[j,1])*L[j,i] for j in range(m)]) == k*q)"
   ]
  },
  {
   "cell_type": "code",
   "execution_count": 5,
   "id": "01e3e28a",
   "metadata": {},
   "outputs": [],
   "source": [
    "for j in range(m):\n",
    "    svp.Add(sum([e[j,n] for n in range(3)]) == 1)"
   ]
  },
  {
   "cell_type": "code",
   "execution_count": 6,
   "id": "35baa74b",
   "metadata": {},
   "outputs": [],
   "source": [
    "svp.Maximize(sum([e[j,1] for j in range(m)]))"
   ]
  },
  {
   "cell_type": "code",
   "execution_count": 17,
   "id": "bff682c6",
   "metadata": {},
   "outputs": [
    {
     "name": "stdout",
     "output_type": "stream",
     "text": [
      "True\n",
      "-1,0,1,0,0,"
     ]
    }
   ],
   "source": [
    "status = svp.Solve()\n",
    "\n",
    "print(status == pywraplp.Solver.OPTIMAL) \n",
    "\n",
    "if(status == pywraplp.Solver.OPTIMAL):\n",
    "    for j in range(m):\n",
    "        for n in range(3):\n",
    "            if(int(e[j,n].solution_value()) == 1):\n",
    "                print(n-1, end = ',')\n",
    "        \n",
    "        \n",
    "        "
   ]
  },
  {
   "cell_type": "code",
   "execution_count": null,
   "id": "28c6fbc4",
   "metadata": {},
   "outputs": [],
   "source": []
  }
 ],
 "metadata": {
  "kernelspec": {
   "display_name": "Python 3 (ipykernel)",
   "language": "python",
   "name": "python3"
  },
  "language_info": {
   "codemirror_mode": {
    "name": "ipython",
    "version": 3
   },
   "file_extension": ".py",
   "mimetype": "text/x-python",
   "name": "python",
   "nbconvert_exporter": "python",
   "pygments_lexer": "ipython3",
   "version": "3.10.4"
  }
 },
 "nbformat": 4,
 "nbformat_minor": 5
}

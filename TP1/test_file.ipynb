{
 "cells": [
  {
   "cell_type": "markdown",
   "id": "fa019fea-a028-49c2-a620-843bff4b0053",
   "metadata": {},
   "source": [
    "# TP1\n",
    "## Grupo 15\n",
    "\n",
    "Carlos Eduardo Da Silva Machado A96936\n",
    "\n",
    "Gonçalo Manuel Maia de Sousa A97485"
   ]
  },
  {
   "cell_type": "markdown",
   "id": "db9d68ae-3155-4388-806a-db8102e473c1",
   "metadata": {},
   "source": [
    "## Problema 1"
   ]
  },
  {
   "cell_type": "markdown",
   "id": "3c20f18f-8669-47e1-a80e-251c8ee5c286",
   "metadata": {},
   "source": [
    "### Descrição do Problema"
   ]
  },
  {
   "cell_type": "markdown",
   "id": "af57e55e-67bf-42f8-af20-8e9d50bc0556",
   "metadata": {},
   "source": [
    "Pretende-se construir um horário semanal para o plano de reuniões de projeto de uma “StartUp” de acordo com as seguintes condições:\n",
    "    1. Cada reunião ocupa uma sala (enumeradas $$1...S\\,$$) durante um “slot”  $$1..T\\,$$ $$(\\text{hora},\\text{dia})$$.  \n",
    "    2.  Cada reunião tem associado um projeto (enumerados $$1..P$$) e um conjunto de participantes. Os diferentes colaboradores são enumerados $$1..C$$.\n",
    "    3. Cada projeto tem associado um conjunto de colaboradores, dos quais um  é o líder. Cada projeto realiza um dado número de reuniões semanais. \n",
    "    4. O líder do projeto participa em todas as reuniões do seu projeto; os restantes colaboradores podem ou não participar consoante a sua disponibilidade, num mínimo (“quorum”) de  $$50\\%$$ do total de colaboradores do projeto. \n",
    "    \n",
    "    \n",
    "    ( falta deixar isto mais clean)\n",
    "    "
   ]
  },
  {
   "cell_type": "markdown",
   "id": "b7f5cb08-f6a2-44b0-81c8-04d486084fb0",
   "metadata": {},
   "source": [
    "### Código Python"
   ]
  },
  {
   "cell_type": "code",
   "execution_count": 1,
   "id": "84aec74c-c647-4c6a-9001-d1d918cd26f5",
   "metadata": {},
   "outputs": [],
   "source": [
    "from ortools.linear_solver import pywraplp\n",
    "horario = pywraplp.Solver.CreateSolver('SCIP')"
   ]
  },
  {
   "cell_type": "markdown",
   "id": "0a337f9e-cde1-4359-8106-31ca4ed51d9b",
   "metadata": {},
   "source": [
    "Criação da matriz de alocação:"
   ]
  },
  {
   "cell_type": "markdown",
   "id": "65b49f1b-c726-4474-abb3-ed6d8b9d439b",
   "metadata": {},
   "source": [
    "Construção da matriz 2x2 da disponibilidade de cada participante:"
   ]
  },
  {
   "cell_type": "code",
   "execution_count": 2,
   "id": "97e3664a-c39e-417b-b420-b8171977e8a2",
   "metadata": {},
   "outputs": [
    {
     "name": "stdout",
     "output_type": "stream",
     "text": [
      "D\n",
      "1 1 0 1 1 0 \n",
      "1 1 0 1 1 0 \n",
      "1 1 0 0 1 1 \n",
      "0 1 1 0 1 1 \n",
      "0 1 1 1 0 1 \n",
      "1 1 1 0 1 1 \n",
      "1 1 0 1 1 1 \n",
      "0 0 1 1 0 0 \n",
      "\n",
      "L\n",
      "{0: 0, 1: 3, 2: 6}\n",
      "\n",
      "COL\n",
      "1 1 1 0 0 0 0 0 \n",
      "0 0 1 1 1 1 1 0 \n",
      "0 0 0 0 0 1 1 1 \n",
      "\n",
      "M\n",
      "{0: 3, 1: 1, 2: 1}\n",
      "\n"
     ]
    }
   ],
   "source": [
    "\n",
    "import random\n",
    "P,C,S,T = 3,8,3,6\n",
    "\n",
    "def printmatrix(x,m,n):\n",
    "    for i in range(m):\n",
    "        for j in range(n):\n",
    "            print(x[i,j], end = ' ')  \n",
    "        print()\n",
    "\n",
    "def creatematrix(x,string,m,n):\n",
    "    l = 0\n",
    "    for i in range(m):\n",
    "        for j in range(n):\n",
    "            x[i,j] = int(string[l])\n",
    "            l += 1\n",
    "\n",
    "def createdict(x,string,n):\n",
    "    for i in range(n):\n",
    "        x[i] = int(string[i])\n",
    "\n",
    "d = {}\n",
    "s = '110110110110110011011011011101111011110111001100'\n",
    "creatematrix(d,s,C,T)\n",
    "#for i in range(P):\n",
    "#    for j in range(C):\n",
    "#        d[(i,j)] = random.randrange(1,2)\n",
    "    \n",
    "\n",
    "l = {}\n",
    "s = '036'\n",
    "createdict(l,s,P)\n",
    "#n = random.sample(range(5),5)\n",
    "#for i in range(5):\n",
    "#    l[i] = n[i]\n",
    "    \n",
    "col = {}\n",
    "#for i in range(5):\n",
    "#    for j in range(5):\n",
    "#        col[(i,j)] = random.randrange(0,2)\n",
    "s = '111000000011111000000111'\n",
    "creatematrix(col,s,P,C)\n",
    "\n",
    "s = '311'\n",
    "m = {}\n",
    "createdict(m,s,P)\n",
    "#for i in range(P):\n",
    "#    m[i] = random.randrange(1,2)\n",
    "\n",
    "    \n",
    "print('D')\n",
    "printmatrix(d,C,T)\n",
    "print()\n",
    "print('L')    \n",
    "print(l)\n",
    "print()\n",
    "print('COL')    \n",
    "printmatrix(col,P,C)\n",
    "print()\n",
    "print('M')    \n",
    "print(m)\n",
    "print()"
   ]
  },
  {
   "cell_type": "code",
   "execution_count": 3,
   "id": "1e49843f-4fd7-42de-983d-1f87a96a0f47",
   "metadata": {},
   "outputs": [],
   "source": [
    "X = {}\n",
    "for p in range(P):\n",
    "    for c in range(C):\n",
    "        for s in range(S):\n",
    "            for t in range(T):\n",
    "                X[p,c,s,t] = horario.BoolVar(f'X[{p}][{c}][{s}][{t}]')"
   ]
  },
  {
   "cell_type": "markdown",
   "id": "cf91270d-049a-4742-9ec3-5b95f6dcb710",
   "metadata": {},
   "source": [
    "O lider participa em todas as reuniões do projeto:\n",
    "\n",
    "$$\n",
    "\\forall_{p< P,c< C,s< S,t<T }  \\quad x_{p,l_p,s,t} \\ge x_{p,c,s,t}\n",
    "$$"
   ]
  },
  {
   "cell_type": "code",
   "execution_count": 4,
   "id": "fe53793b-66d9-490d-a2d8-ed99852c3884",
   "metadata": {},
   "outputs": [],
   "source": [
    "for p in range(P):\n",
    "    for c in range(C):\n",
    "        for s in range(S):\n",
    "            for t in range(T):\n",
    "                horario.Add(X[p,l[p],s,t] >= X[p,c,s,t])\n"
   ]
  },
  {
   "cell_type": "markdown",
   "id": "39e2c637-1a6e-4ca5-a9c8-cd928f61e6b5",
   "metadata": {},
   "source": [
    "O projeto tem mínimo (“quorum”) de 50% do total de colaboradores do projeto:\n",
    "$$\n",
    "\\forall_{p< P,s< S,t< T} \\quad \\sum_{c< C} x_{p,c,s,t}\\ge \\frac{\\sum_{c< C} col_{p,c}}{2}.x_{p,l_p,s,t}\n",
    "$$"
   ]
  },
  {
   "cell_type": "code",
   "execution_count": 5,
   "id": "e7653c99-fd30-4bee-bc23-4639c765982f",
   "metadata": {},
   "outputs": [],
   "source": [
    "for p in range(P):\n",
    "    for s in range(S):\n",
    "        for t in range(T):\n",
    "            horario.Add(sum([ X[p,c,s,t] for c in range(C)]) >= sum([ col[p,c] for c in range(C) ])*X[p,l[p],s,t]/2)\n",
    "                "
   ]
  },
  {
   "cell_type": "markdown",
   "id": "6a604186-3b4e-4065-8b77-a97ef73acab1",
   "metadata": {},
   "source": [
    "Verificar se o colaborador tem disponibilidade:\n",
    "$$\n",
    "\\forall_{c< C,t< T} \\quad d_{c,t} = 0 \\quad \\implies \\quad \\sum_{p<P,s< S} x_{p,c,s,t} = 0\n",
    "$$"
   ]
  },
  {
   "cell_type": "code",
   "execution_count": 6,
   "id": "940f428a-1204-4e74-a939-a7e0d48ae3fc",
   "metadata": {},
   "outputs": [],
   "source": [
    "for c in range(C):\n",
    "    for t in range(T):\n",
    "        if d[c,t] == 0:\n",
    "            horario.Add(sum([ X[p,c,s,t] for p in range(P) for s in range(S)]) == 0)"
   ]
  },
  {
   "cell_type": "markdown",
   "id": "0ec78e3d-a456-4fff-a065-beddd71dd12c",
   "metadata": {},
   "source": [
    "Número Mínimo de reuniões semanais:\n",
    "$$\n",
    "\\forall_{p< P} \\quad \\sum_{s< S,t< T} x_{p,l_p,s,t} \\ge m_p\n",
    "$$"
   ]
  },
  {
   "cell_type": "code",
   "execution_count": 7,
   "id": "37562b62-d465-4dec-96e1-caa018e96296",
   "metadata": {},
   "outputs": [],
   "source": [
    "for p in range(P):\n",
    "    horario.Add(sum([ X[p,l[p],s,t] for c in range(C) for s in range(S) for t in range(T)]) >= m[p])"
   ]
  },
  {
   "cell_type": "markdown",
   "id": "f9e6c088-d615-4e75-bd65-c7a1a3e5c258",
   "metadata": {},
   "source": [
    "Colaboradores não podem participar em reuniões de projetos que não estão associados:\n",
    "$$\n",
    "\\forall_{p< P,c< C,s< S,t< T} \\quad x_{p,c,s,t} \\le col_{p,c}\n",
    "$$"
   ]
  },
  {
   "cell_type": "code",
   "execution_count": 8,
   "id": "b6f4bbb7-2227-4d67-a6ff-fcba27dae5d4",
   "metadata": {},
   "outputs": [],
   "source": [
    "for p in range(P):\n",
    "    for c in range(C):\n",
    "        for s in range(S):\n",
    "            for t in range(T):\n",
    "                horario.Add(X[p,c,s,t] <= col[p,c])"
   ]
  },
  {
   "cell_type": "markdown",
   "id": "37ace512-5fe3-4511-9207-562b260b5c81",
   "metadata": {},
   "source": [
    "Um colaborador não pode participar em duas reuniões ao mesmo tempo:\n",
    "$$\n",
    "\\forall_{c< C, t< T} \\quad\\sum_{p< P, s< S} x_{p,c,s,t} \\le 1\n",
    "$$"
   ]
  },
  {
   "cell_type": "code",
   "execution_count": 9,
   "id": "8fd037a8-5ac9-4db2-9d52-08cbac0f058d",
   "metadata": {},
   "outputs": [],
   "source": [
    "for c in range(C):\n",
    "    for t in range(T):\n",
    "        horario.Add(sum([ X[p,c,s,t] for p in range(P) for s in range(S)]) <= 1)"
   ]
  },
  {
   "cell_type": "code",
   "execution_count": 10,
   "id": "51915dc2-84d6-40b2-9b57-4af0c1157a7f",
   "metadata": {},
   "outputs": [],
   "source": [
    "# S = Int\n",
    "# C = Int\n",
    "# T = (hora, dia)\n",
    "# P = ([conjunto de colaboradores], lider, número de reuniões semanais)\n",
    "\n",
    "# Maximizar o número de reuniões efetivamente realizadas\n",
    "# Minimizar o número médio de reuniões por participante."
   ]
  },
  {
   "cell_type": "code",
   "execution_count": 20,
   "id": "5515e443-71f7-40ac-a2cf-b752d151bdb2",
   "metadata": {},
   "outputs": [
    {
     "name": "stdout",
     "output_type": "stream",
     "text": [
      "1\n",
      "projeto 0:\n",
      "o colaborador 0 tem reunião na sala 0 no slot 1\n",
      "o colaborador 0 tem reunião na sala 1 no slot 3\n",
      "o colaborador 0 tem reunião na sala 1 no slot 4\n",
      "o colaborador 0 tem reunião na sala 2 no slot 0\n",
      "o colaborador 1 tem reunião na sala 0 no slot 1\n",
      "o colaborador 1 tem reunião na sala 1 no slot 3\n",
      "o colaborador 1 tem reunião na sala 1 no slot 4\n",
      "o colaborador 2 tem reunião na sala 2 no slot 0\n",
      "\n",
      "\n",
      "projeto 1:\n",
      "o colaborador 2 tem reunião na sala 0 no slot 4\n",
      "o colaborador 2 tem reunião na sala 1 no slot 1\n",
      "o colaborador 2 tem reunião na sala 1 no slot 5\n",
      "o colaborador 3 tem reunião na sala 0 no slot 2\n",
      "o colaborador 3 tem reunião na sala 0 no slot 4\n",
      "o colaborador 3 tem reunião na sala 1 no slot 1\n",
      "o colaborador 3 tem reunião na sala 1 no slot 5\n",
      "o colaborador 4 tem reunião na sala 0 no slot 2\n",
      "o colaborador 4 tem reunião na sala 1 no slot 1\n",
      "o colaborador 4 tem reunião na sala 1 no slot 5\n",
      "o colaborador 5 tem reunião na sala 0 no slot 2\n",
      "o colaborador 6 tem reunião na sala 0 no slot 4\n",
      "\n",
      "\n",
      "projeto 2:\n",
      "o colaborador 5 tem reunião na sala 0 no slot 5\n",
      "o colaborador 5 tem reunião na sala 1 no slot 0\n",
      "o colaborador 5 tem reunião na sala 2 no slot 1\n",
      "o colaborador 6 tem reunião na sala 0 no slot 5\n",
      "o colaborador 6 tem reunião na sala 1 no slot 0\n",
      "o colaborador 6 tem reunião na sala 1 no slot 3\n",
      "o colaborador 6 tem reunião na sala 2 no slot 1\n",
      "o colaborador 7 tem reunião na sala 1 no slot 3\n",
      "\n",
      "\n"
     ]
    }
   ],
   "source": [
    "horario.Maximize(sum([X[p,l[p],s,t] for p in range(P) for s in range(S) for t in range(T)]))\n",
    "\n",
    "status = horario.Solve()\n",
    "if status == pywraplp.Solver.OPTIMAL:\n",
    "    print(1)\n",
    "if status == pywraplp.Solver.INFEASIBLE:\n",
    "    print(2)\n",
    "if status == pywraplp.Solver.UNBOUNDED:\n",
    "    print(3)\n",
    "\n",
    "option = 1\n",
    "\n",
    "if option == 0:\n",
    "    for c in range(C):\n",
    "        print(f'colaborador {c}:')\n",
    "        for p in range(P):\n",
    "            for s in range(S):\n",
    "                for t in range(T):\n",
    "                    if (int(X[p,c,s,t].solution_value()) == 1):\n",
    "                        print(f'reunião do projeto {p} na sala {s} no slot {t}')\n",
    "        print()\n",
    "        print()\n",
    "    \n",
    "if option == 1:\n",
    "    for p in range(P):\n",
    "        n = 1\n",
    "        print(f'projeto {p}:')\n",
    "        for c in range(C):\n",
    "            for s in range(S):\n",
    "                for t in range(T):\n",
    "                    if (int(X[p,c,s,t].solution_value()) == 1):\n",
    "                        print(f'o colaborador {c} tem reunião na sala {s} no slot {t}')\n",
    "        print()\n",
    "        print()"
   ]
  },
  {
   "cell_type": "code",
   "execution_count": null,
   "id": "5cb06faf-bf5f-47fa-8104-7db1f517d4ce",
   "metadata": {},
   "outputs": [],
   "source": []
  }
 ],
 "metadata": {
  "kernelspec": {
   "display_name": "Python 3 (ipykernel)",
   "language": "python",
   "name": "python3"
  },
  "language_info": {
   "codemirror_mode": {
    "name": "ipython",
    "version": 3
   },
   "file_extension": ".py",
   "mimetype": "text/x-python",
   "name": "python",
   "nbconvert_exporter": "python",
   "pygments_lexer": "ipython3",
   "version": "3.10.4"
  }
 },
 "nbformat": 4,
 "nbformat_minor": 5
}

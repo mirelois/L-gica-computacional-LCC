{
 "cells": [
  {
   "cell_type": "markdown",
   "id": "4bf371ec-c0f5-49d6-b984-f18d552e73eb",
   "metadata": {},
   "source": [
    "$$q \\quad \\mbox{é um primo} \\ge 3$$"
   ]
  },
  {
   "cell_type": "code",
   "execution_count": 1,
   "id": "6eb3756b",
   "metadata": {},
   "outputs": [
    {
     "name": "stdout",
     "output_type": "stream",
     "text": [
      "2 -16 16 -17 -9 -17 \n",
      "-11 -3 8 -2 -17 -6 \n",
      "5 2 3 8 -17 -2 \n",
      "18 -4 -9 -18 6 -4 \n",
      "-2 18 -10 0 -16 -9 \n",
      "-18 -12 1 -4 -1 15 \n",
      "-13 17 -6 -9 -6 -2 \n",
      "-5 -8 4 -5 -1 -8 \n",
      "1 15 15 -10 -14 -7 \n",
      "5 5 -10 -16 14 7 \n",
      "-13 -8 -11 -3 12 -17 \n",
      "-9 12 -14 18 16 15 \n",
      "-15 -16 8 14 1 3 \n",
      "-3 17 -7 -11 -16 -14 \n",
      "3 -15 15 -10 -4 12 \n",
      "-6 8 13 -16 -8 15 \n",
      "\n",
      "6 16 37 18\n"
     ]
    }
   ],
   "source": [
    "from pyscipopt import Model\n",
    "from pprint import pprint\n",
    "import math\n",
    "import random\n",
    "\n",
    "def printmatrix(x,m,n):\n",
    "    for i in range(m):\n",
    "        for j in range(n):\n",
    "            print(x[i,j], end = ' ')  \n",
    "        print()\n",
    "\n",
    "\n",
    "def is_prime(x):\n",
    "    return all(x % i for i in range(2, x))\n",
    "\n",
    "def next_prime(x):\n",
    "    return min([a for a in range(x+1, 2*x) if is_prime(a)])\n",
    "\n",
    "\n",
    "def size(x):\n",
    "    return(math.ceil(math.log(x+1,2)))\n",
    "\n",
    "def nextnum(x):\n",
    "    p = size(x)\n",
    "    return pow(2,p)\n",
    "    return(math.ceil(math.log(x,2)))\n",
    "\n",
    "model = Model('model')\n",
    "\n",
    "\n",
    "\n",
    "\n",
    "\n",
    "n = 6\n",
    "m = nextnum(n)*2\n",
    "q = next_prime(nextnum(m))\n",
    "d = int((q-1)/2)\n",
    "#print(n)\n",
    "L = {}\n",
    "for j in range(m):\n",
    "    for i in range(n):\n",
    "        L[j,i] = random.randrange(-d,d+1)\n",
    "        \n",
    "printmatrix(L,m,n)\n",
    "print()\n",
    "print(n,m,q,d)\n",
    "#pprint(L)"
   ]
  },
  {
   "cell_type": "markdown",
   "id": "059a036b",
   "metadata": {},
   "source": [
    "$$m > n$$"
   ]
  },
  {
   "cell_type": "markdown",
   "id": "c9acf077-4843-4c61-aa1d-bcfb67bbdac3",
   "metadata": {},
   "source": [
    "$$n \\le 30$$"
   ]
  },
  {
   "cell_type": "markdown",
   "id": "0912420b-b93c-4ed8-a5b0-65cffd13b9be",
   "metadata": {},
   "source": [
    "$$|m| > 1 + |n|$$ ***cuidado que |x| não é valor absoluto***"
   ]
  },
  {
   "cell_type": "markdown",
   "id": "6b8053ea-98fb-4299-b71b-e048d1c677e1",
   "metadata": {},
   "source": [
    "$$|q| > |m|$$"
   ]
  },
  {
   "cell_type": "markdown",
   "id": "b801a04e",
   "metadata": {},
   "source": [
    "$$e = \\{-1,0,1\\}^m$$"
   ]
  },
  {
   "cell_type": "markdown",
   "id": "eac8154f",
   "metadata": {},
   "source": [
    "$$\n",
    "\\forall i < n \\cdot \\quad \\sum_{j<m} e_j \\times L_{i,j} \\cong 0 \\; mod \\; q\n",
    "$$"
   ]
  },
  {
   "cell_type": "markdown",
   "id": "1bf6648c",
   "metadata": {},
   "source": [
    "e[i,j] == 1 sse e[i] == (j-1)"
   ]
  },
  {
   "cell_type": "code",
   "execution_count": 2,
   "id": "6dc0bf65",
   "metadata": {},
   "outputs": [],
   "source": [
    "\n",
    "Y = {}\n",
    "e = {}\n",
    "k ={}\n",
    "for j in range(m):\n",
    "    e[j] = model.addVar(f'e[{j}]',vtype = 'I', lb = -1, ub = 1)\n",
    "\n",
    "for i in range(n):\n",
    "    k[i] = model.addVar(f'k[{i}]', vtype = 'I')\n",
    "    \n",
    "for j in range(m):\n",
    "    Y[j] = model.addVar(f'Y[{j}]',vtype = 'B')\n",
    "    \n",
    "model.setObjective(sum([Y[j] for j in range(m)]),sense = 'minimize')\n",
    "    "
   ]
  },
  {
   "cell_type": "markdown",
   "id": "12da8c8f",
   "metadata": {},
   "source": [
    "$$\\exists i < n \\cdot \\quad e_i \\neq 0$$"
   ]
  },
  {
   "cell_type": "code",
   "execution_count": 3,
   "id": "38d92580",
   "metadata": {},
   "outputs": [
    {
     "data": {
      "text/plain": [
       "c1"
      ]
     },
     "execution_count": 3,
     "metadata": {},
     "output_type": "execute_result"
    }
   ],
   "source": [
    "model.addCons(sum([Y[j] for j in range(m)]) >= 1)"
   ]
  },
  {
   "cell_type": "code",
   "execution_count": 4,
   "id": "25fb5ea9-2cb8-4ade-a6c5-9d4cfcc34a5c",
   "metadata": {},
   "outputs": [],
   "source": [
    "for j in range(m):\n",
    "    model.addCons(e[j]*e[j] == Y[j])"
   ]
  },
  {
   "cell_type": "code",
   "execution_count": 5,
   "id": "c7895e81",
   "metadata": {},
   "outputs": [],
   "source": [
    "for i in range(n):\n",
    "    model.addCons(sum([e[j]*L[j,i] for j in range(m)]) == k[i]*q)"
   ]
  },
  {
   "cell_type": "code",
   "execution_count": 6,
   "id": "01e3e28a",
   "metadata": {},
   "outputs": [],
   "source": [
    "#for j in range(m):\n",
    "#   svp.Add(sum([e[j,i] for i in range(3)]) == 1)"
   ]
  },
  {
   "cell_type": "code",
   "execution_count": 7,
   "id": "35baa74b",
   "metadata": {},
   "outputs": [],
   "source": [
    "#svp.Maximize(sum([e[j,1] for j in range(m)]))"
   ]
  },
  {
   "cell_type": "code",
   "execution_count": null,
   "id": "70dc293d",
   "metadata": {},
   "outputs": [],
   "source": [
    "model.optimize()\n",
    "print('alive?')"
   ]
  },
  {
   "cell_type": "code",
   "execution_count": null,
   "id": "bff682c6",
   "metadata": {},
   "outputs": [],
   "source": [
    "print('start')\n",
    "\n",
    "sol = model.getBestSol()\n",
    "\n",
    "for i in range(m):\n",
    "    print('{}'.format(sol[e[i]]))\n",
    "print('done')\n"
   ]
  },
  {
   "cell_type": "code",
   "execution_count": null,
   "id": "77294847",
   "metadata": {},
   "outputs": [],
   "source": []
  },
  {
   "cell_type": "code",
   "execution_count": null,
   "id": "28c6fbc4",
   "metadata": {},
   "outputs": [],
   "source": []
  }
 ],
 "metadata": {
  "kernelspec": {
   "display_name": "Python 3 (ipykernel)",
   "language": "python",
   "name": "python3"
  },
  "language_info": {
   "codemirror_mode": {
    "name": "ipython",
    "version": 3
   },
   "file_extension": ".py",
   "mimetype": "text/x-python",
   "name": "python",
   "nbconvert_exporter": "python",
   "pygments_lexer": "ipython3",
   "version": "3.10.4"
  }
 },
 "nbformat": 4,
 "nbformat_minor": 5
}

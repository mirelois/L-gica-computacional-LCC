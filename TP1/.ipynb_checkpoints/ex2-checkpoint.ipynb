{
 "cells": [
  {
   "cell_type": "markdown",
   "id": "4bf371ec-c0f5-49d6-b984-f18d552e73eb",
   "metadata": {},
   "source": [
    "$$q \\quad \\mbox{é um primo} \\ge 3$$"
   ]
  },
  {
   "cell_type": "markdown",
   "id": "059a036b",
   "metadata": {},
   "source": [
    "$$m > n$$"
   ]
  },
  {
   "cell_type": "markdown",
   "id": "c9acf077-4843-4c61-aa1d-bcfb67bbdac3",
   "metadata": {},
   "source": [
    "$$n \\le 30$$"
   ]
  },
  {
   "cell_type": "markdown",
   "id": "0912420b-b93c-4ed8-a5b0-65cffd13b9be",
   "metadata": {},
   "source": [
    "$$|m| > 1 + |n|$$ ***cuidado que |x| não é valor absoluto***"
   ]
  },
  {
   "cell_type": "markdown",
   "id": "6b8053ea-98fb-4299-b71b-e048d1c677e1",
   "metadata": {},
   "source": [
    "$$|q| > |m|$$"
   ]
  },
  {
   "cell_type": "markdown",
   "id": "b801a04e",
   "metadata": {},
   "source": [
    "$$e = \\{-1,0,1\\}^m$$"
   ]
  },
  {
   "cell_type": "markdown",
   "id": "eac8154f",
   "metadata": {},
   "source": [
    "$$\n",
    "\\forall i < n \\cdot \\quad \\sum_{j<m} e_j \\times L_{i,j} \\cong 0 \\; mod \\; q\n",
    "$$"
   ]
  },
  {
   "cell_type": "markdown",
   "id": "1dea12dc",
   "metadata": {},
   "source": [
    "$$\\exists i < n \\cdot \\quad e_i \\$$"
   ]
  },
  {
   "cell_type": "code",
   "execution_count": null,
   "id": "dfbec10b",
   "metadata": {},
   "outputs": [],
   "source": []
  }
 ],
 "metadata": {
  "kernelspec": {
   "display_name": "Python 3 (ipykernel)",
   "language": "python",
   "name": "python3"
  },
  "language_info": {
   "codemirror_mode": {
    "name": "ipython",
    "version": 3
   },
   "file_extension": ".py",
   "mimetype": "text/x-python",
   "name": "python",
   "nbconvert_exporter": "python",
   "pygments_lexer": "ipython3",
   "version": "3.10.4"
  }
 },
 "nbformat": 4,
 "nbformat_minor": 5
}

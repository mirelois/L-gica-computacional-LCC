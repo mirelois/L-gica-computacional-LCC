{
 "cells": [
  {
   "cell_type": "markdown",
   "id": "bff2889f-bf8a-4c7a-b92a-864acf50d93a",
   "metadata": {},
   "source": [
    "# TP1\n",
    "## Grupo 15\n",
    "\n",
    "Carlos Eduardo Da Silva Machado A96936\n",
    "\n",
    "Gonçalo Manuel Maia de Sousa A97485"
   ]
  },
  {
   "cell_type": "markdown",
   "id": "982dbf82-c2d3-46de-a64e-8d39c7cbce88",
   "metadata": {},
   "source": [
    "## Problema 2"
   ]
  },
  {
   "cell_type": "markdown",
   "id": "f3b85a7f-3b35-4173-8e11-19b825e3026c",
   "metadata": {},
   "source": [
    "### Descrição do Problema"
   ]
  },
  {
   "cell_type": "markdown",
   "id": "cbe99696-a004-4410-b313-47d2b847f917",
   "metadata": {},
   "source": [
    "\n",
    "2. Na criptografia pós-quântica os reticulados inteiros (“hard lattices”) e os problemas a eles associados são uma componente essencial. Um reticulado inteiro pode ser definido por uma matriz $$\\;\\mathsf{L} \\in \\mathbb{Z}^{m\\times n}\\;$$ (com $$\\;m > n\\;$$) de inteiros e por um inteiro primo $$\\;q\\geq 3\\;$$.\n",
    "\n",
    "\n",
    "    O chamado problema do vetor curto  (SVP) consiste  no cálculo de um vetor de inteiros\n",
    "                                                   $$\\;e\\in \\{-1,0,1\\}^m\\;$$\n",
    "    não nulo que  verifique a seguinte relação matricial\n",
    "                                         $$\\forall\\,i < n\\,\\centerdot\\,$$         $$\\sum_{j< m}\\,e_j\\,\\times\\,\\mathsf{L}_{j,i}\\;\\equiv\\;0\\mod q$$\n",
    "\n",
    "\n",
    "    1. Pretende-se resolver o SVP por programação inteira dentro das seguintes condições\n",
    "        1. Os valores  $$\\,m\\,,\\,n\\,,\\,q\\,$$  são escolhidos com $$\\,n > 30\\,$$, $$\\,|m| > 1 + |n|\\;$$ e $$\\,|q| > |m|\\,$$. \n",
    "        2. Os elementos $$\\;\\mathsf{L}_{j,i}\\;$$ são gerados aleatória e uniformemente no intervalo inteiro $$\\,\\{-d \\cdots d\\}$$ sendo  $$\\;d\\equiv (q-1)/2\\;$$.\n",
    "    2. Pretende-se determinar em, em primeiro lugar, se existe um vetor $$\\,e\\,$$ não nulo (pelo menos um dos $$\\,e_j\\,$$é diferente de zero). Se existir $$\\,e\\,$$ pretende-se calcular o vetor que minimiza o número de componentes não nulas.\n"
   ]
  },
  {
   "cell_type": "code",
   "execution_count": null,
   "id": "3afab7e2-3817-4cbb-a263-9039f28b1e97",
   "metadata": {},
   "outputs": [],
   "source": [
    "from ortools.linear_solver import pywraplp\n",
    "svp = pywraplp.Solver.CreateSolver('SCIP')"
   ]
  },
  {
   "cell_type": "markdown",
   "id": "e1297685-ab85-4bb2-9c4c-238f81878fc2",
   "metadata": {},
   "source": [
    "Criação do e:"
   ]
  },
  {
   "cell_type": "code",
   "execution_count": null,
   "id": "ce70a1eb-bd89-43fa-94f3-4c7b45c49640",
   "metadata": {},
   "outputs": [],
   "source": [
    "e = {}\n",
    "for i in range(m):\n",
    "    for j in range(3):\n",
    "        e[i,j] = svp.BoolVar(f'e[{i}][{j}]')"
   ]
  },
  {
   "cell_type": "code",
   "execution_count": null,
   "id": "be7f7db7-d9f7-4db3-8df5-27427f47637d",
   "metadata": {},
   "outputs": [],
   "source": []
  }
 ],
 "metadata": {
  "kernelspec": {
   "display_name": "Python 3 (ipykernel)",
   "language": "python",
   "name": "python3"
  },
  "language_info": {
   "codemirror_mode": {
    "name": "ipython",
    "version": 3
   },
   "file_extension": ".py",
   "mimetype": "text/x-python",
   "name": "python",
   "nbconvert_exporter": "python",
   "pygments_lexer": "ipython3",
   "version": "3.10.6"
  }
 },
 "nbformat": 4,
 "nbformat_minor": 5
}

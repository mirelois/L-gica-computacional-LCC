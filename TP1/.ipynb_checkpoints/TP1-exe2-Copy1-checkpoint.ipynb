{
 "cells": [
  {
   "cell_type": "markdown",
   "id": "bff2889f-bf8a-4c7a-b92a-864acf50d93a",
   "metadata": {},
   "source": [
    "# TP1\n",
    "## Grupo 15\n",
    "\n",
    "Carlos Eduardo Da Silva Machado A96936\n",
    "\n",
    "Gonçalo Manuel Maia de Sousa A97485"
   ]
  },
  {
   "cell_type": "markdown",
   "id": "982dbf82-c2d3-46de-a64e-8d39c7cbce88",
   "metadata": {},
   "source": [
    "## Problema 2"
   ]
  },
  {
   "cell_type": "markdown",
   "id": "f3b85a7f-3b35-4173-8e11-19b825e3026c",
   "metadata": {},
   "source": [
    "### Descrição do Problema"
   ]
  },
  {
   "cell_type": "markdown",
   "id": "cbe99696-a004-4410-b313-47d2b847f917",
   "metadata": {},
   "source": [
    "O problema envolve \"hard lattices\" (reticulados inteiros), um reticulado inteiro pode ser definido pela seguinte matriz $\\;\\mathsf{L} \\in \\mathbb{Z}^{m\\times n}\\;$ (com $\\;m > n\\;$) de inteiros e por um inteiro primo $\\;q\\geq 3\\;$.\n",
    "O problema do vetor curto  (SVP) consiste  no cálculo de um vetor de inteiros $\\;e\\in \\{-1,0,1\\}^m$ não nulo que verifique a relação $\\forall\\,i < n\\,\\centerdot\\,$$         $$\\sum_{j< m}\\,e_j\\,\\times\\,\\mathsf{L}_{j,i}\\;\\equiv\\;0\\mod q$.\n",
    "\n",
    "1. Pretende-se resolver o SVP, sendo que:\n",
    "    - Para m,n e q, $\\,n > 30\\,$, $\\,|m| > 1 + |n|\\;$ e $\\,|q| > |m|\\,$\n",
    "    - Os elementos $\\;\\mathsf{L}_{j,i}\\;$ são gerados aleatória e uniformemente no intervalo inteiro $\\,\\{-d \\cdots d\\}$ sendo  $\\;d\\equiv (q-1)/2\\;$. \n",
    "2. Pretende-se determinar:\n",
    "    - Se existe um vetor $\\,e\\,$ não nulo (pelo menos um dos $\\,e_j\\,$é diferente de zero)\n",
    "    - Se existir $\\,e\\,$ pretende-se calcular o vetor que minimiza o número de componentes não nulas."
   ]
  },
  {
   "cell_type": "markdown",
   "id": "e831e175-e10b-4575-84f7-5b32b80c96c9",
   "metadata": {},
   "source": [
    "### Abordagem do Problema"
   ]
  },
  {
   "cell_type": "markdown",
   "id": "7a338afa-ab83-4987-8ea4-1962f8ee37e6",
   "metadata": {},
   "source": [
    "Abordar"
   ]
  },
  {
   "cell_type": "markdown",
   "id": "59c99bb5-d47f-4efa-b771-94ca0721c729",
   "metadata": {},
   "source": [
    "## Código Python"
   ]
  },
  {
   "cell_type": "code",
   "execution_count": 1,
   "id": "ed81408c-68f3-4dc1-9348-0f047cd55427",
   "metadata": {},
   "outputs": [],
   "source": [
    "from pyscipopt import Model\n",
    "import math\n",
    "import random"
   ]
  },
  {
   "cell_type": "markdown",
   "id": "241f137e-2dc4-4c34-8754-73625c9a7a3e",
   "metadata": {},
   "source": [
    "Exemplo 1:"
   ]
  },
  {
   "cell_type": "code",
   "execution_count": 2,
   "id": "7cefe271-0133-4e9a-8a75-43a0bbbfa36f",
   "metadata": {},
   "outputs": [],
   "source": [
    "#n, m, q, d = 6, 16, 37, 18\n",
    "n,m,q,d = 4,16,37,18"
   ]
  },
  {
   "cell_type": "code",
   "execution_count": 3,
   "id": "a378f391-3889-4d30-a550-dd1f9b90bfc5",
   "metadata": {},
   "outputs": [],
   "source": [
    "model = Model('model')\n",
    "def printmatrix(x,m,n):\n",
    "    for i in range(m):\n",
    "        for j in range(n):\n",
    "            print(x[i,j], end = ' ')  \n",
    "        print()\n",
    "\n",
    "def size(x):\n",
    "    return(math.ceil(math.log(x+1,2)))\n",
    "\n",
    "L = {}\n",
    "for j in range(m):\n",
    "    for i in range(n):\n",
    "        L[j,i] = random.randrange(-d,d+1)"
   ]
  },
  {
   "cell_type": "markdown",
   "id": "d60fe394",
   "metadata": {},
   "source": [
    "Declaração do vetor $e$"
   ]
  },
  {
   "cell_type": "code",
   "execution_count": 4,
   "id": "18015a0d-c3c9-4be1-bcba-9e82fafafa18",
   "metadata": {},
   "outputs": [],
   "source": [
    "e = {}\n",
    "for j in range(m):\n",
    "    e[j] = model.addVar(f'e[{j}]',vtype = 'I', lb = -1, ub = 1)"
   ]
  },
  {
   "cell_type": "markdown",
   "id": "675ebfc4",
   "metadata": {},
   "source": [
    "Declaração de um vetor binário $Y$ com o mesmo tamanho de $e$ tal que:\n",
    "    $$\\forall_{j< m} \\quad Y_j = 0 \\quad sse \\quad e_j = 0$$"
   ]
  },
  {
   "cell_type": "code",
   "execution_count": 5,
   "id": "bec76dd2",
   "metadata": {},
   "outputs": [],
   "source": [
    "Y = {}\n",
    "for j in range(m):\n",
    "    Y[j] = model.addVar(f'Y[{j}]',vtype = 'B')"
   ]
  },
  {
   "cell_type": "markdown",
   "id": "e7b42aad",
   "metadata": {},
   "source": [
    "Declaração de um vetor $k$ de inteiros e tamanho $n$:"
   ]
  },
  {
   "cell_type": "code",
   "execution_count": 6,
   "id": "5e0ca1ea-ff94-447f-97cf-31a5c7d70b60",
   "metadata": {},
   "outputs": [],
   "source": [
    "k = {}\n",
    "for i in range(n):\n",
    "    k[i] = model.addVar(f'k[{i}]', vtype = 'I')"
   ]
  },
  {
   "cell_type": "markdown",
   "id": "fb87e4e9",
   "metadata": {},
   "source": [
    "### Otimizações"
   ]
  },
  {
   "cell_type": "markdown",
   "id": "0dc06415",
   "metadata": {},
   "source": [
    "Minimizar o numero de componentes diferentes de zero em $e$. "
   ]
  },
  {
   "cell_type": "code",
   "execution_count": 7,
   "id": "0b0577b5-1156-4aec-884b-42cd04f39d18",
   "metadata": {},
   "outputs": [],
   "source": [
    "model.setObjective(sum([Y[j] for j in range(m)]),sense = 'minimize')"
   ]
  },
  {
   "cell_type": "markdown",
   "id": "b88117a2",
   "metadata": {},
   "source": [
    "### Restrições"
   ]
  },
  {
   "cell_type": "markdown",
   "id": "cf2d7016",
   "metadata": {},
   "source": [
    "O vetor $e$ não pode ser nulo.\n",
    "Como $Y_j$ representa a existência, ou não, de um elemento não nulo de $e$ em $j \\le m\\;$ esta restrição pode ser feita do seguinte modo:\n",
    "$$\n",
    "\\sum_{j< m} \\;Y_j \\ge 1\n",
    "$$\n",
    "    \n",
    "    "
   ]
  },
  {
   "cell_type": "code",
   "execution_count": 8,
   "id": "d4f8b57b-9a14-4d9c-af06-0afa1cbc7df1",
   "metadata": {},
   "outputs": [
    {
     "data": {
      "text/plain": [
       "c1"
      ]
     },
     "execution_count": 8,
     "metadata": {},
     "output_type": "execute_result"
    }
   ],
   "source": [
    "model.addCons(sum([Y[j] for j in range(m)]) >= 1)"
   ]
  },
  {
   "cell_type": "markdown",
   "id": "32196ee5",
   "metadata": {},
   "source": [
    "$Y_j$ deve ser $0$ quando $e_j = 0$ e $1$ quando $e_j = 1$ ou $e_j = -1$.\n",
    "Logo esta restrição é tal que:\n",
    "$$\n",
    "\\forall_{j<m} \\quad e_j\\,^2 = y_j\n",
    "$$"
   ]
  },
  {
   "cell_type": "code",
   "execution_count": 9,
   "id": "3946f731-6d15-4d14-be07-f6bd54f0184d",
   "metadata": {},
   "outputs": [],
   "source": [
    "for j in range(m):\n",
    "    model.addCons(e[j]*e[j] == Y[j])"
   ]
  },
  {
   "cell_type": "markdown",
   "id": "99ff8b32",
   "metadata": {},
   "source": [
    "Deve existir um valor inteiro, a que chamaremos $k_i$ tal que $e_j\\times L_{j,i} = k_i\\times q$ para $i<n,j<m$.\n",
    "Podemos exprimir esta condição da seguinte forma:\n",
    "$$\n",
    "\\forall_{i < n} \\quad \\sum_{j < m} e_j\\times L_{j,i} = k_i\\times q\n",
    "$$"
   ]
  },
  {
   "cell_type": "code",
   "execution_count": 10,
   "id": "eec01358-ed74-4e41-b931-cd677858998e",
   "metadata": {},
   "outputs": [],
   "source": [
    "for i in range(n):\n",
    "    model.addCons(sum([e[j]*L[j,i] for j in range(m)]) == k[i]*q)"
   ]
  },
  {
   "cell_type": "markdown",
   "id": "c856390f",
   "metadata": {},
   "source": [
    "### Apresentação da solução"
   ]
  },
  {
   "cell_type": "code",
   "execution_count": null,
   "id": "c07eaef4-0304-4542-8ce5-336996143ef0",
   "metadata": {},
   "outputs": [],
   "source": [
    "model.hideOutput()\n",
    "model.optimize()"
   ]
  },
  {
   "cell_type": "code",
   "execution_count": null,
   "id": "60fcdca5-64fb-4f9f-9db9-e89a33c9a31f",
   "metadata": {},
   "outputs": [],
   "source": [
    "sol = model.getBestSol()"
   ]
  },
  {
   "cell_type": "code",
   "execution_count": null,
   "id": "99a80962-74dd-4fc1-a7df-80f9a7853263",
   "metadata": {},
   "outputs": [],
   "source": [
    "def check_sol(L,e,q,n,m):\n",
    "    check = True\n",
    "    for i in range(n):\n",
    "        check = check and (sum([e[j]*L[j,i] for j in range(m)]) % q == 0)\n",
    "    return check\n",
    "\n",
    "\n",
    "x = {}\n",
    "for i in range(m):\n",
    "    x[i] = sol[e[i]]\n",
    "    print('{}'.format(sol[e[i]]))\n",
    "print('done')\n",
    "print(check_sol(L,x,37,4,16))\n"
   ]
  },
  {
   "cell_type": "code",
   "execution_count": null,
   "id": "512857f5-b2e4-40d0-876b-0e42460a3318",
   "metadata": {},
   "outputs": [],
   "source": []
  }
 ],
 "metadata": {
  "kernelspec": {
   "display_name": "Python 3 (ipykernel)",
   "language": "python",
   "name": "python3"
  },
  "language_info": {
   "codemirror_mode": {
    "name": "ipython",
    "version": 3
   },
   "file_extension": ".py",
   "mimetype": "text/x-python",
   "name": "python",
   "nbconvert_exporter": "python",
   "pygments_lexer": "ipython3",
   "version": "3.10.6"
  }
 },
 "nbformat": 4,
 "nbformat_minor": 5
}

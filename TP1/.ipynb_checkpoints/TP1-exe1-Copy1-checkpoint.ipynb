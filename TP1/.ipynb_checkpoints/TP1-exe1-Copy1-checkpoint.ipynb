{
 "cells": [
  {
   "cell_type": "markdown",
   "id": "fa019fea-a028-49c2-a620-843bff4b0053",
   "metadata": {},
   "source": [
    "# TP1\n",
    "## Grupo 15\n",
    "\n",
    "Carlos Eduardo Da Silva Machado A96936\n",
    "\n",
    "Gonçalo Manuel Maia de Sousa A97485"
   ]
  },
  {
   "cell_type": "markdown",
   "id": "db9d68ae-3155-4388-806a-db8102e473c1",
   "metadata": {},
   "source": [
    "## Problema 1"
   ]
  },
  {
   "cell_type": "markdown",
   "id": "3c20f18f-8669-47e1-a80e-251c8ee5c286",
   "metadata": {},
   "source": [
    "### Descrição do Problema"
   ]
  },
  {
   "cell_type": "markdown",
   "id": "af57e55e-67bf-42f8-af20-8e9d50bc0556",
   "metadata": {},
   "source": [
    "Pretende-se construir um horário semanal para o plano de reuniões de projeto de uma “StartUp” de acordo com as seguintes condições:\n",
    "    1. Cada reunião ocupa uma sala (enumeradas $$1...S\\,$$) durante um “slot”  $$1..T\\,$$ $$(\\text{hora},\\text{dia})$$.  \n",
    "    2.  Cada reunião tem associado um projeto (enumerados $$1..P$$) e um conjunto de participantes. Os diferentes colaboradores são enumerados $$1..C$$.\n",
    "    3. Cada projeto tem associado um conjunto de colaboradores, dos quais um  é o líder. Cada projeto realiza um dado número de reuniões semanais. \n",
    "    4. O líder do projeto participa em todas as reuniões do seu projeto; os restantes colaboradores podem ou não participar consoante a sua disponibilidade, num mínimo (“quorum”) de  $$50\\%$$ do total de colaboradores do projeto. \n",
    "    \n",
    "    \n",
    "    ( falta deixar isto mais clean)\n",
    "    "
   ]
  },
  {
   "cell_type": "markdown",
   "id": "b7f5cb08-f6a2-44b0-81c8-04d486084fb0",
   "metadata": {},
   "source": [
    "### Código Python"
   ]
  },
  {
   "cell_type": "code",
   "execution_count": null,
   "id": "84aec74c-c647-4c6a-9001-d1d918cd26f5",
   "metadata": {},
   "outputs": [],
   "source": [
    "from ortools.linear_solver import pywraplp\n",
    "horario = pywraplp.Solver.CreateSolver('SCIP')"
   ]
  },
  {
   "cell_type": "markdown",
   "id": "0a337f9e-cde1-4359-8106-31ca4ed51d9b",
   "metadata": {},
   "source": [
    "Criação da matriz de alocação:"
   ]
  },
  {
   "cell_type": "code",
   "execution_count": null,
   "id": "1e49843f-4fd7-42de-983d-1f87a96a0f47",
   "metadata": {},
   "outputs": [],
   "source": [
    "X = {}\n",
    "for p in range(1,P+1):\n",
    "    for c in range(1,C+1):\n",
    "        for s in range(1,S+1):\n",
    "            for t in range(1,T+1):\n",
    "                X[p,c,s,t] = horario.BoolVar(f'X[{p}][{c}][{s}][{t}]')"
   ]
  },
  {
   "cell_type": "markdown",
   "id": "cf91270d-049a-4742-9ec3-5b95f6dcb710",
   "metadata": {},
   "source": [
    "O lider participa em todas as reuniões do projeto:\n",
    "\n",
    "$$\n",
    "\\forall_{p< P,c< C,s< S,t<T }  \\quad x_{p,l_p,s,t} \\ge x_{p,c,s,t}\n",
    "$$"
   ]
  },
  {
   "cell_type": "code",
   "execution_count": null,
   "id": "fe53793b-66d9-490d-a2d8-ed99852c3884",
   "metadata": {},
   "outputs": [],
   "source": [
    "for p in range(1,P+1):\n",
    "    for c in range(1,C+1):\n",
    "        for s in range(1,S+1):\n",
    "            for t in range(1,T+1):\n",
    "                horario.Add(X[p,l[p],s,t] >= X[p,c,s,t])\n"
   ]
  },
  {
   "cell_type": "markdown",
   "id": "39e2c637-1a6e-4ca5-a9c8-cd928f61e6b5",
   "metadata": {},
   "source": [
    "O projeto tem mínimo (“quorum”) de 50% do total de colaboradores do projeto:\n",
    "$$\n",
    "\\forall_{p< P,s< S,t< T} \\quad \\sum_{c< C} x_{p,c,s,t} \\ge \\frac{\\sum_{c< C} col_{p,c}}{2}\n",
    "$$"
   ]
  },
  {
   "cell_type": "code",
   "execution_count": null,
   "id": "e7653c99-fd30-4bee-bc23-4639c765982f",
   "metadata": {},
   "outputs": [],
   "source": [
    "for p in range(1,P+1):\n",
    "    for s in range(1,S+1):\n",
    "        for t in range(1,T+1):\n",
    "            horario.Add(sum([ X[p,c,s,t] for c in range(1,C+1)]) >= sum([ col[p,c] for c in range(1,C+1) ])/2)\n",
    "                "
   ]
  },
  {
   "cell_type": "markdown",
   "id": "6a604186-3b4e-4065-8b77-a97ef73acab1",
   "metadata": {},
   "source": [
    "Verificar se o colaborador tem disponibilidade:\n",
    "$$\n",
    "\\forall_{c< C,t< T} \\quad d_{c,t} = 0 \\quad \\implies \\quad \\sum_{p<P,s< S} x_{p,c,s,t} = 0\n",
    "$$"
   ]
  },
  {
   "cell_type": "code",
   "execution_count": null,
   "id": "940f428a-1204-4e74-a939-a7e0d48ae3fc",
   "metadata": {},
   "outputs": [],
   "source": [
    "for c in range(1,C+1):\n",
    "    for t in range(1,T+1):\n",
    "        if d[c,t] == 0:\n",
    "            horario.Add(sum([ X[p,c,s,t] for p in range(1,P+1) for s in range(1,S+1)]) == 0)"
   ]
  },
  {
   "cell_type": "markdown",
   "id": "0ec78e3d-a456-4fff-a065-beddd71dd12c",
   "metadata": {},
   "source": [
    "Número Mínimo de reuniões semanais:\n",
    "$$\n",
    "\\forall_{p< P} \\quad \\sum_{s< S,t< T} x_{p,l_p,s,t} \\ge m_p\n",
    "$$"
   ]
  },
  {
   "cell_type": "code",
   "execution_count": null,
   "id": "37562b62-d465-4dec-96e1-caa018e96296",
   "metadata": {},
   "outputs": [],
   "source": [
    "for p in range(1,P+1):\n",
    "    horario.Add(sum([ X[p,l[p],s,t] for c in range(1,C+1) for s in range(1,S+1) for t in range(1,T+1)]) >= m[p])"
   ]
  },
  {
   "cell_type": "markdown",
   "id": "f9e6c088-d615-4e75-bd65-c7a1a3e5c258",
   "metadata": {},
   "source": [
    "Colaboradores não podem participar em reuniões de projetos que não estão associados:\n",
    "$$\n",
    "\\forall_{p< P,c< C,s< S,t< T} \\quad x_{p,c,s,t} \\le col_{p,c}\n",
    "$$"
   ]
  },
  {
   "cell_type": "code",
   "execution_count": null,
   "id": "b6f4bbb7-2227-4d67-a6ff-fcba27dae5d4",
   "metadata": {},
   "outputs": [],
   "source": [
    "for p in range(1,P+1):\n",
    "    for c in range(1,C+1):\n",
    "        for s in range(1,S+1):\n",
    "            for t in range(1,T+1):\n",
    "                horario.Add(X[p,c,s,t] <= col[p,c])"
   ]
  },
  {
   "cell_type": "markdown",
   "id": "37ace512-5fe3-4511-9207-562b260b5c81",
   "metadata": {},
   "source": [
    "Um colaborador não pode participar em duas reuniões ao mesmo tempo:\n",
    "$$\n",
    "\\forall_{c< C, t< T} \\quad\\sum_{p< P, s< S} x_{p,c,s,t} \\le 1\n",
    "$$"
   ]
  },
  {
   "cell_type": "code",
   "execution_count": null,
   "id": "8fd037a8-5ac9-4db2-9d52-08cbac0f058d",
   "metadata": {},
   "outputs": [],
   "source": [
    "for c in range(1,C+1):\n",
    "    for t in range(1,T+1):\n",
    "        horario.Add(sum([ X[p,c,s,t] for p in range(1,P+1) for s in range(1,S+1)]) <= 1)"
   ]
  },
  {
   "cell_type": "code",
   "execution_count": null,
   "id": "51915dc2-84d6-40b2-9b57-4af0c1157a7f",
   "metadata": {},
   "outputs": [],
   "source": [
    "# S = Int\n",
    "# C = Int\n",
    "# T = (hora, dia)\n",
    "# P = ([conjunto de colaboradores], lider, número de reuniões semanais)\n",
    "\n",
    "# Maximizar o número de reuniões efetivamente realizadas\n",
    "# Minimizar o número médio de reuniões por participante."
   ]
  },
  {
   "cell_type": "code",
   "execution_count": null,
   "id": "e333fea5-cf53-4449-b3de-4933037da443",
   "metadata": {},
   "outputs": [],
   "source": []
  },
  {
   "cell_type": "code",
   "execution_count": null,
   "id": "8f2f33a0-dfa5-4fc3-ba5f-36f552ac517f",
   "metadata": {},
   "outputs": [],
   "source": []
  }
 ],
 "metadata": {
  "kernelspec": {
   "display_name": "Python 3 (ipykernel)",
   "language": "python",
   "name": "python3"
  },
  "language_info": {
   "codemirror_mode": {
    "name": "ipython",
    "version": 3
   },
   "file_extension": ".py",
   "mimetype": "text/x-python",
   "name": "python",
   "nbconvert_exporter": "python",
   "pygments_lexer": "ipython3",
   "version": "3.10.4"
  }
 },
 "nbformat": 4,
 "nbformat_minor": 5
}

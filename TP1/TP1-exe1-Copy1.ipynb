{
 "cells": [
  {
   "cell_type": "markdown",
   "id": "fa019fea-a028-49c2-a620-843bff4b0053",
   "metadata": {},
   "source": [
    "# TP1\n",
    "## Grupo 15\n",
    "\n",
    "Carlos Eduardo Da Silva Machado A96936\n",
    "\n",
    "Gonçalo Manuel Maia de Sousa A97485"
   ]
  },
  {
   "cell_type": "markdown",
   "id": "db9d68ae-3155-4388-806a-db8102e473c1",
   "metadata": {},
   "source": [
    "## Problema 1"
   ]
  },
  {
   "cell_type": "markdown",
   "id": "3c20f18f-8669-47e1-a80e-251c8ee5c286",
   "metadata": {},
   "source": [
    "### Descrição do Problema"
   ]
  },
  {
   "cell_type": "markdown",
   "id": "af57e55e-67bf-42f8-af20-8e9d50bc0556",
   "metadata": {},
   "source": [
    "Pretende-se construir um horário semanal para o plano de reuniões de projeto de uma “StartUp” de acordo com as seguintes condições:\n",
    "\n",
    "    1. Cada reunião ocupa uma sala (enumeradas 1...S) durante um “slot”  1..T (hora,dia).  \n",
    "    \n",
    "    2.  Cada reunião tem associado um projeto (enumerados 1..P) e um conjunto de participantes. Os diferentes colaboradores são enumerados 1..C.\n",
    "    \n",
    "    3. Cada projeto tem associado um conjunto de colaboradores, dos quais um  é o líder. Cada projeto realiza um dado número de reuniões semanais. \n",
    "    \n",
    "    4. O líder do projeto participa em todas as reuniões do seu projeto; os restantes colaboradores podem ou não participar consoante a sua disponibilidade, num mínimo (“quorum”) de  50% do total de colaboradores do projeto. "
   ]
  },
  {
   "cell_type": "markdown",
   "id": "49eb1efd-f8cf-4304-8e67-deae3f6b3e04",
   "metadata": {},
   "source": [
    "### Abordagem do Problema"
   ]
  },
  {
   "cell_type": "markdown",
   "id": "59d40ec1-c905-454c-b3cc-3f4181f69411",
   "metadata": {},
   "source": [
    "Temos como input's do problema as variaveís $P$, $C$, $S$ e $T$, o conjunto de colaboradores, o líder e o número mínimo de reuniões semanais de cada projeto e disponibilidade de cada participante (representada em uma matriz 2x2).\n",
    "\n",
    "Estamos perante um problema de alocação, e por isso, será necessário criar uma familia x_{p,c,s,t} de variáveis binárias, da seguinte maneira:\n",
    "\n",
    "$$x_{p,c,s,t} = 1 \\quad \\mathbf{sse} \\quad \\mbox{$c$ tem reunião sobre o projeto $p$ na sala $s$ no slot $t$} $$\n",
    "\n",
    "As variáveis $P\\times C \\times S \\times T$ são apresentadas na matriz de alocalão $X$ com valores instânciados $\\{0,1\\}^{P\\times C \\times S \\times T}$.\n",
    "\n",
    "Também establelecemos algumas restrições para o solver:\n",
    "- O lider participa em todas as reuniões sobre um determinado projeto;\n",
    "- O projeto tem mínimo (“quorum”) de 50% do total de colaboradores do projeto;\n",
    "- Se um colaborador não tem disponibilidade num certo slot não pode ter nenhuma reunião nesse slot;\n",
    "- Todos os projetos devem ser alocados um número minimo de reuniões semanais;\n",
    "- Colaboradores não podem participar em reuniões de projetos que não estão associados;\n",
    "- Um colaborador não pode participar em duas reuniões ao mesmo tempo;\n",
    "- Em cada sala não pode haver duas reuinões de dois projetos ao mesmo tempo;\n",
    "\n",
    "Além disso, temos dois critérios de optimização:\n",
    "- Maximizar o número de reuniões efetivamente realizadas;\n",
    "- Minimizar o número médio de reuniões por participante.\n"
   ]
  },
  {
   "cell_type": "markdown",
   "id": "b7f5cb08-f6a2-44b0-81c8-04d486084fb0",
   "metadata": {},
   "source": [
    "## Código Python"
   ]
  },
  {
   "cell_type": "markdown",
   "id": "8e9d74bf-0f96-49cf-9c01-e6f9be8b12d6",
   "metadata": {},
   "source": [
    "Vamos utilizar a programação linear presente na biblioteca OR-Tools e criar o nosso solver com o nome de horario."
   ]
  },
  {
   "cell_type": "code",
   "execution_count": 1,
   "id": "84aec74c-c647-4c6a-9001-d1d918cd26f5",
   "metadata": {},
   "outputs": [],
   "source": [
    "from ortools.linear_solver import pywraplp\n",
    "horario = pywraplp.Solver.CreateSolver('SCIP')"
   ]
  },
  {
   "cell_type": "markdown",
   "id": "d9cd6546-1d2b-4417-8d3d-ecec1550c894",
   "metadata": {},
   "source": [
    "### Inputs do Problema e Exemplos"
   ]
  },
  {
   "cell_type": "markdown",
   "id": "666b7834-ac32-4553-8b52-f263b5d8564e",
   "metadata": {},
   "source": [
    "Funções auxiliares:"
   ]
  },
  {
   "cell_type": "code",
   "execution_count": 2,
   "id": "0a25325f-a821-497e-8879-07302af0d25d",
   "metadata": {},
   "outputs": [],
   "source": [
    "def printmatrix(x,m,n):\n",
    "    for i in range(1,m+1):\n",
    "        for j in range(1,n+1):\n",
    "            print(x[i,j], end = ' ')  \n",
    "        print()\n",
    "\n",
    "def creatematrix(x,string,m,n):\n",
    "    l = 0\n",
    "    for i in range(1,m+1):\n",
    "        for j in range(1,n+1):\n",
    "            x[i,j] = int(string[l])\n",
    "            l += 1\n",
    "\n",
    "def createdict(x,string,n):\n",
    "    for i in range(n):\n",
    "        x[i+1] = int(string[i])"
   ]
  },
  {
   "cell_type": "markdown",
   "id": "ee7976ee-54dc-447a-8335-eca6be0e28bb",
   "metadata": {},
   "source": [
    "Exemplo 1:"
   ]
  },
  {
   "cell_type": "code",
   "execution_count": 3,
   "id": "6666d6c3-aa56-40e2-baeb-e46818a8dc57",
   "metadata": {},
   "outputs": [
    {
     "name": "stdout",
     "output_type": "stream",
     "text": [
      "Matriz de disponibilidade: \n",
      "1 0 0 1 0 1 \n",
      "1 1 1 1 0 1 \n",
      "0 1 0 1 1 0 \n",
      "0 1 0 1 1 1 \n",
      "0 1 1 1 0 1 \n",
      "0 0 0 1 0 0 \n",
      "Matriz dos colaboradores: \n",
      "1 1 1 1 1 1 \n",
      "0 1 0 1 1 0 \n",
      "0 0 0 0 0 1 \n",
      "1 1 0 1 0 0 \n",
      "1 1 1 1 0 1 \n",
      "1 1 1 1 1 0 \n",
      "Líderes: \n",
      "{1: 1, 2: 2, 3: 6, 4: 4, 5: 3, 6: 5}\n",
      "Mínimo por projeto: \n",
      "{1: 1, 2: 1, 3: 1, 4: 1, 5: 0, 6: 1}\n"
     ]
    }
   ],
   "source": [
    "P,C,S,T = 6, 6, 12, 6\n",
    "\n",
    "d = {}\n",
    "creatematrix(d,\"100101111101010110010111011101000100\",C,T)\n",
    "print(\"Matriz de disponibilidade: \")\n",
    "printmatrix(d,C,T)\n",
    "col = {}\n",
    "creatematrix(col,\"111111010110000001110100111101111110\",P,C)\n",
    "print(\"Matriz dos colaboradores: \")\n",
    "printmatrix(col,P,C)\n",
    "l = {}\n",
    "print(\"Líderes: \")\n",
    "createdict(l,\"126435\",P)\n",
    "print(l)\n",
    "print(\"Mínimo por projeto: \")\n",
    "m = {1:1,2:1,3:1,4:1,5:0,6:1}\n",
    "createdict(m,\"111101\",P)\n",
    "print(m)"
   ]
  },
  {
   "cell_type": "markdown",
   "id": "9fe731b6-1b50-4aad-91f7-d2e43521edeb",
   "metadata": {},
   "source": [
    "Exemplo 2:"
   ]
  },
  {
   "cell_type": "code",
   "execution_count": null,
   "id": "498f9ec7-2c4d-45bf-8cde-44ad526d1f29",
   "metadata": {},
   "outputs": [],
   "source": []
  },
  {
   "cell_type": "markdown",
   "id": "6171c419-9b32-4927-89bb-e5e5b11f02d9",
   "metadata": {},
   "source": [
    "Exemplo 3:"
   ]
  },
  {
   "cell_type": "code",
   "execution_count": null,
   "id": "26a1b042-2c12-44a6-8b69-f3eabcb8a8bf",
   "metadata": {},
   "outputs": [],
   "source": []
  },
  {
   "cell_type": "markdown",
   "id": "5c7e0fa4-7709-4629-99e4-c3ed18f0d428",
   "metadata": {},
   "source": [
    "Exemplo 4:"
   ]
  },
  {
   "cell_type": "code",
   "execution_count": null,
   "id": "204d3be0-3f60-4dab-a173-4ed57c11514c",
   "metadata": {},
   "outputs": [],
   "source": []
  },
  {
   "cell_type": "markdown",
   "id": "4cd996e4-6aff-4bd8-b320-ab2bddfcddbb",
   "metadata": {},
   "source": [
    "Exemplo 5:"
   ]
  },
  {
   "cell_type": "code",
   "execution_count": null,
   "id": "c93a3214-9115-4e11-bcca-36562ea3b640",
   "metadata": {},
   "outputs": [],
   "source": []
  },
  {
   "cell_type": "markdown",
   "id": "bff1416e-7062-4a58-8255-e72354856a16",
   "metadata": {},
   "source": [
    "Criação da matriz de alocação:"
   ]
  },
  {
   "cell_type": "code",
   "execution_count": 4,
   "id": "9f7b890a-bc80-4404-8a41-b161d5ed9b7d",
   "metadata": {},
   "outputs": [],
   "source": [
    "X = {}\n",
    "for p in range(1,P+1):\n",
    "    for c in range(1,C+1):\n",
    "        for s in range(1,S+1):\n",
    "            for t in range(1,T+1):\n",
    "                X[p,c,s,t] = horario.BoolVar(f'X[{p}][{c}][{s}][{t}]')"
   ]
  },
  {
   "cell_type": "markdown",
   "id": "ebd9c9f6-dbb0-45da-b1f4-219eca6293a9",
   "metadata": {},
   "source": [
    "### Apresentação das restrições"
   ]
  },
  {
   "cell_type": "markdown",
   "id": "cf91270d-049a-4742-9ec3-5b95f6dcb710",
   "metadata": {},
   "source": [
    "O lider participa em todas as reuniões sobre um determinado projeto:\n",
    "\n",
    "$$\n",
    "\\forall_{p< P,c< C,s< S,t<T }  \\quad x_{p,l_p,s,t} \\ge x_{p,c,s,t}\n",
    "$$"
   ]
  },
  {
   "cell_type": "code",
   "execution_count": 5,
   "id": "fe53793b-66d9-490d-a2d8-ed99852c3884",
   "metadata": {},
   "outputs": [],
   "source": [
    "for p in range(1,P+1):\n",
    "    for c in range(1,C+1):\n",
    "        for s in range(1,S+1):\n",
    "            for t in range(1,T+1):\n",
    "                horario.Add(X[p,l[p],s,t] >= X[p,c,s,t])\n"
   ]
  },
  {
   "cell_type": "markdown",
   "id": "39e2c637-1a6e-4ca5-a9c8-cd928f61e6b5",
   "metadata": {},
   "source": [
    "O projeto tem mínimo (“quorum”) de 50% do total de colaboradores do projeto:\n",
    "$$\n",
    "\\forall_{p< P,s< S,t< T} \\quad \\sum_{c< C} x_{p,c,s,t} \\ge \\frac{\\sum_{c< C} col_{p,c}}{2}x_{p,l_p,s,t}\n",
    "$$"
   ]
  },
  {
   "cell_type": "code",
   "execution_count": 6,
   "id": "e7653c99-fd30-4bee-bc23-4639c765982f",
   "metadata": {},
   "outputs": [],
   "source": [
    "for p in range(1,P+1):\n",
    "    for s in range(1,S+1):\n",
    "        for t in range(1,T+1):\n",
    "            horario.Add(sum([ X[p,c,s,t] for c in range(1,C+1)]) >= sum([ col[p,c] for c in range(1,C+1) ])*X[p,l[p],s,t]/2)\n",
    "                "
   ]
  },
  {
   "cell_type": "markdown",
   "id": "6a604186-3b4e-4065-8b77-a97ef73acab1",
   "metadata": {},
   "source": [
    "Se um colaborador não tem disponibilidade num certo slot não pode ter nenhuma reunião nesse slot:\n",
    "$$\n",
    "\\forall_{c< C,t< T} \\quad d_{c,t} = 0 \\quad \\implies \\quad \\sum_{p<P,s< S} x_{p,c,s,t} = 0\n",
    "$$"
   ]
  },
  {
   "cell_type": "code",
   "execution_count": 7,
   "id": "940f428a-1204-4e74-a939-a7e0d48ae3fc",
   "metadata": {},
   "outputs": [],
   "source": [
    "for c in range(1,C+1):\n",
    "    for t in range(1,T+1):\n",
    "        if d[c,t] == 0:\n",
    "            horario.Add(sum([ X[p,c,s,t] for p in range(1,P+1) for s in range(1,S+1)]) == 0)"
   ]
  },
  {
   "cell_type": "markdown",
   "id": "0ec78e3d-a456-4fff-a065-beddd71dd12c",
   "metadata": {},
   "source": [
    "Todos os projetos devem ser alocados um número minimo de reuniões semanais:\n",
    "$$\n",
    "\\forall_{p< P} \\quad \\sum_{s< S,t< T} x_{p,l_p,s,t} \\ge m_p\n",
    "$$"
   ]
  },
  {
   "cell_type": "code",
   "execution_count": 8,
   "id": "37562b62-d465-4dec-96e1-caa018e96296",
   "metadata": {},
   "outputs": [],
   "source": [
    "for p in range(1,P+1):\n",
    "    horario.Add(sum([ X[p,l[p],s,t] for s in range(1,S+1) for t in range(1,T+1)]) >= m[p])"
   ]
  },
  {
   "cell_type": "markdown",
   "id": "f9e6c088-d615-4e75-bd65-c7a1a3e5c258",
   "metadata": {},
   "source": [
    "Colaboradores não podem participar em reuniões de projetos que não estão associados:\n",
    "$$\n",
    "\\forall_{p< P,c< C,s< S,t< T} \\quad x_{p,c,s,t} \\le col_{p,c}\n",
    "$$"
   ]
  },
  {
   "cell_type": "code",
   "execution_count": 9,
   "id": "b6f4bbb7-2227-4d67-a6ff-fcba27dae5d4",
   "metadata": {},
   "outputs": [],
   "source": [
    "for p in range(1,P+1):\n",
    "    for c in range(1,C+1):\n",
    "        for s in range(1,S+1):\n",
    "            for t in range(1,T+1):\n",
    "                horario.Add(X[p,c,s,t] <= col[p,c])"
   ]
  },
  {
   "cell_type": "markdown",
   "id": "37ace512-5fe3-4511-9207-562b260b5c81",
   "metadata": {},
   "source": [
    "Um colaborador não pode participar em duas reuniões ao mesmo tempo:\n",
    "$$\n",
    "\\forall_{c< C, t< T} \\quad\\sum_{p< P, s< S} x_{p,c,s,t} \\le 1\n",
    "$$"
   ]
  },
  {
   "cell_type": "code",
   "execution_count": 10,
   "id": "8fd037a8-5ac9-4db2-9d52-08cbac0f058d",
   "metadata": {},
   "outputs": [],
   "source": [
    "for c in range(1,C+1):\n",
    "    for t in range(1,T+1):\n",
    "        horario.Add(sum([ X[p,c,s,t] for p in range(1,P+1) for s in range(1,S+1)]) <= 1)"
   ]
  },
  {
   "cell_type": "markdown",
   "id": "8bcca2bd-4156-41e2-90a7-71660abb6baa",
   "metadata": {},
   "source": [
    "Em cada sala não pode haver duas reuinões de dois projetos ao mesmo tempo:\n",
    "$$\n",
    "\\forall_{s< S, t< T} \\quad \\sum_{p< P} x_{p,l_p,s,t} \\leq 1\n",
    "$$"
   ]
  },
  {
   "cell_type": "code",
   "execution_count": 11,
   "id": "e3277c82-6917-4a99-a84b-60f81d80b486",
   "metadata": {},
   "outputs": [],
   "source": [
    "for s in range(1, S+1):\n",
    "    for t in range(1,t+1):\n",
    "        horario.Add(sum([ X[p,l[p],s,t] for p in range(1,P+1)]) <= 1)"
   ]
  },
  {
   "cell_type": "markdown",
   "id": "e52cac4d-df03-4dc2-a7fc-385f2e98b8d4",
   "metadata": {},
   "source": [
    "### Apresentação das Otimizações"
   ]
  },
  {
   "cell_type": "markdown",
   "id": "cad8b2cb-ee05-43f0-ac2f-be56112020b9",
   "metadata": {},
   "source": [
    "Primeiro critério de optimização: Maximizar o número de reuniões efetivamente realizadas\n",
    "$$\n",
    "\\quad\\sum_{p< P, s< S, t< T} x_{p,l_p,s,t}\n",
    "$$"
   ]
  },
  {
   "cell_type": "code",
   "execution_count": 12,
   "id": "81033cb1-f78c-4d46-8611-8de6ca78dbfa",
   "metadata": {},
   "outputs": [],
   "source": [
    "horario.Maximize(sum([X[p,l[p],s,t] for p in range(1,P+1) for s in range(1,S+1) for t in range(1,T+1)]))"
   ]
  },
  {
   "cell_type": "markdown",
   "id": "c2c3eb9c-50b7-4784-87e9-75b2d5ca71ee",
   "metadata": {},
   "source": [
    "Segundo critério de optimização: Minimizar o número médio de reuniões por participante\n",
    "$$\n",
    "\\quad\\sum_{p< P, c<C, s< S, t< T} x_{p,l_p,s,t}\n",
    "$$"
   ]
  },
  {
   "cell_type": "code",
   "execution_count": 13,
   "id": "c5cf4081-ceec-4d1c-b184-3699c1800051",
   "metadata": {},
   "outputs": [],
   "source": [
    "#horario.Minimize(sum(X[p,c,s,t] for p in range(1,P+1) for c in range(1,C+1) for s in range(1,S+1) for t in range(t, T+1)))"
   ]
  },
  {
   "cell_type": "markdown",
   "id": "85c357bb-08c5-45c7-b638-93339400d9ac",
   "metadata": {},
   "source": [
    "### Testes de aplicação dos exemplos"
   ]
  },
  {
   "cell_type": "markdown",
   "id": "6bcd13c1-b77d-49b8-9738-188f0498ac93",
   "metadata": {},
   "source": [
    "Exemplo 1:"
   ]
  },
  {
   "cell_type": "code",
   "execution_count": 14,
   "id": "e333fea5-cf53-4449-b3de-4933037da443",
   "metadata": {},
   "outputs": [
    {
     "name": "stdout",
     "output_type": "stream",
     "text": [
      "1\n"
     ]
    }
   ],
   "source": [
    "status = horario.Solve()\n",
    "if status == pywraplp.Solver.OPTIMAL:\n",
    "    print(1)\n",
    "if status == pywraplp.Solver.INFEASIBLE:\n",
    "    print(2)\n",
    "if status == pywraplp.Solver.UNBOUNDED:\n",
    "    print(3)"
   ]
  },
  {
   "cell_type": "markdown",
   "id": "ed98dc93-8710-4b5b-b0e0-403c01006a6f",
   "metadata": {},
   "source": [
    "Exemplo 2:"
   ]
  },
  {
   "cell_type": "code",
   "execution_count": 15,
   "id": "9ec64903-ec71-4f91-b2b1-eec6210b3a67",
   "metadata": {},
   "outputs": [],
   "source": [
    "status = horario.Solve()"
   ]
  },
  {
   "cell_type": "markdown",
   "id": "7d7ff3c6-93b7-4339-8ede-ca647309fb24",
   "metadata": {},
   "source": [
    "Exemplo 3:"
   ]
  },
  {
   "cell_type": "code",
   "execution_count": 16,
   "id": "494a725a-34ad-48ae-b419-151a5ff6aadc",
   "metadata": {},
   "outputs": [],
   "source": [
    "status = horario.Solve()"
   ]
  },
  {
   "cell_type": "markdown",
   "id": "ca89b77e-edc3-4d70-9bcd-272aeeb3f5bf",
   "metadata": {},
   "source": [
    "Exemplo 4:"
   ]
  },
  {
   "cell_type": "code",
   "execution_count": 17,
   "id": "48090012-8d7c-4c8f-b8a6-0e72f3cc05d1",
   "metadata": {},
   "outputs": [],
   "source": [
    "status = horario.Solve()"
   ]
  },
  {
   "cell_type": "markdown",
   "id": "d5ef98b1-9392-4b50-826f-4390fcb051fa",
   "metadata": {},
   "source": [
    "Exemplo 5:"
   ]
  },
  {
   "cell_type": "code",
   "execution_count": 18,
   "id": "06cc4cde-0ac5-4580-84e1-c5cb9153e6cd",
   "metadata": {},
   "outputs": [],
   "source": [
    "status = horario.Solve()"
   ]
  }
 ],
 "metadata": {
  "kernelspec": {
   "display_name": "Python 3 (ipykernel)",
   "language": "python",
   "name": "python3"
  },
  "language_info": {
   "codemirror_mode": {
    "name": "ipython",
    "version": 3
   },
   "file_extension": ".py",
   "mimetype": "text/x-python",
   "name": "python",
   "nbconvert_exporter": "python",
   "pygments_lexer": "ipython3",
   "version": "3.10.4"
  }
 },
 "nbformat": 4,
 "nbformat_minor": 5
}

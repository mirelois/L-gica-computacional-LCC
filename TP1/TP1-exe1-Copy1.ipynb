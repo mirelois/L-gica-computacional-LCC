{
 "cells": [
  {
   "cell_type": "markdown",
   "id": "fa019fea-a028-49c2-a620-843bff4b0053",
   "metadata": {},
   "source": [
    "# TP1\n",
    "## Grupo 15\n",
    "\n",
    "Carlos Eduardo Da Silva Machado A96936\n",
    "\n",
    "Gonçalo Manuel Maia de Sousa A97485"
   ]
  },
  {
   "cell_type": "markdown",
   "id": "db9d68ae-3155-4388-806a-db8102e473c1",
   "metadata": {},
   "source": [
    "## Problema 1"
   ]
  },
  {
   "cell_type": "markdown",
   "id": "3c20f18f-8669-47e1-a80e-251c8ee5c286",
   "metadata": {},
   "source": [
    "### Descrição do Problema"
   ]
  },
  {
   "cell_type": "markdown",
   "id": "af57e55e-67bf-42f8-af20-8e9d50bc0556",
   "metadata": {},
   "source": [
    "Pretende-se construir um horário semanal para o plano de reuniões de projeto de uma “StartUp” de acordo com as seguintes condições:\n",
    "\n",
    "    1. Cada reunião ocupa uma sala (enumeradas 1...S) durante um “slot”  1..T (hora,dia).  \n",
    "    \n",
    "    2.  Cada reunião tem associado um projeto (enumerados 1..P) e um conjunto de participantes. Os diferentes colaboradores são enumerados 1..C.\n",
    "    \n",
    "    3. Cada projeto tem associado um conjunto de colaboradores, dos quais um  é o líder. Cada projeto realiza um dado número de reuniões semanais. \n",
    "    \n",
    "    4. O líder do projeto participa em todas as reuniões do seu projeto; os restantes colaboradores podem ou não participar consoante a sua disponibilidade, num mínimo (“quorum”) de  50% do total de colaboradores do projeto. \n",
    "\n",
    "    "
   ]
  },
  {
   "cell_type": "markdown",
   "id": "49eb1efd-f8cf-4304-8e67-deae3f6b3e04",
   "metadata": {},
   "source": [
    "### Abordagem do Problema"
   ]
  },
  {
   "cell_type": "markdown",
   "id": "59d40ec1-c905-454c-b3cc-3f4181f69411",
   "metadata": {},
   "source": [
    "Temos como input's do problema as variaveís $P$, $C$, $S$ e $T$, o conjunto de colaboradores, o líder e o número mínimo de reuniões semanais de cada projeto e disponibilidade de cada participante (representada em uma matriz 2x2).\n",
    "\n",
    "Estamos perante um problema de alocação, e por isso, será necessário criar uma familia x_{p,c,s,t} de variáveis binárias, da seguinte maneira:\n",
    "\n",
    "$$x_{p,c,s,t} = 1 \\quad \\mathbf{sse} \\quad \\mbox{$c$ tem reunião sobre o projeto $p$ na sala $s$ no slot $t$} $$\n",
    "\n",
    "As variáveis $P\\times C \\times S \\times T$ são apresentadas na matriz de alocalão $X$ com valores instânciados $\\{0,1\\}^{P\\times C \\times S \\times T}$.\n"
   ]
  },
  {
   "cell_type": "markdown",
   "id": "b7f5cb08-f6a2-44b0-81c8-04d486084fb0",
   "metadata": {},
   "source": [
    "### Código Python"
   ]
  },
  {
   "cell_type": "markdown",
   "id": "8e9d74bf-0f96-49cf-9c01-e6f9be8b12d6",
   "metadata": {},
   "source": [
    "Vamos utilizar a programação linear presente na biblioteca OR-Tools e criar o nosso solver com o nome de horario."
   ]
  },
  {
   "cell_type": "code",
   "execution_count": null,
   "id": "84aec74c-c647-4c6a-9001-d1d918cd26f5",
   "metadata": {},
   "outputs": [],
   "source": [
    "from ortools.linear_solver import pywraplp\n",
    "horario = pywraplp.Solver.CreateSolver('SCIP')"
   ]
  },
  {
   "cell_type": "markdown",
   "id": "0a337f9e-cde1-4359-8106-31ca4ed51d9b",
   "metadata": {},
   "source": [
    "Criação da matriz de alocação:"
   ]
  },
  {
   "cell_type": "code",
   "execution_count": null,
   "id": "1e49843f-4fd7-42de-983d-1f87a96a0f47",
   "metadata": {},
   "outputs": [],
   "source": [
    "X = {}\n",
    "for p in range(1,P+1):\n",
    "    for c in range(1,C+1):\n",
    "        for s in range(1,S+1):\n",
    "            for t in range(1,T+1):\n",
    "                X[p,c,s,t] = horario.BoolVar(f'X[{p}][{c}][{s}][{t}]')"
   ]
  },
  {
   "cell_type": "markdown",
   "id": "ebd9c9f6-dbb0-45da-b1f4-219eca6293a9",
   "metadata": {},
   "source": [
    "## Apresentação das restrições."
   ]
  },
  {
   "cell_type": "markdown",
   "id": "cf91270d-049a-4742-9ec3-5b95f6dcb710",
   "metadata": {},
   "source": [
    "O lider participa em todas as reuniões sobre um determinado projeto:\n",
    "\n",
    "$$\n",
    "\\forall_{p< P,c< C,s< S,t<T }  \\quad x_{p,l_p,s,t} \\ge x_{p,c,s,t}\n",
    "$$"
   ]
  },
  {
   "cell_type": "code",
   "execution_count": null,
   "id": "fe53793b-66d9-490d-a2d8-ed99852c3884",
   "metadata": {},
   "outputs": [],
   "source": [
    "for p in range(1,P+1):\n",
    "    for c in range(1,C+1):\n",
    "        for s in range(1,S+1):\n",
    "            for t in range(1,T+1):\n",
    "                horario.Add(X[p,l[p],s,t] >= X[p,c,s,t])\n"
   ]
  },
  {
   "cell_type": "markdown",
   "id": "39e2c637-1a6e-4ca5-a9c8-cd928f61e6b5",
   "metadata": {},
   "source": [
    "O projeto tem mínimo (“quorum”) de 50% do total de colaboradores do projeto:\n",
    "$$\n",
    "\\forall_{p< P,s< S,t< T} \\quad \\sum_{c< C} x_{p,c,s,t} \\ge \\frac{\\sum_{c< C} col_{p,c}}{2}x_{p,l_p,s,t}\n",
    "$$"
   ]
  },
  {
   "cell_type": "code",
   "execution_count": 1,
   "id": "e7653c99-fd30-4bee-bc23-4639c765982f",
   "metadata": {},
   "outputs": [
    {
     "ename": "NameError",
     "evalue": "name 'P' is not defined",
     "output_type": "error",
     "traceback": [
      "\u001b[0;31m---------------------------------------------------------------------------\u001b[0m",
      "\u001b[0;31mNameError\u001b[0m                                 Traceback (most recent call last)",
      "Input \u001b[0;32mIn [1]\u001b[0m, in \u001b[0;36m<cell line: 1>\u001b[0;34m()\u001b[0m\n\u001b[0;32m----> 1\u001b[0m \u001b[38;5;28;01mfor\u001b[39;00m p \u001b[38;5;129;01min\u001b[39;00m \u001b[38;5;28mrange\u001b[39m(\u001b[38;5;241m1\u001b[39m,\u001b[43mP\u001b[49m\u001b[38;5;241m+\u001b[39m\u001b[38;5;241m1\u001b[39m):\n\u001b[1;32m      2\u001b[0m     \u001b[38;5;28;01mfor\u001b[39;00m s \u001b[38;5;129;01min\u001b[39;00m \u001b[38;5;28mrange\u001b[39m(\u001b[38;5;241m1\u001b[39m,S\u001b[38;5;241m+\u001b[39m\u001b[38;5;241m1\u001b[39m):\n\u001b[1;32m      3\u001b[0m         \u001b[38;5;28;01mfor\u001b[39;00m t \u001b[38;5;129;01min\u001b[39;00m \u001b[38;5;28mrange\u001b[39m(\u001b[38;5;241m1\u001b[39m,T\u001b[38;5;241m+\u001b[39m\u001b[38;5;241m1\u001b[39m):\n",
      "\u001b[0;31mNameError\u001b[0m: name 'P' is not defined"
     ]
    }
   ],
   "source": [
    "for p in range(1,P+1):\n",
    "    for s in range(1,S+1):\n",
    "        for t in range(1,T+1):\n",
    "            horario.Add(sum([ X[p,c,s,t] for c in range(1,C+1)]) >= sum([ col[p,c] for c in range(1,C+1) ])*X[p,l[p],s,t]/2)\n",
    "                "
   ]
  },
  {
   "cell_type": "markdown",
   "id": "6a604186-3b4e-4065-8b77-a97ef73acab1",
   "metadata": {},
   "source": [
    "Se um colaborador não tem disponibilidade num certo slot não pode ter nenhuma reunião nesse slot:\n",
    "$$\n",
    "\\forall_{c< C,t< T} \\quad d_{c,t} = 0 \\quad \\implies \\quad \\sum_{p<P,s< S} x_{p,c,s,t} = 0\n",
    "$$"
   ]
  },
  {
   "cell_type": "code",
   "execution_count": null,
   "id": "940f428a-1204-4e74-a939-a7e0d48ae3fc",
   "metadata": {},
   "outputs": [],
   "source": [
    "for c in range(1,C+1):\n",
    "    for t in range(1,T+1):\n",
    "        if d[c,t] == 0:\n",
    "            horario.Add(sum([ X[p,c,s,t] for p in range(1,P+1) for s in range(1,S+1)]) == 0)"
   ]
  },
  {
   "cell_type": "markdown",
   "id": "0ec78e3d-a456-4fff-a065-beddd71dd12c",
   "metadata": {},
   "source": [
    "Todos os projetos devem ser alocados um número minimo de reuniões semanais:\n",
    "$$\n",
    "\\forall_{p< P} \\quad \\sum_{s< S,t< T} x_{p,l_p,s,t} \\ge m_p\n",
    "$$"
   ]
  },
  {
   "cell_type": "code",
   "execution_count": null,
   "id": "37562b62-d465-4dec-96e1-caa018e96296",
   "metadata": {},
   "outputs": [],
   "source": [
    "for p in range(1,P+1):\n",
    "    horario.Add(sum([ X[p,l[p],s,t] for c in range(1,C+1) for s in range(1,S+1) for t in range(1,T+1)]) >= m[p])"
   ]
  },
  {
   "cell_type": "markdown",
   "id": "f9e6c088-d615-4e75-bd65-c7a1a3e5c258",
   "metadata": {},
   "source": [
    "Colaboradores não podem participar em reuniões de projetos que não estão associados:\n",
    "$$\n",
    "\\forall_{p< P,c< C,s< S,t< T} \\quad x_{p,c,s,t} \\le col_{p,c}\n",
    "$$"
   ]
  },
  {
   "cell_type": "code",
   "execution_count": null,
   "id": "b6f4bbb7-2227-4d67-a6ff-fcba27dae5d4",
   "metadata": {},
   "outputs": [],
   "source": [
    "for p in range(1,P+1):\n",
    "    for c in range(1,C+1):\n",
    "        for s in range(1,S+1):\n",
    "            for t in range(1,T+1):\n",
    "                horario.Add(X[p,c,s,t] <= col[p,c])"
   ]
  },
  {
   "cell_type": "markdown",
   "id": "37ace512-5fe3-4511-9207-562b260b5c81",
   "metadata": {},
   "source": [
    "Um colaborador não pode participar em duas reuniões ao mesmo tempo:\n",
    "$$\n",
    "\\forall_{c< C, t< T} \\quad\\sum_{p< P, s< S} x_{p,c,s,t} \\le 1\n",
    "$$"
   ]
  },
  {
   "cell_type": "code",
   "execution_count": null,
   "id": "8fd037a8-5ac9-4db2-9d52-08cbac0f058d",
   "metadata": {},
   "outputs": [],
   "source": [
    "for c in range(1,C+1):\n",
    "    for t in range(1,T+1):\n",
    "        horario.Add(sum([ X[p,c,s,t] for p in range(1,P+1) for s in range(1,S+1)]) <= 1)"
   ]
  },
  {
   "cell_type": "code",
   "execution_count": null,
   "id": "51915dc2-84d6-40b2-9b57-4af0c1157a7f",
   "metadata": {},
   "outputs": [],
   "source": [
    "# S = Int\n",
    "# C = Int\n",
    "# T = (hora, dia)\n",
    "# P = ([conjunto de colaboradores], lider, número de reuniões semanais)\n",
    "\n",
    "# Maximizar o número de reuniões efetivamente realizadas\n",
    "# Minimizar o número médio de reuniões por participante."
   ]
  },
  {
   "cell_type": "code",
   "execution_count": null,
   "id": "e333fea5-cf53-4449-b3de-4933037da443",
   "metadata": {},
   "outputs": [],
   "source": []
  },
  {
   "cell_type": "code",
   "execution_count": null,
   "id": "8f2f33a0-dfa5-4fc3-ba5f-36f552ac517f",
   "metadata": {},
   "outputs": [],
   "source": []
  }
 ],
 "metadata": {
  "kernelspec": {
   "display_name": "Python 3 (ipykernel)",
   "language": "python",
   "name": "python3"
  },
  "language_info": {
   "codemirror_mode": {
    "name": "ipython",
    "version": 3
   },
   "file_extension": ".py",
   "mimetype": "text/x-python",
   "name": "python",
   "nbconvert_exporter": "python",
   "pygments_lexer": "ipython3",
   "version": "3.10.4"
  }
 },
 "nbformat": 4,
 "nbformat_minor": 5
}

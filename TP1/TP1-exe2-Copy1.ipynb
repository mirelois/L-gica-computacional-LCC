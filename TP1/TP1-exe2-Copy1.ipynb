{
 "cells": [
  {
   "cell_type": "markdown",
   "id": "bff2889f-bf8a-4c7a-b92a-864acf50d93a",
   "metadata": {},
   "source": [
    "# TP1\n",
    "## Grupo 15\n",
    "\n",
    "Carlos Eduardo Da Silva Machado A96936\n",
    "\n",
    "Gonçalo Manuel Maia de Sousa A97485"
   ]
  },
  {
   "cell_type": "markdown",
   "id": "982dbf82-c2d3-46de-a64e-8d39c7cbce88",
   "metadata": {},
   "source": [
    "## Problema 2"
   ]
  },
  {
   "cell_type": "markdown",
   "id": "f3b85a7f-3b35-4173-8e11-19b825e3026c",
   "metadata": {},
   "source": [
    "### Descrição do Problema."
   ]
  },
  {
   "cell_type": "markdown",
   "id": "cbe99696-a004-4410-b313-47d2b847f917",
   "metadata": {},
   "source": [
    "O problema envolve \"hard lattices\" (reticulados inteiros), um reticulado inteiro pode ser definido pela seguinte matriz $\\;\\mathsf{L} \\in \\mathbb{Z}^{m\\times n}\\;$ (com $\\;m > n\\;$) de inteiros e por um inteiro primo $\\;q\\geq 3\\;$.\n",
    "O problema do vetor curto  (SVP) consiste  no cálculo de um vetor de inteiros $\\;e\\in \\{-1,0,1\\}^m$ não nulo que verifique a relação $\\forall\\,i < n\\,\\centerdot\\,$$         $$\\sum_{j< m}\\,e_j\\,\\times\\,\\mathsf{L}_{j,i}\\;\\equiv\\;0\\mod q$.\n",
    "\n",
    "1. Pretende-se resolver o SVP, sendo que:\n",
    "    - Para m,n e q, $\\,n > 30\\,$, $\\,|m| > 1 + |n|\\;$ e $\\,|q| > |m|\\,$\n",
    "    - Os elementos $\\;\\mathsf{L}_{j,i}\\;$ são gerados aleatória e uniformemente no intervalo inteiro $\\,\\{-d \\cdots d\\}$ sendo  $\\;d\\equiv (q-1)/2\\;$. \n",
    "2. Pretende-se determinar:\n",
    "    - Se existe um vetor $\\,e\\,$ não nulo (pelo menos um dos $\\,e_j\\,$é diferente de zero)\n",
    "    - Se existir $\\,e\\,$ pretende-se calcular o vetor que minimiza o número de componentes não nulas."
   ]
  },
  {
   "cell_type": "markdown",
   "id": "e831e175-e10b-4575-84f7-5b32b80c96c9",
   "metadata": {},
   "source": [
    "### Abordagem do Problema."
   ]
  },
  {
   "cell_type": "markdown",
   "id": "7a338afa-ab83-4987-8ea4-1962f8ee37e6",
   "metadata": {},
   "source": [
    "Temos como input do problema as variáveis $n$, $m$, $q$ e a matriz $L_{n,m}$.\n",
    "\n",
    "Será necessário criar um vetor $e$ que varia de $-1$ a $1$.\n",
    "\n",
    "Além disso será necessário criar dois vetores adicionais, $Y$ e $k$ de tamanhos $m$ e $n$ respetivamente.\n",
    "\n",
    "Y é tal que:\n",
    "$$\\forall_{j< m} \\quad Y_j = 0 \\quad sse \\quad e_j = 0$$.\n",
    "K serve apenas para garantir a divisibilidade por $q$.\n",
    "\n",
    "Adicionalmente, establelecemos as seguintes restrições:\n",
    "- O vetor $e$ não pode ser nulo;\n",
    "- $Y_j$ deve ser zero se e só se $e_j$ é zero em alternativa deve ser 1, para $j<m$;\n",
    "- $\\sum_{j < m} e_j\\times L_{j,i}$ é divisível por $q$;\n"
   ]
  },
  {
   "cell_type": "markdown",
   "id": "59c99bb5-d47f-4efa-b771-94ca0721c729",
   "metadata": {},
   "source": [
    "## Código Python"
   ]
  },
  {
   "cell_type": "markdown",
   "id": "cf6062f2",
   "metadata": {},
   "source": [
    "Importação das bibliotecas que iremos utilizar."
   ]
  },
  {
   "cell_type": "code",
   "execution_count": 3,
   "id": "ed81408c-68f3-4dc1-9348-0f047cd55427",
   "metadata": {},
   "outputs": [],
   "source": [
    "from pyscipopt import Model\n",
    "import random"
   ]
  },
  {
   "cell_type": "markdown",
   "id": "19cd96c6",
   "metadata": {},
   "source": [
    "Funções auxiliares."
   ]
  },
  {
   "cell_type": "code",
   "execution_count": null,
   "id": "3173dfa1",
   "metadata": {},
   "outputs": [],
   "source": [
    "def printmatrix(x,m,n):\n",
    "    for i in range(m):\n",
    "        for j in range(n):\n",
    "            print(x[i,j], end = ' ')  \n",
    "        print()\n",
    "        \n",
    "def check_sol(L,e,q,n,m):\n",
    "    check = True\n",
    "    for i in range(n):\n",
    "        check = check and (sum([e[j]*L[j,i] for j in range(m)]) % q == 0)\n",
    "    return check"
   ]
  },
  {
   "cell_type": "markdown",
   "id": "241f137e-2dc4-4c34-8754-73625c9a7a3e",
   "metadata": {},
   "source": [
    "Exemplo 1:"
   ]
  },
  {
   "cell_type": "code",
   "execution_count": 7,
   "id": "4bcc03aa",
   "metadata": {},
   "outputs": [],
   "source": [
    "n,m,q,d = 1,8,17,8"
   ]
  },
  {
   "cell_type": "markdown",
   "id": "97396bb8",
   "metadata": {},
   "source": [
    "Exemplo 2:"
   ]
  },
  {
   "cell_type": "code",
   "execution_count": 4,
   "id": "93f8a201",
   "metadata": {},
   "outputs": [],
   "source": [
    "n,m,q,d = 3,8,17,8"
   ]
  },
  {
   "cell_type": "markdown",
   "id": "8ed3affd",
   "metadata": {},
   "source": [
    "Exemplo 3:"
   ]
  },
  {
   "cell_type": "code",
   "execution_count": 15,
   "id": "0801ce93",
   "metadata": {},
   "outputs": [],
   "source": [
    "n,m,q,d = 4,17,37,18"
   ]
  },
  {
   "cell_type": "markdown",
   "id": "17e0fa91",
   "metadata": {},
   "source": [
    "Exemplo 4:"
   ]
  },
  {
   "cell_type": "code",
   "execution_count": 26,
   "id": "a80a228e",
   "metadata": {},
   "outputs": [],
   "source": [
    "n,m,q,d = 5,20,41,20"
   ]
  },
  {
   "cell_type": "markdown",
   "id": "f9fa75a1",
   "metadata": {},
   "source": [
    "Criação do $\\textit{model}$:"
   ]
  },
  {
   "cell_type": "code",
   "execution_count": null,
   "id": "2d63cdbc",
   "metadata": {},
   "outputs": [],
   "source": [
    "model = Model('model')"
   ]
  },
  {
   "cell_type": "markdown",
   "id": "9bec1c93",
   "metadata": {},
   "source": [
    "Criação da matriz $L$ de acordo com o $d$:"
   ]
  },
  {
   "cell_type": "code",
   "execution_count": 27,
   "id": "a378f391-3889-4d30-a550-dd1f9b90bfc5",
   "metadata": {},
   "outputs": [],
   "source": [
    "L = {}\n",
    "for j in range(m):\n",
    "    for i in range(n):\n",
    "        L[j,i] = random.randrange(-d,d+1)"
   ]
  },
  {
   "cell_type": "markdown",
   "id": "d60fe394",
   "metadata": {},
   "source": [
    "Declaração do vetor $e$ como um vetor de variáveis inteiras entre $-1$ e $1$:"
   ]
  },
  {
   "cell_type": "code",
   "execution_count": 28,
   "id": "18015a0d-c3c9-4be1-bcba-9e82fafafa18",
   "metadata": {},
   "outputs": [],
   "source": [
    "e = {}\n",
    "for j in range(m):\n",
    "    e[j] = model.addVar(f'e[{j}]',vtype = 'I', lb = -1, ub = 1)"
   ]
  },
  {
   "cell_type": "markdown",
   "id": "675ebfc4",
   "metadata": {},
   "source": [
    "Declaração de um vetor de variáveis binárias $Y$ com o mesmo tamanho de $e$ tal que:\n",
    "    $$\\forall_{j< m} \\quad Y_j = 0 \\quad sse \\quad e_j = 0$$"
   ]
  },
  {
   "cell_type": "code",
   "execution_count": 29,
   "id": "bec76dd2",
   "metadata": {},
   "outputs": [],
   "source": [
    "Y = {}\n",
    "for j in range(m):\n",
    "    Y[j] = model.addVar(f'Y[{j}]',vtype = 'B')"
   ]
  },
  {
   "cell_type": "markdown",
   "id": "e7b42aad",
   "metadata": {},
   "source": [
    "Declaração de um vetor de variáveis inteiras $k$ de tamanho $n$:"
   ]
  },
  {
   "cell_type": "code",
   "execution_count": 30,
   "id": "5e0ca1ea-ff94-447f-97cf-31a5c7d70b60",
   "metadata": {},
   "outputs": [],
   "source": [
    "k = {}\n",
    "for i in range(n):\n",
    "    k[i] = model.addVar(f'k[{i}]', vtype = 'I')"
   ]
  },
  {
   "cell_type": "markdown",
   "id": "fb87e4e9",
   "metadata": {},
   "source": [
    "### Otimizações."
   ]
  },
  {
   "cell_type": "markdown",
   "id": "0dc06415",
   "metadata": {},
   "source": [
    "É necessário minimizar o número de componentes diferentes de zero em $e$ isto é feito através do vetor $Y$:"
   ]
  },
  {
   "cell_type": "code",
   "execution_count": 31,
   "id": "0b0577b5-1156-4aec-884b-42cd04f39d18",
   "metadata": {},
   "outputs": [],
   "source": [
    "model.setObjective(sum([Y[j] for j in range(m)]),sense = 'minimize')"
   ]
  },
  {
   "cell_type": "markdown",
   "id": "b88117a2",
   "metadata": {},
   "source": [
    "### Restrições."
   ]
  },
  {
   "cell_type": "markdown",
   "id": "cf2d7016",
   "metadata": {},
   "source": [
    "O vetor $e$ não pode ser nulo.\n",
    "Como $Y_j$ representa a existência, ou não, de um elemento não nulo de $e$ em $j < m\\;$ esta restrição pode ser feita do seguinte modo:\n",
    "$$\n",
    "\\sum_{j< m} \\;Y_j \\ge 1\n",
    "$$\n",
    "    \n",
    "    "
   ]
  },
  {
   "cell_type": "code",
   "execution_count": 32,
   "id": "d4f8b57b-9a14-4d9c-af06-0afa1cbc7df1",
   "metadata": {},
   "outputs": [
    {
     "data": {
      "text/plain": [
       "c1"
      ]
     },
     "execution_count": 32,
     "metadata": {},
     "output_type": "execute_result"
    }
   ],
   "source": [
    "model.addCons(sum([Y[j] for j in range(m)]) >= 1)"
   ]
  },
  {
   "cell_type": "markdown",
   "id": "32196ee5",
   "metadata": {},
   "source": [
    "$Y_j$ deve ser $0$ quando $e_j = 0$ e $1$ quando $e_j = 1$ ou $e_j = -1$.\n",
    "Logo esta restrição é tal que:\n",
    "$$\n",
    "\\forall_{j<m} \\quad e_j\\,^2 = y_j\n",
    "$$"
   ]
  },
  {
   "cell_type": "code",
   "execution_count": 33,
   "id": "3946f731-6d15-4d14-be07-f6bd54f0184d",
   "metadata": {},
   "outputs": [],
   "source": [
    "for j in range(m):\n",
    "    model.addCons(e[j]*e[j] == Y[j])"
   ]
  },
  {
   "cell_type": "markdown",
   "id": "99ff8b32",
   "metadata": {},
   "source": [
    "Deve existir um valor inteiro, a que chamaremos $k_i$ tal que $e_j\\times L_{j,i} = k_i\\times q$ para $i<n,j<m$.\n",
    "Podemos exprimir esta condição da seguinte forma:\n",
    "$$\n",
    "\\forall_{i < n} \\quad \\sum_{j < m} e_j\\times L_{j,i} = k_i\\times q\n",
    "$$"
   ]
  },
  {
   "cell_type": "code",
   "execution_count": 34,
   "id": "eec01358-ed74-4e41-b931-cd677858998e",
   "metadata": {},
   "outputs": [],
   "source": [
    "for i in range(n):\n",
    "    model.addCons(sum([e[j]*L[j,i] for j in range(m)]) == k[i]*q)"
   ]
  },
  {
   "cell_type": "markdown",
   "id": "c856390f",
   "metadata": {},
   "source": [
    "### Resolução dos exemplos."
   ]
  },
  {
   "cell_type": "markdown",
   "id": "d4a5e987",
   "metadata": {},
   "source": [
    "Comando para esconder informação adicional."
   ]
  },
  {
   "cell_type": "code",
   "execution_count": null,
   "id": "b2a60b8e",
   "metadata": {},
   "outputs": [],
   "source": [
    "model.hideOutput()"
   ]
  },
  {
   "cell_type": "code",
   "execution_count": null,
   "id": "3dc1bca1",
   "metadata": {},
   "outputs": [],
   "source": [
    "Função para resolver e "
   ]
  },
  {
   "cell_type": "code",
   "execution_count": 35,
   "id": "c07eaef4-0304-4542-8ce5-336996143ef0",
   "metadata": {},
   "outputs": [],
   "source": [
    "def resolve():\n",
    "    model.optimize()\n",
    "    if model.getStatus() == 'optimal':\n",
    "        sol = model.getBestSol()\n",
    "        x = {}\n",
    "        for i in range(m):\n",
    "            x[i] = sol[e[i]]\n",
    "            print('{}'.format(sol[e[i]]))\n",
    "        print(check_sol(L,x,q,n,m))\n",
    "    else:\n",
    "        print('infeasible')"
   ]
  },
  {
   "cell_type": "markdown",
   "id": "c174ddda",
   "metadata": {},
   "source": [
    "Exemplo 1:"
   ]
  },
  {
   "cell_type": "code",
   "execution_count": 25,
   "id": "2e8d196c",
   "metadata": {},
   "outputs": [
    {
     "name": "stdout",
     "output_type": "stream",
     "text": [
      "optimal\n",
      "0.0\n",
      "0.0\n",
      "0.0\n",
      "0.0\n",
      "0.0\n",
      "0.0\n",
      "1.0\n",
      "-1.0\n",
      "True\n"
     ]
    }
   ],
   "source": [
    "resolve()"
   ]
  },
  {
   "cell_type": "markdown",
   "id": "f386f1b9",
   "metadata": {},
   "source": [
    "Exemplo 2:"
   ]
  },
  {
   "cell_type": "code",
   "execution_count": 14,
   "id": "512857f5-b2e4-40d0-876b-0e42460a3318",
   "metadata": {},
   "outputs": [
    {
     "name": "stdout",
     "output_type": "stream",
     "text": [
      "0.0\n",
      "0.0\n",
      "-1.0\n",
      "0.0\n",
      "0.0\n",
      "0.0\n",
      "-1.0\n",
      "1.0\n",
      "True\n"
     ]
    }
   ],
   "source": [
    "resolve()"
   ]
  },
  {
   "cell_type": "markdown",
   "id": "7da2a862",
   "metadata": {},
   "source": [
    "Exemplo 3:"
   ]
  },
  {
   "cell_type": "code",
   "execution_count": 25,
   "id": "03b6439c",
   "metadata": {},
   "outputs": [
    {
     "name": "stdout",
     "output_type": "stream",
     "text": [
      "0.0\n",
      "1.0\n",
      "1.0\n",
      "0.0\n",
      "0.0\n",
      "0.0\n",
      "-1.0\n",
      "0.0\n",
      "1.0\n",
      "-1.0\n",
      "0.0\n",
      "-1.0\n",
      "0.0\n",
      "1.0\n",
      "0.0\n",
      "0.0\n",
      "0.0\n",
      "True\n"
     ]
    }
   ],
   "source": [
    "resolve()"
   ]
  },
  {
   "cell_type": "markdown",
   "id": "40e26e96",
   "metadata": {},
   "source": [
    "Exemplo 4:"
   ]
  },
  {
   "cell_type": "code",
   "execution_count": 36,
   "id": "bb408a08",
   "metadata": {},
   "outputs": [
    {
     "name": "stdout",
     "output_type": "stream",
     "text": [
      "-1.0\n",
      "-1.0\n",
      "0.0\n",
      "1.0\n",
      "-1.0\n",
      "0.0\n",
      "0.0\n",
      "0.0\n",
      "1.0\n",
      "-1.0\n",
      "1.0\n",
      "-1.0\n",
      "0.0\n",
      "1.0\n",
      "0.0\n",
      "-1.0\n",
      "0.0\n",
      "-1.0\n",
      "0.0\n",
      "1.0\n",
      "True\n"
     ]
    }
   ],
   "source": [
    "resolve()"
   ]
  },
  {
   "cell_type": "code",
   "execution_count": null,
   "id": "02162466",
   "metadata": {},
   "outputs": [],
   "source": []
  }
 ],
 "metadata": {
  "kernelspec": {
   "display_name": "Python 3 (ipykernel)",
   "language": "python",
   "name": "python3"
  },
  "language_info": {
   "codemirror_mode": {
    "name": "ipython",
    "version": 3
   },
   "file_extension": ".py",
   "mimetype": "text/x-python",
   "name": "python",
   "nbconvert_exporter": "python",
   "pygments_lexer": "ipython3",
   "version": "3.10.4"
  }
 },
 "nbformat": 4,
 "nbformat_minor": 5
}

{
 "cells": [
  {
   "cell_type": "markdown",
   "id": "fa019fea-a028-49c2-a620-843bff4b0053",
   "metadata": {},
   "source": [
    "# TP1\n",
    "## Grupo 15\n",
    "\n",
    "Carlos Eduardo Da Silva Machado A96936\n",
    "Gonçalo Manuel Maia de Sousa A97485"
   ]
  },
  {
   "cell_type": "markdown",
   "id": "af57e55e-67bf-42f8-af20-8e9d50bc0556",
   "metadata": {},
   "source": [
    "## Problema 1\n",
    "\n",
    "Pretende-se construir um horário semanal para o plano de reuniões de projeto de uma “StartUp” de acordo com as seguintes condições:\n",
    "    1. Cada reunião ocupa uma sala (enumeradas $$1...S\\,$$) durante um “slot”  $$1..T\\,$$ $$(\\text{hora},\\text{dia})$$.  \n",
    "    2.  Cada reunião tem associado um projeto (enumerados $$1..P$$) e um conjunto de participantes. Os diferentes colaboradores são enumerados $$1..C$$.\n",
    "    3. Cada projeto tem associado um conjunto de colaboradores, dos quais um  é o líder. Cada projeto realiza um dado número de reuniões semanais. \n",
    "    4. O líder do projeto participa em todas as reuniões do seu projeto; os restantes colaboradores podem ou não participar consoante a sua disponibilidade, num mínimo (“quorum”) de  $$50\\%$$ do total de colaboradores do projeto. "
   ]
  },
  {
   "cell_type": "code",
   "execution_count": null,
   "id": "84aec74c-c647-4c6a-9001-d1d918cd26f5",
   "metadata": {},
   "outputs": [],
   "source": [
    "from ortools.linear_solver import pywraplp\n",
    "horario = pywraplp.Solver.CreateSolver('SCIP')"
   ]
  },
  {
   "cell_type": "code",
   "execution_count": null,
   "id": "1e49843f-4fd7-42de-983d-1f87a96a0f47",
   "metadata": {},
   "outputs": [],
   "source": [
    "# Criação da matriz de alocação\n",
    "X = {}\n",
    "for p in range(P):\n",
    "    for c in range(C):\n",
    "        for s in range(S):\n",
    "            for t in range(T):\n",
    "                X[p,c,s,t] = horario.BoolVar(f'X[{p}][{c}][{s}][{t}]')"
   ]
  },
  {
   "cell_type": "code",
   "execution_count": null,
   "id": "97e3664a-c39e-417b-b420-b8171977e8a2",
   "metadata": {},
   "outputs": [],
   "source": [
    "# construção da matriz 2x2 da disponibilidade de cada participante\n",
    "d = {}\n",
    "for c in C:\n",
    "    for t in T:\n",
    "        d[c,t] = horario.BoolVar(f'd[{c}][{t}]')"
   ]
  },
  {
   "cell_type": "code",
   "execution_count": null,
   "id": "fe53793b-66d9-490d-a2d8-ed99852c3884",
   "metadata": {},
   "outputs": [],
   "source": [
    "# O lider participa em todas as reuniões do projeto\n",
    "for p in range(P):\n",
    "    for c in range(C):\n",
    "        for s in range(S):\n",
    "            for t in range(T):\n",
    "                horario.Add(X[p,l,s,t] >= X[p,c,s,t])\n"
   ]
  },
  {
   "cell_type": "code",
   "execution_count": null,
   "id": "e7653c99-fd30-4bee-bc23-4639c765982f",
   "metadata": {},
   "outputs": [],
   "source": [
    "# O projeto tem mínimo (“quorum”) de 50% do total de colaboradores do projeto. \n",
    "for p in range(P):\n",
    "    for s in range(S):\n",
    "        for t in range(T):\n",
    "            horario.Add(sum([ X[p,c,s,t] for c in range(C)]) >= sum([ col[c,p] for c in range(C) ])/2)\n",
    "                "
   ]
  },
  {
   "cell_type": "code",
   "execution_count": null,
   "id": "31c0a596-d009-49fd-b467-477d77c60c18",
   "metadata": {},
   "outputs": [],
   "source": [
    "# Verificar se o colaborador tem disponibilidade\n",
    "for c in range(C):\n",
    "    for t in range(T):\n",
    "        if d[c,t] == 0:\n",
    "            horario.Add(sum([ X[p,c,s,t] for p in range(P) for s in range(S)] == 0))"
   ]
  },
  {
   "cell_type": "code",
   "execution_count": null,
   "id": "37562b62-d465-4dec-96e1-caa018e96296",
   "metadata": {},
   "outputs": [],
   "source": [
    "# Número Mínimo de reuniões semanais\n",
    "for p in range(P):\n",
    "    horario.Add(sum([ X[p,c,s,t] for c in range(C) for s in range(S) for t in range(T)]) >= m[p])"
   ]
  },
  {
   "cell_type": "code",
   "execution_count": null,
   "id": "b6f4bbb7-2227-4d67-a6ff-fcba27dae5d4",
   "metadata": {},
   "outputs": [],
   "source": [
    "# Colaboradores não podem participar em reuniões de projetos que não estão associados\n",
    "for p in range(P):\n",
    "    for c in range(C):\n",
    "        for s in range(S):\n",
    "            for t in range(T):\n",
    "                horario.Add(X[p,c,s,t] <= col[p,c])"
   ]
  },
  {
   "cell_type": "code",
   "execution_count": null,
   "id": "8fd037a8-5ac9-4db2-9d52-08cbac0f058d",
   "metadata": {},
   "outputs": [],
   "source": [
    "# Um colaborador não pode participar em duas reuniões ao mesmo tempo\n",
    "for c in range(C):\n",
    "    for t in range(T):\n",
    "        horario.Add(sum([ X[p,c,s,t] for p in range(P) for s in range(S)]) <= 1)"
   ]
  },
  {
   "cell_type": "code",
   "execution_count": null,
   "id": "51915dc2-84d6-40b2-9b57-4af0c1157a7f",
   "metadata": {},
   "outputs": [],
   "source": [
    "# S = Int\n",
    "# C = Int\n",
    "# T = (hora, dia)\n",
    "# P = ([conjunto de colaboradores], lider, número de reuniões semanais)\n",
    "\n",
    "# Maximizar o número de reuniões efetivamente realizadas\n",
    "# Minimizar o número médio de reuniões por participante."
   ]
  },
  {
   "cell_type": "code",
   "execution_count": null,
   "id": "e333fea5-cf53-4449-b3de-4933037da443",
   "metadata": {},
   "outputs": [],
   "source": []
  },
  {
   "cell_type": "code",
   "execution_count": null,
   "id": "8f2f33a0-dfa5-4fc3-ba5f-36f552ac517f",
   "metadata": {},
   "outputs": [],
   "source": []
  }
 ],
 "metadata": {
  "kernelspec": {
   "display_name": "Python 3 (ipykernel)",
   "language": "python",
   "name": "python3"
  },
  "language_info": {
   "codemirror_mode": {
    "name": "ipython",
    "version": 3
   },
   "file_extension": ".py",
   "mimetype": "text/x-python",
   "name": "python",
   "nbconvert_exporter": "python",
   "pygments_lexer": "ipython3",
   "version": "3.10.4"
  }
 },
 "nbformat": 4,
 "nbformat_minor": 5
}

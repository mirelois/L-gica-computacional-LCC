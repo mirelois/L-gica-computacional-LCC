{
 "cells": [
  {
   "cell_type": "markdown",
   "id": "fa019fea-a028-49c2-a620-843bff4b0053",
   "metadata": {},
   "source": [
    "# TP1\n",
    "## Grupo 15\n",
    "\n",
    "Carlos Eduardo Da Silva Machado A96936\n",
    "Gonçalo Manuel Maia de Sousa A97485"
   ]
  },
  {
   "cell_type": "markdown",
   "id": "af57e55e-67bf-42f8-af20-8e9d50bc0556",
   "metadata": {},
   "source": [
    "## Problema 1\n",
    "\n",
    "Pretende-se construir um horário semanal para o plano de reuniões de projeto de uma “StartUp” de acordo com as seguintes condições:\n",
    "    1. Cada reunião ocupa uma sala (enumeradas $$1...S\\,$$) durante um “slot”  $$1..T\\,$$ $$(\\text{hora},\\text{dia})$$.  \n",
    "    2.  Cada reunião tem associado um projeto (enumerados $$1..P$$) e um conjunto de participantes. Os diferentes colaboradores são enumerados $$1..C$$.\n",
    "    3. Cada projeto tem associado um conjunto de colaboradores, dos quais um  é o líder. Cada projeto realiza um dado número de reuniões semanais. \n",
    "    4. O líder do projeto participa em todas as reuniões do seu projeto; os restantes colaboradores podem ou não participar consoante a sua disponibilidade, num mínimo (“quorum”) de  $$50\\%$$ do total de colaboradores do projeto. "
   ]
  },
  {
   "cell_type": "code",
   "execution_count": null,
   "id": "fe53793b-66d9-490d-a2d8-ed99852c3884",
   "metadata": {},
   "outputs": [],
   "source": [
    "from ortools.linear_solver import pywraplp\n",
    "horario = pywraplp.Solver.CreateSolver('SCIP')\n",
    "\n",
    "# Criação da matriz de alocação\n",
    "X = {}\n",
    "for s in range(S):\n",
    "    for t in range(T):\n",
    "        for p in range(P):\n",
    "            for c in range(C):\n",
    "                X[s,t,p,c] = horario.BoolVar(f'X[{s}][{t}][{p}][{c}]')\n",
    "\n",
    "# Construção básica da matriz ^"
   ]
  },
  {
   "cell_type": "code",
   "execution_count": null,
   "id": "51915dc2-84d6-40b2-9b57-4af0c1157a7f",
   "metadata": {},
   "outputs": [],
   "source": [
    "# S = Int\n",
    "# C = Int\n",
    "# T = (hora, dia)\n",
    "# P = ([conjunto de colaboradores], lider, número de reuniões semanais)\n",
    "\n",
    "# Maximizar o número de reuniões efetivamente realizadas\n",
    "# Minimizar o número médio de reuniões por participante."
   ]
  },
  {
   "cell_type": "code",
   "execution_count": null,
   "id": "e333fea5-cf53-4449-b3de-4933037da443",
   "metadata": {},
   "outputs": [],
   "source": []
  }
 ],
 "metadata": {
  "kernelspec": {
   "display_name": "Python 3 (ipykernel)",
   "language": "python",
   "name": "python3"
  },
  "language_info": {
   "codemirror_mode": {
    "name": "ipython",
    "version": 3
   },
   "file_extension": ".py",
   "mimetype": "text/x-python",
   "name": "python",
   "nbconvert_exporter": "python",
   "pygments_lexer": "ipython3",
   "version": "3.10.4"
  }
 },
 "nbformat": 4,
 "nbformat_minor": 5
}

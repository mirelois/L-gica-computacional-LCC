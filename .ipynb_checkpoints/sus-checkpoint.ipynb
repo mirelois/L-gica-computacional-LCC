{
 "cells": [
  {
   "cell_type": "markdown",
   "id": "4bf371ec-c0f5-49d6-b984-f18d552e73eb",
   "metadata": {},
   "source": [
    "\n",
    "usar uma familia de variaveis semanticas\n",
    "$$\n",
    "x_{p,c,s,t} = 1 \\quad \\mbox{sse} \\quad \\mbox{no slot $t$ na sala $s$ o colaborador $c$ tem reuneão relativa ao proj $p$}\n",
    "$$\n",
    "usar uma familia de variaveis inteiras \n",
    "$$\n",
    "l_p = c < C \\quad \\mbox{sse} \\quad \\mbox{o col $c$ é o lider do proj $p$}\n",
    "$$\n",
    "usar a familia de variaveis binarias\n",
    "$$\n",
    "d_{c,t} = 1 \\quad \\mbox{sse} \\quad \\mbox{o col $c$ esta disponivel no slot $t$}\n",
    "$$\n",
    "usar a familia de variaveis binarias\n",
    "$$\n",
    "col_{p,c} = 1 \\quad \\mbox{sse} \\quad \\mbox{o col $c$ esta associado ao proj $p$}\n",
    "$$\n",
    "usar a familia de variaveis inteiras\n",
    "$$\n",
    "m_p = m \\quad \\mbox{em que $m$ é o num minimo de reuneões semanais}\n",
    "$$"
   ]
  },
  {
   "cell_type": "markdown",
   "id": "c9acf077-4843-4c61-aa1d-bcfb67bbdac3",
   "metadata": {},
   "source": [
    "o lider participa no proj\n",
    "$$\n",
    "\\forall_{p< P} \\quad l_p = c< C \\quad \\implies \\quad \\sum_{s< S,t< T} x_{p,l_p,s,t} \\ge 1 \n",
    "$$"
   ]
  },
  {
   "cell_type": "markdown",
   "id": "0912420b-b93c-4ed8-a5b0-65cffd13b9be",
   "metadata": {},
   "source": [
    "o proj tem quorum\n",
    "$$\n",
    "\\forall_{p< P} \\quad \\sum_{s< S,t< T, c< C} x_{p,c,s,t} \\ge \\frac{\\sum_{c< C} col_{p,c}}{2}\n",
    "$$"
   ]
  },
  {
   "cell_type": "markdown",
   "id": "6b8053ea-98fb-4299-b71b-e048d1c677e1",
   "metadata": {},
   "source": []
  }
 ],
 "metadata": {
  "kernelspec": {
   "display_name": "Python 3 (ipykernel)",
   "language": "python",
   "name": "python3"
  },
  "language_info": {
   "codemirror_mode": {
    "name": "ipython",
    "version": 3
   },
   "file_extension": ".py",
   "mimetype": "text/x-python",
   "name": "python",
   "nbconvert_exporter": "python",
   "pygments_lexer": "ipython3",
   "version": "3.10.4"
  }
 },
 "nbformat": 4,
 "nbformat_minor": 5
}

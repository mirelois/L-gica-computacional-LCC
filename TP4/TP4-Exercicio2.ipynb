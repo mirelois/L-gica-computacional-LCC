{
 "cells": [
  {
   "cell_type": "markdown",
   "id": "67d89d85-8eef-49ba-8d93-fd20d7aeb0c6",
   "metadata": {},
   "source": [
    "# TP4\n",
    "## Grupo 15\n",
    "\n",
    "Carlos Eduardo Da Silva Machado A96936\n",
    "\n",
    "Gonçalo Manuel Maia de Sousa A97485"
   ]
  },
  {
   "cell_type": "markdown",
   "id": "4cba48a5-f447-431b-9d3b-98572bccd4e1",
   "metadata": {},
   "source": [
    "## Exercício 4.2"
   ]
  },
  {
   "cell_type": "markdown",
   "id": "52b3237f-7c6d-458c-a4cb-8ec8747bbc52",
   "metadata": {},
   "source": [
    "### Descrição do Problema"
   ]
  },
  {
   "cell_type": "markdown",
   "id": "4fc1e622-e898-4229-82ee-1db759d0b239",
   "metadata": {},
   "source": [
    "\n",
    "\n",
    "seq = [-2,1,2,-1,4,-4,-3,3]\n",
    "\n",
    "changed = True\n",
    "\n",
    "while changed:\n",
    "\n",
    "    changed = False\n",
    "    \n",
    "    for i in range(len(seq) - 1):\n",
    "    \n",
    "        if seq[i] > seq[i+1]:\n",
    "        \n",
    "            seq[i], seq[i+1] = seq[i+1], seq[i]\n",
    "            \n",
    "            changed = True\n",
    "            \n",
    "pass  "
   ]
  },
  {
   "cell_type": "markdown",
   "id": "281c5049-b204-42a5-9300-7df73a3cd7e5",
   "metadata": {},
   "source": [
    "### Abordagem do Problema"
   ]
  },
  {
   "cell_type": "markdown",
   "id": "1c008bdb-01a2-4d72-8251-87e1ee32fc48",
   "metadata": {},
   "source": []
  },
  {
   "cell_type": "markdown",
   "id": "71666dd2-7cd8-4f87-81f2-c9fa0f2dca6b",
   "metadata": {},
   "source": [
    "## Código Python"
   ]
  },
  {
   "cell_type": "code",
   "execution_count": 1,
   "id": "53f241e9-2e89-4976-97a5-86d616713653",
   "metadata": {},
   "outputs": [],
   "source": [
    "from pysmt.shortcuts import *\n",
    "from pysmt.typing import *\n",
    "\n",
    "def prove(f):\n",
    "    with Solver(name=\"z3\") as s:\n",
    "        s.add_assertion(Not(f))\n",
    "        if s.solve():\n",
    "            print(\"Failed to prove.\")\n",
    "        else:\n",
    "            print(\"Proved.\")"
   ]
  },
  {
   "cell_type": "markdown",
   "id": "81bbebc1-ff6e-4d30-9f22-837c6baf46a8",
   "metadata": {},
   "source": [
    "forall i . 0 <= i < tamanho -1 -> (assume seq[i]>seq[i+1]; seq[i] = seq[i] + seq[i+1]; seq[i+1] = seq[i] - seq[i+1]; seq[i] = seq[i] - seq[i+1];);"
   ]
  },
  {
   "cell_type": "markdown",
   "id": "e2d9a945-bf92-4377-b915-5b8de7807558",
   "metadata": {},
   "source": [
    "Pre condição: Variável changed a True\n",
    "Pos condição: Array ordenado"
   ]
  },
  {
   "cell_type": "code",
   "execution_count": 2,
   "id": "5a97521e-941c-4a5b-bead-118c77edf33f",
   "metadata": {},
   "outputs": [],
   "source": [
    "# Auxiliares\n",
    "def prime(v):\n",
    "    return Symbol(\"next(%s)\" % v.symbol_name(), v.symbol_type())\n",
    "def fresh(v):\n",
    "    return FreshSymbol(typename=v.symbol_type(),template=v.symbol_name()+\"_%d\")\n",
    "\n",
    "# A classe \"Sigle Assignment Unfold\"\n",
    "class SAU(object):\n",
    "    \"\"\"Trivial representation of a while cycle and its unfolding.\"\"\"\n",
    "    def __init__(self, variables, pre , pos, control, trans, sname=\"z3\"):\n",
    "              \n",
    "        self.variables = variables       # variables   \n",
    "        self.pre = pre                   # pre-condition as a predicate in \"variables\"\n",
    "        self.pos = pos                   # pos-condition as a predicate in \"variables\"\n",
    "        self.control = control           # cycle control as a predicate in \"variables\"\n",
    "        self.trans = trans               # cycle body as a binary transition relation \n",
    "                                         # in \"variables\" and \"prime variables\"\n",
    "        \n",
    "        self.prime_variables = [prime(v) for v in self.variables]\n",
    "        self.frames = [And([Not(control),pos])]  \n",
    "                 # inializa com uma só frame: a da terminação do ciclo\n",
    "        \n",
    "        self.solver = Solver(name=sname)\n",
    "\n",
    "    def new_frame(self):        \n",
    "        freshs = [fresh(v) for v in self.variables]    \n",
    "        b = self.control\n",
    "        S = self.trans.substitute(dict(zip(self.prime_variables,freshs)))\n",
    "        W = self.frames[-1].substitute(dict(zip(self.variables,freshs)))\n",
    "        \n",
    "        self.frames.append(And([b , ForAll(freshs, Implies(S, W))]))\n",
    "        \n",
    "    def unfold(self,bound=0):\n",
    "        n = 0\n",
    "        while True:\n",
    "            if n > bound:\n",
    "                print(\"falha: número de tentativas ultrapassa o limite %d \"%bound)\n",
    "                break\n",
    "            \n",
    "            f = Or(self.frames)\n",
    "            if self.solver.solve([self.pre,Not(f)]):  \n",
    "                self.new_frame()\n",
    "                n += 1\n",
    "            else:\n",
    "                print(\"sucesso na tentativa %d \"%n)\n",
    "                break   "
   ]
  },
  {
   "cell_type": "code",
   "execution_count": 3,
   "id": "6562c401",
   "metadata": {},
   "outputs": [],
   "source": [
    "def trans(seq, seqlinha, tamanho, changedlinha, bubble_up, axioms):\n",
    "\n",
    "    n = Symbol('n',INT)\n",
    "    \n",
    "    assingment = ForAll([n], Equals(Select(seqlinha, n), Ite(Select(seq, n + Int(1)) < bubble_up(n), Select(seq, n + Int(1)), bubble_up(n))))\n",
    "\n",
    "    change = Implies(ForAll([n],Implies(And(n > 0, n <= tamanho), Equals(Select(seq, n), Select(seqlinha, n)))), Iff(changedlinha, Bool(True)))\n",
    "                \n",
    "    return And(axioms, assingment, change)\n",
    "     \n",
    "    \n",
    "    "
   ]
  },
  {
   "cell_type": "code",
   "execution_count": 4,
   "id": "7700c454-db4c-455d-b442-9e1f7bc38715",
   "metadata": {},
   "outputs": [
    {
     "ename": "SolverReturnedUnknownResultError",
     "evalue": "",
     "output_type": "error",
     "traceback": [
      "\u001b[0;31m---------------------------------------------------------------------------\u001b[0m",
      "\u001b[0;31mSolverReturnedUnknownResultError\u001b[0m          Traceback (most recent call last)",
      "Cell \u001b[0;32mIn [4], line 42\u001b[0m\n\u001b[1;32m     37\u001b[0m pos \u001b[39m=\u001b[39m And(ForAll([m], Implies(And(m \u001b[39m>\u001b[39m Int(\u001b[39m0\u001b[39m), m \u001b[39m<\u001b[39m tamanho), Select(seq, m) \u001b[39m<\u001b[39m Select(seq, m \u001b[39m+\u001b[39m Int(\u001b[39m1\u001b[39m)))), Iff(changed, Bool(\u001b[39mFalse\u001b[39;00m)))\n\u001b[1;32m     40\u001b[0m W \u001b[39m=\u001b[39m SAU(variables,pre,pos,cond,trans)\n\u001b[0;32m---> 42\u001b[0m W\u001b[39m.\u001b[39;49munfold(\u001b[39m8\u001b[39;49m)\n",
      "Cell \u001b[0;32mIn [2], line 41\u001b[0m, in \u001b[0;36mSAU.unfold\u001b[0;34m(self, bound)\u001b[0m\n\u001b[1;32m     38\u001b[0m     \u001b[39mbreak\u001b[39;00m\n\u001b[1;32m     40\u001b[0m f \u001b[39m=\u001b[39m Or(\u001b[39mself\u001b[39m\u001b[39m.\u001b[39mframes)\n\u001b[0;32m---> 41\u001b[0m \u001b[39mif\u001b[39;00m \u001b[39mself\u001b[39;49m\u001b[39m.\u001b[39;49msolver\u001b[39m.\u001b[39;49msolve([\u001b[39mself\u001b[39;49m\u001b[39m.\u001b[39;49mpre,Not(f)]):  \n\u001b[1;32m     42\u001b[0m     \u001b[39mself\u001b[39m\u001b[39m.\u001b[39mnew_frame()\n\u001b[1;32m     43\u001b[0m     n \u001b[39m+\u001b[39m\u001b[39m=\u001b[39m \u001b[39m1\u001b[39m\n",
      "File \u001b[0;32m~/anaconda3/envs/logica/lib/python3.10/site-packages/pysmt/solvers/solver.py:359\u001b[0m, in \u001b[0;36mIncrementalTrackingSolver.solve\u001b[0;34m(self, assumptions)\u001b[0m\n\u001b[1;32m    357\u001b[0m \u001b[39mdef\u001b[39;00m \u001b[39msolve\u001b[39m(\u001b[39mself\u001b[39m, assumptions\u001b[39m=\u001b[39m\u001b[39mNone\u001b[39;00m):\n\u001b[1;32m    358\u001b[0m     \u001b[39mtry\u001b[39;00m:\n\u001b[0;32m--> 359\u001b[0m         res \u001b[39m=\u001b[39m \u001b[39mself\u001b[39;49m\u001b[39m.\u001b[39;49m_solve(assumptions\u001b[39m=\u001b[39;49massumptions)\n\u001b[1;32m    360\u001b[0m         \u001b[39mself\u001b[39m\u001b[39m.\u001b[39m_last_result \u001b[39m=\u001b[39m res\n\u001b[1;32m    361\u001b[0m         \u001b[39mreturn\u001b[39;00m res\n",
      "File \u001b[0;32m~/anaconda3/envs/logica/lib/python3.10/site-packages/pysmt/decorators.py:64\u001b[0m, in \u001b[0;36mclear_pending_pop.<locals>.clear_pending_pop_wrap\u001b[0;34m(self, *args, **kwargs)\u001b[0m\n\u001b[1;32m     62\u001b[0m     \u001b[39mself\u001b[39m\u001b[39m.\u001b[39mpending_pop \u001b[39m=\u001b[39m \u001b[39mFalse\u001b[39;00m\n\u001b[1;32m     63\u001b[0m     \u001b[39mself\u001b[39m\u001b[39m.\u001b[39mpop()\n\u001b[0;32m---> 64\u001b[0m \u001b[39mreturn\u001b[39;00m f(\u001b[39mself\u001b[39;49m, \u001b[39m*\u001b[39;49margs, \u001b[39m*\u001b[39;49m\u001b[39m*\u001b[39;49mkwargs)\n",
      "File \u001b[0;32m~/anaconda3/envs/logica/lib/python3.10/site-packages/pysmt/solvers/z3.py:218\u001b[0m, in \u001b[0;36mZ3Solver._solve\u001b[0;34m(self, assumptions)\u001b[0m\n\u001b[1;32m    216\u001b[0m \u001b[39massert\u001b[39;00m sres \u001b[39min\u001b[39;00m [\u001b[39m'\u001b[39m\u001b[39munknown\u001b[39m\u001b[39m'\u001b[39m, \u001b[39m'\u001b[39m\u001b[39msat\u001b[39m\u001b[39m'\u001b[39m, \u001b[39m'\u001b[39m\u001b[39munsat\u001b[39m\u001b[39m'\u001b[39m]\n\u001b[1;32m    217\u001b[0m \u001b[39mif\u001b[39;00m sres \u001b[39m==\u001b[39m \u001b[39m'\u001b[39m\u001b[39munknown\u001b[39m\u001b[39m'\u001b[39m:\n\u001b[0;32m--> 218\u001b[0m     \u001b[39mraise\u001b[39;00m SolverReturnedUnknownResultError\n\u001b[1;32m    219\u001b[0m \u001b[39mreturn\u001b[39;00m (sres \u001b[39m==\u001b[39m \u001b[39m'\u001b[39m\u001b[39msat\u001b[39m\u001b[39m'\u001b[39m)\n",
      "\u001b[0;31mSolverReturnedUnknownResultError\u001b[0m: "
     ]
    }
   ],
   "source": [
    "tamanho = Symbol('tam', INT)\n",
    "\n",
    "l = [-2,1,2,-1,4,-4,-3,3]\n",
    "\n",
    "seq = Symbol('seq', ArrayType(INT,INT))\n",
    "\n",
    "store = And(Equals(Select(seq, Int(0)), Int(l[0])),\n",
    "            Equals(Select(seq, Int(1)), Int(l[1])),\n",
    "            Equals(Select(seq, Int(2)), Int(l[2])),\n",
    "            Equals(Select(seq, Int(3)), Int(l[3])),\n",
    "            Equals(Select(seq, Int(4)), Int(l[4])),\n",
    "            Equals(Select(seq, Int(5)), Int(l[5])),\n",
    "            Equals(Select(seq, Int(6)), Int(l[6])),\n",
    "            Equals(Select(seq, Int(7)), Int(l[7])),\n",
    "            )\n",
    "\n",
    "bubble_up = Symbol('bubble_up', FunctionType(INT,[INT]))\n",
    "n = Symbol('n',INT)\n",
    "\n",
    "ax1 = Equals(bubble_up(Int(0)), Select(seq, Int(0)))\n",
    "ax2 = ForAll([n], Implies(And(n > Int(0), n < tamanho), Equals(bubble_up(n), Ite(Select(seq, n) > bubble_up(n-1), Select(seq, n), bubble_up(n-1)))))\n",
    "ax3 = Equals(bubble_up(tamanho), Ite(Select(seq, tamanho) > Select(seq, tamanho-Int(1)), Select(seq, tamanho), Select(seq, tamanho-Int(1))))\n",
    "\n",
    "axioms = And(ax1,ax2,ax3)\n",
    "\n",
    "m = Symbol('m', INT)\n",
    "\n",
    "size = 7\n",
    "\n",
    "changed = Symbol('changed', BOOL)\n",
    "\n",
    "variables = [changed, tamanho]\n",
    "\n",
    "pre = And(Iff(changed,Bool(True)), Equals(tamanho,Int(size)), store, axioms)\n",
    "cond = Iff(changed,Bool(True))\n",
    "trans = trans(seq, prime(seq), tamanho, prime(changed), bubble_up, axioms)\n",
    "pos = And(ForAll([m], Implies(And(m > Int(0), m < tamanho), Select(seq, m) < Select(seq, m + Int(1)))), Iff(changed, Bool(False)))\n",
    "\n",
    "\n",
    "W = SAU(variables,pre,pos,cond,trans)\n",
    "\n",
    "W.unfold(8)"
   ]
  }
 ],
 "metadata": {
  "kernelspec": {
   "display_name": "logica",
   "language": "python",
   "name": "python3"
  },
  "language_info": {
   "codemirror_mode": {
    "name": "ipython",
    "version": 3
   },
   "file_extension": ".py",
   "mimetype": "text/x-python",
   "name": "python",
   "nbconvert_exporter": "python",
   "pygments_lexer": "ipython3",
   "version": "3.10.6"
  },
  "vscode": {
   "interpreter": {
    "hash": "e6e0711b34581e9d3d394d0e05c7a638721b909a5489b142ff17259bed82d5d5"
   }
  }
 },
 "nbformat": 4,
 "nbformat_minor": 5
}

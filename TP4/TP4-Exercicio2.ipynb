{
 "cells": [
  {
   "cell_type": "markdown",
   "id": "67d89d85-8eef-49ba-8d93-fd20d7aeb0c6",
   "metadata": {},
   "source": [
    "# TP4\n",
    "## Grupo 15\n",
    "\n",
    "Carlos Eduardo Da Silva Machado A96936\n",
    "\n",
    "Gonçalo Manuel Maia de Sousa A97485"
   ]
  },
  {
   "cell_type": "markdown",
   "id": "4cba48a5-f447-431b-9d3b-98572bccd4e1",
   "metadata": {},
   "source": [
    "## Exercício 4.2"
   ]
  },
  {
   "cell_type": "markdown",
   "id": "52b3237f-7c6d-458c-a4cb-8ec8747bbc52",
   "metadata": {},
   "source": [
    "### Descrição do Problema"
   ]
  },
  {
   "cell_type": "markdown",
   "id": "4fc1e622-e898-4229-82ee-1db759d0b239",
   "metadata": {},
   "source": [
    "\n",
    "\n",
    "seq = [-2,1,2,-1,4,-4,-3,3]\n",
    "\n",
    "changed = True\n",
    "\n",
    "while changed:\n",
    "\n",
    "    changed = False\n",
    "    \n",
    "    for i in range(len(seq) - 1):\n",
    "    \n",
    "        if seq[i] > seq[i+1]:\n",
    "        \n",
    "            seq[i], seq[i+1] = seq[i+1], seq[i]\n",
    "            \n",
    "            changed = True\n",
    "            \n",
    "pass  "
   ]
  },
  {
   "cell_type": "markdown",
   "id": "281c5049-b204-42a5-9300-7df73a3cd7e5",
   "metadata": {},
   "source": [
    "### Abordagem do Problema"
   ]
  },
  {
   "cell_type": "markdown",
   "id": "1c008bdb-01a2-4d72-8251-87e1ee32fc48",
   "metadata": {},
   "source": [
    "Para resolver todas as facetas deste problema será nesseçário:\n",
    "1. Criar uma Pre condição do algoritmo.\n",
    "2. Criar uma Pos condição do algoritmo.\n",
    "3. Criar uma relação de transição que traduza o ciclo 'for'.\n",
    "4. Provar a correção do algoritmo"
   ]
  },
  {
   "cell_type": "markdown",
   "id": "77a85ae8",
   "metadata": {},
   "source": [
    "1-\n",
    "A pré condição do algoritmmo é definida pela seguinte expresão:\n",
    "$$ (n \\ge 0) \\land (changed \\leftrightarrow True) \\land axioms \\land store $$\n",
    "\n",
    "2-\n",
    "A pós condição do algoritmmo é definida pela seguinte expresão:\n",
    "$$ (changed \\leftrightarrow False) \\land (\\forall_i \\quad 0 \\le n \\lt N-1 \\rightarrow seq[i] \\le seq[i+1])$$\n",
    "\n",
    "3-\n",
    "Para definir a relação de transição decidimos seguir dois caminhos diferrentes:\n",
    "1. definir o ciclo for com o auxilio de uma função recursiva.\n",
    "Essa função é tal que:\n",
    "\n",
    "```python\n",
    "f(0) = seq[0]\n",
    "f(n) = max(seq[i], f(n-1))\n",
    "```\n",
    "Deve ser feita agora a definição da função em logica do SMT.\n",
    "A função max é feita da seguinte forma:\n",
    "$$max(a,b) \\equiv Ite(a > b, a, b) \\quad (\\textrm{do mesmo modo:} \\quad min(a,b) \\equiv Ite(a < b, a, b))$$\n",
    "A definição da função é feita, então da seguinte forma:\n",
    "$$f(0) = seq[0] \\land \\\\ \n",
    "\\forall_n \\quad 0 < n < N \\rightarrow f(i-1) = Ite(seq[i] > f(n-1), seq[i], f(n-1))$$\n",
    "\n",
    "Com o auxilio da função, a transição é feita da seguinte forma:\n",
    "$$\\forall_n \\quad 0 \\le n \\lt N-1 \\ \\rightarrow seq'[i] = min(seq[i], f(i-1)) \\land \\\\\n",
    "q'[n-i] = f(n-1)$$\n",
    "\n",
    "2. Criar n sequências e definir a transição através de várias atribuições.\n",
    "\n",
    "Para tal definimos uma função python auxiliar, 'transaux(seq,seqlinha, I)' que atribui a $seqlinha[i]$, $min(seq[i],seq[i+1])$ e a $seqlinha[i+1]$, $max(seq[i],seq[i+1])$ mantendo a ordem do resto dos elementos.\n",
    "\n",
    "Com a função anterior definida, a função de transição é feita criando uma lista de sequências,$l$ de forma a que $l[0] = seq$ e $l[-1] = seq'$ e retornar a disjunção da função 'transaux' aplicada a $l[i],l[i+1]\\quad \\forall_i: \\quad 0<=i< N-1$\n",
    "\n",
    "4-\n",
    "Para provar a correção do algoritmo foi usado SAU com os algoritmos dados pelo professor.\n",
    "\n",
    "\n",
    "\n"
   ]
  },
  {
   "cell_type": "markdown",
   "id": "71666dd2-7cd8-4f87-81f2-c9fa0f2dca6b",
   "metadata": {},
   "source": [
    "## Código Python"
   ]
  },
  {
   "cell_type": "markdown",
   "id": "b4f41adf",
   "metadata": {},
   "source": [
    "Inicialmente apresentamos os algoritmos de SAU dados pelo professor."
   ]
  },
  {
   "cell_type": "code",
   "execution_count": 1,
   "id": "53f241e9-2e89-4976-97a5-86d616713653",
   "metadata": {},
   "outputs": [],
   "source": [
    "from pysmt.shortcuts import *\n",
    "from pysmt.typing import *\n",
    "import random as rn\n",
    "\n",
    "def prove(f):\n",
    "    with Solver(name=\"z3\") as s:\n",
    "        s.add_assertion(Not(f))\n",
    "        if s.solve():\n",
    "            print(\"Failed to prove.\")\n",
    "        else:\n",
    "            print(\"Proved.\")"
   ]
  },
  {
   "cell_type": "code",
   "execution_count": 2,
   "id": "5a97521e-941c-4a5b-bead-118c77edf33f",
   "metadata": {},
   "outputs": [],
   "source": [
    "# Auxiliares\n",
    "def prime(v):\n",
    "    return Symbol(\"next(%s)\" % v.symbol_name(), v.symbol_type())\n",
    "def fresh(v):\n",
    "    return FreshSymbol(typename=v.symbol_type(),template=v.symbol_name()+\"_%d\")\n",
    "\n",
    "# A classe \"Sigle Assignment Unfold\"\n",
    "class SAU(object):\n",
    "    \"\"\"Trivial representation of a while cycle and its unfolding.\"\"\"\n",
    "    def __init__(self, variables, pre , pos, control, trans, sname=\"z3\"):\n",
    "              \n",
    "        self.variables = variables       # variables   \n",
    "        self.pre = pre                   # pre-condition as a predicate in \"variables\"\n",
    "        self.pos = pos                   # pos-condition as a predicate in \"variables\"\n",
    "        self.control = control           # cycle control as a predicate in \"variables\"\n",
    "        self.trans = trans               # cycle body as a binary transition relation \n",
    "                                         # in \"variables\" and \"prime variables\"\n",
    "        \n",
    "        self.prime_variables = [prime(v) for v in self.variables]\n",
    "        self.frames = [And([Not(control),pos])]  \n",
    "                 # inializa com uma só frame: a da terminação do ciclo\n",
    "        \n",
    "        self.solver = Solver(name=sname)\n",
    "\n",
    "    def new_frame(self):        \n",
    "        freshs = [fresh(v) for v in self.variables]    \n",
    "        b = self.control\n",
    "        S = self.trans.substitute(dict(zip(self.prime_variables,freshs)))\n",
    "        W = self.frames[-1].substitute(dict(zip(self.variables,freshs)))\n",
    "        \n",
    "        self.frames.append(And([b , ForAll(freshs, Implies(S, W))]))\n",
    "        \n",
    "    def unfold(self,bound=0):\n",
    "        n = 0\n",
    "        while True:\n",
    "            if n > bound:\n",
    "                print(\"falha: número de tentativas ultrapassa o limite %d \"%bound)\n",
    "                break\n",
    "            \n",
    "            f = Or(self.frames)\n",
    "            if self.solver.solve([self.pre,Not(f)]):  \n",
    "                self.new_frame()\n",
    "                print(n)\n",
    "                n += 1\n",
    "            else:\n",
    "                print(\"sucesso na tentativa %d \"%n)\n",
    "                break   "
   ]
  },
  {
   "cell_type": "markdown",
   "id": "e0a8c1bb",
   "metadata": {},
   "source": [
    "Nesta zona de código encontra-se a declaração de algumas variaveis bem como algumas condições de inicialização e a declaração da função, feita feita de forma semelhante ao exemplo da ficha 13."
   ]
  },
  {
   "cell_type": "code",
   "execution_count": 9,
   "id": "1be0fdc8",
   "metadata": {},
   "outputs": [],
   "source": [
    "N = rn.randint(20,50)\n",
    "\n",
    "n = Int(N)\n",
    "\n",
    "l = list()\n",
    "for x in range(N):\n",
    "    l.append(rn.randint(-50,51))\n",
    "    \n",
    "rn.shuffle(l)\n",
    "\n",
    "seq = Symbol('seq', ArrayType(INT,INT))\n",
    "i = Symbol('i', INT)\n",
    "changed = Symbol('changed', BOOL)\n",
    "\n",
    "store = And([Equals(Select(seq, Int(i)), Int(l[i])) for i in range(N)])\n",
    "\n",
    "\n",
    "bubble_up = Symbol('bubble_up', FunctionType(INT,[INT]))\n",
    "ax1 = Equals(bubble_up(Int(0)), Select(seq, Int(0)))\n",
    "ax2 = ForAll([i], Implies(And(i>Int(0), i<n), Equals(bubble_up(i), Ite(Select(seq,i) >= bubble_up(i-Int(1)), Select(seq,i), bubble_up(i-Int(1))))))\n",
    "axioms = And(ax1,ax2)\n",
    "\n",
    "\n"
   ]
  },
  {
   "cell_type": "markdown",
   "id": "6ac774b4",
   "metadata": {},
   "source": [
    "Aqui está definida a função de transição que faz uso da função auxiliar bubble_up."
   ]
  },
  {
   "cell_type": "code",
   "execution_count": 4,
   "id": "6562c401",
   "metadata": {},
   "outputs": [],
   "source": [
    "def trans1(seq, seqlinha, changed, changedlinha):\n",
    "    # print(seq,seqlinha)\n",
    "    indutivo = ForAll([i], Implies(And(i<n-Int(1), i>=Int(0)), \n",
    "                                   Equals(Select(seqlinha,i), Ite(Select(seq, i+Int(1)) <= bubble_up(i), Select(seq, i+Int(1)), bubble_up(i)))))\n",
    "    \n",
    "    final = Equals(Select(seqlinha, n - Int(1)), bubble_up(n - Int(1)))\n",
    "    \n",
    "    \n",
    "    troca_true = Iff(Iff(changedlinha, Bool(True)), Not(Equals(seq,seqlinha)))\n",
    "    \n",
    "    troca_false = Iff(Iff(changedlinha, Bool(False)), Equals(seq,seqlinha))\n",
    "    \n",
    "    return And(axioms,indutivo, troca_true, troca_false, final)\n",
    "    \n",
    "     \n",
    "    \n",
    "    "
   ]
  },
  {
   "cell_type": "markdown",
   "id": "e41b3413",
   "metadata": {},
   "source": [
    "Aqui está definida a função de transição que cria n sequências."
   ]
  },
  {
   "cell_type": "code",
   "execution_count": 5,
   "id": "97558081",
   "metadata": {},
   "outputs": [],
   "source": [
    "def transaux(seq,seqlinha,I):\n",
    "    i = Int(I)\n",
    "    l = list()\n",
    "    for n in range(N):\n",
    "        l.append(Equals(Select(seqlinha,Int(n)), Select(seq,Int(n))))# copia o seq para o seqlinha\n",
    "    \n",
    "    l[I] = Equals(Select(seqlinha, i), Ite(Select(seq,i) < Select(seq, i+Int(1)), Select(seq,i), Select(seq, i+Int(1))))\n",
    "    l[I+1] = Equals(Select(seqlinha, i+Int(1)), Ite(Select(seq,i) > Select(seq, i+Int(1)), Select(seq,i), Select(seq, i+Int(1))))\n",
    "\n",
    "    return And(l)\n",
    "    \n",
    "\n",
    "def trans2(seq,seq_p,changed,changed_p):\n",
    "    seqlist = []\n",
    "    for i in range(N):\n",
    "        seqlist.append(Symbol('seq' + str(i), ArrayType(INT,INT)))\n",
    "    seqlist[0] = seq\n",
    "    seqlist[-1] = seq_p\n",
    "    \n",
    "    troca_true = Iff(Iff(changed_p, Bool(True)), Not(Equals(seq,seq_p)))\n",
    "    \n",
    "    troca_false = Iff(Iff(changed_p, Bool(False)), Equals(seq,seq_p))\n",
    "        \n",
    "    return And(And([transaux(seqlist[i],seqlist[i+1],i) for i in range(N-1)]),troca_true,troca_false)"
   ]
  },
  {
   "cell_type": "markdown",
   "id": "c55bc16e",
   "metadata": {},
   "source": [
    "Aqui são definidas a pré e pós condição, a condiçao de controlo do ciclo e a condição de transição.\n",
    "Além disso é feita a prova da correção do programa."
   ]
  },
  {
   "cell_type": "code",
   "execution_count": 6,
   "id": "7700c454-db4c-455d-b442-9e1f7bc38715",
   "metadata": {},
   "outputs": [],
   "source": [
    "\n",
    "variables = [seq,changed]\n",
    "\n",
    "pre  =  And(n>=Int(0), Iff(changed, Bool(True)), store) \n",
    "pos  =  And(ForAll([i], Implies(And(i>=0, i<n-Int(1)), Select(seq, i) <= Select(seq, i+Int(1)))), Iff(changed, Bool(False)))\n",
    "cond =  Iff(changed, Bool(True))               # condição de controlo do ciclo\n",
    "trans = trans1(seq, prime(seq), changed, prime(changed))\n",
    "\n",
    "#trans = trans_seq(seq,prime(seq),changed,prime(changed))"
   ]
  },
  {
   "cell_type": "markdown",
   "id": "b7542bb7",
   "metadata": {},
   "source": [
    "## Conclusão\n",
    "Após vários testes, especialmente para comprimentos de lista grandes, notamos que a função 'trans1' não tem sempre o comportamento experado e tende a fazer com que o solver retorne 'UnknownResultError' embora este após a reexecução do programa a mensagen de erro não apareça, por isso decidimos que a maioria dos testes apresentados fariam uso da função trans2.\n",
    "Além disso notamos que em todos os casos testados o método unfold teve sucesso na segunda tentativa."
   ]
  },
  {
   "cell_type": "code",
   "execution_count": 7,
   "id": "4732ba3e",
   "metadata": {},
   "outputs": [
    {
     "name": "stdout",
     "output_type": "stream",
     "text": [
      "41\n",
      "[-43, 36, -10, -27, -34, 4, -33, -30, -17, -32, -41, -43, 44, -34, -16, 23, -14, -26, 33, -50, 45, -10, 36, 43, -39, -25, -43, 48, 13, 51, 38, 2, 29, 18, -36, -39, -27, 13, -23, -50, -5]\n",
      "0\n",
      "1\n",
      "sucesso na tentativa 2 \n"
     ]
    }
   ],
   "source": [
    "print(N)\n",
    "print(l)\n",
    "\n",
    "W = SAU(variables,pre,pos,cond,trans)\n",
    "\n",
    "W.unfold(N)"
   ]
  },
  {
   "cell_type": "code",
   "execution_count": 8,
   "id": "a9e8a1c1",
   "metadata": {},
   "outputs": [
    {
     "name": "stdout",
     "output_type": "stream",
     "text": [
      "41\n",
      "[-43, 36, -10, -27, -34, 4, -33, -30, -17, -32, -41, -43, 44, -34, -16, 23, -14, -26, 33, -50, 45, -10, 36, 43, -39, -25, -43, 48, 13, 51, 38, 2, 29, 18, -36, -39, -27, 13, -23, -50, -5]\n",
      "0\n",
      "1\n",
      "sucesso na tentativa 2 \n"
     ]
    }
   ],
   "source": [
    "print(N)\n",
    "print(l)\n",
    "\n",
    "W = SAU(variables,pre,pos,cond,trans)\n",
    "\n",
    "W.unfold(N)"
   ]
  },
  {
   "cell_type": "code",
   "execution_count": 9,
   "id": "f4e1d832",
   "metadata": {},
   "outputs": [
    {
     "name": "stdout",
     "output_type": "stream",
     "text": [
      "41\n",
      "[-43, 36, -10, -27, -34, 4, -33, -30, -17, -32, -41, -43, 44, -34, -16, 23, -14, -26, 33, -50, 45, -10, 36, 43, -39, -25, -43, 48, 13, 51, 38, 2, 29, 18, -36, -39, -27, 13, -23, -50, -5]\n",
      "0\n",
      "1\n",
      "sucesso na tentativa 2 \n"
     ]
    }
   ],
   "source": [
    "print(N)\n",
    "print(l)\n",
    "\n",
    "W = SAU(variables,pre,pos,cond,trans)\n",
    "\n",
    "W.unfold(N)"
   ]
  },
  {
   "cell_type": "code",
   "execution_count": 10,
   "id": "0bce9059",
   "metadata": {},
   "outputs": [
    {
     "name": "stdout",
     "output_type": "stream",
     "text": [
      "41\n",
      "[-43, 36, -10, -27, -34, 4, -33, -30, -17, -32, -41, -43, 44, -34, -16, 23, -14, -26, 33, -50, 45, -10, 36, 43, -39, -25, -43, 48, 13, 51, 38, 2, 29, 18, -36, -39, -27, 13, -23, -50, -5]\n",
      "0\n",
      "1\n",
      "sucesso na tentativa 2 \n"
     ]
    }
   ],
   "source": [
    "print(N)\n",
    "print(l)\n",
    "\n",
    "W = SAU(variables,pre,pos,cond,trans)\n",
    "\n",
    "W.unfold(N)"
   ]
  },
  {
   "cell_type": "markdown",
   "id": "57f4ddca",
   "metadata": {},
   "source": [
    "Os exemplos seguintes foram executados com 'trans1' "
   ]
  },
  {
   "cell_type": "code",
   "execution_count": 7,
   "id": "cbbf68aa",
   "metadata": {},
   "outputs": [
    {
     "name": "stdout",
     "output_type": "stream",
     "text": [
      "32\n",
      "[30, -25, 51, -24, -13, 23, 12, 20, -33, 34, 19, -8, -3, -12, -36, 41, -39, 11, -48, 24, 36, -18, -6, 49, -44, -6, 30, 22, -21, -46, 34, -11]\n",
      "0\n",
      "1\n",
      "sucesso na tentativa 2 \n"
     ]
    }
   ],
   "source": [
    "print(N)\n",
    "print(l)\n",
    "\n",
    "W = SAU(variables,pre,pos,cond,trans)\n",
    "\n",
    "W.unfold(N)"
   ]
  },
  {
   "cell_type": "code",
   "execution_count": 7,
   "id": "5461a02b",
   "metadata": {},
   "outputs": [
    {
     "name": "stdout",
     "output_type": "stream",
     "text": [
      "38\n",
      "[-17, -2, 10, -41, 18, 47, 3, 30, -46, -43, -39, 25, 26, 43, 13, 33, 15, -16, -8, -18, -38, -41, -25, -10, -9, -12, -30, -11, -22, 22, -35, 51, 41, 1, 14, -7, -10, 50]\n",
      "0\n",
      "1\n",
      "sucesso na tentativa 2 \n"
     ]
    }
   ],
   "source": [
    "print(N)\n",
    "print(l)\n",
    "\n",
    "W = SAU(variables,pre,pos,cond,trans)\n",
    "\n",
    "W.unfold(N)"
   ]
  },
  {
   "cell_type": "code",
   "execution_count": 7,
   "id": "335a65b6",
   "metadata": {},
   "outputs": [
    {
     "name": "stdout",
     "output_type": "stream",
     "text": [
      "50\n",
      "[33, 25, -15, 13, 48, 31, -9, -40, 45, -20, -18, -40, 18, 35, 2, -40, 31, 14, 15, 46, 39, -17, 0, 25, 44, 31, 4, 40, 20, -42, 33, 7, -35, -8, 13, 3, -44, 33, 44, -14, 35, 15, -27, 40, 36, 18, -6, -35, -19, 26]\n",
      "0\n",
      "1\n",
      "sucesso na tentativa 2 \n"
     ]
    }
   ],
   "source": [
    "print(N)\n",
    "print(l)\n",
    "\n",
    "W = SAU(variables,pre,pos,cond,trans)\n",
    "\n",
    "W.unfold(N)"
   ]
  }
 ],
 "metadata": {
  "kernelspec": {
   "display_name": "Python 3 (ipykernel)",
   "language": "python",
   "name": "python3"
  },
  "language_info": {
   "codemirror_mode": {
    "name": "ipython",
    "version": 3
   },
   "file_extension": ".py",
   "mimetype": "text/x-python",
   "name": "python",
   "nbconvert_exporter": "python",
   "pygments_lexer": "ipython3",
   "version": "3.10.6"
  },
  "vscode": {
   "interpreter": {
    "hash": "e6e0711b34581e9d3d394d0e05c7a638721b909a5489b142ff17259bed82d5d5"
   }
  }
 },
 "nbformat": 4,
 "nbformat_minor": 5
}

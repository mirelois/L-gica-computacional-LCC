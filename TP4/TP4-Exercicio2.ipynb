{
 "cells": [
  {
   "cell_type": "markdown",
   "id": "67d89d85-8eef-49ba-8d93-fd20d7aeb0c6",
   "metadata": {},
   "source": [
    "# TP4\n",
    "## Grupo 15\n",
    "\n",
    "Carlos Eduardo Da Silva Machado A96936\n",
    "\n",
    "Gonçalo Manuel Maia de Sousa A97485"
   ]
  },
  {
   "cell_type": "markdown",
   "id": "4cba48a5-f447-431b-9d3b-98572bccd4e1",
   "metadata": {},
   "source": [
    "## Exercício 4.2"
   ]
  },
  {
   "cell_type": "markdown",
   "id": "52b3237f-7c6d-458c-a4cb-8ec8747bbc52",
   "metadata": {},
   "source": [
    "### Descrição do Problema"
   ]
  },
  {
   "cell_type": "markdown",
   "id": "4fc1e622-e898-4229-82ee-1db759d0b239",
   "metadata": {},
   "source": [
    "\n",
    "\n",
    "seq = [-2,1,2,-1,4,-4,-3,3]\n",
    "\n",
    "changed = True\n",
    "\n",
    "while changed:\n",
    "\n",
    "    changed = False\n",
    "    \n",
    "    for i in range(len(seq) - 1):\n",
    "    \n",
    "        if seq[i] > seq[i+1]:\n",
    "        \n",
    "            seq[i], seq[i+1] = seq[i+1], seq[i]\n",
    "            \n",
    "            changed = True\n",
    "            \n",
    "pass  "
   ]
  },
  {
   "cell_type": "markdown",
   "id": "281c5049-b204-42a5-9300-7df73a3cd7e5",
   "metadata": {},
   "source": [
    "### Abordagem do Problema"
   ]
  },
  {
   "cell_type": "markdown",
   "id": "1c008bdb-01a2-4d72-8251-87e1ee32fc48",
   "metadata": {},
   "source": []
  },
  {
   "cell_type": "markdown",
   "id": "71666dd2-7cd8-4f87-81f2-c9fa0f2dca6b",
   "metadata": {},
   "source": [
    "## Código Python"
   ]
  },
  {
   "cell_type": "code",
   "execution_count": null,
   "id": "53f241e9-2e89-4976-97a5-86d616713653",
   "metadata": {},
   "outputs": [],
   "source": [
    "from pysmt.shortcuts import *\n",
    "from pysmt.typing import *\n",
    "\n",
    "def prove(f):\n",
    "    with Solver(name=\"z3\") as s:\n",
    "        s.add_assertion(Not(f))\n",
    "        if s.solve():\n",
    "            print(\"Failed to prove.\")\n",
    "        else:\n",
    "            print(\"Proved.\")"
   ]
  },
  {
   "cell_type": "markdown",
   "id": "81bbebc1-ff6e-4d30-9f22-837c6baf46a8",
   "metadata": {},
   "source": [
    "forall i . 0 <= i < tamanho -1 -> (assume seq[i]>seq[i+1]; seq[i] = seq[i] + seq[i+1]; seq[i+1] = seq[i] - seq[i+1]; seq[i] = seq[i] - seq[i+1];);"
   ]
  },
  {
   "cell_type": "markdown",
   "id": "e2d9a945-bf92-4377-b915-5b8de7807558",
   "metadata": {},
   "source": [
    "Pre condição: Variável changed a True\n",
    "Pos condição: Array ordenado"
   ]
  },
  {
   "cell_type": "code",
   "execution_count": null,
   "id": "5a97521e-941c-4a5b-bead-118c77edf33f",
   "metadata": {},
   "outputs": [],
   "source": [
    "# Auxiliares\n",
    "def prime(v):\n",
    "    return Symbol(\"next(%s)\" % v.symbol_name(), v.symbol_type())\n",
    "def fresh(v):\n",
    "    return FreshSymbol(typename=v.symbol_type(),template=v.symbol_name()+\"_%d\")\n",
    "\n",
    "# A classe \"Sigle Assignment Unfold\"\n",
    "class SAU(object):\n",
    "    \"\"\"Trivial representation of a while cycle and its unfolding.\"\"\"\n",
    "    def __init__(self, variables, pre , pos, control, trans, sname=\"z3\"):\n",
    "              \n",
    "        self.variables = variables       # variables   \n",
    "        self.pre = pre                   # pre-condition as a predicate in \"variables\"\n",
    "        self.pos = pos                   # pos-condition as a predicate in \"variables\"\n",
    "        self.control = control           # cycle control as a predicate in \"variables\"\n",
    "        self.trans = trans               # cycle body as a binary transition relation \n",
    "                                         # in \"variables\" and \"prime variables\"\n",
    "        \n",
    "        self.prime_variables = [prime(v) for v in self.variables]\n",
    "        self.frames = [And([Not(control),pos])]  \n",
    "                 # inializa com uma só frame: a da terminação do ciclo\n",
    "        \n",
    "        self.solver = Solver(name=sname)\n",
    "\n",
    "    def new_frame(self):        \n",
    "        freshs = [fresh(v) for v in self.variables]    \n",
    "        b = self.control\n",
    "        S = self.trans.substitute(dict(zip(self.prime_variables,freshs)))\n",
    "        W = self.frames[-1].substitute(dict(zip(self.variables,freshs)))\n",
    "        \n",
    "        self.frames.append(And([b , ForAll(freshs, Implies(S, W))]))\n",
    "        \n",
    "    def unfold(self,bound=0):\n",
    "        n = 0\n",
    "        while True:\n",
    "            if n > bound:\n",
    "                print(\"falha: número de tentativas ultrapassa o limite %d \"%bound)\n",
    "                break\n",
    "            \n",
    "            f = Or(self.frames)\n",
    "            if self.solver.solve([self.pre,Not(f)]):  \n",
    "                self.new_frame()\n",
    "                n += 1\n",
    "            else:\n",
    "                print(\"sucesso na tentativa %d \"%n)\n",
    "                break   "
   ]
  },
  {
   "cell_type": "code",
   "execution_count": null,
   "id": "7700c454-db4c-455d-b442-9e1f7bc38715",
   "metadata": {},
   "outputs": [],
   "source": [
    "changed = Symbol('changed', BOOL)\n",
    "tamanho = Symbol('tam', INT)\n",
    "variable = [changed, tamanho]\n",
    "\n",
    "pre = Iff(changed,Bool(True))\n",
    "pos = \n",
    "cond = Iff(changed,Bool(True))\n",
    "trans = prime(seq)\n",
    "\n",
    "\n",
    "W = SAU(variables,pre,pos,cond,trans)"
   ]
  }
 ],
 "metadata": {
  "kernelspec": {
   "display_name": "Python 3 (ipykernel)",
   "language": "python",
   "name": "python3"
  },
  "language_info": {
   "codemirror_mode": {
    "name": "ipython",
    "version": 3
   },
   "file_extension": ".py",
   "mimetype": "text/x-python",
   "name": "python",
   "nbconvert_exporter": "python",
   "pygments_lexer": "ipython3",
   "version": "3.10.6"
  }
 },
 "nbformat": 4,
 "nbformat_minor": 5
}

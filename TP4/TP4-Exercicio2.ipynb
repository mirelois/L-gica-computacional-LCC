{
 "cells": [
  {
   "cell_type": "markdown",
   "id": "67d89d85-8eef-49ba-8d93-fd20d7aeb0c6",
   "metadata": {},
   "source": [
    "# TP4\n",
    "## Grupo 15\n",
    "\n",
    "Carlos Eduardo Da Silva Machado A96936\n",
    "\n",
    "Gonçalo Manuel Maia de Sousa A97485"
   ]
  },
  {
   "cell_type": "markdown",
   "id": "4cba48a5-f447-431b-9d3b-98572bccd4e1",
   "metadata": {},
   "source": [
    "## Exercício 4.2"
   ]
  },
  {
   "cell_type": "markdown",
   "id": "52b3237f-7c6d-458c-a4cb-8ec8747bbc52",
   "metadata": {},
   "source": [
    "### Descrição do Problema"
   ]
  },
  {
   "cell_type": "markdown",
   "id": "4fc1e622-e898-4229-82ee-1db759d0b239",
   "metadata": {},
   "source": [
    "\n",
    "\n",
    "seq = [-2,1,2,-1,4,-4,-3,3]\n",
    "\n",
    "changed = True\n",
    "\n",
    "while changed:\n",
    "\n",
    "    changed = False\n",
    "    \n",
    "    for i in range(len(seq) - 1):\n",
    "    \n",
    "        if seq[i] > seq[i+1]:\n",
    "        \n",
    "            seq[i], seq[i+1] = seq[i+1], seq[i]\n",
    "            \n",
    "            changed = True\n",
    "            \n",
    "pass  "
   ]
  },
  {
   "cell_type": "markdown",
   "id": "281c5049-b204-42a5-9300-7df73a3cd7e5",
   "metadata": {},
   "source": [
    "### Abordagem do Problema"
   ]
  },
  {
   "cell_type": "markdown",
   "id": "1c008bdb-01a2-4d72-8251-87e1ee32fc48",
   "metadata": {},
   "source": []
  },
  {
   "cell_type": "markdown",
   "id": "71666dd2-7cd8-4f87-81f2-c9fa0f2dca6b",
   "metadata": {},
   "source": [
    "## Código Python"
   ]
  },
  {
   "cell_type": "code",
   "execution_count": 14,
   "id": "53f241e9-2e89-4976-97a5-86d616713653",
   "metadata": {},
   "outputs": [],
   "source": [
    "from pysmt.shortcuts import *\n",
    "from pysmt.typing import *\n",
    "\n",
    "def prove(f):\n",
    "    with Solver(name=\"z3\") as s:\n",
    "        s.add_assertion(Not(f))\n",
    "        if s.solve():\n",
    "            print(\"Failed to prove.\")\n",
    "        else:\n",
    "            print(\"Proved.\")"
   ]
  },
  {
   "cell_type": "markdown",
   "id": "81bbebc1-ff6e-4d30-9f22-837c6baf46a8",
   "metadata": {},
   "source": [
    "forall i . 0 <= i < tamanho -1 -> (assume seq[i]>seq[i+1]; seq[i] = seq[i] + seq[i+1]; seq[i+1] = seq[i] - seq[i+1]; seq[i] = seq[i] - seq[i+1];);"
   ]
  },
  {
   "cell_type": "markdown",
   "id": "e2d9a945-bf92-4377-b915-5b8de7807558",
   "metadata": {},
   "source": [
    "Pre condição: Variável changed a True\n",
    "Pos condição: Array ordenado"
   ]
  },
  {
   "cell_type": "code",
   "execution_count": 15,
   "id": "5a97521e-941c-4a5b-bead-118c77edf33f",
   "metadata": {},
   "outputs": [],
   "source": [
    "# Auxiliares\n",
    "def prime(v):\n",
    "    return Symbol(\"next(%s)\" % v.symbol_name(), v.symbol_type())\n",
    "def fresh(v):\n",
    "    return FreshSymbol(typename=v.symbol_type(),template=v.symbol_name()+\"_%d\")\n",
    "\n",
    "# A classe \"Sigle Assignment Unfold\"\n",
    "class SAU(object):\n",
    "    \"\"\"Trivial representation of a while cycle and its unfolding.\"\"\"\n",
    "    def __init__(self, variables, pre , pos, control, trans, sname=\"z3\"):\n",
    "              \n",
    "        self.variables = variables       # variables   \n",
    "        self.pre = pre                   # pre-condition as a predicate in \"variables\"\n",
    "        self.pos = pos                   # pos-condition as a predicate in \"variables\"\n",
    "        self.control = control           # cycle control as a predicate in \"variables\"\n",
    "        self.trans = trans               # cycle body as a binary transition relation \n",
    "                                         # in \"variables\" and \"prime variables\"\n",
    "        \n",
    "        self.prime_variables = [prime(v) for v in self.variables]\n",
    "        self.frames = [And([Not(control),pos])]  \n",
    "                 # inializa com uma só frame: a da terminação do ciclo\n",
    "        \n",
    "        self.solver = Solver(name=sname)\n",
    "\n",
    "    def new_frame(self):        \n",
    "        freshs = [fresh(v) for v in self.variables]    \n",
    "        b = self.control\n",
    "        S = self.trans.substitute(dict(zip(self.prime_variables,freshs)))\n",
    "        W = self.frames[-1].substitute(dict(zip(self.variables,freshs)))\n",
    "        \n",
    "        self.frames.append(And([b , ForAll(freshs, Implies(S, W))]))\n",
    "        \n",
    "    def unfold(self,bound=0):\n",
    "        n = 0\n",
    "        while True:\n",
    "            if n > bound:\n",
    "                print(\"falha: número de tentativas ultrapassa o limite %d \"%bound)\n",
    "                break\n",
    "            \n",
    "            f = Or(self.frames)\n",
    "            if self.solver.solve([self.pre,Not(f)]):  \n",
    "                self.new_frame()\n",
    "                n += 1\n",
    "            else:\n",
    "                print(\"sucesso na tentativa %d \"%n)\n",
    "                break   "
   ]
  },
  {
   "cell_type": "code",
   "execution_count": null,
   "id": "fe9f12af",
   "metadata": {},
   "outputs": [],
   "source": []
  },
  {
   "cell_type": "code",
   "execution_count": 16,
   "id": "6562c401",
   "metadata": {},
   "outputs": [],
   "source": [
    "def trans(seq, seqlinha, tamanho, changed):\n",
    "    bubble_up = Symbol('bubble_up', FunctionType(INT,[INT]))\n",
    "    n = Symbol('n',INT)\n",
    "\n",
    "    ax1 = Equals(bubble_up(Int(0)), Select(seq, Int(0)))\n",
    "    ax2 = ForAll([n], Implies(n < tamanho, Ite(Select(seq, n) > bubble_up(n-1), Select(seq, n), bubble_up(n-1))))\n",
    "    ax3 = Equals(bubble_up(tamanho), Ite(Select(seq, tamanho) > Select(seq, tamanho-Int(1)), Select(seq, tamanho), Select(seq, tamanho-Int(1))))\n",
    "\n",
    "    function = And(ax1,ax2,ax3)\n",
    "\n",
    "    assingment = Equals(seqlinha, Ite(Select(seq,Int(0)) < function, function, Select(seq,Int(0)))) \n",
    "\n",
    "    changed = Implies(Equals(seq, seqlinha), Equals(changed, Bool(True)))\n",
    "                \n",
    "    return And(assingment,changed) \n",
    "     \n",
    "    \n",
    "    "
   ]
  },
  {
   "cell_type": "code",
   "execution_count": 17,
   "id": "7700c454-db4c-455d-b442-9e1f7bc38715",
   "metadata": {},
   "outputs": [
    {
     "ename": "PysmtTypeError",
     "evalue": "The formula '((n < tam) -> ((bubble_up((... - ...)) < seq[n]) ? seq[n] : bubble_up((n - 1))))' is not well-formed",
     "output_type": "error",
     "traceback": [
      "\u001b[0;31m---------------------------------------------------------------------------\u001b[0m",
      "\u001b[0;31mPysmtTypeError\u001b[0m                            Traceback (most recent call last)",
      "Cell \u001b[0;32mIn [17], line 9\u001b[0m\n\u001b[1;32m      7\u001b[0m pre \u001b[39m=\u001b[39m Iff(changed,Bool(\u001b[39mTrue\u001b[39;00m))\n\u001b[1;32m      8\u001b[0m cond \u001b[39m=\u001b[39m Iff(changed,Bool(\u001b[39mTrue\u001b[39;00m))\n\u001b[0;32m----> 9\u001b[0m trans \u001b[39m=\u001b[39m trans(seq, prime(seq), tamanho, changed)\n\u001b[1;32m     12\u001b[0m W \u001b[39m=\u001b[39m SAU(variables,pre,pos,cond,trans)\n",
      "Cell \u001b[0;32mIn [16], line 6\u001b[0m, in \u001b[0;36mtrans\u001b[0;34m(seq, seqlinha, tamanho, changed)\u001b[0m\n\u001b[1;32m      3\u001b[0m n \u001b[39m=\u001b[39m Symbol(\u001b[39m'\u001b[39m\u001b[39mn\u001b[39m\u001b[39m'\u001b[39m,INT)\n\u001b[1;32m      5\u001b[0m ax1 \u001b[39m=\u001b[39m Equals(bubble_up(Int(\u001b[39m0\u001b[39m)), Select(seq, Int(\u001b[39m0\u001b[39m)))\n\u001b[0;32m----> 6\u001b[0m ax2 \u001b[39m=\u001b[39m ForAll([n], Implies(n \u001b[39m<\u001b[39;49m tamanho, Ite(Select(seq, n) \u001b[39m>\u001b[39;49m bubble_up(n\u001b[39m-\u001b[39;49m\u001b[39m1\u001b[39;49m), Select(seq, n), bubble_up(n\u001b[39m-\u001b[39;49m\u001b[39m1\u001b[39;49m))))\n\u001b[1;32m      7\u001b[0m ax3 \u001b[39m=\u001b[39m Equals(bubble_up(tamanho), Ite(Select(seq, tamanho) \u001b[39m>\u001b[39m Select(seq, tamanho\u001b[39m-\u001b[39mInt(\u001b[39m1\u001b[39m)), Select(seq, tamanho), Select(seq, tamanho\u001b[39m-\u001b[39mInt(\u001b[39m1\u001b[39m))))\n\u001b[1;32m      9\u001b[0m function \u001b[39m=\u001b[39m And(ax1,ax2,ax3)\n",
      "File \u001b[0;32m~/anaconda3/envs/logica/lib/python3.10/site-packages/pysmt/shortcuts.py:174\u001b[0m, in \u001b[0;36mImplies\u001b[0;34m(left, right)\u001b[0m\n\u001b[1;32m    172\u001b[0m \u001b[39mdef\u001b[39;00m \u001b[39mImplies\u001b[39m(left, right):\n\u001b[1;32m    173\u001b[0m     \u001b[39mr\u001b[39m\u001b[39m\"\"\".. math:: l \\rightarrow r\"\"\"\u001b[39;00m\n\u001b[0;32m--> 174\u001b[0m     \u001b[39mreturn\u001b[39;00m get_env()\u001b[39m.\u001b[39;49mformula_manager\u001b[39m.\u001b[39;49mImplies(left, right)\n",
      "File \u001b[0;32m~/anaconda3/envs/logica/lib/python3.10/site-packages/pysmt/formula.py:206\u001b[0m, in \u001b[0;36mFormulaManager.Implies\u001b[0;34m(self, left, right)\u001b[0m\n\u001b[1;32m    200\u001b[0m \u001b[39mdef\u001b[39;00m \u001b[39mImplies\u001b[39m(\u001b[39mself\u001b[39m, left, right):\n\u001b[1;32m    201\u001b[0m     \u001b[39m\"\"\" Creates an expression of the form:\u001b[39;00m\n\u001b[1;32m    202\u001b[0m \u001b[39m        left -> right\u001b[39;00m\n\u001b[1;32m    203\u001b[0m \n\u001b[1;32m    204\u001b[0m \u001b[39m    Restriction: Left and Right must be of boolean type\u001b[39;00m\n\u001b[1;32m    205\u001b[0m \u001b[39m    \"\"\"\u001b[39;00m\n\u001b[0;32m--> 206\u001b[0m     \u001b[39mreturn\u001b[39;00m \u001b[39mself\u001b[39;49m\u001b[39m.\u001b[39;49mcreate_node(node_type\u001b[39m=\u001b[39;49mop\u001b[39m.\u001b[39;49mIMPLIES, args\u001b[39m=\u001b[39;49m(left, right))\n",
      "File \u001b[0;32m~/anaconda3/envs/logica/lib/python3.10/site-packages/pysmt/formula.py:96\u001b[0m, in \u001b[0;36mFormulaManager.create_node\u001b[0;34m(self, node_type, args, payload)\u001b[0m\n\u001b[1;32m     94\u001b[0m \u001b[39mself\u001b[39m\u001b[39m.\u001b[39m_next_free_id \u001b[39m+\u001b[39m\u001b[39m=\u001b[39m \u001b[39m1\u001b[39m\n\u001b[1;32m     95\u001b[0m \u001b[39mself\u001b[39m\u001b[39m.\u001b[39mformulae[content] \u001b[39m=\u001b[39m n\n\u001b[0;32m---> 96\u001b[0m \u001b[39mself\u001b[39;49m\u001b[39m.\u001b[39;49m_do_type_check(n)\n\u001b[1;32m     97\u001b[0m \u001b[39mreturn\u001b[39;00m n\n",
      "File \u001b[0;32m~/anaconda3/envs/logica/lib/python3.10/site-packages/pysmt/formula.py:81\u001b[0m, in \u001b[0;36mFormulaManager._do_type_check_real\u001b[0;34m(self, formula)\u001b[0m\n\u001b[1;32m     80\u001b[0m \u001b[39mdef\u001b[39;00m \u001b[39m_do_type_check_real\u001b[39m(\u001b[39mself\u001b[39m, formula):\n\u001b[0;32m---> 81\u001b[0m     \u001b[39mself\u001b[39;49m\u001b[39m.\u001b[39;49mget_type(formula)\n",
      "File \u001b[0;32m~/anaconda3/envs/logica/lib/python3.10/site-packages/pysmt/type_checker.py:45\u001b[0m, in \u001b[0;36mSimpleTypeChecker.get_type\u001b[0;34m(self, formula)\u001b[0m\n\u001b[1;32m     43\u001b[0m res \u001b[39m=\u001b[39m \u001b[39mself\u001b[39m\u001b[39m.\u001b[39mwalk(formula)\n\u001b[1;32m     44\u001b[0m \u001b[39mif\u001b[39;00m \u001b[39mnot\u001b[39;00m \u001b[39mself\u001b[39m\u001b[39m.\u001b[39mbe_nice \u001b[39mand\u001b[39;00m res \u001b[39mis\u001b[39;00m \u001b[39mNone\u001b[39;00m:\n\u001b[0;32m---> 45\u001b[0m     \u001b[39mraise\u001b[39;00m PysmtTypeError(\u001b[39m\"\u001b[39m\u001b[39mThe formula \u001b[39m\u001b[39m'\u001b[39m\u001b[39m%s\u001b[39;00m\u001b[39m'\u001b[39m\u001b[39m is not well-formed\u001b[39m\u001b[39m\"\u001b[39m \\\n\u001b[1;32m     46\u001b[0m                          \u001b[39m%\u001b[39m \u001b[39mstr\u001b[39m(formula))\n\u001b[1;32m     47\u001b[0m \u001b[39mreturn\u001b[39;00m res\n",
      "\u001b[0;31mPysmtTypeError\u001b[0m: The formula '((n < tam) -> ((bubble_up((... - ...)) < seq[n]) ? seq[n] : bubble_up((n - 1))))' is not well-formed"
     ]
    }
   ],
   "source": [
    "changed = Symbol('changed', BOOL)\n",
    "tamanho = Symbol('tam', INT)\n",
    "variables = [changed, tamanho]\n",
    "\n",
    "seq = Symbol('seq', ArrayType(INT,INT))\n",
    "\n",
    "pre = Iff(changed,Bool(True))\n",
    "cond = Iff(changed,Bool(True))\n",
    "trans = trans(seq, prime(seq), tamanho, changed)\n",
    "\n",
    "\n",
    "W = SAU(variables,pre,pos,cond,trans)"
   ]
  }
 ],
 "metadata": {
  "kernelspec": {
   "display_name": "logica",
   "language": "python",
   "name": "python3"
  },
  "language_info": {
   "codemirror_mode": {
    "name": "ipython",
    "version": 3
   },
   "file_extension": ".py",
   "mimetype": "text/x-python",
   "name": "python",
   "nbconvert_exporter": "python",
   "pygments_lexer": "ipython3",
   "version": "3.10.6"
  },
  "vscode": {
   "interpreter": {
    "hash": "e6e0711b34581e9d3d394d0e05c7a638721b909a5489b142ff17259bed82d5d5"
   }
  }
 },
 "nbformat": 4,
 "nbformat_minor": 5
}

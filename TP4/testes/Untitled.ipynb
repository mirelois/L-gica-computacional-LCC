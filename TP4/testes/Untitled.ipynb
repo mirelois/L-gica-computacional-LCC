{
 "cells": [
  {
   "cell_type": "code",
   "execution_count": 1,
   "id": "f5c68346-7b62-4623-8dbf-89206cee69d0",
   "metadata": {},
   "outputs": [],
   "source": [
    "from pysmt.shortcuts import *\n",
    "from pysmt.typing import *"
   ]
  },
  {
   "cell_type": "code",
   "execution_count": 2,
   "id": "50e071a7-4cd3-4c17-9367-8c4d17230f30",
   "metadata": {},
   "outputs": [],
   "source": [
    "Start = Int(-1)\n",
    "Free = Int(0)\n",
    "Stopping = Int(1)\n",
    "Blocked = Int(2)\n",
    "Stopped = Int(3)\n",
    "\n",
    "\n",
    "\n",
    "\n",
    "Tau = 0.3\n",
    "V0 = 20\n",
    "maxdif = 2\n",
    "c = 0.2\n",
    "c2 = 8\n",
    "a = 1\n",
    "a2 = 0.1\n",
    "P = 2000"
   ]
  },
  {
   "cell_type": "code",
   "execution_count": 3,
   "id": "ff47b453-bfde-4fdd-bdb8-e246a624990f",
   "metadata": {},
   "outputs": [],
   "source": [
    "def declare(i):\n",
    "    s = {}\n",
    "    s['m'] = Symbol('m'+str(i),INT)\n",
    "    s['t'] = Symbol('t'+str(i),REAL)\n",
    "    s['v'] = Symbol('v'+str(i),REAL)\n",
    "    s['V'] = Symbol('V'+str(i),REAL)\n",
    "    s['maxTemp'] = Symbol('maxTemp' + str(i),REAL)\n",
    "    \n",
    "    return s"
   ]
  },
  {
   "cell_type": "code",
   "execution_count": 4,
   "id": "98b3c359-0deb-4dab-9647-ed079634e074",
   "metadata": {},
   "outputs": [],
   "source": [
    "def init(s):\n",
    "    return And(Equals(s['m'], Start), Equals(s['t'], Real(0)), Equals(s['v'], Real(V0)), Equals(s['V'], Real(V0)), Equals(s['maxTemp'],Real(Tau)))"
   ]
  },
  {
   "cell_type": "code",
   "execution_count": 5,
   "id": "f9a866f6-5d09-40ec-8901-b39a9640090a",
   "metadata": {},
   "outputs": [],
   "source": [
    "def trans(s,p):\n",
    "    # untimed\n",
    "    \n",
    "    StartToFree = And(Equals(s['m'],Start),Equals(p['m'],Free),Equals(s['maxTemp'],p['maxTemp']), Equals(p['t'], s['t']), Equals(p['v'], s['v']),\n",
    "                     Equals(p['V'], s['V']))\n",
    "    \n",
    "    FreeToStopping = And(Equals(s['m'],Free),Equals(p['m'],Stopping),s['t'] > s['maxTemp'],Equals(s['maxTemp'],p['maxTemp']), Equals(p['t'], s['t']), Equals(p['v'], s['v']),\n",
    "                     Equals(p['V'], s['V']))\n",
    "    \n",
    "    StoppingToBlocked = And(Equals(s['m'],Stopping),Equals(p['m'],Blocked),Equals(p['maxTemp'],s['t'] + Real(Tau)), Equals(p['t'], s['t']), Equals(p['v'], s['v']),\n",
    "                     Equals(p['V'], s['V']), s['V'] - s['v'] < Real(maxdif))\n",
    "    \n",
    "    BlockedToFree = And(Equals(s['m'],Blocked),Equals(p['m'],Free),s['t'] > s['maxTemp'],Equals(p['maxTemp'],s['t'] + Real(Tau)), Equals(p['t'], s['t']), Equals(p['v'], s['v']),\n",
    "                     Equals(p['V'], s['V']))\n",
    "    \n",
    "    StoppingToStopped = And(Equals(s['m'],Stopping),Equals(p['m'],Stopped),s['v'] < Real(maxdif),s['V'] < Real(maxdif),Equals(s['maxTemp'],p['maxTemp']), Equals(p['t'], s['t']), Equals(p['v'], s['v']),\n",
    "                     Equals(p['V'], s['V']))\n",
    "    \n",
    "    # timed\n",
    "    \n",
    "    FreeFree = And(Equals(s['m'],Free), Equals(p['m'],Free),\n",
    "                  s['t'] <= s['maxTemp'],\n",
    "                  s['v'] >= Real(0), s['V'] >= Real(0), p['v'] >= Real(0), p['V'] >= Real(0),\n",
    "                  Equals(s['maxTemp'],p['maxTemp']),\n",
    "                  Equals(p['t'],s['t'] + Real(0.1)),\n",
    "                  Equals(p['V'], s['V'] + (p['t'] - s['t']) * (Real(-1) * Real(c) * (p['V'] - s['V']))),\n",
    "                  Equals(p['v'], s['v'] + (p['t'] - s['t']) * (Real(-1) * Real(a) * Real(P) + (Real(-1) * Real(c) * (p['V'] - s['V']))))\n",
    "                  )\n",
    "    \n",
    "    BlockedBlocked = And(Equals(s['m'],Blocked), Equals(p['m'],Blocked),\n",
    "                  s['t'] <= s['maxTemp'],\n",
    "                  Equals(s['maxTemp'],p['maxTemp']),\n",
    "                  p['t'] > s['t'],\n",
    "                  Equals(p['V'], s['V'] + (p['t'] - s['t']) * (Real(-a2) * Real(P))),\n",
    "                  Equals(p['v'], s['v'] + (p['t'] - s['t']) * (Real(-a2) * Real(P)))\n",
    "                  )\n",
    "    \n",
    "    StoppingStopping = And(Equals(s['m'],Stopping), Equals(p['m'],Stopping),\n",
    "                  Equals(s['maxTemp'],p['maxTemp']),\n",
    "                  p['t'] > s['t'],\n",
    "                  Equals(p['V'], s['V'] + (p['t'] - s['t']) * (Real(-1) * Real(c2) * (p['V'] - s['V']))),\n",
    "                  Equals(p['v'], s['v'] + (p['t'] - s['t']) * (Real(-a) * Real(P) + (Real(-1) * Real(c2) * (p['V'] - s['V']))))\n",
    "                  )\n",
    "    \n",
    "    return Or(StartToFree, FreeToStopping, StoppingToBlocked, BlockedToFree, StoppingToStopped, FreeFree, BlockedBlocked, StoppingStopping)"
   ]
  },
  {
   "cell_type": "code",
   "execution_count": 6,
   "id": "f9047c9b-f66a-47af-bd0e-787ffa8a7601",
   "metadata": {},
   "outputs": [],
   "source": [
    "def gera_traco(declare,init,trans,k):\n",
    "\n",
    "    with Solver(name=\"z3\") as s:\n",
    "    \n",
    "        # completar\n",
    "    \n",
    "        # cria k copias do estado\n",
    "        trace = [declare(i) for i in range(k)]\n",
    "    \n",
    "        # criar o traço\n",
    "        s.add_assertion(init(trace[0]))\n",
    "        for i in range(k-1):\n",
    "            s.add_assertion(trans(trace[i], trace[i+1]))\n",
    "        \n",
    "        if s.solve():\n",
    "            for i in range(k):\n",
    "                print()\n",
    "                print(\"State:\",i)\n",
    "                m = s.get_py_value(trace[i]['m'])\n",
    "                if m==3:\n",
    "                    print(\"Stopped\")\n",
    "                elif m==2:\n",
    "                    print(\"Blocked\")\n",
    "                elif m==1:\n",
    "                    print(\"Stopping\")\n",
    "                elif m==0:\n",
    "                    print(\"Free\")\n",
    "                else:\n",
    "                    print(\"Start\")\n",
    "                    \n",
    "                print(\"t =\", float(s.get_py_value(trace[i]['t'])))\n",
    "                print(\"maxTemp =\", float(s.get_py_value(trace[i]['maxTemp'])))\n",
    "                print(\"v =\", float(s.get_py_value(trace[i]['v'])))\n",
    "                print(\"V =\", float(s.get_py_value(trace[i]['V'])))\n",
    "        else:\n",
    "            print(\"Não foi possível resolver\")\n",
    "                "
   ]
  },
  {
   "cell_type": "code",
   "execution_count": 7,
   "id": "8db2836d-40b7-426f-af9c-ebba47c161c0",
   "metadata": {},
   "outputs": [
    {
     "name": "stdout",
     "output_type": "stream",
     "text": [
      "Não foi possível resolver\n"
     ]
    }
   ],
   "source": [
    "gera_traco(declare,init,trans,2)"
   ]
  },
  {
   "cell_type": "code",
   "execution_count": null,
   "id": "23339a3c-d9ee-4ce0-800c-045c8080ef9a",
   "metadata": {},
   "outputs": [],
   "source": []
  }
 ],
 "metadata": {
  "kernelspec": {
   "display_name": "Python 3 (ipykernel)",
   "language": "python",
   "name": "python3"
  },
  "language_info": {
   "codemirror_mode": {
    "name": "ipython",
    "version": 3
   },
   "file_extension": ".py",
   "mimetype": "text/x-python",
   "name": "python",
   "nbconvert_exporter": "python",
   "pygments_lexer": "ipython3",
   "version": "3.10.6"
  }
 },
 "nbformat": 4,
 "nbformat_minor": 5
}

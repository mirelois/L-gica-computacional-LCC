{
 "cells": [
  {
   "cell_type": "markdown",
   "id": "47ab9602-6deb-463a-8b26-c5bf943b98b3",
   "metadata": {},
   "source": [
    "# TP4\n",
    "## Grupo 15\n",
    "\n",
    "Carlos Eduardo Da Silva Machado A96936\n",
    "\n",
    "Gonçalo Manuel Maia de Sousa A97485"
   ]
  },
  {
   "cell_type": "markdown",
   "id": "fa98919b-6e13-4175-9f03-ebd97cf10f5b",
   "metadata": {},
   "source": [
    "## Exercício 4.1"
   ]
  },
  {
   "cell_type": "markdown",
   "id": "153c925d-4ea2-4e7c-97d8-12130695d198",
   "metadata": {},
   "source": [
    "### Descrição do Problema"
   ]
  },
  {
   "cell_type": "markdown",
   "id": "617d5a45-4cf7-4331-80b2-ad70484a62d5",
   "metadata": {},
   "source": [
    "No contexto do sistema de travagem ABS (“Anti-Lock Breaking System”), pretende-se construir um autómato híbrido que descreva o sistema e que  possa ser usado para verificar as suas propriedades dinâmicas.\n",
    "\n",
    "    \n",
    "1. A componente discreta do autómato contém os modos:  `Start`,  `Free`,  `Stopping`, `Blocked`, e `Stopped`. No modo `Free`  não existe qualquer força de travagem; no modo `Stopping` aplica-se a força de travagem alta; no modo `Blocked` as rodas estão bloqueadas em relação ao corpo mas o veículo  desloca-se; no modo `Stopped` o veículo está imobilizado.\n",
    "2. A componente contínua  do autómato usa variáveis contínuas $\\,V,v\\,$ para descrever a  `velocidade do corpo`  do veículo em relação ao solo e a `velocidade linear das rodas` também em relação ao solo. \n",
    "        Assume-se que o sistema de travagem exerce uma força de atrito  nos travões proporcional à diferença das duas velocidades.  A dinâmica contínua está descrita  abaixo no bloco Equaçoes de Fluxo.\n",
    "3. Os “switchs” (“jumps”) são a componente de projeto deste trabalho; cabe ao aluno definir quais devem ser estas  condições de modo a que o sistema tenha um comportamento desejável: imobilize-se depressa e não “derrape” muito.\n",
    "4. É imprescindível evitar que o sistema tenha “trajetórias de Zenão”. Isto é, sequências  infinitas de transições  entre dois modos em intervalos de tempo  que tendem para zero mas nunca alcançam zero."
   ]
  },
  {
   "cell_type": "markdown",
   "id": "5db30049-8d29-4fc0-88ab-95794ffc7f13",
   "metadata": {},
   "source": [
    "### Abordagem do Problema"
   ]
  },
  {
   "cell_type": "markdown",
   "id": "427b6114-1d59-461d-89fd-60a580ac7e7a",
   "metadata": {},
   "source": [
    "1. Componentes Contínuas:\n",
    "- velocidade linear das rodas\n",
    "- velocidade do corpo (veículo)\n",
    "- tempo\n",
    "- timer\n",
    "\n",
    "2. Componentes Discretas:\n",
    "- Modo\n",
    "\n",
    "3. Constantes:\n",
    "- força de atrito do solo no modo block (baixa) e força de atrito nos restantes modos (alta)\n",
    "- constante de proporcionalidade no modo stopping (alta) e nos restantes (baixa)\n",
    "- velocidade inicial\n",
    "- peso\n",
    "\n",
    "\n",
    "\n",
    "\n",
    "eventos (aka nodos): Start, Free, Stopping, Blocked e Stopped\n",
    "- Start -> Inicio\n",
    "- Free -> A força de travagem não é exercida sobre o veículo\n",
    "- Stopping -> É aplicada uma força de travagem alta sobre o veículo\n",
    "- Blocked -> As rodas estão travadas, porém o veículo continua a mover-se\n",
    "- Stopped -> O veículo pára\n",
    "\n",
    "Jumps (ter em atenção o comportamento desejável: imobilize-se depressa e não “derrape” muito):\n",
    "- Start -> Free (Inicia para um movimento livre)\n",
    "- Stopping -> Blocked (O véiculo começa a derrapar)\n",
    "- Blocked -> Free\n",
    "- Stopping -> blocked\n",
    "\n"
   ]
  },
  {
   "cell_type": "markdown",
   "id": "14f1e207-ce07-45d0-b587-bfa0e85f6bbd",
   "metadata": {},
   "source": [
    "## Código Python"
   ]
  },
  {
   "cell_type": "markdown",
   "id": "938aa76f-b7c2-4197-b59b-90280dc2aa9d",
   "metadata": {},
   "source": [
    "conda install -c alubbock pygraphviz"
   ]
  },
  {
   "cell_type": "markdown",
   "id": "5295a40b-44f1-49f1-a956-cb80693593da",
   "metadata": {},
   "source": []
  },
  {
   "cell_type": "code",
   "execution_count": 1,
   "id": "ac22322d-f63e-436e-9f85-5e07aa2ab62a",
   "metadata": {},
   "outputs": [],
   "source": [
    "from pysmt.shortcuts import *\n",
    "from pysmt.typing import *\n",
    "import matplotlib.pyplot as matplot\n",
    "\n",
    "Start = Int(-1)\n",
    "Free = Int(0)\n",
    "Stopping = Int(1)\n",
    "Blocked = Int(2)\n",
    "Stopped = Int(3)\n",
    "\n",
    "V0 = 25\n",
    "aBlocked = 0.1\n",
    "a = 0.01\n",
    "cStopping = 8\n",
    "c = 0.3\n",
    "Tau = 0.3\n",
    "P = 1000\n",
    "dif = 5 # intervalo entre velocidade do corpo e das rodas\n",
    "delta = 0.01 # intervalo entre os tempos"
   ]
  },
  {
   "cell_type": "code",
   "execution_count": 2,
   "id": "d7567858-9d7c-4a67-990f-51a9ced68753",
   "metadata": {},
   "outputs": [],
   "source": [
    "def simulation(a, b, c1, c2, dt, dif, P, tau, time, v0):\n",
    "    V = v0\n",
    "    v = v0\n",
    "    t = 0\n",
    "    V_ = [V]\n",
    "    v_ = [v]\n",
    "    T = [t]\n",
    "    timer = 0\n",
    "    m = Free\n",
    "    \n",
    "    while(t<time and (V>0 or v>0)):\n",
    "        \n",
    "        if m == Stopping and (V - v < dif )  :\n",
    "            m = Blocked\n",
    "        \n",
    "        elif timer >= tau and m == Blocked:\n",
    "            m = Free\n",
    "            timer = 0\n",
    "        \n",
    "        elif timer >= tau and m == Free:\n",
    "            m = Stopping\n",
    "            timer = 0 \n",
    "        \n",
    "        \n",
    "        if m == Free:\n",
    "            V, v = V + (-c2*(V-v))*dt, v + (-b*P + c2*(V-v))*dt\n",
    "        \n",
    "        elif m == Stopping:\n",
    "            V, v = V + (-c1*(V-v))*dt, v + (-b*P + c1*(V-v))*dt\n",
    "        \n",
    "        else:\n",
    "            V, v = v + (-b*P)*dt, v + (-b*P)*dt\n",
    "    \n",
    "        \n",
    "        t += dt\n",
    "        timer += dt\n",
    "        V_.append(V)\n",
    "        v_.append(v)\n",
    "        T.append(t)\n",
    "        \n",
    "    \n",
    "    matplot.plot(T,V_,T,v_)\n",
    "    matplot.title(\"Gráfico com a evolução das constantes\")\n",
    "    matplot.xlabel(\"Tempo (s)\")\n",
    "    matplot.ylabel(\"Velocidade (m/s)\")\n",
    "    matplot.legend([\"Velocidade do corpo\", \"Velocidade linear das rodas\"], loc =\"best\")\n",
    "    matplot.grid(True)\n",
    "\n"
   ]
  },
  {
   "cell_type": "code",
   "execution_count": 3,
   "id": "54768f6d-2ea9-4b99-9715-06661fd3a0b9",
   "metadata": {},
   "outputs": [
    {
     "data": {
      "image/png": "[encoded data removed]",
      "text/plain": [
       "<Figure size 640x480 with 1 Axes>"
      ]
     },
     "metadata": {},
     "output_type": "display_data"
    }
   ],
   "source": [
    "maxtime = 20\n",
    "timediference = 0.1\n",
    "simulation(a,aBlocked, c, cStopping, timediference, dif, P, Tau, maxtime, V0)"
   ]
  },
  {
   "cell_type": "markdown",
   "id": "a07c9eb9-99f5-4f09-b28c-92fd441d835a",
   "metadata": {},
   "source": []
  },
  {
   "cell_type": "code",
   "execution_count": 4,
   "id": "ca1b4d66-9587-4661-9102-4446c188fe81",
   "metadata": {},
   "outputs": [],
   "source": [
    "def declare(i):\n",
    "    s = {}\n",
    "    # Discretas\n",
    "    s['m'] = Symbol('m'+str(i),INT) # Modo\n",
    "    # Contínuas\n",
    "    s['t'] = Symbol('t'+str(i),REAL) # Tempo\n",
    "    s['V'] = Symbol('V'+str(i),REAL) # Velocidade do corpo\n",
    "    s['v'] = Symbol('v'+str(i),REAL) # velocidade linear das rodas\n",
    "    s['timer'] = Symbol('timer'+str(i),REAL) # Timer\n",
    "    return s"
   ]
  },
  {
   "cell_type": "code",
   "execution_count": 5,
   "id": "5dbb45e7-ab35-4f4e-852e-b2f8c2a527cd",
   "metadata": {},
   "outputs": [],
   "source": [
    "def init(s):\n",
    "    return And(Equals(s['m'], Start),Equals(s['t'],Real(0)), Equals(s['V'], Real(V0)), Equals(s['v'], Real(V0)), Equals(s['timer'],Real(0)))"
   ]
  },
  {
   "cell_type": "markdown",
   "id": "b032e135-a388-429f-b612-1ceba5f7c8e2",
   "metadata": {},
   "source": []
  },
  {
   "cell_type": "code",
   "execution_count": 8,
   "id": "8184bf12-e1d9-40cb-ae1b-673387b5be61",
   "metadata": {},
   "outputs": [],
   "source": [
    "def trans(s,p):\n",
    "    # untimed\n",
    "    StartToFree = And(Equals(s['m'],Start), Equals(p['m'],Free),Equals(s['t'],p['t']), Equals(s['V'],p['V']), Equals(s['v'],p['v']),\n",
    "                     Equals(p['timer'],Real(0)))\n",
    "    \n",
    "    FreeToStopping = And(Equals(s['m'],Free), Equals(p['m'],Stopping),Equals(s['t'],p['t']), Equals(s['V'],p['V']), Equals(s['v'],p['v']),\n",
    "                     Equals(p['timer'],Real(0)), Equals(s['timer'],Real(Tau)))\n",
    "    \n",
    "    StoppingToBlocked = And(Equals(s['m'],Start), Equals(p['m'],Free),Equals(s['t'],p['t']), Equals(s['V'],p['V']), Equals(s['v'],p['v']),\n",
    "                         Equals(p['timer'],Real(0)), Equals(s['V'],s['v']))\n",
    "    \n",
    "    BlockedToFree = And(Equals(s['m'],Blocked), Equals(p['m'],Free),Equals(s['t'],p['t']), Equals(s['V'],p['V']), Equals(s['v'],p['v']),\n",
    "                     Equals(p['timer'],Real(0)), Equals(s['timer'],Real(Tau)))\n",
    "    \n",
    "    StoppingToStopped = And(Equals(s['m'],Stopping), Equals(p['m'],Stopped),Equals(s['t'],p['t']), Equals(s['V'],p['V']), Equals(s['v'],p['v']),\n",
    "                     Equals(p['timer'],Real(0)), Equals(s['v'],Real(0)), Equals(s['V'],Real(0)))\n",
    "\n",
    "    # timed\n",
    "    \n",
    "    FreeFree = And(Equals(s['m'],Free),Equals(p['m'],Free),\n",
    "                  p['t'] > s['t'],\n",
    "                  s['v']>=0,p['v']>=0,s['V']>=0,p['v']>=0,\n",
    "                  s['v']>p['v'], s['V']>p['V'],\n",
    "                  Equals(p['timer'], s['timer'] + (p['t'] - s['t'])),\n",
    "                  p['v'] <= s['v'] + (Real(c) * Real(dif) - Real(a)*Real(P)) * (p['t'] - s['t']),\n",
    "                  p['V'] <= s['V'] - (Real(c) * Real(dif)) * (p['t'] - s['t'])\n",
    "                  )\n",
    "    \n",
    "    StoppingStopping = And(Equals(s['m'],Stopping),Equals(p['m'],Stopping),\n",
    "                  p['t'] > s['t'],\n",
    "                  s['v']>=0,p['v']>=0,s['V']>=0,p['v']>=0,\n",
    "                  s['v']>p['v'], s['V']>p['V'],\n",
    "                  Equals(p['timer'], s['timer']),\n",
    "                  p['v'] <= s['v'] + (Real(cStopping) * Real(dif) - Real(a)*Real(P)) * (p['t'] - s['t']),\n",
    "                  p['V'] <= s['V'] - (Real(cStopping) * Real(dif)) * (p['t'] - s['t'])\n",
    "                  )\n",
    "    \n",
    "    BlockedBlocked = And(Equals(s['m'],Blocked),Equals(p['m'],Blocked),\n",
    "                  p['t'] > s['t'],\n",
    "                  s['v']>=0,p['v']>=0,s['V']>=0,p['v']>=0,\n",
    "                  s['v']>p['v'], s['V']>p['V'],\n",
    "                  Equals(p['timer'], s['timer'] + (p['t'] - s['t'])),\n",
    "                  Equals(p['V']-s['V'], (-Real(aBlocked) * Real(P)) * (p['t'] - s['t'])),\n",
    "                  Equals(p['v']-s['v'], (-Real(aBlocked) * Real(P)) * (p['t'] - s['t']))\n",
    "                  )\n",
    "    \n",
    "    return Or(StartToFree, FreeToStopping, StoppingToBlocked, BlockedToFree, StoppingToStopped, FreeFree, StoppingStopping, BlockedBlocked)\n",
    "    "
   ]
  },
  {
   "cell_type": "markdown",
   "id": "4ed07d58-09bf-4052-b3c7-8b63d7869595",
   "metadata": {},
   "source": []
  },
  {
   "cell_type": "code",
   "execution_count": 9,
   "id": "125c2d14-57d2-450e-9c08-c757c788d132",
   "metadata": {},
   "outputs": [],
   "source": [
    "def gera_traco(declare,init,trans,k):\n",
    "\n",
    "    with Solver(name=\"z3\") as s:\n",
    "    \n",
    "        # completar\n",
    "    \n",
    "        # cria k copias do estado\n",
    "        trace = [declare(i) for i in range(k)]\n",
    "    \n",
    "        # criar o traço\n",
    "        s.add_assertion(init(trace[0]))\n",
    "        for i in range(k-1):\n",
    "            s.add_assertion(trans(trace[i], trace[i+1]))\n",
    "        \n",
    "        if s.solve():\n",
    "            for i in range(k):\n",
    "                print()\n",
    "                print(\"Modo:\",i)\n",
    "                m = s.get_py_value(trace[i]['m'])\n",
    "                if m==1:\n",
    "                    print(\"Stopping\")\n",
    "                elif m==2:\n",
    "                    print(\"Blocked\")\n",
    "                    print(\"timer =\", float(s.get_py_value(trace[i]['timer'])))\n",
    "                elif m==0:\n",
    "                    print(\"Free\")\n",
    "                    print(\"timer =\", float(s.get_py_value(trace[i]['timer'])))\n",
    "                elif m==3:\n",
    "                    print(\"Stopped\")\n",
    "                else:\n",
    "                    print(\"Start\")\n",
    "                    \n",
    "                print(\"t =\", float(s.get_py_value(trace[i]['t'])))\n",
    "                print(\"V =\", float(s.get_py_value(trace[i]['V'])))\n",
    "                print(\"v =\", float(s.get_py_value(trace[i]['v'])))\n",
    "        else:\n",
    "            print(\"Solver cannot solve\")"
   ]
  },
  {
   "cell_type": "code",
   "execution_count": 10,
   "id": "ff0466ff-ea61-4f8e-a901-d31a4720a7e2",
   "metadata": {},
   "outputs": [
    {
     "name": "stdout",
     "output_type": "stream",
     "text": [
      "\n",
      "Modo: 0\n",
      "Start\n",
      "t = 0.0\n",
      "V = 25.0\n",
      "v = 25.0\n",
      "\n",
      "Modo: 1\n",
      "Free\n",
      "timer = 0.0\n",
      "t = 0.0\n",
      "V = 25.0\n",
      "v = 25.0\n",
      "\n",
      "Modo: 2\n",
      "Free\n",
      "timer = 0.3\n",
      "t = 0.3\n",
      "V = 24.55\n",
      "v = 19.8855\n",
      "\n",
      "Modo: 3\n",
      "Stopping\n",
      "t = 0.3\n",
      "V = 24.55\n",
      "v = 19.8855\n",
      "\n",
      "Modo: 4\n",
      "Stopping\n",
      "t = 0.42275\n",
      "V = 19.64\n",
      "v = 19.76275\n",
      "\n",
      "Modo: 5\n",
      "Stopping\n",
      "t = 0.5455\n",
      "V = 14.73\n",
      "v = 0.36825\n",
      "\n",
      "Modo: 6\n",
      "Stopping\n",
      "t = 0.66825\n",
      "V = 9.82\n",
      "v = 0.2455\n",
      "\n",
      "Modo: 7\n",
      "Stopping\n",
      "t = 0.791\n",
      "V = 4.91\n",
      "v = 0.12275\n",
      "\n",
      "Modo: 8\n",
      "Stopping\n",
      "t = 0.91375\n",
      "V = 0.0\n",
      "v = 0.0\n",
      "\n",
      "Modo: 9\n",
      "Stopped\n",
      "t = 0.91375\n",
      "V = 0.0\n",
      "v = 0.0\n"
     ]
    }
   ],
   "source": [
    "gera_traco(declare,init,trans,10)"
   ]
  },
  {
   "cell_type": "markdown",
   "id": "c2a9265e-1b5c-4c3a-b553-b97177dd11c4",
   "metadata": {},
   "source": []
  },
  {
   "cell_type": "code",
   "execution_count": 11,
   "id": "c4091151-9520-47f4-b7c6-c09a007677a1",
   "metadata": {},
   "outputs": [],
   "source": [
    "def bmc_always(declare,init,trans,prop,K):\n",
    "    for k in range(1,K+1):\n",
    "        with Solver(name=\"z3\") as s:\n",
    "            \n",
    "            # completar\n",
    "            trace = [declare(i) for i in range(k)]\n",
    "    \n",
    "            s.add_assertion(init(trace[0]))\n",
    "            for i in range(k-1):\n",
    "                s.add_assertion(trans(trace[i], trace[i+1]))\n",
    "            \n",
    "            # \n",
    "            s.add_assertion(Not(prop(trace[k-1])))\n",
    "            if s.solve():\n",
    "                for i in range(k):\n",
    "                    print()\n",
    "                    print(\"State:\",i)\n",
    "                    m = s.get_py_value(trace[i]['m'])\n",
    "                    if m==1:\n",
    "                        print(\"Stopping\")\n",
    "                    elif m==2:\n",
    "                        print(\"Blocked\")\n",
    "                        print(\"timer =\", float(s.get_py_value(trace[i]['timer'])))\n",
    "                    elif m==0:\n",
    "                        print(\"Free\")\n",
    "                        print(\"timer =\", float(s.get_py_value(trace[i]['timer'])))\n",
    "                    elif m==3:\n",
    "                        print(\"Stopped\")\n",
    "                    else:\n",
    "                        print(\"Start\")\n",
    "                    \n",
    "                    print(\"t =\", float(s.get_py_value(trace[i]['t'])))\n",
    "                    print(\"V =\", float(s.get_py_value(trace[i]['V'])))\n",
    "                    print(\"v =\", float(s.get_py_value(trace[i]['v'])))\n",
    "                return\n",
    "                \n",
    "    print(\"A propriedade é válida para traços de tamanho até \" + str(k))"
   ]
  }
 ],
 "metadata": {
  "kernelspec": {
   "display_name": "Python 3 (ipykernel)",
   "language": "python",
   "name": "python3"
  },
  "language_info": {
   "codemirror_mode": {
    "name": "ipython",
    "version": 3
   },
   "file_extension": ".py",
   "mimetype": "text/x-python",
   "name": "python",
   "nbconvert_exporter": "python",
   "pygments_lexer": "ipython3",
   "version": "3.10.6"
  },
  "vscode": {
   "interpreter": {
    "hash": "e6e0711b34581e9d3d394d0e05c7a638721b909a5489b142ff17259bed82d5d5"
   }
  }
 },
 "nbformat": 4,
 "nbformat_minor": 5
}

{
 "cells": [
  {
   "cell_type": "markdown",
   "id": "47ab9602-6deb-463a-8b26-c5bf943b98b3",
   "metadata": {},
   "source": [
    "# TP4\n",
    "## Grupo 15\n",
    "\n",
    "Carlos Eduardo Da Silva Machado A96936\n",
    "\n",
    "Gonçalo Manuel Maia de Sousa A97485"
   ]
  },
  {
   "cell_type": "markdown",
   "id": "fa98919b-6e13-4175-9f03-ebd97cf10f5b",
   "metadata": {},
   "source": [
    "## Exercício 4.1"
   ]
  },
  {
   "cell_type": "markdown",
   "id": "153c925d-4ea2-4e7c-97d8-12130695d198",
   "metadata": {},
   "source": [
    "### Descrição do Problema"
   ]
  },
  {
   "cell_type": "markdown",
   "id": "617d5a45-4cf7-4331-80b2-ad70484a62d5",
   "metadata": {},
   "source": [
    "No contexto do sistema de travagem ABS (“Anti-Lock Breaking System”), pretende-se construir um autómato híbrido que descreva o sistema e que  possa ser usado para verificar as suas propriedades dinâmicas.\n",
    "\n",
    "    \n",
    "1. A componente discreta do autómato contém os modos:  `Start`,  `Free`,  `Stopping`, `Blocked`, e `Stopped`. No modo `Free`  não existe qualquer força de travagem; no modo `Stopping` aplica-se a força de travagem alta; no modo `Blocked` as rodas estão bloqueadas em relação ao corpo mas o veículo  desloca-se; no modo `Stopped` o veículo está imobilizado.\n",
    "2. A componente contínua  do autómato usa variáveis contínuas $\\,V,v\\,$ para descrever a  `velocidade do corpo`  do veículo em relação ao solo e a `velocidade linear das rodas` também em relação ao solo. \n",
    "        Assume-se que o sistema de travagem exerce uma força de atrito  nos travões proporcional à diferença das duas velocidades.  A dinâmica contínua está descrita  abaixo no bloco Equaçoes de Fluxo.\n",
    "3. Os “switchs” (“jumps”) são a componente de projeto deste trabalho; cabe ao aluno definir quais devem ser estas  condições de modo a que o sistema tenha um comportamento desejável: imobilize-se depressa e não “derrape” muito.\n",
    "4. É imprescindível evitar que o sistema tenha “trajetórias de Zenão”. Isto é, sequências  infinitas de transições  entre dois modos em intervalos de tempo  que tendem para zero mas nunca alcançam zero."
   ]
  },
  {
   "cell_type": "markdown",
   "id": "5db30049-8d29-4fc0-88ab-95794ffc7f13",
   "metadata": {},
   "source": [
    "### Abordagem do Problema"
   ]
  },
  {
   "cell_type": "markdown",
   "id": "427b6114-1d59-461d-89fd-60a580ac7e7a",
   "metadata": {},
   "source": [
    "1. Componentes Contínuas:\n",
    "- velocidade linear das rodas\n",
    "- velocidade do corpo (veículo)\n",
    "- tempo?\n",
    "\n",
    "2. Componentes Discretas:\n",
    "- Modo\n",
    "\n",
    "3. Constantes:\n",
    "- força de atrito do solo\n",
    "- velocidade do corpo inicial\n",
    "- velocidade das rodas inicial\n",
    "\n",
    "\n",
    "\n",
    "\n",
    "eventos (aka nodos): Start, Free, Stopping, Blocked e Stopped\n",
    "- Start -> Inicio\n",
    "- Free -> A força de travagem não é exercida sobre o veículo\n",
    "- Stopping -> É aplicada uma força de travagem alta sobre o veículo\n",
    "- Blocked -> As rodas estão travadas, porém o veículo continua a mover-se\n",
    "- Stopped -> O veículo pára\n",
    "\n",
    "Jumps (ter em atenção o comportamento desejável: imobilize-se depressa e não “derrape” muito):\n",
    "- Start -> Free (Inicia para um movimento livre)\n",
    "- Start -> Stopping (Logo no ínicio, veículo começa a ação de paragem com a ajuda dos travões)\n",
    "- Free -> Stopped (O veículo consegue parar sem o auxilio dos travões)\n",
    "- Stopping -> Blocked (O véiculo começa a derrapar)\n",
    "- Blocked -> Stopped (Após derrapar, o veículo finalmente para)\n",
    "- Free -> Stopping (Começa a ação de travagem)\n",
    "- Stopping -> Free (?)\n",
    "- (Além de mais possíveis jumps, falta declarar as condições de cada um)\n",
    "\n"
   ]
  },
  {
   "cell_type": "markdown",
   "id": "14f1e207-ce07-45d0-b587-bfa0e85f6bbd",
   "metadata": {},
   "source": [
    "## Código Python"
   ]
  },
  {
   "cell_type": "markdown",
   "id": "5295a40b-44f1-49f1-a956-cb80693593da",
   "metadata": {},
   "source": []
  },
  {
   "cell_type": "code",
   "execution_count": 1,
   "id": "ac22322d-f63e-436e-9f85-5e07aa2ab62a",
   "metadata": {},
   "outputs": [],
   "source": [
    "from pysmt.shortcuts import *\n",
    "from pysmt.typing import *\n",
    "\n",
    "Start = Int(-1)\n",
    "Free = Int(0)\n",
    "Stopping = Int(1)\n",
    "Blocked = Int(2)\n",
    "Stopped = Int(3)"
   ]
  },
  {
   "cell_type": "markdown",
   "id": "a07c9eb9-99f5-4f09-b28c-92fd441d835a",
   "metadata": {},
   "source": []
  },
  {
   "cell_type": "code",
   "execution_count": null,
   "id": "ca1b4d66-9587-4661-9102-4446c188fe81",
   "metadata": {},
   "outputs": [],
   "source": [
    "def declare(i):\n",
    "    s = {}\n",
    "    # Discretas\n",
    "    s['m'] = Symbol('m'+str(i),INT) # Modo\n",
    "    # Contínuas\n",
    "    s['t'] = Symbol('t'+str(i),REAL) # Tempo\n",
    "    s['V'] = Symbol('V'+str(i),REAL) # Velocidade do corpo\n",
    "    s['v'] = Symbol('v'+str(i),REAL) # velocidade linear das rodas\n",
    "    return s"
   ]
  },
  {
   "cell_type": "code",
   "execution_count": null,
   "id": "5dbb45e7-ab35-4f4e-852e-b2f8c2a527cd",
   "metadata": {},
   "outputs": [],
   "source": [
    "def init(s,V0,v0): # V0 -> velocidade do corpo inicial, v0 -> velocidade linear das rodas inicial\n",
    "    return And(Equals(s['m'], Start),Equals(s['t'],Real(0)), Equals(s['V'], Real(V0)), Equals(s['v'], Real(v0)))"
   ]
  },
  {
   "cell_type": "markdown",
   "id": "b032e135-a388-429f-b612-1ceba5f7c8e2",
   "metadata": {},
   "source": []
  },
  {
   "cell_type": "code",
   "execution_count": null,
   "id": "49df60c3-37d7-48f9-a8b7-fd253801dad5",
   "metadata": {},
   "outputs": [],
   "source": [
    "def trans(s,p):\n",
    "    # untimed\n",
    "    FreeToStopped = And(Equals(s['m'],Start),Equals(p['m'],Stop),\n",
    "                    Equals(p['V'],Real(0)),Equals(p['v'],Real(0)),Equals(p['t'],s['t']))\n",
    "    \n",
    "    # timed\n",
    "    "
   ]
  }
 ],
 "metadata": {
  "kernelspec": {
   "display_name": "Python 3 (ipykernel)",
   "language": "python",
   "name": "python3"
  },
  "language_info": {
   "codemirror_mode": {
    "name": "ipython",
    "version": 3
   },
   "file_extension": ".py",
   "mimetype": "text/x-python",
   "name": "python",
   "nbconvert_exporter": "python",
   "pygments_lexer": "ipython3",
   "version": "3.10.6"
  }
 },
 "nbformat": 4,
 "nbformat_minor": 5
}

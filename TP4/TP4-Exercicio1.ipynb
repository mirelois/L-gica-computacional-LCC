{
 "cells": [
  {
   "cell_type": "markdown",
   "id": "47ab9602-6deb-463a-8b26-c5bf943b98b3",
   "metadata": {},
   "source": [
    "# TP4\n",
    "## Grupo 15\n",
    "\n",
    "Carlos Eduardo Da Silva Machado A96936\n",
    "\n",
    "Gonçalo Manuel Maia de Sousa A97485"
   ]
  },
  {
   "cell_type": "markdown",
   "id": "fa98919b-6e13-4175-9f03-ebd97cf10f5b",
   "metadata": {},
   "source": [
    "## Exercício 4.1"
   ]
  },
  {
   "cell_type": "markdown",
   "id": "153c925d-4ea2-4e7c-97d8-12130695d198",
   "metadata": {},
   "source": [
    "### Descrição do Problema"
   ]
  },
  {
   "cell_type": "markdown",
   "id": "617d5a45-4cf7-4331-80b2-ad70484a62d5",
   "metadata": {},
   "source": [
    "No contexto do sistema de travagem ABS (“Anti-Lock Breaking System”), pretende-se construir um autómato híbrido que descreva o sistema e que  possa ser usado para verificar as suas propriedades dinâmicas.\n",
    "\n",
    "    \n",
    "1. A componente discreta do autómato contém os modos:  `Start`,  `Free`,  `Stopping`, `Blocked`, e `Stopped`. No modo `Free`  não existe qualquer força de travagem; no modo `Stopping` aplica-se a força de travagem alta; no modo `Blocked` as rodas estão bloqueadas em relação ao corpo mas o veículo  desloca-se; no modo `Stopped` o veículo está imobilizado.\n",
    "2. A componente contínua  do autómato usa variáveis contínuas $\\,V,v\\,$ para descrever a  `velocidade do corpo`  do veículo em relação ao solo e a `velocidade linear das rodas` também em relação ao solo. \n",
    "        Assume-se que o sistema de travagem exerce uma força de atrito  nos travões proporcional à diferença das duas velocidades.  A dinâmica contínua está descrita  abaixo no bloco Equaçoes de Fluxo.\n",
    "3. Os “switchs” (“jumps”) são a componente de projeto deste trabalho; cabe ao aluno definir quais devem ser estas  condições de modo a que o sistema tenha um comportamento desejável: imobilize-se depressa e não “derrape” muito.\n",
    "4. É imprescindível evitar que o sistema tenha “trajetórias de Zenão”. Isto é, sequências  infinitas de transições  entre dois modos em intervalos de tempo  que tendem para zero mas nunca alcançam zero."
   ]
  },
  {
   "cell_type": "markdown",
   "id": "5db30049-8d29-4fc0-88ab-95794ffc7f13",
   "metadata": {},
   "source": [
    "### Abordagem do Problema"
   ]
  },
  {
   "cell_type": "markdown",
   "id": "427b6114-1d59-461d-89fd-60a580ac7e7a",
   "metadata": {},
   "source": [
    "1. Componentes Contínuas\n",
    "velocidade linear das rodas\n",
    "velocidade do corpo (veículo)\n",
    "tempo?\n",
    "Força de travagem\n",
    "\n",
    "2. Componentes Discretas\n",
    "força de atrito do solo\n",
    "\n",
    "\n",
    "\n",
    "\n",
    "Nodos: Start, Free, Stopping, Blocked e Stopped\n",
    "Start -> Inicio\n",
    "Free -> A força de travagem não é exercida sobre o veículo\n",
    "Stopping -> É aplicada uma força de travagem alta sobre o veículo\n",
    "Blocked -> As rodas estão travadas, porém o veículo continua a mover-se\n",
    "Stopped -> O véiculo para\n",
    "\n",
    "Jumps (ter em atenção o comportamento desejável: imobilize-se depressa e não “derrape” muito):\n",
    "Start -> Free (Inicia para um movimento livre)\n",
    "Start -> Stopping (Logo no ínicio, veículo começa a ação de paragem com a ajuda dos travões)\n",
    "Start -> Stopped (O veículo consegue parar sem o auxilio dos travões)\n",
    "Stopping -> Blocked (O véiculo começa a derrapar)\n",
    "Blocked -> Stopped (Após derrapar, o veículo finalmente para)\n",
    "Free -> Stopping (Começa a ação de travagem)\n",
    "Stopping -> Free (?)\n",
    "(Além de mais possíveis jumps, falta declarar as condições de cada um)\n",
    "\n"
   ]
  },
  {
   "cell_type": "markdown",
   "id": "14f1e207-ce07-45d0-b587-bfa0e85f6bbd",
   "metadata": {},
   "source": [
    "## Código Python"
   ]
  },
  {
   "cell_type": "code",
   "execution_count": null,
   "id": "ac22322d-f63e-436e-9f85-5e07aa2ab62a",
   "metadata": {},
   "outputs": [],
   "source": []
  }
 ],
 "metadata": {
  "kernelspec": {
   "display_name": "Python 3 (ipykernel)",
   "language": "python",
   "name": "python3"
  },
  "language_info": {
   "codemirror_mode": {
    "name": "ipython",
    "version": 3
   },
   "file_extension": ".py",
   "mimetype": "text/x-python",
   "name": "python",
   "nbconvert_exporter": "python",
   "pygments_lexer": "ipython3",
   "version": "3.10.6"
  }
 },
 "nbformat": 4,
 "nbformat_minor": 5
}
